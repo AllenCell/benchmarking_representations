{
 "cells": [
  {
   "cell_type": "markdown",
   "id": "caba358c",
   "metadata": {},
   "source": [
    "This notebook aims to show how to visualize rotation invariance for the rotation invariant image models. We illustrate this with the cellPACK synthetic dataset. First, lets import some necessary libraries"
   ]
  },
  {
   "cell_type": "code",
   "execution_count": null,
   "id": "1f0404d5-49ff-4700-993f-c692d6248a58",
   "metadata": {},
   "outputs": [],
   "source": [
    "%load_ext autoreload\n",
    "%autoreload 2\n",
    "import os\n",
    "\n",
    "os.environ[\"CUDA_DEVICE_ORDER\"] = \"PCI_BUS_ID\"  # see issue #152\n",
    "# os.environ[\"CUDA_VISIBLE_DEVICES\"] = INSERT_YOUR_DEVICE\n",
    "os.environ[\"CUDA_VISIBLE_DEVICES\"] = \"MIG-5dae7a03-dc20-5083-8df1-b583c1a5e8b8\"\n",
    "import matplotlib.pyplot as plt\n",
    "import numpy as np\n",
    "import torch\n",
    "import yaml\n",
    "from hydra.utils import instantiate\n",
    "from br.features.rotation_invariance import rotation_image_batch_z, rotation_pc_batch_z\n",
    "from br.models.load_models import load_model_from_path\n",
    "\n",
    "device = \"cuda:0\""
   ]
  },
  {
   "cell_type": "markdown",
   "id": "0ec28fa1",
   "metadata": {},
   "source": [
    "Set the CYTODL_CONFIG_PATH environment variable as described in the documentation associated with this repo"
   ]
  },
  {
   "cell_type": "code",
   "execution_count": null,
   "id": "5a6562cb-d3b6-46ef-98c1-e50a96c2c370",
   "metadata": {},
   "outputs": [],
   "source": [
    "# Set paths\n",
    "# CYTODL_CONFIG_PATH = insert_your_path\n",
    "CYTODL_CONFIG_PATH = \"/allen/aics/modeling/ritvik/projects/latest_clones/benchmarking_representations/configs/\"\n",
    "os.chdir(CYTODL_CONFIG_PATH)\n",
    "os.chdir(\"..\")\n",
    "# save_path = insert_save_path\n",
    "save_path = './test_cellpack_recons/'\n",
    "results_path = CYTODL_CONFIG_PATH + '/results/'"
   ]
  },
  {
   "cell_type": "markdown",
   "id": "ecbbda6f",
   "metadata": {},
   "source": [
    "Load a batch of the cellPACK image dataset"
   ]
  },
  {
   "cell_type": "code",
   "execution_count": null,
   "id": "0f8ded36",
   "metadata": {},
   "outputs": [],
   "source": [
    "# Load data yaml and test batch\n",
    "cellpack_data = CYTODL_CONFIG_PATH + \"data/cellpack/image.yaml\"\n",
    "with open(cellpack_data) as stream:\n",
    "    cellpack_data = yaml.safe_load(stream)\n",
    "data = instantiate(cellpack_data)\n",
    "\n",
    "batches = []\n",
    "for batch in data.train_dataloader():\n",
    "    if batch['orig_CellId'][0] == '7abfecf1-44db-468a-b799-4959a23cfb0d':\n",
    "        batches.append(batch)\n",
    "batches = batches[:3]"
   ]
  },
  {
   "cell_type": "markdown",
   "id": "5a94fcd7-44c7-4b17-a7e1-fba0f498bc95",
   "metadata": {},
   "source": [
    "Save examples of raw data for each of the 6 packing rules"
   ]
  },
  {
   "cell_type": "code",
   "execution_count": null,
   "id": "91e97c87-cd4e-4bf4-807b-d2b040783f1e",
   "metadata": {},
   "outputs": [],
   "source": [
    "from pathlib import Path\n",
    "\n",
    "this_save_path = Path(save_path) / Path(\"panel_a\")\n",
    "this_save_path.mkdir(parents=True, exist_ok=True)\n",
    "\n",
    "all_arr = []\n",
    "for batch in batches:\n",
    "    for i in range(2):\n",
    "        np_arr = batch[\"pcloud\"][i].numpy().squeeze()\n",
    "        np.save(this_save_path / Path(f\"image_{i}.npy\"), np_arr)"
   ]
  },
  {
   "cell_type": "markdown",
   "id": "ed9cbe31-6e56-42fc-8bfa-277a8a3908b1",
   "metadata": {},
   "source": [
    "Make utility functions for computing and saving reconstructions across four 90 degree rotations "
   ]
  },
  {
   "cell_type": "code",
   "execution_count": null,
   "id": "0b0f770c-0c2d-491e-aa2c-2b1d20652763",
   "metadata": {},
   "outputs": [],
   "source": [
    "# utility function for plotting\n",
    "def move(batch):\n",
    "    for key in batch.keys():\n",
    "        if key not in [\n",
    "            \"split\",\n",
    "            \"bf_meta_dict\",\n",
    "            \"egfp_meta_dict\",\n",
    "            \"filenames\",\n",
    "            \"image_meta_dict\",\n",
    "            \"cell_id\",\n",
    "        ]:\n",
    "            if not isinstance(batch[key], list):\n",
    "                batch[key] = batch[key].to(device)\n",
    "    return batch\n",
    "\n",
    "def plot_image(this_image, axes, z_ind=2, transpose=False):\n",
    "    max_size = 118\n",
    "    slices = np.s_[:, :, 59-20:59+20]\n",
    "    slices = np.s_[:, :, :]\n",
    "    if transpose:\n",
    "        axes.imshow(this_image[slices].max(z_ind).T, cmap='gray_r')\n",
    "    else:\n",
    "        axes.imshow(this_image[slices].max(z_ind), cmap='gray_r')\n",
    "    axes.spines['top'].set_visible(False)\n",
    "    axes.spines['right'].set_visible(False)\n",
    "    axes.spines['bottom'].set_visible(False)\n",
    "    axes.spines['left'].set_visible(False)\n",
    "    axes.set_aspect('equal', adjustable='box')\n",
    "    axes.set_ylim([0,max_size])\n",
    "    axes.set_xlim([0,max_size])\n",
    "    axes.set_yticks([])\n",
    "    axes.set_xticks([])\n",
    "\n",
    "def save_recons_across_rotations(save_path, this_name, this_key, model, batch, batch_ind):\n",
    "    this_save_path = Path(save_path) / Path(f\"Recons_{this_name}\")\n",
    "    this_save_path.mkdir(parents=True, exist_ok=True)\n",
    "\n",
    "    all_thetas = [\n",
    "        0,\n",
    "        1 * 90,\n",
    "        2 * 90,\n",
    "        3 * 90,\n",
    "    ]\n",
    "\n",
    "\n",
    "    all_xhat = []\n",
    "    all_canon = []\n",
    "    all_input = []\n",
    "    with torch.no_grad():\n",
    "        for jl, theta in enumerate(all_thetas):\n",
    "            this_input_rot = rotation_image_batch_z(\n",
    "                batch, theta, False\n",
    "            )\n",
    "            batch_input = {this_key: torch.tensor(this_input_rot).to(device).float()}\n",
    "            z_params = model.encode(batch_input)\n",
    "            z = model.sample_z(z_params, inference=True)\n",
    "            xhat = model.decode(z, return_canonical=True)\n",
    "\n",
    "            from cyto_dl.image.transforms import RotationMask\n",
    "            mask = RotationMask(\n",
    "                                'so3',\n",
    "                                3,\n",
    "                                batch[this_key].shape[-1],\n",
    "                                background=0,\n",
    "                            )\n",
    "            xhat['canonical'] = mask(xhat['canonical'])\n",
    "\n",
    "            all_input.append(this_input_rot)\n",
    "            for ind in range(2):\n",
    "                rule = 2*batch_ind + ind\n",
    "                this_image = this_input_rot[ind].squeeze()\n",
    "                fig, ax = plt.subplots(1, 1, figsize=(5, 5))\n",
    "                plot_image(this_image, ax)\n",
    "                ax.set_title(f'Input rule {rule} theta {theta}')\n",
    "                fig.savefig(this_save_path / f\"input_{rule}_theta_{theta}.png\")\n",
    "\n",
    "            if (\"canonical\" in xhat.keys()) and (\"Rotation\" in this_name):\n",
    "                this_canon = xhat[\"canonical\"].detach().cpu().numpy()\n",
    "                all_canon.append(this_canon)\n",
    "                for ind in range(2):\n",
    "                    rule = 2*batch_ind + ind\n",
    "                    this_image = this_canon[ind].squeeze()\n",
    "                    fig, ax = plt.subplots(1, 1, figsize=(5, 5))\n",
    "                    plot_image(this_image, ax)\n",
    "                    ax.set_title(f'Canonical rule {rule} theta {theta}')\n",
    "                    fig.savefig(this_save_path / f\"canon_{rule}_theta_{theta}.png\")\n",
    "            if isinstance(xhat[this_key], torch.Tensor):\n",
    "                this_recon = xhat[this_key].detach().cpu().numpy()\n",
    "            else:\n",
    "                this_recon = xhat[this_key]\n",
    "            all_xhat.append(this_recon)\n",
    "            for ind in range(2):\n",
    "                rule = 2*batch_ind + ind\n",
    "                this_image = this_recon[ind].squeeze()\n",
    "                fig, ax = plt.subplots(1, 1, figsize=(5, 5))\n",
    "                plot_image(this_image, ax, 2, False)\n",
    "                ax.set_title(f'Recon. rule {rule} theta {theta}')\n",
    "                fig.savefig(this_save_path / f\"recon_{rule}_theta_{theta}.png\")"
   ]
  },
  {
   "cell_type": "markdown",
   "id": "7ddd8568",
   "metadata": {},
   "source": [
    "Load the trained models"
   ]
  },
  {
   "cell_type": "code",
   "execution_count": null,
   "id": "b2c9ebef-92e7-408a-be52-0e4e2ccbfa63",
   "metadata": {},
   "outputs": [],
   "source": [
    "models, names, sizes, model_manifest, x_labels, latent_dims = load_model_from_path(\"cellpack\", results_path)"
   ]
  },
  {
   "cell_type": "markdown",
   "id": "c181d121",
   "metadata": {},
   "source": [
    "Save reconstructions across rotations for the classical image model"
   ]
  },
  {
   "cell_type": "code",
   "execution_count": null,
   "id": "1bc776b0",
   "metadata": {},
   "outputs": [],
   "source": [
    "# Lets load the classical point cloud model\n",
    "ind = names.index('Classical_image')\n",
    "model = models[ind]\n",
    "this_name = names[ind]\n",
    "this_key = x_labels[ind]\n",
    "for ind, batch in enumerate(batches):\n",
    "    save_recons_across_rotations(save_path, this_name, this_key, model, batch, ind)"
   ]
  },
  {
   "cell_type": "markdown",
   "id": "24b423bb",
   "metadata": {},
   "source": [
    "Save reconstructions across rotations for the rotation invariant image model"
   ]
  },
  {
   "cell_type": "code",
   "execution_count": null,
   "id": "1a636dfc-3e3f-47d1-9692-dba55342e73d",
   "metadata": {},
   "outputs": [],
   "source": [
    "# Lets load the classical point cloud model\n",
    "ind = names.index('Rotation_invariant_image')\n",
    "model = models[ind]\n",
    "this_name = names[ind]\n",
    "this_key = x_labels[ind]\n",
    "for ind, batch in enumerate(batches):\n",
    "    save_recons_across_rotations(save_path, this_name, this_key, model, batch, ind)"
   ]
  },
  {
   "cell_type": "code",
   "execution_count": null,
   "id": "c9c1a088",
   "metadata": {},
   "outputs": [],
   "source": []
  }
 ],
 "metadata": {
  "kernelspec": {
   "display_name": "Python 3 (ipykernel)",
   "language": "python",
   "name": "python3"
  },
  "language_info": {
   "codemirror_mode": {
    "name": "ipython",
    "version": 3
   },
   "file_extension": ".py",
   "mimetype": "text/x-python",
   "name": "python",
   "nbconvert_exporter": "python",
   "pygments_lexer": "ipython3",
   "version": "3.10.15"
  }
 },
 "nbformat": 4,
 "nbformat_minor": 5
}
