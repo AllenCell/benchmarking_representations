{
 "cells": [
  {
   "cell_type": "markdown",
   "id": "caba358c",
   "metadata": {},
   "source": [
    "This notebook aims to show how to visualize rotation invariance for the rotation invariant point cloud models. We illustrate this with the cellPACK synthetic dataset. First, lets import some necessary libraries"
   ]
  },
  {
   "cell_type": "code",
   "execution_count": null,
   "id": "1f0404d5-49ff-4700-993f-c692d6248a58",
   "metadata": {},
   "outputs": [],
   "source": [
    "%load_ext autoreload\n",
    "%autoreload 2\n",
    "import os\n",
    "\n",
    "os.environ[\"CUDA_DEVICE_ORDER\"] = \"PCI_BUS_ID\"  # see issue #152\n",
    "os.environ[\"CUDA_VISIBLE_DEVICES\"] = INSERT_YOUR_DEVICE\n",
    "import matplotlib.pyplot as plt\n",
    "import numpy as np\n",
    "import torch\n",
    "import yaml\n",
    "from hydra.utils import instantiate\n",
    "from br.features.rotation_invariance import rotation_image_batch_z, rotation_pc_batch_z\n",
    "from br.models.load_models import load_model_from_path\n",
    "\n",
    "device = \"cuda:0\""
   ]
  },
  {
   "cell_type": "markdown",
   "id": "0ec28fa1",
   "metadata": {},
   "source": [
    "Set the CYTODL_CONFIG_PATH environment variable as described in the documentation associated with this repo"
   ]
  },
  {
   "cell_type": "code",
   "execution_count": null,
   "id": "5a6562cb-d3b6-46ef-98c1-e50a96c2c370",
   "metadata": {},
   "outputs": [],
   "source": [
    "# Set paths\n",
    "CYTODL_CONFIG_PATH = insert_your_path\n",
    "os.chdir(CYTODL_CONFIG_PATH)\n",
    "save_path = insert_save_path\n",
    "results_path = CYTODL_CONFIG_PATH + '/results/'"
   ]
  },
  {
   "cell_type": "markdown",
   "id": "ecbbda6f",
   "metadata": {},
   "source": [
    "Load a batch of the cellPACK point cloud dataset"
   ]
  },
  {
   "cell_type": "code",
   "execution_count": null,
   "id": "eb9a887b-f408-4fc9-b01a-2a556a80571c",
   "metadata": {},
   "outputs": [],
   "source": [
    "# Load data yaml and test batch\n",
    "cellpack_data = \"./configs/data/cellpack/pc.yaml\"\n",
    "with open(cellpack_data) as stream:\n",
    "    cellpack_data = yaml.safe_load(stream)\n",
    "data = instantiate(cellpack_data)\n",
    "batch = next(iter(data.test_dataloader()))"
   ]
  },
  {
   "cell_type": "markdown",
   "id": "5a94fcd7-44c7-4b17-a7e1-fba0f498bc95",
   "metadata": {},
   "source": [
    "Save examples of raw data for each of the 6 packing rules"
   ]
  },
  {
   "cell_type": "code",
   "execution_count": null,
   "id": "91e97c87-cd4e-4bf4-807b-d2b040783f1e",
   "metadata": {},
   "outputs": [],
   "source": [
    "from pathlib import Path\n",
    "\n",
    "this_save_path = Path(save_path) / Path(\"panel_a\")\n",
    "this_save_path.mkdir(parents=True, exist_ok=True)\n",
    "\n",
    "all_arr = []\n",
    "for i in range(6):\n",
    "    np_arr = batch[\"pcloud\"][i].numpy()\n",
    "    new_array = np.zeros(np_arr.shape)\n",
    "    z = np_arr[:, 0]\n",
    "    new_array[:, 0] = np_arr[:, 2]\n",
    "    new_array[:, 1] = z\n",
    "    new_array[:, 2] = np_arr[:, 1]\n",
    "    all_arr.append(new_array)\n",
    "    np.save(this_save_path / Path(f\"{i}.npy\"), new_array)"
   ]
  },
  {
   "cell_type": "markdown",
   "id": "ed9cbe31-6e56-42fc-8bfa-277a8a3908b1",
   "metadata": {},
   "source": [
    "Make utility functions for computing and saving reconstructions across four 90 degree rotations "
   ]
  },
  {
   "cell_type": "code",
   "execution_count": null,
   "id": "0b0f770c-0c2d-491e-aa2c-2b1d20652763",
   "metadata": {},
   "outputs": [],
   "source": [
    "# utility function for plotting\n",
    "def plot_pc(this_p, axes, max_size, color=\"gray\", x_ind=2, y_ind=1):\n",
    "    axes.scatter(this_p[:, x_ind], this_p[:, y_ind], c=color, s=1)\n",
    "    axes.spines[\"top\"].set_visible(False)\n",
    "    axes.spines[\"right\"].set_visible(False)\n",
    "    axes.spines[\"bottom\"].set_visible(False)\n",
    "    axes.spines[\"left\"].set_visible(False)\n",
    "    axes.set_aspect(\"equal\", adjustable=\"box\")\n",
    "    axes.set_ylim([-max_size, max_size])\n",
    "    axes.set_xlim([-max_size, max_size])\n",
    "    axes.set_yticks([])\n",
    "    axes.set_xticks([])\n",
    "\n",
    "def save_recons_across_rotations(save_path, this_name, this_key, model, batch):\n",
    "    this_save_path = Path(save_path) / Path(f\"Recons_{this_name}\")\n",
    "    this_save_path.mkdir(parents=True, exist_ok=True)\n",
    "\n",
    "    max_z = {0: 20, 1: 20, 2: 20, 3: 1, 4: 20, 5: 20}\n",
    "    max_size = 10\n",
    "\n",
    "    all_thetas = [\n",
    "        0,\n",
    "        1 * 90,\n",
    "        2 * 90,\n",
    "        3 * 90,\n",
    "    ]\n",
    "\n",
    "\n",
    "    all_xhat = []\n",
    "    all_canon = []\n",
    "    all_input = []\n",
    "    with torch.no_grad():\n",
    "        for jl, theta in enumerate(all_thetas):\n",
    "            this_input_rot = rotation_pc_batch_z(\n",
    "                batch,\n",
    "                theta,\n",
    "            )\n",
    "            batch_input = {this_key: torch.tensor(this_input_rot).to(device).float()}\n",
    "            z, z_params = model.get_embeddings(batch_input, inference=True)\n",
    "            xhat = model.decode_embeddings(z_params, batch_input, decode=True, return_canonical=True)\n",
    "            all_input.append(this_input_rot)\n",
    "            for ind in range(6):\n",
    "                this_p = this_input_rot[ind]\n",
    "                this_max_z = max_z[ind]\n",
    "                this_p = this_p[np.where(this_p[:, 0] < this_max_z)[0]]\n",
    "                this_p = this_p[np.where(this_p[:, 0] > -this_max_z)[0]]\n",
    "                fig, ax = plt.subplots(1, 1, figsize=(5, 5))\n",
    "                plot_pc(this_p, ax, max_size, \"black\")\n",
    "                fig.savefig(this_save_path / f\"input_{ind}_theta_{theta}.png\")\n",
    "\n",
    "            if (\"canonical\" in xhat.keys()) and (\"Rotation\" in this_name):\n",
    "                this_canon = xhat[\"canonical\"].detach().cpu().numpy()\n",
    "                all_canon.append(this_canon)\n",
    "                for ind in range(6):\n",
    "                    this_p = this_canon[ind]\n",
    "                    this_max_z = max_z[ind]\n",
    "                    this_p = this_p[np.where(this_p[:, 1] < this_max_z)[0]]\n",
    "                    this_p = this_p[np.where(this_p[:, 1] > -this_max_z)[0]]\n",
    "                    fig, ax = plt.subplots(1, 1, figsize=(5, 5))\n",
    "                    plot_pc(this_p, ax, max_size, \"black\", x_ind=0, y_ind=2)\n",
    "                    fig.savefig(this_save_path / f\"canon_{ind}_theta_{theta}.png\")\n",
    "            this_recon = xhat[this_key].detach().cpu().numpy()\n",
    "            all_xhat.append(this_recon)\n",
    "            for ind in range(6):\n",
    "                this_p = this_recon[ind]\n",
    "                this_max_z = max_z[ind]\n",
    "                this_p = this_p[np.where(this_p[:, 0] < this_max_z)[0]]\n",
    "                this_p = this_p[np.where(this_p[:, 0] > -this_max_z)[0]]\n",
    "                fig, ax = plt.subplots(1, 1, figsize=(5, 5))\n",
    "                plot_pc(this_p, ax, max_size, \"black\")\n",
    "                fig.savefig(this_save_path / f\"recon_{ind}_theta_{theta}.png\")"
   ]
  },
  {
   "cell_type": "markdown",
   "id": "7ddd8568",
   "metadata": {},
   "source": [
    "Load the trained models"
   ]
  },
  {
   "cell_type": "code",
   "execution_count": null,
   "id": "b2c9ebef-92e7-408a-be52-0e4e2ccbfa63",
   "metadata": {},
   "outputs": [],
   "source": [
    "models, names, sizes, model_manifest, x_labels, latent_dims = load_model_from_path(\"cellpack\", results_path)"
   ]
  },
  {
   "cell_type": "markdown",
   "id": "24b423bb",
   "metadata": {},
   "source": [
    "Move batch elements to gpu"
   ]
  },
  {
   "cell_type": "code",
   "execution_count": null,
   "id": "1a636dfc-3e3f-47d1-9692-dba55342e73d",
   "metadata": {},
   "outputs": [],
   "source": [
    "for key in batch.keys():\n",
    "    if key not in [\n",
    "        \"split\",\n",
    "        \"bf_meta_dict\",\n",
    "        \"egfp_meta_dict\",\n",
    "        \"filenames\",\n",
    "        \"image_meta_dict\",\n",
    "        \"cell_id\",\n",
    "    ]:\n",
    "        if not isinstance(batch[key], list):\n",
    "            batch[key] = batch[key].to(device)"
   ]
  },
  {
   "cell_type": "markdown",
   "id": "12518a97",
   "metadata": {},
   "source": [
    "Save reconstructions across rotations for the classical point cloud model"
   ]
  },
  {
   "cell_type": "code",
   "execution_count": null,
   "id": "63234713",
   "metadata": {},
   "outputs": [],
   "source": [
    "# Lets load the classical point cloud model\n",
    "ind = names.index('Classical_pointcloud')\n",
    "model = models[ind]\n",
    "this_name = names[ind]\n",
    "this_key = x_labels[ind]\n",
    "save_recons_across_rotations(save_path, this_name, this_key, model, batch)"
   ]
  },
  {
   "cell_type": "markdown",
   "id": "314bd5de",
   "metadata": {},
   "source": [
    "Save reconstructions across rotations for the rotation invariant point cloud model"
   ]
  },
  {
   "cell_type": "code",
   "execution_count": null,
   "id": "181fec61-fea8-47b7-b8e6-26fa22b399eb",
   "metadata": {},
   "outputs": [],
   "source": [
    "# Lets load the rotation invariant point cloud model\n",
    "ind = names.index('Rotation_invariant_pointcloud')\n",
    "model = models[ind]\n",
    "this_name = names[ind]\n",
    "this_key = x_labels[ind]\n",
    "save_recons_across_rotations(save_path, this_name, this_key, model, batch)"
   ]
  },
  {
   "cell_type": "code",
   "execution_count": null,
   "id": "be3100c8",
   "metadata": {},
   "outputs": [],
   "source": []
  }
 ],
 "metadata": {
  "kernelspec": {
   "display_name": "Python 3 (ipykernel)",
   "language": "python",
   "name": "python3"
  },
  "language_info": {
   "codemirror_mode": {
    "name": "ipython",
    "version": 3
   },
   "file_extension": ".py",
   "mimetype": "text/x-python",
   "name": "python",
   "nbconvert_exporter": "python",
   "pygments_lexer": "ipython3",
   "version": "3.10.15"
  }
 },
 "nbformat": 4,
 "nbformat_minor": 5
}
