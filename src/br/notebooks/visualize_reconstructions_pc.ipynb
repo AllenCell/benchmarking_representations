{
 "cells": [
  {
   "cell_type": "markdown",
   "id": "caba358c",
   "metadata": {},
   "source": [
    "This notebook aims to show how to visualize rotation invariance for the rotation invariant point cloud models. We illustrate this with the cellPACK synthetic dataset. First, lets import some necessary libraries"
   ]
  },
  {
   "cell_type": "code",
   "execution_count": 2,
   "id": "1f0404d5-49ff-4700-993f-c692d6248a58",
   "metadata": {},
   "outputs": [],
   "source": [
    "%load_ext autoreload\n",
    "%autoreload 2\n",
    "import os\n",
    "\n",
    "os.environ[\"CUDA_DEVICE_ORDER\"] = \"PCI_BUS_ID\"  # see issue #152\n",
    "# os.environ[\"CUDA_VISIBLE_DEVICES\"] = INSERT_YOUR_DEVICE\n",
    "os.environ[\"CUDA_VISIBLE_DEVICES\"] = \"MIG-5c1d3311-7294-5551-9e4f-3535560f5f82\"\n",
    "import matplotlib.pyplot as plt\n",
    "import numpy as np\n",
    "import torch\n",
    "import yaml\n",
    "from hydra.utils import instantiate\n",
    "from br.features.rotation_invariance import rotation_image_batch_z, rotation_pc_batch_z\n",
    "from br.models.load_models import load_model_from_path\n",
    "\n",
    "device = \"cuda:0\""
   ]
  },
  {
   "cell_type": "markdown",
   "id": "0ec28fa1",
   "metadata": {},
   "source": [
    "Set the CYTODL_CONFIG_PATH environment variable as described in the documentation associated with this repo"
   ]
  },
  {
   "cell_type": "code",
   "execution_count": 3,
   "id": "5a6562cb-d3b6-46ef-98c1-e50a96c2c370",
   "metadata": {},
   "outputs": [],
   "source": [
    "# Set paths\n",
    "# CYTODL_CONFIG_PATH = insert_your_path\n",
    "CYTODL_CONFIG_PATH = \"/allen/aics/modeling/ritvik/projects/latest_clones/benchmarking_representations/configs/\"\n",
    "os.chdir(CYTODL_CONFIG_PATH)\n",
    "os.chdir(\"..\")\n",
    "# save_path = insert_save_path\n",
    "save_path = './test_cellpack_recons/'\n",
    "results_path = CYTODL_CONFIG_PATH + '/results/'"
   ]
  },
  {
   "cell_type": "markdown",
   "id": "ecbbda6f",
   "metadata": {},
   "source": [
    "Load a batch of the cellPACK point cloud dataset"
   ]
  },
  {
   "cell_type": "code",
   "execution_count": 12,
   "id": "eb9a887b-f408-4fc9-b01a-2a556a80571c",
   "metadata": {},
   "outputs": [
    {
     "name": "stderr",
     "output_type": "stream",
     "text": [
      "100%|██████████| 177/177 [00:03<00:00, 48.14it/s]\n",
      "get_packings: 100%|██████████| 1062/1062 [00:05<00:00, 177.47it/s]\n"
     ]
    },
    {
     "name": "stdout",
     "output_type": "stream",
     "text": [
      "a36cb830-d263-4d36-b1c9-f44996deb009\n",
      "f62f2072-a7fe-47ba-bbb3-63ca0f3254e5\n",
      "54418656-e492-4e69-bbe7-41b35cfb8994\n",
      "1332bc99-9f33-4b2a-a87a-0c0ad57e5d7b\n",
      "4a01ee10-4b34-4086-9bbc-6219a6db23fe\n",
      "6a7f2c1a-7ce3-423e-9cc6-90c467be3165\n",
      "33a81e81-255e-4331-b611-2483cb2a9a9e\n",
      "0d73bbf2-7d44-45da-8ff2-177c217beea7\n",
      "f63fbba3-7ac1-45c8-8cb7-3ab12fddad2a\n",
      "d7508cd0-5286-4108-9536-d50eb74206fb\n",
      "d09b439f-5632-426b-8aa2-cea0cba3439a\n",
      "9c1ff213-4e9e-4b73-a942-3baf9d37a50f\n",
      "64869729-ef0e-469a-b287-c6237a4ba811\n",
      "0f90a504-217d-4312-84d6-caa082b3fbb3\n",
      "859cd04e-7890-407f-81aa-4a71019d0468\n",
      "88edf2b3-931c-4c38-a092-0b86e08716db\n",
      "829d9af2-23e9-4422-b109-ba89f9911cb1\n",
      "d8a208d0-b569-4c16-9cac-1d1c53f9265e\n",
      "03eb83aa-d025-438a-b346-e741056c47b6\n",
      "0b228acc-d475-432f-9b84-0cb09c429d95\n",
      "6fe102cc-d911-447b-a290-d5126d65a8bb\n",
      "d531a2f2-1ef2-418f-a834-011be59cd195\n",
      "8ba97b46-9da5-4b55-83cf-460268b2f3cc\n",
      "e2c7f55f-00be-4ca9-9d46-9f0eeae6dbfa\n",
      "5d8fa2b6-9e9b-4517-a805-b074b50de03c\n",
      "4ebe8f0b-aebe-495a-a8b9-0bb6d2297c2a\n",
      "3cb5aea3-cfa5-48ef-8c6b-882dc62d0986\n",
      "23bd74e7-7a35-47bb-a277-03f7990a8f8e\n",
      "181c70b1-9a62-4dd5-82aa-fcd6220a3bc0\n",
      "04055c37-ca49-48d4-8580-a0ef93ae5a4a\n",
      "448f0819-0472-4d64-b1c6-33d442b705d3\n",
      "fc862135-ff47-42f2-b6bc-519e93d6b2a9\n",
      "3b13ef05-335c-460a-af10-45d90be1fa72\n",
      "4157e41a-f5f1-456c-b2c0-13bc41cdb73a\n"
     ]
    },
    {
     "ename": "IndexError",
     "evalue": "list index out of range",
     "output_type": "error",
     "traceback": [
      "\u001b[0;31m---------------------------------------------------------------------------\u001b[0m",
      "\u001b[0;31mIndexError\u001b[0m                                Traceback (most recent call last)",
      "Cell \u001b[0;32mIn[12], line 11\u001b[0m\n\u001b[1;32m      9\u001b[0m     \u001b[38;5;28;01mif\u001b[39;00m batch[\u001b[38;5;124m'\u001b[39m\u001b[38;5;124morig_CellId\u001b[39m\u001b[38;5;124m'\u001b[39m][\u001b[38;5;241m0\u001b[39m] \u001b[38;5;241m==\u001b[39m \u001b[38;5;124m'\u001b[39m\u001b[38;5;124m7abfecf1-44db-468a-b799-4959a23cfb0d\u001b[39m\u001b[38;5;124m'\u001b[39m:\n\u001b[1;32m     10\u001b[0m         batches\u001b[38;5;241m.\u001b[39mappend(batch)\n\u001b[0;32m---> 11\u001b[0m batch \u001b[38;5;241m=\u001b[39m \u001b[43mbatches\u001b[49m\u001b[43m[\u001b[49m\u001b[38;5;241;43m0\u001b[39;49m\u001b[43m]\u001b[49m\n",
      "\u001b[0;31mIndexError\u001b[0m: list index out of range"
     ]
    }
   ],
   "source": [
    "# Load data yaml and test batch\n",
    "cellpack_data = CYTODL_CONFIG_PATH + \"data/cellpack/pc.yaml\"\n",
    "with open(cellpack_data) as stream:\n",
    "    cellpack_data = yaml.safe_load(stream)\n",
    "data = instantiate(cellpack_data)\n",
    "batches = []\n",
    "for batch in data.train_dataloader():\n",
    "    print(batch['orig_CellId'][0])\n",
    "    if batch['orig_CellId'][0] == '7abfecf1-44db-468a-b799-4959a23cfb0d':\n",
    "        batches.append(batch)\n",
    "batch = batches[0]"
   ]
  },
  {
   "cell_type": "code",
   "execution_count": 11,
   "id": "1a75626a",
   "metadata": {},
   "outputs": [
    {
     "name": "stderr",
     "output_type": "stream",
     "text": [
      "100%|██████████| 177/177 [00:01<00:00, 129.95it/s]\n",
      "get_packings: 100%|██████████| 1062/1062 [00:06<00:00, 168.29it/s]\n"
     ]
    },
    {
     "name": "stdout",
     "output_type": "stream",
     "text": [
      "a36cb830-d263-4d36-b1c9-f44996deb009\n",
      "f62f2072-a7fe-47ba-bbb3-63ca0f3254e5\n",
      "54418656-e492-4e69-bbe7-41b35cfb8994\n",
      "1332bc99-9f33-4b2a-a87a-0c0ad57e5d7b\n",
      "4a01ee10-4b34-4086-9bbc-6219a6db23fe\n",
      "6a7f2c1a-7ce3-423e-9cc6-90c467be3165\n",
      "33a81e81-255e-4331-b611-2483cb2a9a9e\n",
      "0d73bbf2-7d44-45da-8ff2-177c217beea7\n",
      "f63fbba3-7ac1-45c8-8cb7-3ab12fddad2a\n",
      "d7508cd0-5286-4108-9536-d50eb74206fb\n",
      "d09b439f-5632-426b-8aa2-cea0cba3439a\n",
      "9c1ff213-4e9e-4b73-a942-3baf9d37a50f\n",
      "64869729-ef0e-469a-b287-c6237a4ba811\n",
      "0f90a504-217d-4312-84d6-caa082b3fbb3\n",
      "859cd04e-7890-407f-81aa-4a71019d0468\n",
      "88edf2b3-931c-4c38-a092-0b86e08716db\n",
      "829d9af2-23e9-4422-b109-ba89f9911cb1\n",
      "d8a208d0-b569-4c16-9cac-1d1c53f9265e\n",
      "03eb83aa-d025-438a-b346-e741056c47b6\n",
      "0b228acc-d475-432f-9b84-0cb09c429d95\n",
      "6fe102cc-d911-447b-a290-d5126d65a8bb\n",
      "d531a2f2-1ef2-418f-a834-011be59cd195\n",
      "8ba97b46-9da5-4b55-83cf-460268b2f3cc\n",
      "e2c7f55f-00be-4ca9-9d46-9f0eeae6dbfa\n",
      "5d8fa2b6-9e9b-4517-a805-b074b50de03c\n",
      "4ebe8f0b-aebe-495a-a8b9-0bb6d2297c2a\n",
      "3cb5aea3-cfa5-48ef-8c6b-882dc62d0986\n",
      "23bd74e7-7a35-47bb-a277-03f7990a8f8e\n",
      "181c70b1-9a62-4dd5-82aa-fcd6220a3bc0\n",
      "04055c37-ca49-48d4-8580-a0ef93ae5a4a\n",
      "448f0819-0472-4d64-b1c6-33d442b705d3\n",
      "fc862135-ff47-42f2-b6bc-519e93d6b2a9\n",
      "3b13ef05-335c-460a-af10-45d90be1fa72\n",
      "4157e41a-f5f1-456c-b2c0-13bc41cdb73a\n"
     ]
    }
   ],
   "source": [
    "for batch in data.train_dataloader():\n",
    "    print(batch['orig_CellId'][0])\n",
    "    if batch['orig_CellId'][0] == '7abfecf1-44db-468a-b799-4959a23cfb0d':\n",
    "        print('yes')\n",
    "        batches.append(batch)"
   ]
  },
  {
   "cell_type": "code",
   "execution_count": 7,
   "id": "dc3447c6",
   "metadata": {},
   "outputs": [
    {
     "data": {
      "text/plain": [
       "['4157e41a-f5f1-456c-b2c0-13bc41cdb73a',\n",
       " '4157e41a-f5f1-456c-b2c0-13bc41cdb73a',\n",
       " '4157e41a-f5f1-456c-b2c0-13bc41cdb73a',\n",
       " '4157e41a-f5f1-456c-b2c0-13bc41cdb73a',\n",
       " '4157e41a-f5f1-456c-b2c0-13bc41cdb73a',\n",
       " '4157e41a-f5f1-456c-b2c0-13bc41cdb73a']"
      ]
     },
     "execution_count": 7,
     "metadata": {},
     "output_type": "execute_result"
    }
   ],
   "source": [
    "batch['orig_CellId']"
   ]
  },
  {
   "cell_type": "markdown",
   "id": "5a94fcd7-44c7-4b17-a7e1-fba0f498bc95",
   "metadata": {},
   "source": [
    "Save examples of raw data for each of the 6 packing rules"
   ]
  },
  {
   "cell_type": "code",
   "execution_count": 20,
   "id": "91e97c87-cd4e-4bf4-807b-d2b040783f1e",
   "metadata": {},
   "outputs": [
    {
     "ename": "IndexError",
     "evalue": "index 2 is out of bounds for dimension 0 with size 2",
     "output_type": "error",
     "traceback": [
      "\u001b[0;31m---------------------------------------------------------------------------\u001b[0m",
      "\u001b[0;31mIndexError\u001b[0m                                Traceback (most recent call last)",
      "Cell \u001b[0;32mIn[20], line 19\u001b[0m\n\u001b[1;32m     17\u001b[0m all_arr \u001b[38;5;241m=\u001b[39m []\n\u001b[1;32m     18\u001b[0m \u001b[38;5;28;01mfor\u001b[39;00m i \u001b[38;5;129;01min\u001b[39;00m \u001b[38;5;28mrange\u001b[39m(\u001b[38;5;241m6\u001b[39m):\n\u001b[0;32m---> 19\u001b[0m     np_arr \u001b[38;5;241m=\u001b[39m \u001b[43mbatch_image\u001b[49m\u001b[43m[\u001b[49m\u001b[38;5;124;43m\"\u001b[39;49m\u001b[38;5;124;43mpcloud\u001b[39;49m\u001b[38;5;124;43m\"\u001b[39;49m\u001b[43m]\u001b[49m\u001b[43m[\u001b[49m\u001b[43mi\u001b[49m\u001b[43m]\u001b[49m\u001b[38;5;241m.\u001b[39mnumpy()\u001b[38;5;241m.\u001b[39msqueeze()\n\u001b[1;32m     20\u001b[0m     np\u001b[38;5;241m.\u001b[39msave(this_save_path \u001b[38;5;241m/\u001b[39m Path(\u001b[38;5;124mf\u001b[39m\u001b[38;5;124m\"\u001b[39m\u001b[38;5;124mimage_\u001b[39m\u001b[38;5;132;01m{\u001b[39;00mi\u001b[38;5;132;01m}\u001b[39;00m\u001b[38;5;124m.npy\u001b[39m\u001b[38;5;124m\"\u001b[39m), np_arr)\n",
      "\u001b[0;31mIndexError\u001b[0m: index 2 is out of bounds for dimension 0 with size 2"
     ]
    }
   ],
   "source": [
    "from pathlib import Path\n",
    "\n",
    "this_save_path = Path(save_path) / Path(\"panel_a\")\n",
    "this_save_path.mkdir(parents=True, exist_ok=True)\n",
    "\n",
    "all_arr = []\n",
    "for i in range(6):\n",
    "    np_arr = batch[\"pcloud\"][i].numpy()\n",
    "    new_array = np.zeros(np_arr.shape)\n",
    "    z = np_arr[:, 0]\n",
    "    new_array[:, 0] = np_arr[:, 2]\n",
    "    new_array[:, 1] = z\n",
    "    new_array[:, 2] = np_arr[:, 1]\n",
    "    all_arr.append(new_array)\n",
    "    np.save(this_save_path / Path(f\"{i}.npy\"), new_array)"
   ]
  },
  {
   "cell_type": "markdown",
   "id": "ed9cbe31-6e56-42fc-8bfa-277a8a3908b1",
   "metadata": {},
   "source": [
    "Make utility functions for computing and saving reconstructions across four 90 degree rotations "
   ]
  },
  {
   "cell_type": "code",
   "execution_count": null,
   "id": "0b0f770c-0c2d-491e-aa2c-2b1d20652763",
   "metadata": {},
   "outputs": [],
   "source": [
    "# utility function for plotting\n",
    "def plot_pc(this_p, axes, max_size, color=\"gray\", x_ind=2, y_ind=1):\n",
    "    axes.scatter(this_p[:, x_ind], this_p[:, y_ind], c=color, s=1)\n",
    "    axes.spines[\"top\"].set_visible(False)\n",
    "    axes.spines[\"right\"].set_visible(False)\n",
    "    axes.spines[\"bottom\"].set_visible(False)\n",
    "    axes.spines[\"left\"].set_visible(False)\n",
    "    axes.set_aspect(\"equal\", adjustable=\"box\")\n",
    "    axes.set_ylim([-max_size, max_size])\n",
    "    axes.set_xlim([-max_size, max_size])\n",
    "    axes.set_yticks([])\n",
    "    axes.set_xticks([])\n",
    "\n",
    "def save_recons_across_rotations(save_path, this_name, this_key, model, batch):\n",
    "    this_save_path = Path(save_path) / Path(f\"Recons_{this_name}\")\n",
    "    this_save_path.mkdir(parents=True, exist_ok=True)\n",
    "\n",
    "    max_z = {0: 20, 1: 20, 2: 20, 3: 1, 4: 20, 5: 20}\n",
    "    max_size = 10\n",
    "\n",
    "    all_thetas = [\n",
    "        0,\n",
    "        1 * 90,\n",
    "        2 * 90,\n",
    "        3 * 90,\n",
    "    ]\n",
    "\n",
    "\n",
    "    all_xhat = []\n",
    "    all_canon = []\n",
    "    all_input = []\n",
    "    with torch.no_grad():\n",
    "        for jl, theta in enumerate(all_thetas):\n",
    "            this_input_rot = rotation_pc_batch_z(\n",
    "                batch,\n",
    "                theta,\n",
    "            )\n",
    "            batch_input = {this_key: torch.tensor(this_input_rot).to(device).float()}\n",
    "            z, z_params = model.get_embeddings(batch_input, inference=True)\n",
    "            xhat = model.decode_embeddings(z_params, batch_input, decode=True, return_canonical=True)\n",
    "            all_input.append(this_input_rot)\n",
    "            for ind in range(6):\n",
    "                this_p = this_input_rot[ind]\n",
    "                this_max_z = max_z[ind]\n",
    "                this_p = this_p[np.where(this_p[:, 0] < this_max_z)[0]]\n",
    "                this_p = this_p[np.where(this_p[:, 0] > -this_max_z)[0]]\n",
    "                fig, ax = plt.subplots(1, 1, figsize=(5, 5))\n",
    "                plot_pc(this_p, ax, max_size, \"black\")\n",
    "                fig.savefig(this_save_path / f\"input_{ind}_theta_{theta}.png\")\n",
    "\n",
    "            if (\"canonical\" in xhat.keys()) and (\"Rotation\" in this_name):\n",
    "                this_canon = xhat[\"canonical\"].detach().cpu().numpy()\n",
    "                all_canon.append(this_canon)\n",
    "                for ind in range(6):\n",
    "                    this_p = this_canon[ind]\n",
    "                    this_max_z = max_z[ind]\n",
    "                    this_p = this_p[np.where(this_p[:, 1] < this_max_z)[0]]\n",
    "                    this_p = this_p[np.where(this_p[:, 1] > -this_max_z)[0]]\n",
    "                    fig, ax = plt.subplots(1, 1, figsize=(5, 5))\n",
    "                    plot_pc(this_p, ax, max_size, \"black\", x_ind=0, y_ind=2)\n",
    "                    fig.savefig(this_save_path / f\"canon_{ind}_theta_{theta}.png\")\n",
    "            this_recon = xhat[this_key].detach().cpu().numpy()\n",
    "            all_xhat.append(this_recon)\n",
    "            for ind in range(6):\n",
    "                this_p = this_recon[ind]\n",
    "                this_max_z = max_z[ind]\n",
    "                this_p = this_p[np.where(this_p[:, 0] < this_max_z)[0]]\n",
    "                this_p = this_p[np.where(this_p[:, 0] > -this_max_z)[0]]\n",
    "                fig, ax = plt.subplots(1, 1, figsize=(5, 5))\n",
    "                plot_pc(this_p, ax, max_size, \"black\")\n",
    "                fig.savefig(this_save_path / f\"recon_{ind}_theta_{theta}.png\")"
   ]
  },
  {
   "cell_type": "markdown",
   "id": "7ddd8568",
   "metadata": {},
   "source": [
    "Load the trained models"
   ]
  },
  {
   "cell_type": "code",
   "execution_count": null,
   "id": "b2c9ebef-92e7-408a-be52-0e4e2ccbfa63",
   "metadata": {},
   "outputs": [],
   "source": [
    "models, names, sizes, model_manifest, x_labels, latent_dims = load_model_from_path(\"cellpack\", results_path)"
   ]
  },
  {
   "cell_type": "markdown",
   "id": "24b423bb",
   "metadata": {},
   "source": [
    "Move batch elements to gpu"
   ]
  },
  {
   "cell_type": "code",
   "execution_count": null,
   "id": "1a636dfc-3e3f-47d1-9692-dba55342e73d",
   "metadata": {},
   "outputs": [],
   "source": [
    "for key in batch.keys():\n",
    "    if key not in [\n",
    "        \"split\",\n",
    "        \"bf_meta_dict\",\n",
    "        \"egfp_meta_dict\",\n",
    "        \"filenames\",\n",
    "        \"image_meta_dict\",\n",
    "        \"cell_id\",\n",
    "    ]:\n",
    "        if not isinstance(batch[key], list):\n",
    "            batch[key] = batch[key].to(device)"
   ]
  },
  {
   "cell_type": "markdown",
   "id": "12518a97",
   "metadata": {},
   "source": [
    "Save reconstructions across rotations for the classical point cloud model"
   ]
  },
  {
   "cell_type": "code",
   "execution_count": null,
   "id": "63234713",
   "metadata": {},
   "outputs": [],
   "source": [
    "# Lets load the classical point cloud model\n",
    "ind = names.index('Classical_pointcloud')\n",
    "model = models[ind]\n",
    "this_name = names[ind]\n",
    "this_key = x_labels[ind]\n",
    "save_recons_across_rotations(save_path, this_name, this_key, model, batch)"
   ]
  },
  {
   "cell_type": "markdown",
   "id": "314bd5de",
   "metadata": {},
   "source": [
    "Save reconstructions across rotations for the rotation invariant point cloud model"
   ]
  },
  {
   "cell_type": "code",
   "execution_count": null,
   "id": "181fec61-fea8-47b7-b8e6-26fa22b399eb",
   "metadata": {},
   "outputs": [],
   "source": [
    "# Lets load the rotation invariant point cloud model\n",
    "ind = names.index('Rotation_invariant_pointcloud')\n",
    "model = models[ind]\n",
    "this_name = names[ind]\n",
    "this_key = x_labels[ind]\n",
    "save_recons_across_rotations(save_path, this_name, this_key, model, batch)"
   ]
  },
  {
   "cell_type": "code",
   "execution_count": null,
   "id": "be3100c8",
   "metadata": {},
   "outputs": [],
   "source": []
  }
 ],
 "metadata": {
  "kernelspec": {
   "display_name": "Python 3 (ipykernel)",
   "language": "python",
   "name": "python3"
  },
  "language_info": {
   "codemirror_mode": {
    "name": "ipython",
    "version": 3
   },
   "file_extension": ".py",
   "mimetype": "text/x-python",
   "name": "python",
   "nbconvert_exporter": "python",
   "pygments_lexer": "ipython3",
   "version": "3.10.15"
  }
 },
 "nbformat": 4,
 "nbformat_minor": 5
}
