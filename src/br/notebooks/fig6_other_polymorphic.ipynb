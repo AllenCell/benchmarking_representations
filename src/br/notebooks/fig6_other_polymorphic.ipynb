{
 "cells": [
  {
   "cell_type": "code",
   "execution_count": null,
   "id": "17d20bd5-43ee-4490-8811-6edbde5f86d1",
   "metadata": {},
   "outputs": [],
   "source": [
    "%load_ext autoreload\n",
    "%autoreload 2\n",
    "import os\n",
    "\n",
    "os.environ[\"CUDA_DEVICE_ORDER\"] = \"PCI_BUS_ID\"  # see issue #152\n",
    "os.environ[\"CUDA_VISIBLE_DEVICES\"] = \"MIG-864c07c4-8eeb-5b23-8d57-eaeb942a9a0f\"\n",
    "import os\n",
    "from pathlib import Path\n",
    "\n",
    "import matplotlib.pyplot as plt\n",
    "import numpy as np\n",
    "import pandas as pd\n",
    "import torch\n",
    "import yaml\n",
    "from hydra.utils import instantiate\n",
    "from PIL import Image\n",
    "from torch.utils.data import DataLoader, Dataset\n",
    "\n",
    "from br.features.archetype import AA_Fast\n",
    "from br.features.plot import collect_outputs, plot, plot_stratified_pc\n",
    "from br.features.reconstruction import stratified_latent_walk\n",
    "from br.features.utils import (\n",
    "    normalize_intensities_and_get_colormap,\n",
    "    normalize_intensities_and_get_colormap_apply,\n",
    ")\n",
    "from br.models.compute_features import compute_features, get_embeddings\n",
    "from br.models.load_models import get_data_and_models\n",
    "from br.models.save_embeddings import (\n",
    "    get_pc_loss,\n",
    "    get_pc_loss_chamfer,\n",
    "    save_embeddings,\n",
    "    save_emissions,\n",
    ")\n",
    "from br.models.utils import get_all_configs_per_dataset\n",
    "\n",
    "device = \"cuda:0\""
   ]
  },
  {
   "cell_type": "markdown",
   "id": "b8b6a10b-38a9-4fc5-8dd0-03babdccee70",
   "metadata": {},
   "source": [
    "# Load data and models"
   ]
  },
  {
   "cell_type": "code",
   "execution_count": null,
   "id": "f05f5c60-cae8-41d7-9297-eef048e459b3",
   "metadata": {},
   "outputs": [],
   "source": [
    "os.chdir(\"../../benchmarking_representations/\")\n",
    "save_path = \"./test_polymorphic_save_embeddings/\""
   ]
  },
  {
   "cell_type": "code",
   "execution_count": null,
   "id": "0ad0f0f4-fa0e-412f-a6fe-ec88e49ffd43",
   "metadata": {},
   "outputs": [],
   "source": [
    "dataset_name = \"other_polymorphic\"\n",
    "batch_size = 2\n",
    "debug = False\n",
    "results_path = \"./configs/results/\"\n",
    "data_list, all_models, run_names, model_sizes = get_data_and_models(\n",
    "    dataset_name, batch_size, results_path, debug\n",
    ")"
   ]
  },
  {
   "cell_type": "markdown",
   "id": "0cb523c3-ef58-4557-8a31-e1eb095c95de",
   "metadata": {},
   "source": [
    "# Compute embeddings and emissions"
   ]
  },
  {
   "cell_type": "code",
   "execution_count": null,
   "id": "7088001f-97ae-4091-a591-3aad744c7ed2",
   "metadata": {},
   "outputs": [],
   "source": [
    "from br.models.save_embeddings import save_embeddings\n",
    "\n",
    "splits_list = [\"test\"]\n",
    "splits_list = [\"train\", \"val\", \"test\"]\n",
    "meta_key = None\n",
    "eval_scaled_img = [False] * 5\n",
    "\n",
    "gt_mesh_dir = MESH_DIR\n",
    "gt_sampled_pts_dir = SAMPLES_DIR\n",
    "gt_scale_factor_dict_path = SCALE_FACTOR_DIR\n",
    "\n",
    "eval_scaled_img_params = [\n",
    "    {\n",
    "        \"eval_scaled_img_model_type\": \"iae\",\n",
    "        \"eval_scaled_img_resolution\": 32,\n",
    "        \"gt_mesh_dir\": gt_mesh_dir,\n",
    "        \"gt_scale_factor_dict_path\": None,\n",
    "        \"gt_sampled_pts_dir\": gt_sampled_pts_dir,\n",
    "        \"mesh_ext\": \"stl\",\n",
    "    },\n",
    "    {\n",
    "        \"eval_scaled_img_model_type\": \"sdf\",\n",
    "        \"eval_scaled_img_resolution\": 32,\n",
    "        \"gt_mesh_dir\": gt_mesh_dir,\n",
    "        \"gt_scale_factor_dict_path\": gt_scale_factor_dict_path,\n",
    "        \"gt_sampled_pts_dir\": None,\n",
    "        \"mesh_ext\": \"stl\",\n",
    "    },\n",
    "    {\n",
    "        \"eval_scaled_img_model_type\": \"seg\",\n",
    "        \"eval_scaled_img_resolution\": 32,\n",
    "        \"gt_mesh_dir\": gt_mesh_dir,\n",
    "        \"gt_scale_factor_dict_path\": gt_scale_factor_dict_path,\n",
    "        \"gt_sampled_pts_dir\": None,\n",
    "        \"mesh_ext\": \"stl\",\n",
    "    },\n",
    "    {\n",
    "        \"eval_scaled_img_model_type\": \"sdf\",\n",
    "        \"eval_scaled_img_resolution\": 32,\n",
    "        \"gt_mesh_dir\": gt_mesh_dir,\n",
    "        \"gt_scale_factor_dict_path\": gt_scale_factor_dict_path,\n",
    "        \"gt_sampled_pts_dir\": None,\n",
    "        \"mesh_ext\": \"stl\",\n",
    "    },\n",
    "    {\n",
    "        \"eval_scaled_img_model_type\": \"seg\",\n",
    "        \"eval_scaled_img_resolution\": 32,\n",
    "        \"gt_mesh_dir\": gt_mesh_dir,\n",
    "        \"gt_scale_factor_dict_path\": gt_scale_factor_dict_path,\n",
    "        \"gt_sampled_pts_dir\": None,\n",
    "        \"mesh_ext\": \"stl\",\n",
    "    },\n",
    "]\n",
    "loss_eval_list = [torch.nn.MSELoss(reduction=\"none\")] * 5\n",
    "sample_points_list = [False] * 5\n",
    "skew_scale = None\n",
    "save_embeddings(\n",
    "    save_path,\n",
    "    data_list,\n",
    "    all_models,\n",
    "    run_names,\n",
    "    debug,\n",
    "    splits_list,\n",
    "    device,\n",
    "    meta_key,\n",
    "    loss_eval_list,\n",
    "    sample_points_list,\n",
    "    skew_scale,\n",
    "    eval_scaled_img,\n",
    "    eval_scaled_img_params,\n",
    ")"
   ]
  },
  {
   "cell_type": "markdown",
   "id": "2927b452-7b3a-49cc-a8a7-cdd6d213dfac",
   "metadata": {},
   "source": [
    "# Latent walks"
   ]
  },
  {
   "cell_type": "code",
   "execution_count": null,
   "id": "4f28accf-950d-495c-8df7-b5dfb59936d2",
   "metadata": {},
   "outputs": [],
   "source": [
    "# Load model and embeddings\n",
    "run_names = [\"Rotation_invariant_pointcloud_SDF\"]\n",
    "DATASET_INFO = get_all_configs_per_dataset(results_path)\n",
    "all_ret, df = get_embeddings(run_names, dataset_name, DATASET_INFO, save_path)"
   ]
  },
  {
   "cell_type": "code",
   "execution_count": null,
   "id": "a80bba01-e9b1-49a2-8f6e-e9ea34e7c942",
   "metadata": {},
   "outputs": [],
   "source": [
    "save_path"
   ]
  },
  {
   "cell_type": "code",
   "execution_count": null,
   "id": "b62f8cc7-ca76-4c19-96bf-350c2d23f3e9",
   "metadata": {},
   "outputs": [],
   "source": [
    "cols = [i for i in all_ret.columns if \"mu\" in i]\n",
    "feat_cols = [i for i in all_ret.columns if \"str\" in i]\n",
    "# feat_cols = ['mem_position_width', 'mem_position_height', 'mem_position_depth_lcc']\n",
    "cols = cols + feat_cols\n",
    "this_ret = all_ret.loc[all_ret[\"structure_name\"] == \"ST6GAL1\"].reset_index(drop=True)\n",
    "pca = PCA(n_components=512)\n",
    "pca_features = pca.fit_transform(this_ret[cols].values)"
   ]
  },
  {
   "cell_type": "code",
   "execution_count": null,
   "id": "b477503d-8950-4ff2-b507-937c40520584",
   "metadata": {},
   "outputs": [],
   "source": [
    "for i in feat_cols:\n",
    "    corr = np.abs(np.corrcoef(pca_features[:, 1], this_ret[i].values)[0, 1])\n",
    "    if corr > 0.5:\n",
    "        print(i, corr)"
   ]
  },
  {
   "cell_type": "code",
   "execution_count": null,
   "id": "d537d96e-7013-41bc-a8b3-825e954b8104",
   "metadata": {},
   "outputs": [],
   "source": [
    "pca_features.shape"
   ]
  },
  {
   "cell_type": "code",
   "execution_count": null,
   "id": "58e24687-d019-4696-b86a-e865d7f9e95e",
   "metadata": {},
   "outputs": [],
   "source": [
    "all_ret[\"structure_name\"].value_counts()"
   ]
  },
  {
   "cell_type": "code",
   "execution_count": null,
   "id": "f8a5582e-574f-41e8-9ea4-736b55869ad2",
   "metadata": {},
   "outputs": [],
   "source": [
    "[i for i in all_ret.columns if \"path\" in i]"
   ]
  },
  {
   "cell_type": "code",
   "execution_count": null,
   "id": "899a8340-29c8-4f35-a947-6385e8f00918",
   "metadata": {},
   "outputs": [],
   "source": [
    "import pyvista as pv\n",
    "from cyto_dl.image.transforms import RotationMask\n",
    "from skimage.io import imread\n",
    "from sklearn.decomposition import PCA\n",
    "from tqdm import tqdm\n",
    "\n",
    "from br.data.utils import mesh_seg_model_output\n",
    "\n",
    "this_save_path = Path(save_path) / Path(\"latent_walks\")\n",
    "this_save_path.mkdir(parents=True, exist_ok=True)\n",
    "\n",
    "lw_dict = {\"structure_name\": [], \"PC\": [], \"bin\": [], \"CellId\": []}\n",
    "\n",
    "for struct in all_ret[\"structure_name\"].unique():\n",
    "    this_sub_m = all_ret.loc[all_ret[\"structure_name\"] == struct].reset_index(drop=True)\n",
    "    all_features = this_sub_m[[i for i in this_sub_m.columns if \"mu\" in i]].values\n",
    "    latent_dim = 512\n",
    "    dim_size = latent_dim\n",
    "    x_label = \"pcloud\"\n",
    "    pca = PCA(n_components=dim_size)\n",
    "    pca_features = pca.fit_transform(all_features)\n",
    "    pca_std_list = pca_features.std(axis=0)\n",
    "    for rank in [0, 1]:\n",
    "        all_xhat = []\n",
    "        all_closest_real = []\n",
    "        all_closest_img = []\n",
    "        latent_walk_range = [-2, 0, 2]\n",
    "        for value_index, value in enumerate(tqdm(latent_walk_range, total=len(latent_walk_range))):\n",
    "            z_inf = torch.zeros(1, dim_size)\n",
    "            z_inf[:, rank] += value * pca_std_list[rank]\n",
    "            z_inf = pca.inverse_transform(z_inf).numpy()\n",
    "\n",
    "            dist = (all_features - z_inf) ** 2\n",
    "            dist = np.sum(dist, axis=1)\n",
    "            closest_idx = np.argmin(dist)\n",
    "            closest_real_id = this_sub_m.iloc[closest_idx][\"CellId\"]\n",
    "            print(closest_real_id, struct, rank, value_index)\n",
    "            mesh = pv.read(\n",
    "                all_ret.loc[all_ret[\"CellId\"] == closest_real_id][\"mesh_path_noalign\"].iloc[0]\n",
    "            )\n",
    "            mesh.save(this_save_path / Path(f\"{struct}_{rank}_{value_index}.ply\"))\n",
    "\n",
    "            lw_dict[\"structure_name\"].append(struct)\n",
    "            lw_dict[\"PC\"].append(rank)\n",
    "            lw_dict[\"bin\"].append(value_index)\n",
    "            lw_dict[\"CellId\"].append(closest_real_id)"
   ]
  },
  {
   "cell_type": "code",
   "execution_count": null,
   "id": "d1c2ee61-dd0f-4915-a29d-1c3b561a9e91",
   "metadata": {},
   "outputs": [],
   "source": [
    "this_save_path"
   ]
  },
  {
   "cell_type": "code",
   "execution_count": null,
   "id": "69a3f454-9a19-40bf-bfa2-be5012df68d4",
   "metadata": {},
   "outputs": [],
   "source": [
    "lw_dict = pd.DataFrame(lw_dict)\n",
    "lw_dict.to_csv(this_save_path / \"latent_walk.csv\")"
   ]
  },
  {
   "cell_type": "code",
   "execution_count": null,
   "id": "3e646836-8373-4e3e-a763-58fe35f8d068",
   "metadata": {},
   "outputs": [],
   "source": [
    "lw_dict"
   ]
  },
  {
   "cell_type": "code",
   "execution_count": null,
   "id": "e763ab33-8099-488e-a6e2-906151fe4891",
   "metadata": {},
   "outputs": [],
   "source": [
    "# num_pieces = 4.0\n",
    "struct = \"FBL\"\n",
    "rank = 1\n",
    "bin_ = 2\n",
    "this_mesh_path = this_save_path / Path(f\"{struct}_{rank}_{bin_}.ply\")\n",
    "this_mesh_path = \"./\" + str(this_mesh_path)\n",
    "\n",
    "mitsuba_save_path = this_save_path / Path(\"mitsuba\")\n",
    "mitsuba_save_path.mkdir(parents=True, exist_ok=True)\n",
    "mitsuba_save_path = \"./\" + str(mitsuba_save_path)\n",
    "name = f\"{struct}_{rank}_{bin_}\"\n",
    "\n",
    "\n",
    "plot(str(this_mesh_path), mitsuba_save_path, -130, 0, None, name)"
   ]
  },
  {
   "cell_type": "markdown",
   "id": "771c73fb-8be2-44ea-95b4-0bdd22a3a6dc",
   "metadata": {},
   "source": [
    "# Archetype"
   ]
  },
  {
   "cell_type": "code",
   "execution_count": null,
   "id": "1b318bba-3e87-4554-8eba-be788650a579",
   "metadata": {},
   "outputs": [],
   "source": [
    "from br.features.archetype import AA_Fast\n",
    "\n",
    "n_archetypes = 4\n",
    "matrix = all_ret[[i for i in all_ret.columns if \"mu\" in i]].values\n",
    "aa = AA_Fast(n_archetypes, max_iter=1000, tol=1e-6).fit(matrix)\n",
    "\n",
    "import pandas as pd\n",
    "\n",
    "archetypes_df = pd.DataFrame(aa.Z, columns=[f\"mu_{i}\" for i in range(matrix.shape[1])])"
   ]
  },
  {
   "cell_type": "code",
   "execution_count": null,
   "id": "6836a9b9-573f-42de-93eb-9c771b86d44d",
   "metadata": {},
   "outputs": [],
   "source": [
    "archetypes_df"
   ]
  },
  {
   "cell_type": "code",
   "execution_count": null,
   "id": "b656c3ef-e0b3-45f5-9e34-1482e707a8b5",
   "metadata": {},
   "outputs": [],
   "source": [
    "this_save_path = Path(save_path) / Path(\"archetypes\")\n",
    "this_save_path.mkdir(parents=True, exist_ok=True)\n",
    "\n",
    "arch_dict = {\"CellId\": [], \"archetype\": []}\n",
    "\n",
    "all_features = matrix\n",
    "for i in range(n_archetypes):\n",
    "    this_mu = archetypes_df.iloc[i].values\n",
    "    dist = (all_features - this_mu) ** 2\n",
    "    dist = np.sum(dist, axis=1)\n",
    "    closest_idx = np.argmin(dist)\n",
    "    closest_real_id = all_ret.iloc[closest_idx][\"CellId\"]\n",
    "    mesh = pv.read(all_ret.loc[all_ret[\"CellId\"] == closest_real_id][\"mesh_path_noalign\"].iloc[0])\n",
    "    mesh.save(this_save_path / Path(f\"{i}.ply\"))\n",
    "    arch_dict[\"archetype\"].append(i)\n",
    "    arch_dict[\"CellId\"].append(closest_real_id)"
   ]
  },
  {
   "cell_type": "code",
   "execution_count": null,
   "id": "ba64b1fc-d06a-441c-b6ae-e73f3f4e04a8",
   "metadata": {},
   "outputs": [],
   "source": [
    "arch_dict = pd.DataFrame(arch_dict)\n",
    "arch_dict.to_csv(this_save_path / \"archetypes.csv\")"
   ]
  },
  {
   "cell_type": "code",
   "execution_count": null,
   "id": "dbf9332c-01fb-41e6-9022-80af44d2abaf",
   "metadata": {},
   "outputs": [],
   "source": [
    "from br.visualization.mitsuba_render_image import plot\n",
    "\n",
    "# num_pieces = 4.0\n",
    "arch = \"3\"\n",
    "this_mesh_path = this_save_path / Path(f\"{arch}.ply\")\n",
    "this_mesh_path = \"./\" + str(this_mesh_path)\n",
    "\n",
    "mitsuba_save_path = this_save_path / Path(\"mitsuba\")\n",
    "mitsuba_save_path.mkdir(parents=True, exist_ok=True)\n",
    "mitsuba_save_path = \"./\" + str(mitsuba_save_path)\n",
    "name = f\"{arch}\"\n",
    "\n",
    "\n",
    "plot(str(this_mesh_path), mitsuba_save_path, 10, 0, None, name)"
   ]
  },
  {
   "cell_type": "code",
   "execution_count": null,
   "id": "693f1a36-6d2b-4ba3-b017-ef87512b9a6a",
   "metadata": {},
   "outputs": [],
   "source": []
  }
 ],
 "metadata": {
  "kernelspec": {
   "display_name": "Python 3 (ipykernel)",
   "language": "python",
   "name": "python3"
  },
  "language_info": {
   "codemirror_mode": {
    "name": "ipython",
    "version": 3
   },
   "file_extension": ".py",
   "mimetype": "text/x-python",
   "name": "python",
   "nbconvert_exporter": "python",
   "pygments_lexer": "ipython3",
   "version": "3.10.14"
  }
 },
 "nbformat": 4,
 "nbformat_minor": 5
}
