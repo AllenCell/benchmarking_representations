{
 "cells": [
  {
   "cell_type": "code",
   "execution_count": 1,
   "metadata": {},
   "outputs": [],
   "source": [
    "%load_ext autoreload\n",
    "%autoreload 2\n",
    "import pandas as pd\n",
    "\n",
    "df_pc = pd.read_parquet(\"/allen/aics/modeling/ritvik/pcna/manifest.parquet\")\n",
    "df_orig = pd.read_csv(\"/allen/aics/assay-dev/computational/data/4DN_handoff_Apr2022_testing/PCNA_manifest_for_suraj_with_brightfield.csv\")\n",
    "# df_sample = df_pc.loc[df_pc['structure_name'].isin(['PCNA'])]\n",
    "df_sample = df_pc.groupby('structure_name').apply(lambda x: x.sample(2)).reset_index(drop=True)"
   ]
  },
  {
   "cell_type": "code",
   "execution_count": 2,
   "metadata": {},
   "outputs": [
    {
     "name": "stderr",
     "output_type": "stream",
     "text": [
      "/home/ritvik.vasan/anaconda3/envs/test/lib/python3.10/site-packages/pydantic/_migration.py:281: UserWarning: `pydantic.error_wrappers:ValidationError` has been moved to `pydantic:ValidationError`.\n",
      "  warnings.warn(f'`{import_path}` has been moved to `{new_location}`.')\n"
     ]
    },
    {
     "name": "stdout",
     "output_type": "stream",
     "text": [
      "(2, 114, 359, 398) max project\n",
      "(2, 95, 507, 485) max project\n"
     ]
    },
    {
     "data": {
      "text/plain": [
       "PosixUPath('diagnostic_sheets/manifest.csv')"
      ]
     },
     "execution_count": 2,
     "metadata": {},
     "output_type": "execute_result"
    }
   ],
   "source": [
    "from src.features.diagnosticsheet import diagnostic_sheet\n",
    "import warnings\n",
    "import matplotlib.pyplot as plt\n",
    "import numpy as np\n",
    "\n",
    "plt.style.use(\"dark_background\")\n",
    "warnings.simplefilter(action='ignore', category=FutureWarning)\n",
    "\n",
    "def custom_contrast_adjust(img):\n",
    "    img = np.where(img < 10000, img, 0)\n",
    "    img = np.where(img > 0, img, 0)\n",
    "    return img\n",
    "\n",
    "diagnostic_sheet(df_sample, \n",
    "                 save_dir = \"./\", # Created a diagnostic_sheets folder in the current working dir\n",
    "                 image_column = \"registered_path\", # Pass in the 3D image path or one of the 2D image paths like max_projection_x\n",
    "                 max_cells=20, # max cells per sheet\n",
    "                #  channels = [6,7,8], # DNA, Membrane, Structure intensity channels\n",
    "                #  colors = [[0, 1, 1], [1, 0, 1], [1,1,1]], # Cyan, Magenta, White\n",
    "                 channels = [6, 8], # DNA, Membrane, Structure intensity channels\n",
    "                 colors = [[0, 1, 1], [1,1,1]], # Cyan, Magenta, White\n",
    "                 proj_method = \"max\", # options - max, mean, sum\n",
    "                #  metadata = \"edge_flag\", # Optional, Metadata to stratify the diagnostic sheets\n",
    "                #  feature = \"cell_height\", # Optional, Feature to add as text,\n",
    "                 fig_width = None, # Default is number of columns * 7\n",
    "                 fig_height = None, # Default is number of rows * 5,\n",
    "                 distributed_executor_address = None, # An optional executor address to pass to some computation engine.\n",
    "                 batch_size = None, # process all at once\n",
    "                contrast_adjust = custom_contrast_adjust,\n",
    "                 overwrite=True)"
   ]
  },
  {
   "cell_type": "code",
   "execution_count": null,
   "metadata": {},
   "outputs": [],
   "source": []
  }
 ],
 "metadata": {
  "kernelspec": {
   "display_name": "test",
   "language": "python",
   "name": "python3"
  },
  "language_info": {
   "codemirror_mode": {
    "name": "ipython",
    "version": 3
   },
   "file_extension": ".py",
   "mimetype": "text/x-python",
   "name": "python",
   "nbconvert_exporter": "python",
   "pygments_lexer": "ipython3",
   "version": "3.10.13"
  }
 },
 "nbformat": 4,
 "nbformat_minor": 2
}
