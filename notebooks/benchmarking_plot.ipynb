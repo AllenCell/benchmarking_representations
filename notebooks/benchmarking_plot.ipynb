{
 "cells": [
  {
   "cell_type": "code",
   "execution_count": 1,
   "metadata": {},
   "outputs": [],
   "source": [
    "%load_ext autoreload\n",
    "%autoreload 2\n",
    "from src.features.plot import collect_outputs"
   ]
  },
  {
   "cell_type": "code",
   "execution_count": 28,
   "metadata": {},
   "outputs": [
    {
     "name": "stderr",
     "output_type": "stream",
     "text": [
      "/allen/aics/modeling/ritvik/projects/benchmarking_representations/src/features/plot.py:54: FutureWarning:\n",
      "\n",
      "The default value of numeric_only in DataFrameGroupBy.mean is deprecated. In a future version, numeric_only will default to False. Either specify numeric_only or select only columns which should be valid for the function.\n",
      "\n",
      "/allen/aics/modeling/ritvik/projects/benchmarking_representations/src/features/plot.py:55: FutureWarning:\n",
      "\n",
      "The default value of numeric_only in DataFrameGroupBy.mean is deprecated. In a future version, numeric_only will default to False. Either specify numeric_only or select only columns which should be valid for the function.\n",
      "\n",
      "/allen/aics/modeling/ritvik/projects/benchmarking_representations/src/features/plot.py:57: FutureWarning:\n",
      "\n",
      "The default value of numeric_only in DataFrameGroupBy.mean is deprecated. In a future version, numeric_only will default to False. Either specify numeric_only or select only columns which should be valid for the function.\n",
      "\n",
      "/allen/aics/modeling/ritvik/projects/benchmarking_representations/src/features/plot.py:58: FutureWarning:\n",
      "\n",
      "The default value of numeric_only in DataFrameGroupBy.mean is deprecated. In a future version, numeric_only will default to False. Either specify numeric_only or select only columns which should be valid for the function.\n",
      "\n",
      "/allen/aics/modeling/ritvik/projects/benchmarking_representations/src/features/plot.py:75: FutureWarning:\n",
      "\n",
      "This dataframe has a column name that matches the 'value_name' column name of the resulting Dataframe. In the future this will raise an error, please set the 'value_name' parameter of DataFrame.melt to a unique name.\n",
      "\n"
     ]
    }
   ],
   "source": [
    "path = './benchmarking_outputs/'\n",
    "dataset = 'pcna'\n",
    "norm = 'std'\n",
    "\n",
    "if dataset == 'pcna':\n",
    "    # PCNA order names\n",
    "    order_names = ['DGCNN', 'Point M2AE', 'VN-DGCNN int', 'ImageAE', 'SO2 ImageAE', 'ViT']\n",
    "else:\n",
    "    # variance order names\n",
    "    order_names = ['Point M2AE', 'VN-DGCNN int', 'ImageAE', 'SO2 ImageAE', 'ViT']\n",
    "\n",
    "df = collect_outputs(path, dataset, order_names, norm)"
   ]
  },
  {
   "cell_type": "code",
   "execution_count": 29,
   "metadata": {},
   "outputs": [],
   "source": [
    "from src.features.plot import plot\n",
    "\n",
    "if dataset == 'pcna':\n",
    "    model_order = ['ImageAE', 'SO2 ImageAE', 'ViT', 'DGCNN', 'Point M2AE', 'VN-DGCNN int']\n",
    "else:\n",
    "    model_order = ['ImageAE', 'SO2 ImageAE', 'Point M2AE', 'VN-DGCNN int']\n",
    "\n",
    "title = \"PCNA model comparison\"\n",
    "plot(df, model_order, title)"
   ]
  },
  {
   "cell_type": "code",
   "execution_count": null,
   "metadata": {},
   "outputs": [],
   "source": []
  },
  {
   "cell_type": "code",
   "execution_count": null,
   "metadata": {},
   "outputs": [],
   "source": []
  }
 ],
 "metadata": {
  "kernelspec": {
   "display_name": "cdl_ref",
   "language": "python",
   "name": "python3"
  },
  "language_info": {
   "codemirror_mode": {
    "name": "ipython",
    "version": 3
   },
   "file_extension": ".py",
   "mimetype": "text/x-python",
   "name": "python",
   "nbconvert_exporter": "python",
   "pygments_lexer": "ipython3",
   "version": "3.10.13"
  }
 },
 "nbformat": 4,
 "nbformat_minor": 2
}
