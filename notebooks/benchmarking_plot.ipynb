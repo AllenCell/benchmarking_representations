{
 "cells": [
  {
   "cell_type": "code",
   "execution_count": null,
   "metadata": {},
   "outputs": [],
   "source": [
    "%load_ext autoreload\n",
    "%autoreload 2\n",
    "from src.features.plot import collect_outputs\n",
    "from src.features.plot import plot"
   ]
  },
  {
   "cell_type": "code",
   "execution_count": null,
   "metadata": {},
   "outputs": [],
   "source": [
    "\n",
    "paths = ['./features_pcna/', './features_variance/','./features_cellpainting/']\n",
    "model_orders = [[\"ImageAE\", \"ViT\",  \"SO2 ImageAE\", \"DGCNN\", \"VN-DGCNN int\"], \n",
    "                [\"ImageAE\", \"SO2 ImageAE\", \"Point MAE\", \"VN-DGCNN int\"],\n",
    "                [\"ImageAE\", \"SO2 ImageAE\", \"DGCNN\", \"VN-DGCNN int\"]]\n",
    "datasets = ['pcna', 'variance', 'cellpainting']\n",
    "for norm in [\"std\", \"minmax\"]:\n",
    "    for i in range(3):  \n",
    "        df = collect_outputs(paths[i], norm)\n",
    "        this_data = datasets[i]\n",
    "        title = f\"{this_data}_{norm}\" \n",
    "        plot('model_comparison_pngs', df, model_orders[i], title)"
   ]
  },
  {
   "cell_type": "code",
   "execution_count": null,
   "metadata": {},
   "outputs": [],
   "source": [
    "\n",
    "paths = ['./features_pcna/', './features_variance/','./features_cellpainting/']\n",
    "model_orders = [[\"ImageAE\", \"ViT\",  \"SO2 ImageAE\", \"DGCNN\", \"VN-DGCNN int\"], \n",
    "                [\"ImageAE\", \"SO2 ImageAE\", \"Point MAE\", \"VN-DGCNN int\"],\n",
    "                [\"ImageAE\", \"SO2 ImageAE\", \"DGCNN\", \"VN-DGCNN int\"]]\n",
    "datasets = ['pcna', 'variance', 'cellpainting']\n",
    "all_df = []\n",
    "for i in range(3):  \n",
    "    df = collect_outputs(paths[i], None)\n",
    "    df['dataset'] = datasets[i]\n",
    "    all_df.append(df)"
   ]
  },
  {
   "cell_type": "code",
   "execution_count": null,
   "metadata": {},
   "outputs": [],
   "source": [
    "import pandas as pd\n",
    "all_df = pd.concat(all_df, axis=0).reset_index(drop=True)"
   ]
  },
  {
   "cell_type": "code",
   "execution_count": null,
   "metadata": {},
   "outputs": [],
   "source": [
    "import seaborn as sns\n",
    "gen_metrics = [\"Reconstruction\", \"Shape Evolution Energy\"]\n",
    "emission_metrics = [\"Emissions\", \"Inference Time\"]\n",
    "expressive_metrics = [\n",
    "    \"Compactness\",\n",
    "    \"Outlier Detection\",\n",
    "    \"Classification\",\n",
    "]\n",
    "expressive_metrics2 = [    \"Rotation Invariance Error\",\n",
    "    \"Interpolation Embedding Distance\",]\n",
    "plot_df = all_df.loc[all_df['variable'].isin(emission_metrics)]\n",
    "g = sns.catplot(data=plot_df, x='model', y='value', hue='variable', col='dataset', kind='bar')\n",
    "g.set_xticklabels(rotation=30)"
   ]
  },
  {
   "cell_type": "code",
   "execution_count": null,
   "metadata": {},
   "outputs": [],
   "source": [
    "all_df"
   ]
  },
  {
   "cell_type": "code",
   "execution_count": null,
   "metadata": {},
   "outputs": [],
   "source": [
    "df"
   ]
  },
  {
   "cell_type": "code",
   "execution_count": null,
   "metadata": {},
   "outputs": [],
   "source": [
    "import seaborn as sns\n",
    "g = sns.catplot(data=all_df,x='theta', y='value3',hue='model',col='data', kind='point')\n",
    "g.set_xticklabels(rotation=30)\n"
   ]
  }
 ],
 "metadata": {
  "kernelspec": {
   "display_name": "cdl_ref",
   "language": "python",
   "name": "python3"
  },
  "language_info": {
   "codemirror_mode": {
    "name": "ipython",
    "version": 3
   },
   "file_extension": ".py",
   "mimetype": "text/x-python",
   "name": "python",
   "nbconvert_exporter": "python",
   "pygments_lexer": "ipython3",
   "version": "3.10.13"
  }
 },
 "nbformat": 4,
 "nbformat_minor": 2
}
