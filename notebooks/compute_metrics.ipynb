{
 "cells": [
  {
   "cell_type": "code",
   "execution_count": null,
   "metadata": {},
   "outputs": [],
   "source": [
    "%load_ext autoreload\n",
    "%autoreload 2\n",
    "import os\n",
    "os.environ[\"CUDA_DEVICE_ORDER\"]=\"PCI_BUS_ID\"   # see issue #152\n",
    "os.environ[\"CUDA_VISIBLE_DEVICES\"]=\"MIG-7d67cf82-0c6b-5aee-99ce-cab54f47f0b6\" \n",
    "from hydra.utils import instantiate\n",
    "import yaml\n",
    "import torch\n",
    "import numpy as np\n",
    "import torch\n",
    "from sklearn.manifold import TSNE\n",
    "import matplotlib.pyplot as plt\n",
    "from torch.utils.data import Dataset, DataLoader\n",
    "from PIL import Image\n",
    "device = \"cuda:0\""
   ]
  },
  {
   "cell_type": "code",
   "execution_count": null,
   "metadata": {},
   "outputs": [],
   "source": [
    "1"
   ]
  },
  {
   "cell_type": "code",
   "execution_count": null,
   "metadata": {},
   "outputs": [],
   "source": [
    "1"
   ]
  },
  {
   "cell_type": "code",
   "execution_count": null,
   "metadata": {},
   "outputs": [],
   "source": [
    "from src.data.get_datamodules import get_pcna_data\n",
    "from cyto_dl.models.utils.mlflow import load_model_from_checkpoint\n",
    "from src.models.save_embeddings import get_pc_loss\n",
    "\n",
    "def get_data_and_models():\n",
    "    data = get_pcna_data()\n",
    "    data_list = [data[0], data[0], data[1], data[-2], data[-2]]\n",
    "\n",
    "    run_ids = [\n",
    "        \"6bb8003c781e4661914a768763a352a3\",\n",
    "        \"68157cde6680432292c3f5b959394bec\",\n",
    "        \"e41f0bbf26944ba9b9e4541e87bf42f0\",\n",
    "        \"358cef46219c435ab1b16d2a06dd4436\",\n",
    "    ]\n",
    "    run_names = [\"2048_ed_dgcnn\", \"2048_int_ed_vndgcnn\", \"classical_image\", \"so2_image\"]\n",
    "    all_models = []\n",
    "    for i in run_ids:\n",
    "        all_models.append(\n",
    "            load_model_from_checkpoint(\n",
    "                \"https://mlflow.a100.int.allencell.org\",\n",
    "                i,\n",
    "                path=\"checkpoints/val/loss/best.ckpt\",\n",
    "                strict=False,\n",
    "            )\n",
    "        )\n",
    "    return data_list, all_models, run_names"
   ]
  },
  {
   "cell_type": "code",
   "execution_count": null,
   "metadata": {},
   "outputs": [],
   "source": [
    "data_list, all_models, run_names = get_data_and_models()"
   ]
  },
  {
   "cell_type": "code",
   "execution_count": null,
   "metadata": {},
   "outputs": [],
   "source": [
    "run_names"
   ]
  },
  {
   "cell_type": "code",
   "execution_count": null,
   "metadata": {},
   "outputs": [],
   "source": [
    "\n",
    "# image models first\n",
    "all_models.reverse()\n",
    "data_list.reverse()\n",
    "run_names.reverse()"
   ]
  },
  {
   "cell_type": "code",
   "execution_count": null,
   "metadata": {},
   "outputs": [],
   "source": [
    "run_names"
   ]
  },
  {
   "cell_type": "code",
   "execution_count": null,
   "metadata": {},
   "outputs": [],
   "source": [
    "from src.models.save_embeddings import save_embeddings\n",
    "\n",
    "debug = False\n",
    "path = \"./embeddings\"\n",
    "save_embeddings(path, data_list, all_models, run_names, debug)"
   ]
  },
  {
   "cell_type": "code",
   "execution_count": null,
   "metadata": {},
   "outputs": [],
   "source": [
    "from src.models.save_embeddings import save_emissions\n",
    "\n",
    "debug = False\n",
    "path = \"./emissions\"\n",
    "save_emissions(path, data_list, all_models, run_names, 5, debug)"
   ]
  },
  {
   "cell_type": "code",
   "execution_count": null,
   "metadata": {},
   "outputs": [],
   "source": [
    "run_names"
   ]
  },
  {
   "cell_type": "code",
   "execution_count": null,
   "metadata": {},
   "outputs": [],
   "source": [
    "from src.models.compute_features import compute_features\n",
    "\n",
    "save_folder = './pcna_features/'\n",
    "keys = ['image', 'image', 'pcloud', 'pcloud']\n",
    "compute_features(\n",
    "    dataset='pcna',\n",
    "    save_folder=save_folder,\n",
    "    data_list=data_list,\n",
    "    all_models=all_models,\n",
    "    run_names=run_names,\n",
    "    keys=keys,\n",
    "    device=\"cuda:0\",\n",
    "    max_embed_dim=256,\n",
    "    class_label='cell_stage_fine',\n",
    "    num_evolve_samples=2,\n",
    "    squeeze_2d=False,\n",
    ")"
   ]
  },
  {
   "cell_type": "code",
   "execution_count": null,
   "metadata": {},
   "outputs": [],
   "source": []
  }
 ],
 "metadata": {
  "kernelspec": {
   "display_name": "cdl_ref",
   "language": "python",
   "name": "python3"
  },
  "language_info": {
   "codemirror_mode": {
    "name": "ipython",
    "version": 3
   },
   "file_extension": ".py",
   "mimetype": "text/x-python",
   "name": "python",
   "nbconvert_exporter": "python",
   "pygments_lexer": "ipython3",
   "version": "3.10.13"
  }
 },
 "nbformat": 4,
 "nbformat_minor": 2
}
