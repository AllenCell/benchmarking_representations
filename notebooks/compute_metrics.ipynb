{
 "cells": [
  {
   "cell_type": "code",
   "execution_count": null,
   "metadata": {},
   "outputs": [],
   "source": [
    "%load_ext autoreload\n",
    "%autoreload 2\n",
    "import os\n",
    "os.environ[\"CUDA_DEVICE_ORDER\"]=\"PCI_BUS_ID\"   # see issue #152\n",
    "os.environ[\"CUDA_VISIBLE_DEVICES\"]=\"MIG-c5d3210f-194b-58d7-b64c-80067ff44d0a\" \n",
    "from hydra.utils import instantiate\n",
    "import yaml\n",
    "import torch\n",
    "import numpy as np\n",
    "import torch\n",
    "from sklearn.manifold import TSNE\n",
    "import matplotlib.pyplot as plt\n",
    "from torch.utils.data import Dataset, DataLoader\n",
    "from PIL import Image\n",
    "device = \"cuda:0\""
   ]
  },
  {
   "cell_type": "code",
   "execution_count": null,
   "metadata": {},
   "outputs": [],
   "source": [
    "from src.data.get_datamodules import get_data\n",
    "from src.models.load_models import load_models\n",
    "from cyto_dl.models.utils.mlflow import load_model_from_checkpoint\n",
    "from src.models.save_embeddings import get_pc_loss\n",
    "\n",
    "def get_data_and_models(dataset_name, batch_size):\n",
    "    data = get_data(dataset_name, batch_size)\n",
    "    data_list = [data[0], data[1], data[-2], data[-2], data[-1]] # custom list based on models loaded\n",
    "    all_models, run_names = load_models(dataset_name) # default list of models in load_models.py\n",
    "    return data_list, all_models, run_names"
   ]
  },
  {
   "cell_type": "code",
   "execution_count": null,
   "metadata": {},
   "outputs": [],
   "source": [
    "dataset_name = 'pcna'\n",
    "batch_size = 1\n",
    "data_list, all_models, run_names = get_data_and_models(dataset_name, batch_size)"
   ]
  },
  {
   "cell_type": "code",
   "execution_count": null,
   "metadata": {},
   "outputs": [],
   "source": [
    "from src.models.save_embeddings import save_embeddings\n",
    "\n",
    "# compute embeddings, set debug to False \n",
    "debug = True\n",
    "# path = \"./embeddings_pcna_vit\"\n",
    "path = \"./test\"\n",
    "splits_list = ['test']\n",
    "outs = save_embeddings(path, data_list, all_models, run_names, debug, splits_list, device=device)"
   ]
  },
  {
   "cell_type": "code",
   "execution_count": null,
   "metadata": {},
   "outputs": [],
   "source": [
    "from src.models.save_embeddings import save_emissions\n",
    "\n",
    "# get emissions\n",
    "debug = True\n",
    "# path = \"./emissions_pcna_vit\"\n",
    "path = \"./test\"\n",
    "save_emissions(path, data_list, all_models, run_names, 20, debug, device)"
   ]
  },
  {
   "cell_type": "code",
   "execution_count": null,
   "metadata": {},
   "outputs": [],
   "source": [
    "# viz\n",
    "import pandas as pd\n",
    "emissions = pd.read_csv(path + '/emissions.csv')\n",
    "import seaborn as sns\n",
    "g = sns.catplot(data=emissions,x='model', y='emissions', kind='point')\n",
    "g.set_xticklabels(rotation=30)\n"
   ]
  },
  {
   "cell_type": "code",
   "execution_count": null,
   "metadata": {},
   "outputs": [],
   "source": [
    "# compute features on saved embeddings\n",
    "# embedding_save_location should be updared in DATASET_INFO in compute_features.py\n",
    "# DATASET_INFO also has\n",
    "# orig_df: original dataframe which often has somee useful metadata\n",
    "# image_path: manifest with paths for image models\n",
    "# pc_path: manifest with paths for pc models\n",
    "\n",
    "from src.models.compute_features import compute_features\n",
    "\n",
    "# evolve params\n",
    "keys = ['pcloud', 'pcloud', 'image', 'image', 'image']\n",
    "data_config_list = [\n",
    "        \"../data/configs/inference_pcna_data_configs/pointcloud_3.yaml\",\n",
    "        \"../data/configs/inference_pcna_data_configs/pointcloud_4.yaml\",\n",
    "        \"../data/configs/inference_pcna_data_configs/image_full.yaml\",\n",
    "        \"../data/configs/inference_pcna_data_configs/image_full.yaml\",\n",
    "        \"../data/configs/inference_pcna_data_configs/mae.yaml\",\n",
    "]\n",
    "evolve_params = {'modality_list_evolve': keys, 'config_list_evolve': data_config_list, 'num_evolve_samples': 2}\n",
    "\n",
    "# classification params\n",
    "classification_params = {'class_label': 'cell_stage_fine'}\n",
    "\n",
    "# rot inv params\n",
    "rot_inv_params = {'squeeze_2d': False, 'id': 'cell_id'}\n",
    "\n",
    "# stereotypy params\n",
    "#stereotypy_params = {'max_pcs': 2, 'max_bins': 9, 'get_baseline': True, 'return_correlation_matrix': False}\n",
    "\n",
    "# regression params\n",
    "# feature_df_path = \"/allen/aics/assay-dev/MicroscopyOtherData/Viana/projects/cvapipe_analysis/local_staging_variance/computefeatures/manifest.csv\"\n",
    "# target_cols = ['STR_connectivity_cc',\n",
    "#  'STR_shape_volume',\n",
    "#  'STR_position_depth',\n",
    "#  'STR_position_height',\n",
    "#  'STR_position_width',\n",
    "#  'STR_roundness_surface_area']\n",
    "# # regression_params = {'df_feat': df_feat, 'target_cols': target_cols, 'feature_df_path': feature_df_path}\n",
    "# regression_params = {'df_feat': None, 'target_cols': target_cols, 'feature_df_path': feature_df_path}\n",
    "\n",
    "\n",
    "# general params\n",
    "save_folder = './test/'\n",
    "max_embed_dim = 192\n",
    "splits_list = ['train', 'val', 'test']\n",
    "metric_list = [\n",
    "    \"Rotation Invariance Error\",\n",
    "    \"Evolution Energy\",\n",
    "    \"Reconstruction\",\n",
    "    \"Classification\",\n",
    "    \"Compactness\",\n",
    "]\n",
    "compute_embeds=False\n",
    "\n",
    "compute_features(\n",
    "    dataset=dataset_name,\n",
    "    save_folder=save_folder,\n",
    "    data_list=data_list,\n",
    "    all_models=all_models,\n",
    "    run_names=run_names,\n",
    "    keys=keys,\n",
    "    device=\"cuda:0\",\n",
    "    max_embed_dim=max_embed_dim,\n",
    "    splits_list=splits_list,\n",
    "    compute_embeds=compute_embeds,\n",
    "    classification_params=classification_params,\n",
    "    # regression_params=regression_params,\n",
    "    metric_list=metric_list,\n",
    "    evolve_params=evolve_params,\n",
    "    rot_inv_params=rot_inv_params,\n",
    "    # stereotypy_params=stereotypy_params\n",
    ")"
   ]
  },
  {
   "cell_type": "code",
   "execution_count": null,
   "metadata": {},
   "outputs": [],
   "source": []
  }
 ],
 "metadata": {
  "kernelspec": {
   "display_name": "Python 3 (ipykernel)",
   "language": "python",
   "name": "python3"
  },
  "language_info": {
   "codemirror_mode": {
    "name": "ipython",
    "version": 3
   },
   "file_extension": ".py",
   "mimetype": "text/x-python",
   "name": "python",
   "nbconvert_exporter": "python",
   "pygments_lexer": "ipython3",
   "version": "3.10.12"
  }
 },
 "nbformat": 4,
 "nbformat_minor": 4
}
