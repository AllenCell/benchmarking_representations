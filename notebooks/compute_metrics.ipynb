{
 "cells": [
  {
   "cell_type": "code",
   "execution_count": 1,
   "metadata": {},
   "outputs": [],
   "source": [
    "%load_ext autoreload\n",
    "%autoreload 2\n",
    "import os\n",
    "os.environ[\"CUDA_DEVICE_ORDER\"]=\"PCI_BUS_ID\"   # see issue #152\n",
    "os.environ[\"CUDA_VISIBLE_DEVICES\"]=\"MIG-f944a544-4758-56c2-81d7-94574c215198\" \n",
    "from hydra.utils import instantiate\n",
    "import yaml\n",
    "import torch\n",
    "import numpy as np\n",
    "import torch\n",
    "from sklearn.manifold import TSNE\n",
    "import matplotlib.pyplot as plt\n",
    "from torch.utils.data import Dataset, DataLoader\n",
    "from PIL import Image\n",
    "device = \"cuda:0\""
   ]
  },
  {
   "cell_type": "code",
   "execution_count": 2,
   "metadata": {},
   "outputs": [
    {
     "name": "stdout",
     "output_type": "stream",
     "text": [
      "Jitting Chamfer 3D\n",
      "Loaded JIT 3D CUDA chamfer distance\n",
      "Loaded JIT 3D CUDA emd\n",
      "[KeOps] Compiling cuda jit compiler engine ... \n",
      "[KeOps] Warning : There were warnings or errors compiling formula :\n",
      "/usr/bin/ld: cannot find -lnvrtc\n",
      "collect2: error: ld returned 1 exit status\n",
      "\n",
      "OK\n",
      "[pyKeOps] Compiling nvrtc binder for python ... \n",
      "[KeOps] Warning : There were warnings or errors compiling formula :\n",
      "/usr/bin/ld: cannot find -lnvrtc\n",
      "collect2: error: ld returned 1 exit status\n",
      "\n",
      "OK\n"
     ]
    }
   ],
   "source": [
    "from src.data.get_datamodules import get_pcna_data\n",
    "data = get_pcna_data()"
   ]
  },
  {
   "cell_type": "code",
   "execution_count": 3,
   "metadata": {},
   "outputs": [],
   "source": [
    "loss_eval_pc = instantiate(yaml.safe_load('''    \n",
    "_aux: earthmovers\n",
    "_target_: cyto_dl.nn.losses.GeomLoss\n",
    "p: 1\n",
    "blur: 0.01\n",
    "'''))"
   ]
  },
  {
   "cell_type": "code",
   "execution_count": 4,
   "metadata": {},
   "outputs": [],
   "source": [
    "data_list = [data[0], data[0], data[1], data[2], data[2], data[-1]]"
   ]
  },
  {
   "cell_type": "code",
   "execution_count": 5,
   "metadata": {},
   "outputs": [
    {
     "data": {
      "application/vnd.jupyter.widget-view+json": {
       "model_id": "6882629c9d7e45b6b15df99bc87aa43d",
       "version_major": 2,
       "version_minor": 0
      },
      "text/plain": [
       "Downloading artifacts:   0%|          | 0/1 [00:00<?, ?it/s]"
      ]
     },
     "metadata": {},
     "output_type": "display_data"
    },
    {
     "data": {
      "application/vnd.jupyter.widget-view+json": {
       "model_id": "63e850a4c7ba4830b351f24665040ba3",
       "version_major": 2,
       "version_minor": 0
      },
      "text/plain": [
       "Downloading artifacts:   0%|          | 0/1 [00:00<?, ?it/s]"
      ]
     },
     "metadata": {},
     "output_type": "display_data"
    },
    {
     "data": {
      "application/vnd.jupyter.widget-view+json": {
       "model_id": "42d801739259465c8629245d248914d3",
       "version_major": 2,
       "version_minor": 0
      },
      "text/plain": [
       "Downloading artifacts:   0%|          | 0/1 [00:00<?, ?it/s]"
      ]
     },
     "metadata": {},
     "output_type": "display_data"
    },
    {
     "data": {
      "application/vnd.jupyter.widget-view+json": {
       "model_id": "37ac07220fe245dabed67bf365ab25e2",
       "version_major": 2,
       "version_minor": 0
      },
      "text/plain": [
       "Downloading artifacts:   0%|          | 0/1 [00:00<?, ?it/s]"
      ]
     },
     "metadata": {},
     "output_type": "display_data"
    },
    {
     "data": {
      "application/vnd.jupyter.widget-view+json": {
       "model_id": "82f8b943285545ec82e43d2c19def0a1",
       "version_major": 2,
       "version_minor": 0
      },
      "text/plain": [
       "Downloading artifacts:   0%|          | 0/1 [00:00<?, ?it/s]"
      ]
     },
     "metadata": {},
     "output_type": "display_data"
    },
    {
     "data": {
      "application/vnd.jupyter.widget-view+json": {
       "model_id": "29a5738315684228b46b28091f2821b2",
       "version_major": 2,
       "version_minor": 0
      },
      "text/plain": [
       "Downloading artifacts:   0%|          | 0/1 [00:00<?, ?it/s]"
      ]
     },
     "metadata": {},
     "output_type": "display_data"
    },
    {
     "data": {
      "application/vnd.jupyter.widget-view+json": {
       "model_id": "0778550b9ca34ec6842a937d1508e08d",
       "version_major": 2,
       "version_minor": 0
      },
      "text/plain": [
       "Downloading artifacts:   0%|          | 0/1 [00:00<?, ?it/s]"
      ]
     },
     "metadata": {},
     "output_type": "display_data"
    },
    {
     "data": {
      "application/vnd.jupyter.widget-view+json": {
       "model_id": "25c0db948bbc49a28357aad81a7db55a",
       "version_major": 2,
       "version_minor": 0
      },
      "text/plain": [
       "Downloading artifacts:   0%|          | 0/1 [00:00<?, ?it/s]"
      ]
     },
     "metadata": {},
     "output_type": "display_data"
    },
    {
     "data": {
      "application/vnd.jupyter.widget-view+json": {
       "model_id": "c586934ecc054754bbea487fc3159a07",
       "version_major": 2,
       "version_minor": 0
      },
      "text/plain": [
       "Downloading artifacts:   0%|          | 0/1 [00:00<?, ?it/s]"
      ]
     },
     "metadata": {},
     "output_type": "display_data"
    },
    {
     "data": {
      "application/vnd.jupyter.widget-view+json": {
       "model_id": "9baf0f5935be4a2e9827327d86fd6bc3",
       "version_major": 2,
       "version_minor": 0
      },
      "text/plain": [
       "Downloading artifacts:   0%|          | 0/1 [00:00<?, ?it/s]"
      ]
     },
     "metadata": {},
     "output_type": "display_data"
    },
    {
     "data": {
      "application/vnd.jupyter.widget-view+json": {
       "model_id": "07caa020069540c6bc06dadf8dbf18d2",
       "version_major": 2,
       "version_minor": 0
      },
      "text/plain": [
       "Downloading artifacts:   0%|          | 0/1 [00:00<?, ?it/s]"
      ]
     },
     "metadata": {},
     "output_type": "display_data"
    },
    {
     "data": {
      "application/vnd.jupyter.widget-view+json": {
       "model_id": "50a5d85e40b141179fa5b0ebb15ae3c8",
       "version_major": 2,
       "version_minor": 0
      },
      "text/plain": [
       "Downloading artifacts:   0%|          | 0/1 [00:00<?, ?it/s]"
      ]
     },
     "metadata": {},
     "output_type": "display_data"
    }
   ],
   "source": [
    "from cyto_dl.models.utils.mlflow import load_model_from_checkpoint\n",
    "\n",
    "run_ids = ['6bb8003c781e4661914a768763a352a3', 'f320f9b5bf6b4f0690fc5a173a81d7c8',\n",
    "           '68157cde6680432292c3f5b959394bec',\n",
    "           'b9f2bd234b0145a6920dec8f5ab62ba1', 'bcbc1ce667874430b6eb7d47c2abc1b3', 'dd001b5fa70a4e2c8f4738d3727add85']\n",
    "run_names = ['2048_dgcnn','2048_ed_m2ae', '2048_int_ed_vndgcnn',\n",
    "             'classical_resize_image', 'so2_resize_image', 'vit']\n",
    "all_models = []\n",
    "for i in run_ids:\n",
    "    all_models.append(load_model_from_checkpoint(\"https://mlflow.a100.int.allencell.org\", i\n",
    "                                  , path = \"checkpoints/val/loss/best.ckpt\", strict=False))"
   ]
  },
  {
   "cell_type": "code",
   "execution_count": 6,
   "metadata": {},
   "outputs": [
    {
     "name": "stderr",
     "output_type": "stream",
     "text": [
      "100%|██████████| 137/137 [00:48<00:00,  2.81it/s]\n",
      "100%|██████████| 8/8 [00:04<00:00,  1.92it/s]\n",
      "100%|██████████| 8/8 [00:08<00:00,  1.07s/it]\n",
      "100%|██████████| 137/137 [01:37<00:00,  1.40it/s]\n",
      "100%|██████████| 8/8 [00:06<00:00,  1.16it/s]\n",
      "100%|██████████| 8/8 [00:10<00:00,  1.34s/it]\n",
      "100%|██████████| 137/137 [01:46<00:00,  1.29it/s]\n",
      "100%|██████████| 8/8 [00:08<00:00,  1.03s/it]\n",
      "100%|██████████| 8/8 [00:12<00:00,  1.55s/it]\n",
      "100%|██████████| 137/137 [01:21<00:00,  1.69it/s]\n",
      "100%|██████████| 8/8 [00:06<00:00,  1.21it/s]\n",
      "100%|██████████| 8/8 [00:59<00:00,  7.39s/it]\n",
      "100%|██████████| 137/137 [01:34<00:00,  1.46it/s]\n",
      "100%|██████████| 8/8 [00:07<00:00,  1.07it/s]\n",
      "100%|██████████| 8/8 [00:16<00:00,  2.11s/it]\n",
      "100%|██████████| 137/137 [15:53<00:00,  6.96s/it]\n",
      "100%|██████████| 8/8 [01:22<00:00, 10.30s/it]\n",
      "100%|██████████| 8/8 [00:25<00:00,  3.23s/it]\n"
     ]
    }
   ],
   "source": [
    "from tqdm import tqdm\n",
    "import pandas as pd\n",
    "from src.models.predict_model import process_batch\n",
    "#Supress default INFO logging\n",
    "\n",
    "import logging\n",
    "logger = logging.getLogger()\n",
    "logger.setLevel(logging.CRITICAL)\n",
    "\n",
    "all_splits = []\n",
    "all_cell_cycle = []\n",
    "all_rotate = []\n",
    "id = 'cell_id'\n",
    "all_model_outputs = []\n",
    "all_model_embeds = []\n",
    "all_model_loss = []\n",
    "all_model_ids = []\n",
    "all_model_inputs = []\n",
    "all_model_emissions = []\n",
    "all_model_time = []\n",
    "all_model_splits = []\n",
    "\n",
    "# all_models_test = all_models[-1:]\n",
    "# data_list_test = data_list[-1:]\n",
    "# loss_list_test = loss_list[1:]\n",
    "all_models_test = all_models\n",
    "data_list_test = data_list\n",
    "all_model_x_vis_list = []\n",
    "\n",
    "\n",
    "for j_ind, model in enumerate(all_models_test):\n",
    "    model = model.eval()\n",
    "    all_data_inputs = []\n",
    "    all_data_ids = []\n",
    "    all_outputs = []\n",
    "    all_embeds = []\n",
    "    all_loss = []\n",
    "    all_time = []\n",
    "    all_emissions = []\n",
    "    all_x_vis_list = []\n",
    "    all_splits = []\n",
    "    this_data = data_list_test[j_ind]\n",
    "    # this_data = data_list[4]\n",
    "    # this_loss = loss_list[4]\n",
    "    with torch.no_grad():\n",
    "        for i in tqdm(this_data.train_dataloader()):\n",
    "            all_data_inputs, all_outputs, all_embeds, all_data_ids, all_splits, all_loss, all_emissions, all_x_vis_list = process_batch(\n",
    "                model, loss_eval_pc, device, i, all_data_inputs, all_splits, all_data_ids, all_outputs, all_embeds, all_emissions, all_x_vis_list, all_loss, 'train', False\n",
    "            )\n",
    "\n",
    "        for i in tqdm(this_data.val_dataloader()):\n",
    "            all_data_inputs, all_outputs, all_embeds, all_data_ids, all_splits, all_loss, all_emissions, all_x_vis_list= process_batch(\n",
    "                model, loss_eval_pc, device, i, all_data_inputs, all_splits, all_data_ids, all_outputs, all_embeds, all_emissions, all_x_vis_list, all_loss, 'val', False,\n",
    "            )\n",
    "        count = 0\n",
    "        for i in tqdm(this_data.test_dataloader()):\n",
    "            if count < 1:\n",
    "                track_emissions = True\n",
    "            else:\n",
    "                track_emissions = False\n",
    "            count += 1\n",
    "            all_data_inputs, all_outputs, all_embeds, all_data_ids, all_splits, all_loss, all_emissions, all_x_vis_list = process_batch(\n",
    "                model, loss_eval_pc, device, i, all_data_inputs, all_splits, all_data_ids, all_outputs, all_embeds, all_emissions, all_x_vis_list, all_loss, 'test', track_emissions,\n",
    "            )\n",
    "        all_splits = [x for xs in all_splits for x in xs]\n",
    "        all_data_ids = [x for xs in all_data_ids for x in xs]\n",
    "        all_loss = [x for xs in all_loss for x in xs]\n",
    "        all_data_inputs = [j.detach().cpu().numpy() for j in all_data_inputs]\n",
    "        all_data_inputs = np.concatenate(all_data_inputs, axis=0)\n",
    "        all_outputs = np.concatenate(all_outputs, axis=0)\n",
    "        all_model_embeds.append(all_embeds)\n",
    "        all_model_outputs.append(all_outputs)\n",
    "        all_model_loss.append(all_loss)\n",
    "        all_model_ids.append(all_data_ids)\n",
    "        all_model_inputs.append(all_data_inputs)\n",
    "        all_model_splits.append(all_splits)\n",
    "        all_model_emissions.append(pd.concat(all_emissions, axis=0))\n",
    "        all_model_x_vis_list.append(all_x_vis_list)\n",
    "\n",
    "all_embeds2 = []\n",
    "for embeds in all_model_embeds:\n",
    "    # print(embeds.shape)\n",
    "    embeds = np.concatenate(embeds, axis=0)\n",
    "    all_embeds2.append(embeds)"
   ]
  },
  {
   "cell_type": "code",
   "execution_count": 10,
   "metadata": {},
   "outputs": [],
   "source": [
    "from pathlib import Path\n",
    "Path(\"./benchmarking_outputs/\").mkdir(parents=True, exist_ok=True)"
   ]
  },
  {
   "cell_type": "code",
   "execution_count": 11,
   "metadata": {},
   "outputs": [
    {
     "data": {
      "image/png": "[encoded data removed]",
      "text/plain": [
       "<Figure size 500x500 with 1 Axes>"
      ]
     },
     "metadata": {},
     "output_type": "display_data"
    }
   ],
   "source": [
    "all_i = []\n",
    "for j_ind2, i in enumerate(all_model_emissions):\n",
    "    i['model'] = run_names[j_ind2]\n",
    "    all_i.append(i)\n",
    "emissions_df = pd.concat(all_i, axis=0).reset_index(drop=True)\n",
    "import seaborn as sns\n",
    "g = sns.catplot(data=emissions_df,x='model', y='inference_time', kind='point')\n",
    "g.set_xticklabels(rotation=30)\n",
    "\n",
    "emissions_df.to_csv('./benchmarking_outputs/pcna_emissions.csv')"
   ]
  },
  {
   "cell_type": "code",
   "execution_count": 17,
   "metadata": {},
   "outputs": [],
   "source": [
    "import pandas as pd\n",
    "all_ret = []\n",
    "for j in range(len(all_models)):\n",
    "    this_name = run_names[j]\n",
    "        \n",
    "    ret_dict = pd.DataFrame()\n",
    "    this_embeds = np.squeeze(all_embeds2[j])\n",
    "    if len(this_embeds.shape) > 2:\n",
    "        this_embeds = np.squeeze(all_embeds2[-1])\n",
    "        this_embeds2 = this_embeds[:,0,:]\n",
    "        this_embeds = this_embeds[:,1:,:].mean(axis=1)\n",
    "        ret_dict[[f\"classtoken_{i}\" for i in range(this_embeds.shape[1])]] = this_embeds2\n",
    "\n",
    "    ret_dict[[f\"mu_{i}\" for i in range(this_embeds.shape[1])]] = this_embeds\n",
    "    ret_dict['CellId'] = all_model_ids[j]\n",
    "    ret_dict['loss'] = all_model_loss[j]\n",
    "    ret_dict['model'] = run_names[j]\n",
    "    ret_dict['split'] = all_model_splits[j]\n",
    "    all_ret.append(ret_dict)\n",
    "all_ret = pd.concat(all_ret, axis=0).reset_index(drop=True)"
   ]
  },
  {
   "cell_type": "code",
   "execution_count": 18,
   "metadata": {},
   "outputs": [],
   "source": [
    "rec_df = all_ret.groupby(\n",
    "    ['model', 'split']\n",
    ").mean()"
   ]
  },
  {
   "cell_type": "code",
   "execution_count": 19,
   "metadata": {},
   "outputs": [],
   "source": [
    "rec_df.to_csv('./benchmarking_outputs/pcna_recon.csv')"
   ]
  },
  {
   "cell_type": "code",
   "execution_count": 20,
   "metadata": {},
   "outputs": [],
   "source": [
    "df = pd.read_csv('/allen/aics/assay-dev/computational/data/4DN_handoff_Apr2022_testing/PCNA_manifest_for_suraj_with_brightfield.csv')\n",
    "all_ret = all_ret.merge(df, on='CellId')"
   ]
  },
  {
   "cell_type": "code",
   "execution_count": 22,
   "metadata": {},
   "outputs": [
    {
     "name": "stderr",
     "output_type": "stream",
     "text": [
      "  0%|          | 0/6 [00:00<?, ?it/s]"
     ]
    },
    {
     "name": "stdout",
     "output_type": "stream",
     "text": [
      "(2420, 256)\n"
     ]
    },
    {
     "name": "stderr",
     "output_type": "stream",
     "text": [
      " 17%|█▋        | 1/6 [00:00<00:02,  1.75it/s]"
     ]
    },
    {
     "name": "stdout",
     "output_type": "stream",
     "text": [
      "(2420, 192)\n"
     ]
    },
    {
     "name": "stderr",
     "output_type": "stream",
     "text": [
      " 33%|███▎      | 2/6 [00:00<00:01,  2.08it/s]"
     ]
    },
    {
     "name": "stdout",
     "output_type": "stream",
     "text": [
      "(2420, 256)\n"
     ]
    },
    {
     "name": "stderr",
     "output_type": "stream",
     "text": [
      " 50%|█████     | 3/6 [00:01<00:01,  2.02it/s]"
     ]
    },
    {
     "name": "stdout",
     "output_type": "stream",
     "text": [
      "(2420, 256)\n"
     ]
    },
    {
     "name": "stderr",
     "output_type": "stream",
     "text": [
      " 67%|██████▋   | 4/6 [00:02<00:01,  1.98it/s]"
     ]
    },
    {
     "name": "stdout",
     "output_type": "stream",
     "text": [
      "(2420, 256)\n"
     ]
    },
    {
     "name": "stderr",
     "output_type": "stream",
     "text": [
      " 83%|████████▎ | 5/6 [00:02<00:00,  1.97it/s]"
     ]
    },
    {
     "name": "stdout",
     "output_type": "stream",
     "text": [
      "(2420, 256)\n"
     ]
    },
    {
     "name": "stderr",
     "output_type": "stream",
     "text": [
      "100%|██████████| 6/6 [00:03<00:00,  1.98it/s]\n"
     ]
    }
   ],
   "source": [
    "from src.features.outlier_compactness import get_embedding_metrics\n",
    "ret_dict_compactness = get_embedding_metrics(all_ret)"
   ]
  },
  {
   "cell_type": "code",
   "execution_count": 23,
   "metadata": {},
   "outputs": [
    {
     "name": "stderr",
     "output_type": "stream",
     "text": [
      "100%|██████████| 6/6 [02:14<00:00, 22.35s/it]\n"
     ]
    }
   ],
   "source": [
    "from src.features.classification import get_classification_df\n",
    "ret_dict_classification = get_classification_df(all_ret)"
   ]
  },
  {
   "cell_type": "code",
   "execution_count": 24,
   "metadata": {},
   "outputs": [],
   "source": [
    "ret_dict_classification.to_csv('./benchmarking_outputs/pcna_classification.csv')"
   ]
  },
  {
   "cell_type": "code",
   "execution_count": 25,
   "metadata": {},
   "outputs": [
    {
     "data": {
      "text/plain": [
       "6"
      ]
     },
     "execution_count": 25,
     "metadata": {},
     "output_type": "execute_result"
    }
   ],
   "source": [
    "len(data_list)"
   ]
  },
  {
   "cell_type": "code",
   "execution_count": 31,
   "metadata": {},
   "outputs": [
    {
     "name": "stderr",
     "output_type": "stream",
     "text": [
      " 25%|██▌       | 2/8 [01:21<04:00, 40.05s/it]"
     ]
    }
   ],
   "source": [
    "from src.features.rotation_invariance import get_equiv_dict\n",
    "keys = [\"pcloud\", \"pcloud\", \"pcloud\", \"image\", \"image\", \"image\", \"image\"]\n",
    "eq_dict = get_equiv_dict(all_models, data_list, device, loss_eval_pc, keys)"
   ]
  },
  {
   "cell_type": "code",
   "execution_count": null,
   "metadata": {},
   "outputs": [],
   "source": [
    "ret_dict_equiv.to_csv('./benchmarking_outputs/pcna_equiv.csv')"
   ]
  },
  {
   "cell_type": "code",
   "execution_count": null,
   "metadata": {},
   "outputs": [],
   "source": [
    "from src.features.evolve import get_evolution_dict\n",
    "keys = [\"pcloud\", \"pcloud\", \"pcloud\", \"image\", \"image\", \"image\"]\n",
    "evolution_dict = get_evolution_dict(\n",
    "    all_models,\n",
    "    all_model_inputs,\n",
    "    loss_eval_pc,\n",
    "    all_embeds2,\n",
    "    all_model_ids,\n",
    "    run_names,\n",
    "    device,\n",
    "    df, \n",
    "    keys)"
   ]
  }
 ],
 "metadata": {
  "kernelspec": {
   "display_name": "cdl_ref",
   "language": "python",
   "name": "python3"
  },
  "language_info": {
   "codemirror_mode": {
    "name": "ipython",
    "version": 3
   },
   "file_extension": ".py",
   "mimetype": "text/x-python",
   "name": "python",
   "nbconvert_exporter": "python",
   "pygments_lexer": "ipython3",
   "version": "3.10.13"
  }
 },
 "nbformat": 4,
 "nbformat_minor": 2
}
