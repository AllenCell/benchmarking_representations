{
 "cells": [
  {
   "cell_type": "code",
   "execution_count": null,
   "metadata": {},
   "outputs": [],
   "source": [
    "%load_ext autoreload\n",
    "%autoreload 2\n",
    "import os\n",
    "os.environ[\"CUDA_DEVICE_ORDER\"]=\"PCI_BUS_ID\"   # see issue #152\n",
    "os.environ[\"CUDA_VISIBLE_DEVICES\"]=\"MIG-195f63f2-e855-5f08-80cd-5689c4e14928\" \n",
    "from hydra.utils import instantiate\n",
    "import yaml\n",
    "import torch\n",
    "import numpy as np\n",
    "import torch\n",
    "from sklearn.manifold import TSNE\n",
    "import matplotlib.pyplot as plt\n",
    "from torch.utils.data import Dataset, DataLoader\n",
    "from PIL import Image\n",
    "device = \"cuda:0\""
   ]
  },
  {
   "cell_type": "code",
   "execution_count": null,
   "metadata": {},
   "outputs": [],
   "source": [
    "from src.data.get_datamodules import get_data\n",
    "from cyto_dl.models.utils.mlflow import load_model_from_checkpoint\n",
    "from src.models.save_embeddings import get_pc_loss\n",
    "\n",
    "def get_data_and_models(dataset_name, batch_size):\n",
    "    data = get_data(dataset_name, batch_size)\n",
    "    # data_list = [data[0], data[0], data[1], data[-2], data[-2]]\n",
    "    data_list = [data[-1]]\n",
    "\n",
    "    # run_ids = [\n",
    "    #     \"6bb8003c781e4661914a768763a352a3\",\n",
    "    #     \"68157cde6680432292c3f5b959394bec\",\n",
    "    #     \"e41f0bbf26944ba9b9e4541e87bf42f0\",\n",
    "    #     \"358cef46219c435ab1b16d2a06dd4436\",\n",
    "    # ]\n",
    "    run_ids = [\n",
    "        \"f6fbe34d298c41af8b07b7ddd30aaea8\",\n",
    "    ]\n",
    "    run_names = [\"vit\"]\n",
    "    all_models = []\n",
    "    for i in run_ids:\n",
    "        all_models.append(\n",
    "            load_model_from_checkpoint(\n",
    "                \"https://mlflow.a100.int.allencell.org\",\n",
    "                i,\n",
    "                path=\"checkpoints/val/loss/best.ckpt\",\n",
    "                strict=False,\n",
    "            )\n",
    "        )\n",
    "    return data_list, all_models, run_names"
   ]
  },
  {
   "cell_type": "code",
   "execution_count": null,
   "metadata": {},
   "outputs": [],
   "source": [
    "dataset_name = 'pcna'\n",
    "batch_size = 1\n",
    "data_list, all_models, run_names = get_data_and_models(dataset_name, batch_size)"
   ]
  },
  {
   "cell_type": "code",
   "execution_count": null,
   "metadata": {},
   "outputs": [],
   "source": [
    "run_names"
   ]
  },
  {
   "cell_type": "code",
   "execution_count": null,
   "metadata": {},
   "outputs": [],
   "source": [
    "all_models.reverse()\n",
    "data_list.reverse()\n",
    "run_names.reverse()"
   ]
  },
  {
   "cell_type": "code",
   "execution_count": null,
   "metadata": {},
   "outputs": [],
   "source": [
    "run_names"
   ]
  },
  {
   "cell_type": "code",
   "execution_count": null,
   "metadata": {},
   "outputs": [],
   "source": [
    "from src.models.save_embeddings import save_embeddings\n",
    "\n",
    "debug = False\n",
    "path = \"./embeddings_pcna_vit\"\n",
    "outs = save_embeddings(path, data_list, all_models, run_names, debug, device=device)"
   ]
  },
  {
   "cell_type": "code",
   "execution_count": null,
   "metadata": {},
   "outputs": [],
   "source": [
    "from src.models.save_embeddings import save_emissions\n",
    "\n",
    "debug = False\n",
    "path = \"./emissions_pcna_vit\"\n",
    "save_emissions(path, data_list, all_models, run_names, 20, debug, device)"
   ]
  },
  {
   "cell_type": "code",
   "execution_count": null,
   "metadata": {},
   "outputs": [],
   "source": [
    "import pandas as pd\n",
    "emissions = pd.read_csv(path + '/emissions.csv')\n",
    "import seaborn as sns\n",
    "g = sns.catplot(data=emissions,x='model', y='emissions', kind='point')\n",
    "g.set_xticklabels(rotation=30)\n"
   ]
  },
  {
   "cell_type": "code",
   "execution_count": null,
   "metadata": {},
   "outputs": [],
   "source": [
    "from src.models.compute_features import compute_features\n",
    "\n",
    "save_folder = './features_pcna_vit/'\n",
    "# keys = ['image', 'image', 'pcloud', 'pcloud']\n",
    "keys = ['image']\n",
    "image_config_list = [\n",
    "        f\"../data/configs/inference_pcna_data_configs/mae.yaml\",\n",
    "    ]\n",
    "\n",
    "modality_list = ['image']\n",
    "splits_list = ['train', 'val', 'test']\n",
    "# split_list_evolve = ['test']\n",
    "compute_features(\n",
    "    dataset='pcna_vit',\n",
    "    save_folder=save_folder,\n",
    "    data_list=data_list,\n",
    "    all_models=all_models,\n",
    "    run_names=run_names,\n",
    "    keys=keys,\n",
    "    device=\"cuda:0\",\n",
    "    max_embed_dim=256,\n",
    "    class_label='cell_stage_fine',\n",
    "    num_evolve_samples=40,\n",
    "    compute_embeds=True,\n",
    "    splits_list=splits_list,\n",
    "    config_list_evolve=image_config_list,\n",
    "    modality_list_evolve=modality_list,)"
   ]
  },
  {
   "cell_type": "code",
   "execution_count": null,
   "metadata": {},
   "outputs": [],
   "source": []
  }
 ],
 "metadata": {
  "kernelspec": {
   "display_name": "cdl_ref",
   "language": "python",
   "name": "python3"
  },
  "language_info": {
   "codemirror_mode": {
    "name": "ipython",
    "version": 3
   },
   "file_extension": ".py",
   "mimetype": "text/x-python",
   "name": "python",
   "nbconvert_exporter": "python",
   "pygments_lexer": "ipython3",
   "version": "3.10.13"
  }
 },
 "nbformat": 4,
 "nbformat_minor": 2
}
