{
 "cells": [
  {
   "cell_type": "code",
   "execution_count": 196,
   "id": "e4c82855-27a4-4942-a437-f09a5b666db4",
   "metadata": {},
   "outputs": [
    {
     "name": "stdout",
     "output_type": "stream",
     "text": [
      "The autoreload extension is already loaded. To reload it, use:\n",
      "  %reload_ext autoreload\n"
     ]
    }
   ],
   "source": [
    "%load_ext autoreload\n",
    "%autoreload 2\n",
    "import numpy as np\n",
    "from skimage.io import imread\n",
    "import torch\n",
    "import matplotlib.pyplot as plt\n",
    "import pandas as pd\n",
    "from br.features.utils import normalize_intensities_and_get_colormap_apply\n",
    "from skimage import measure\n",
    "from pathlib import Path\n",
    "from pyntcloud import PyntCloud\n",
    "import os\n",
    "from br.data.preprocessing.pc_preprocessing.pcna import compute_labels"
   ]
  },
  {
   "cell_type": "code",
   "execution_count": 187,
   "id": "9cf4ecc9-18c1-4315-bb50-90a338c4b2b7",
   "metadata": {},
   "outputs": [],
   "source": [
    "# utility plot functions\n",
    "def plot_image(ax_array, struct, nuc, mem, vmin, vmax, num_slices=None):\n",
    "    mid_z = int(struct.shape[0]/2)\n",
    "    \n",
    "    if num_slices is None:\n",
    "        num_slices = mid_z*2\n",
    "    z_interp = np.linspace(mid_z-num_slices/2, mid_z+num_slices/2, num_slices+1).astype(int)\n",
    "    if z_interp.max() == struct.shape[0]:\n",
    "        z_interp = z_interp[:-1]\n",
    "\n",
    "    mem = mem[z_interp].max(0)\n",
    "    nuc = nuc[z_interp].max(0)\n",
    "    mem_contours = measure.find_contours(mem, 0.5)\n",
    "    nuc_contours = measure.find_contours(nuc, 0.5)\n",
    "\n",
    "    for ind, _ in enumerate(ax_array):\n",
    "        this_struct = struct\n",
    "        if ind > 0:\n",
    "            this_struct = np.zeros(struct.shape)\n",
    "        ax_array[ind].imshow(this_struct[z_interp].max(0), cmap='gray_r', vmin=vmin, vmax=vmax)\n",
    "        for contour in nuc_contours:\n",
    "            ax_array[ind].plot(contour[:, 1], contour[:, 0], linewidth=2, c='cyan')\n",
    "        for contour in mem_contours:\n",
    "            ax_array[ind].plot(contour[:, 1], contour[:, 0], linewidth=2, c='magenta')\n",
    "        ax_array[ind].axis(\"off\")\n",
    "    return ax_array, z_interp\n",
    "\n",
    "\n",
    "def plot_pointcloud(this_ax_array, points_all, z_interp, cmap, save_path=None, name=None, center=None, save=False):\n",
    "    this_p = points_all.loc[points_all['z'] < max(z_interp)]\n",
    "    this_p = this_p.loc[this_p['z'] > min(z_interp)]\n",
    "    print(this_p.shape)\n",
    "    intensity = this_p.inorm.values\n",
    "    this_ax_array.scatter(this_p['x'].values, this_p['y'].values, c=cmap(intensity), s=0.3, alpha=0.5)\n",
    "    this_ax_array.axis(\"off\")\n",
    "    if save:\n",
    "        z_center, y_center, x_center = center[0], center[1], center[2]\n",
    "\n",
    "        # Center and scale for viz\n",
    "        this_p[\"z\"] = this_p[\"z\"] - z_center\n",
    "        this_p[\"y\"] = this_p[\"y\"] - y_center\n",
    "        this_p[\"x\"] = this_p[\"x\"] - x_center\n",
    "\n",
    "        this_p['z'] = 0.1 * this_p['z']\n",
    "        this_p['x'] = 0.1 * this_p['x']\n",
    "        this_p['y'] = 0.1 * this_p['y']\n",
    "        Path(save_path).mkdir(parents=True, exist_ok=True)\n",
    "        colors = cmap(this_p['inorm'].values)[:,:3]\n",
    "        np_arr = this_p[['x', 'y', 'z']].values\n",
    "        np_arr2 = colors\n",
    "        np_arr = np.concatenate([np_arr, np_arr2], axis=1)\n",
    "        np.save(Path(save_path) / Path(f'{name}.npy'), np_arr) \n"
   ]
  },
  {
   "cell_type": "code",
   "execution_count": 146,
   "id": "fb693743-c6f0-43f0-b18e-fda4e0892a4b",
   "metadata": {},
   "outputs": [],
   "source": [
    "# Set paths\n",
    "os.chdir(\"/allen/aics/modeling/ritvik/projects/benchmarking_representations/\")\n",
    "save_path = './viz_pcna_pointclouds/'"
   ]
  },
  {
   "cell_type": "code",
   "execution_count": 3,
   "id": "f25f30ad-6f79-4ad0-8970-c9c83cff339b",
   "metadata": {},
   "outputs": [],
   "source": [
    "orig_image_df = pd.read_parquet('/allen/aics/modeling/ritvik/pcna/manifest.parquet')\n",
    "df_all = pd.read_csv(\"/allen/aics/assay-dev/computational/data/4DN_handoff_Apr2022_testing/PCNA_manifest_for_suraj_with_brightfield.csv\")\n",
    "orig_image_df = orig_image_df.merge(df_all[['CellId', 'crop_raw', 'crop_seg']], on='CellId')"
   ]
  },
  {
   "cell_type": "code",
   "execution_count": 183,
   "id": "7a64912b-8d65-4e6d-9037-13bd46652a3a",
   "metadata": {},
   "outputs": [],
   "source": [
    "# Sample CellId\n",
    "strat = 'cell_stage_fine'\n",
    "strat_val = 'midS'\n",
    "this_image = orig_image_df.loc[orig_image_df[strat] == strat_val].sample(n=1)\n",
    "cell_id = this_image['CellId'].iloc[0]"
   ]
  },
  {
   "cell_type": "code",
   "execution_count": 224,
   "id": "b147ef5f-a6d8-47c3-9f59-d2c8e96fb695",
   "metadata": {},
   "outputs": [],
   "source": [
    "# Sample dense point cloud and get images\n",
    "points_all, struct, img, center = compute_labels(this_image.iloc[0], False)\n",
    "img_raw = img[2]\n",
    "img_nuc = img[6]\n",
    "img_mem = img[7]\n",
    "img_raw = np.where(img_raw < 60000, img_raw, img_raw.min())\n",
    "\n",
    "# from saved PC\n",
    "# points_all = PyntCloud.from_file(this_image['pcloud_path_updated_morepoints'].iloc[0]).points\n",
    "# z_center, y_center, x_center = center[0], center[1], center[2]\n",
    "# # Center and scale for viz\n",
    "# points_all[\"z\"] = points_all[\"z\"] + z_center\n",
    "# points_all[\"y\"] = points_all[\"y\"] + y_center\n",
    "# points_all[\"x\"] = points_all[\"x\"] + x_center\n"
   ]
  },
  {
   "cell_type": "code",
   "execution_count": 226,
   "id": "2cbe7541-b31c-4353-a784-8f3e7619cb78",
   "metadata": {},
   "outputs": [],
   "source": [
    "# Sample sparse point cloud and get images\n",
    "\n",
    "probs2 = points_all[\"s\"].values\n",
    "probs2 = np.where(probs2 < 0, 0, probs2)\n",
    "probs2 = probs2 / probs2.sum()\n",
    "idxs2 = np.random.choice(\n",
    "    np.arange(len(probs2)), size=2048, replace=True, p=probs2\n",
    ")\n",
    "points = points_all.iloc[idxs2].reset_index(drop=True)"
   ]
  },
  {
   "cell_type": "code",
   "execution_count": 227,
   "id": "4ecb554c-089c-4bf8-81df-5d5115e8bdf0",
   "metadata": {},
   "outputs": [
    {
     "data": {
      "text/html": [
       "<div>\n",
       "<style scoped>\n",
       "    .dataframe tbody tr th:only-of-type {\n",
       "        vertical-align: middle;\n",
       "    }\n",
       "\n",
       "    .dataframe tbody tr th {\n",
       "        vertical-align: top;\n",
       "    }\n",
       "\n",
       "    .dataframe thead th {\n",
       "        text-align: right;\n",
       "    }\n",
       "</style>\n",
       "<table border=\"1\" class=\"dataframe\">\n",
       "  <thead>\n",
       "    <tr style=\"text-align: right;\">\n",
       "      <th></th>\n",
       "      <th>z</th>\n",
       "      <th>y</th>\n",
       "      <th>x</th>\n",
       "      <th>s</th>\n",
       "    </tr>\n",
       "  </thead>\n",
       "  <tbody>\n",
       "    <tr>\n",
       "      <th>0</th>\n",
       "      <td>35.000128</td>\n",
       "      <td>154.999986</td>\n",
       "      <td>115.000072</td>\n",
       "      <td>1201</td>\n",
       "    </tr>\n",
       "    <tr>\n",
       "      <th>1</th>\n",
       "      <td>50.000308</td>\n",
       "      <td>119.000383</td>\n",
       "      <td>182.999816</td>\n",
       "      <td>1164</td>\n",
       "    </tr>\n",
       "    <tr>\n",
       "      <th>2</th>\n",
       "      <td>51.000293</td>\n",
       "      <td>118.999646</td>\n",
       "      <td>183.000379</td>\n",
       "      <td>1209</td>\n",
       "    </tr>\n",
       "    <tr>\n",
       "      <th>3</th>\n",
       "      <td>52.999609</td>\n",
       "      <td>118.999713</td>\n",
       "      <td>182.999630</td>\n",
       "      <td>1135</td>\n",
       "    </tr>\n",
       "    <tr>\n",
       "      <th>4</th>\n",
       "      <td>51.999926</td>\n",
       "      <td>119.000266</td>\n",
       "      <td>182.999591</td>\n",
       "      <td>1183</td>\n",
       "    </tr>\n",
       "    <tr>\n",
       "      <th>...</th>\n",
       "      <td>...</td>\n",
       "      <td>...</td>\n",
       "      <td>...</td>\n",
       "      <td>...</td>\n",
       "    </tr>\n",
       "    <tr>\n",
       "      <th>20475</th>\n",
       "      <td>34.000402</td>\n",
       "      <td>127.999693</td>\n",
       "      <td>156.999943</td>\n",
       "      <td>603</td>\n",
       "    </tr>\n",
       "    <tr>\n",
       "      <th>20476</th>\n",
       "      <td>33.000070</td>\n",
       "      <td>180.000294</td>\n",
       "      <td>106.999907</td>\n",
       "      <td>640</td>\n",
       "    </tr>\n",
       "    <tr>\n",
       "      <th>20477</th>\n",
       "      <td>52.000452</td>\n",
       "      <td>173.999879</td>\n",
       "      <td>171.999956</td>\n",
       "      <td>589</td>\n",
       "    </tr>\n",
       "    <tr>\n",
       "      <th>20478</th>\n",
       "      <td>40.999974</td>\n",
       "      <td>173.999961</td>\n",
       "      <td>117.999851</td>\n",
       "      <td>604</td>\n",
       "    </tr>\n",
       "    <tr>\n",
       "      <th>20479</th>\n",
       "      <td>69.000216</td>\n",
       "      <td>144.999988</td>\n",
       "      <td>139.999557</td>\n",
       "      <td>618</td>\n",
       "    </tr>\n",
       "  </tbody>\n",
       "</table>\n",
       "<p>20480 rows × 4 columns</p>\n",
       "</div>"
      ],
      "text/plain": [
       "               z           y           x     s\n",
       "0      35.000128  154.999986  115.000072  1201\n",
       "1      50.000308  119.000383  182.999816  1164\n",
       "2      51.000293  118.999646  183.000379  1209\n",
       "3      52.999609  118.999713  182.999630  1135\n",
       "4      51.999926  119.000266  182.999591  1183\n",
       "...          ...         ...         ...   ...\n",
       "20475  34.000402  127.999693  156.999943   603\n",
       "20476  33.000070  180.000294  106.999907   640\n",
       "20477  52.000452  173.999879  171.999956   589\n",
       "20478  40.999974  173.999961  117.999851   604\n",
       "20479  69.000216  144.999988  139.999557   618\n",
       "\n",
       "[20480 rows x 4 columns]"
      ]
     },
     "execution_count": 227,
     "metadata": {},
     "output_type": "execute_result"
    }
   ],
   "source": [
    "points_all"
   ]
  },
  {
   "cell_type": "code",
   "execution_count": 228,
   "id": "ea1d39cb-0d9e-4352-8d1f-0578a28a069e",
   "metadata": {},
   "outputs": [],
   "source": [
    "# Apply contrast to point clouds\n",
    "vmin = 503\n",
    "vmax = 1000\n",
    "points = normalize_intensities_and_get_colormap_apply(points, vmin, vmax)\n",
    "points_all = normalize_intensities_and_get_colormap_apply(points_all, vmin, vmax)\n",
    "cmap = plt.get_cmap('Purples')"
   ]
  },
  {
   "cell_type": "code",
   "execution_count": 231,
   "id": "f5e44410-2f1f-4250-98cb-689f29c0c45d",
   "metadata": {},
   "outputs": [
    {
     "name": "stdout",
     "output_type": "stream",
     "text": [
      "(9701, 5)\n",
      "(1000, 5)\n"
     ]
    },
    {
     "data": {
      "image/png": "[encoded data removed]",
      "text/plain": [
       "<Figure size 1000x500 with 3 Axes>"
      ]
     },
     "metadata": {},
     "output_type": "display_data"
    }
   ],
   "source": [
    "%matplotlib inline\n",
    "\n",
    "save=False\n",
    "fig, ax_array = plt.subplots(1,3, figsize=(10, 5))\n",
    "\n",
    "ax_array, z_interp = plot_image(ax_array, img_raw, img_nuc, img_mem, vmin, vmax, num_slices=20)\n",
    "ax_array[0].set_title('Raw image')\n",
    "\n",
    "plot_pointcloud(ax_array[1], points_all, z_interp, plt.get_cmap('YlGnBu'), save_path=save_path, name=cell_id, center=center, save=save)\n",
    "ax_array[1].set_title('Sampling dense PC')\n",
    "\n",
    "plot_pointcloud(ax_array[2], points, z_interp, plt.get_cmap('YlGnBu'),save_path=save_path, name=cell_id,  center=center,  save=save)\n",
    "ax_array[2].set_title('Sampling sparse PC')\n",
    "\n",
    "plt.show()\n",
    "#fig.savefig('./sampling/mids_sampling_xy.png', bbox_inches='tight', dpi=300)\n"
   ]
  },
  {
   "cell_type": "code",
   "execution_count": null,
   "id": "edb2d2de-ee8b-40a1-9c8c-eba43d369acd",
   "metadata": {},
   "outputs": [],
   "source": []
  }
 ],
 "metadata": {
  "kernelspec": {
   "display_name": "Python 3 (ipykernel)",
   "language": "python",
   "name": "python3"
  },
  "language_info": {
   "codemirror_mode": {
    "name": "ipython",
    "version": 3
   },
   "file_extension": ".py",
   "mimetype": "text/x-python",
   "name": "python",
   "nbconvert_exporter": "python",
   "pygments_lexer": "ipython3",
   "version": "3.10.14"
  }
 },
 "nbformat": 4,
 "nbformat_minor": 5
}
