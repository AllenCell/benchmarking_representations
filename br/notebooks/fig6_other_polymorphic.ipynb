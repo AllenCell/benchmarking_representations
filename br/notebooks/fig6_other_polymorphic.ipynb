{
 "cells": [
  {
   "cell_type": "code",
   "execution_count": 10,
   "id": "17d20bd5-43ee-4490-8811-6edbde5f86d1",
   "metadata": {},
   "outputs": [
    {
     "name": "stdout",
     "output_type": "stream",
     "text": [
      "The autoreload extension is already loaded. To reload it, use:\n",
      "  %reload_ext autoreload\n"
     ]
    }
   ],
   "source": [
    "%load_ext autoreload\n",
    "%autoreload 2\n",
    "import os\n",
    "\n",
    "os.environ[\"CUDA_DEVICE_ORDER\"] = \"PCI_BUS_ID\"  # see issue #152\n",
    "os.environ[\"CUDA_VISIBLE_DEVICES\"] = \"MIG-864c07c4-8eeb-5b23-8d57-eaeb942a9a0f\"\n",
    "import os\n",
    "from pathlib import Path\n",
    "\n",
    "import matplotlib.pyplot as plt\n",
    "import numpy as np\n",
    "import pandas as pd\n",
    "import torch\n",
    "import yaml\n",
    "from hydra.utils import instantiate\n",
    "from PIL import Image\n",
    "from torch.utils.data import DataLoader, Dataset\n",
    "\n",
    "from br.features.archetype import AA_Fast\n",
    "from br.features.plot import collect_outputs, plot, plot_stratified_pc\n",
    "from br.features.reconstruction import stratified_latent_walk\n",
    "from br.features.utils import (\n",
    "    normalize_intensities_and_get_colormap,\n",
    "    normalize_intensities_and_get_colormap_apply,\n",
    ")\n",
    "from br.models.compute_features import compute_features, get_embeddings\n",
    "from br.models.load_models import get_data_and_models\n",
    "from br.models.save_embeddings import (\n",
    "    get_pc_loss,\n",
    "    get_pc_loss_chamfer,\n",
    "    save_embeddings,\n",
    "    save_emissions,\n",
    ")\n",
    "from br.models.utils import get_all_configs_per_dataset\n",
    "\n",
    "device = \"cuda:0\""
   ]
  },
  {
   "cell_type": "markdown",
   "id": "b8b6a10b-38a9-4fc5-8dd0-03babdccee70",
   "metadata": {},
   "source": [
    "# Load data and models"
   ]
  },
  {
   "cell_type": "code",
   "execution_count": 11,
   "id": "f05f5c60-cae8-41d7-9297-eef048e459b3",
   "metadata": {},
   "outputs": [],
   "source": [
    "os.chdir(\"/allen/aics/modeling/ritvik/projects/benchmarking_representations/\")\n",
    "save_path = \"./test_polymorphic_save_embeddings/\""
   ]
  },
  {
   "cell_type": "code",
   "execution_count": 19,
   "id": "0ad0f0f4-fa0e-412f-a6fe-ec88e49ffd43",
   "metadata": {},
   "outputs": [],
   "source": [
    "dataset_name = \"other_polymorphic\"\n",
    "batch_size = 2\n",
    "debug = False\n",
    "results_path = \"/allen/aics/modeling/ritvik/projects/benchmarking_representations/configs/results/\"\n",
    "data_list, all_models, run_names, model_sizes = get_data_and_models(\n",
    "    dataset_name, batch_size, results_path, debug\n",
    ")"
   ]
  },
  {
   "cell_type": "code",
   "execution_count": 20,
   "id": "b3c93957-f57a-45e6-84a4-164435367100",
   "metadata": {},
   "outputs": [],
   "source": [
    "data_list = data_list[1:]\n",
    "all_models = all_models[1:]\n",
    "run_names = run_names[1:]"
   ]
  },
  {
   "cell_type": "markdown",
   "id": "0cb523c3-ef58-4557-8a31-e1eb095c95de",
   "metadata": {},
   "source": [
    "# Compute embeddings and emissions"
   ]
  },
  {
   "cell_type": "code",
   "execution_count": 21,
   "id": "7088001f-97ae-4091-a591-3aad744c7ed2",
   "metadata": {
    "scrolled": true
   },
   "outputs": [
    {
     "name": "stdout",
     "output_type": "stream",
     "text": [
      "Processing train\n"
     ]
    },
    {
     "name": "stderr",
     "output_type": "stream",
     "text": [
      "100%|██████████████████████████████████████████████████████████████████████████████████████████████████████████| 13306/13306 [22:03<00:00, 10.05it/s]\n"
     ]
    },
    {
     "name": "stdout",
     "output_type": "stream",
     "text": [
      "Processing val\n"
     ]
    },
    {
     "name": "stderr",
     "output_type": "stream",
     "text": [
      "  3%|███▌                                                                                                          | 91/2854 [00:09<04:34, 10.07it/s]Exception ignored in: <function _MultiProcessingDataLoaderIter.__del__ at 0x7f51edf59d80>\n",
      "Traceback (most recent call last):\n",
      "  File \"/home/ritvik.vasan/anaconda3/envs/replearn/lib/python3.10/site-packages/torch/utils/data/dataloader.py\", line 1478, in __del__\n",
      "    self._shutdown_workers()  File \"/home/ritvik.vasan/anaconda3/envs/replearn/lib/python3.10/site-packages/torch/utils/data/dataloader.py\", line 1461, in _shutdown_workers\n",
      "  File \"/home/ritvik.vasan/anaconda3/envs/replearn/lib/python3.10/multiprocessing/process.py\", line 160, in is_alive\n",
      "\n",
      "    if w.is_alive():\n",
      "    assert self._parent_pid == os.getpid(), 'can only test a child process'\n",
      "AssertionError: can only test a child process\n",
      "Exception ignored in: <function _MultiProcessingDataLoaderIter.__del__ at 0x7f51edf59d80>\n",
      "Traceback (most recent call last):\n",
      "  File \"/home/ritvik.vasan/anaconda3/envs/replearn/lib/python3.10/site-packages/torch/utils/data/dataloader.py\", line 1478, in __del__\n",
      "    self._shutdown_workers()\n",
      "  File \"/home/ritvik.vasan/anaconda3/envs/replearn/lib/python3.10/site-packages/torch/utils/data/dataloader.py\", line 1461, in _shutdown_workers\n",
      "    if w.is_alive():\n",
      "  File \"/home/ritvik.vasan/anaconda3/envs/replearn/lib/python3.10/multiprocessing/process.py\", line 160, in is_alive\n",
      "    assert self._parent_pid == os.getpid(), 'can only test a child process'\n",
      "AssertionError: can only test a child process\n",
      "Exception ignored in: <function _MultiProcessingDataLoaderIter.__del__ at 0x7f51edf59d80>\n",
      "Traceback (most recent call last):\n",
      "  File \"/home/ritvik.vasan/anaconda3/envs/replearn/lib/python3.10/site-packages/torch/utils/data/dataloader.py\", line 1478, in __del__\n",
      "    self._shutdown_workers()\n",
      "  File \"/home/ritvik.vasan/anaconda3/envs/replearn/lib/python3.10/site-packages/torch/utils/data/dataloader.py\", line 1461, in _shutdown_workers\n",
      "    if w.is_alive():\n",
      "  File \"/home/ritvik.vasan/anaconda3/envs/replearn/lib/python3.10/multiprocessing/process.py\", line 160, in is_alive\n",
      "    assert self._parent_pid == os.getpid(), 'can only test a child process'\n",
      "AssertionError: can only test a child process\n",
      "Exception ignored in: <function _MultiProcessingDataLoaderIter.__del__ at 0x7f51edf59d80>\n",
      "Traceback (most recent call last):\n",
      "  File \"/home/ritvik.vasan/anaconda3/envs/replearn/lib/python3.10/site-packages/torch/utils/data/dataloader.py\", line 1478, in __del__\n",
      "    self._shutdown_workers()\n",
      "  File \"/home/ritvik.vasan/anaconda3/envs/replearn/lib/python3.10/site-packages/torch/utils/data/dataloader.py\", line 1461, in _shutdown_workers\n",
      "    if w.is_alive():\n",
      "  File \"/home/ritvik.vasan/anaconda3/envs/replearn/lib/python3.10/multiprocessing/process.py\", line 160, in is_alive\n",
      "    assert self._parent_pid == os.getpid(), 'can only test a child process'\n",
      "AssertionError: can only test a child process\n",
      "  3%|███▌                                                                                                          | 93/2854 [00:10<07:04,  6.50it/s]Exception ignored in: <function _MultiProcessingDataLoaderIter.__del__ at 0x7f51edf59d80>  File \"/home/ritvik.vasan/anaconda3/envs/replearn/lib/python3.10/site-packages/torch/utils/data/dataloader.py\", line 1478, in __del__\n",
      "\n",
      "Traceback (most recent call last):\n",
      "    self._shutdown_workers()\n",
      "  File \"/home/ritvik.vasan/anaconda3/envs/replearn/lib/python3.10/site-packages/torch/utils/data/dataloader.py\", line 1461, in _shutdown_workers\n",
      "    if w.is_alive():\n",
      "  File \"/home/ritvik.vasan/anaconda3/envs/replearn/lib/python3.10/multiprocessing/process.py\", line 160, in is_alive\n",
      "    assert self._parent_pid == os.getpid(), 'can only test a child process'\n",
      "AssertionError: can only test a child process\n",
      "Exception ignored in: <function _MultiProcessingDataLoaderIter.__del__ at 0x7f51edf59d80>\n",
      "Traceback (most recent call last):\n",
      "  File \"/home/ritvik.vasan/anaconda3/envs/replearn/lib/python3.10/site-packages/torch/utils/data/dataloader.py\", line 1478, in __del__\n",
      "    self._shutdown_workers()\n",
      "  File \"/home/ritvik.vasan/anaconda3/envs/replearn/lib/python3.10/site-packages/torch/utils/data/dataloader.py\", line 1461, in _shutdown_workers\n",
      "    if w.is_alive():\n",
      "  File \"/home/ritvik.vasan/anaconda3/envs/replearn/lib/python3.10/multiprocessing/process.py\", line 160, in is_alive\n",
      "    assert self._parent_pid == os.getpid(), 'can only test a child process'\n",
      "AssertionError: can only test a child process\n",
      "Exception ignored in: <function _MultiProcessingDataLoaderIter.__del__ at 0x7f51edf59d80>\n",
      "Traceback (most recent call last):\n",
      "  File \"/home/ritvik.vasan/anaconda3/envs/replearn/lib/python3.10/site-packages/torch/utils/data/dataloader.py\", line 1478, in __del__\n",
      "    self._shutdown_workers()\n",
      "  File \"/home/ritvik.vasan/anaconda3/envs/replearn/lib/python3.10/site-packages/torch/utils/data/dataloader.py\", line 1461, in _shutdown_workers\n",
      "    if w.is_alive():\n",
      "  File \"/home/ritvik.vasan/anaconda3/envs/replearn/lib/python3.10/multiprocessing/process.py\", line 160, in is_alive\n",
      "    assert self._parent_pid == os.getpid(), 'can only test a child process'\n",
      "  3%|███▌                                                                                                          | 94/2854 [00:10<06:52,  6.69it/s]AssertionError: can only test a child process\n",
      "Exception ignored in: <function _MultiProcessingDataLoaderIter.__del__ at 0x7f51edf59d80>  File \"/home/ritvik.vasan/anaconda3/envs/replearn/lib/python3.10/site-packages/torch/utils/data/dataloader.py\", line 1478, in __del__\n",
      "\n",
      "Traceback (most recent call last):\n",
      "    self._shutdown_workers()\n",
      "  File \"/home/ritvik.vasan/anaconda3/envs/replearn/lib/python3.10/site-packages/torch/utils/data/dataloader.py\", line 1461, in _shutdown_workers\n",
      "    if w.is_alive():\n",
      "  File \"/home/ritvik.vasan/anaconda3/envs/replearn/lib/python3.10/multiprocessing/process.py\", line 160, in is_alive\n",
      "    assert self._parent_pid == os.getpid(), 'can only test a child process'\n",
      "AssertionError: can only test a child process\n",
      "100%|████████████████████████████████████████████████████████████████████████████████████████████████████████████| 2854/2854 [04:46<00:00,  9.95it/s]\n"
     ]
    },
    {
     "name": "stdout",
     "output_type": "stream",
     "text": [
      "Processing test\n"
     ]
    },
    {
     "name": "stderr",
     "output_type": "stream",
     "text": [
      "100%|████████████████████████████████████████████████████████████████████████████████████████████████████████████| 2853/2853 [04:43<00:00, 10.06it/s]\n"
     ]
    },
    {
     "name": "stdout",
     "output_type": "stream",
     "text": [
      "Processing train\n"
     ]
    },
    {
     "name": "stderr",
     "output_type": "stream",
     "text": [
      "100%|██████████████████████████████████████████████████████████████████████████████████████████████████████████| 13306/13306 [22:12<00:00,  9.99it/s]\n"
     ]
    },
    {
     "name": "stdout",
     "output_type": "stream",
     "text": [
      "Processing val\n"
     ]
    },
    {
     "name": "stderr",
     "output_type": "stream",
     "text": [
      "100%|████████████████████████████████████████████████████████████████████████████████████████████████████████████| 2854/2854 [04:44<00:00, 10.03it/s]\n"
     ]
    },
    {
     "name": "stdout",
     "output_type": "stream",
     "text": [
      "Processing test\n"
     ]
    },
    {
     "name": "stderr",
     "output_type": "stream",
     "text": [
      "100%|████████████████████████████████████████████████████████████████████████████████████████████████████████████| 2853/2853 [04:42<00:00, 10.09it/s]\n"
     ]
    },
    {
     "name": "stdout",
     "output_type": "stream",
     "text": [
      "Processing train\n"
     ]
    },
    {
     "name": "stderr",
     "output_type": "stream",
     "text": [
      "100%|██████████████████████████████████████████████████████████████████████████████████████████████████████████| 13306/13306 [06:52<00:00, 32.25it/s]\n"
     ]
    },
    {
     "name": "stdout",
     "output_type": "stream",
     "text": [
      "Processing val\n"
     ]
    },
    {
     "name": "stderr",
     "output_type": "stream",
     "text": [
      "100%|████████████████████████████████████████████████████████████████████████████████████████████████████████████| 2854/2854 [01:29<00:00, 31.95it/s]\n"
     ]
    },
    {
     "name": "stdout",
     "output_type": "stream",
     "text": [
      "Processing test\n"
     ]
    },
    {
     "name": "stderr",
     "output_type": "stream",
     "text": [
      "100%|████████████████████████████████████████████████████████████████████████████████████████████████████████████| 2853/2853 [01:28<00:00, 32.10it/s]\n"
     ]
    },
    {
     "name": "stdout",
     "output_type": "stream",
     "text": [
      "Processing train\n"
     ]
    },
    {
     "name": "stderr",
     "output_type": "stream",
     "text": [
      "100%|██████████████████████████████████████████████████████████████████████████████████████████████████████████| 13306/13306 [06:57<00:00, 31.89it/s]\n"
     ]
    },
    {
     "name": "stdout",
     "output_type": "stream",
     "text": [
      "Processing val\n"
     ]
    },
    {
     "name": "stderr",
     "output_type": "stream",
     "text": [
      "100%|████████████████████████████████████████████████████████████████████████████████████████████████████████████| 2854/2854 [01:28<00:00, 32.39it/s]\n"
     ]
    },
    {
     "name": "stdout",
     "output_type": "stream",
     "text": [
      "Processing test\n"
     ]
    },
    {
     "name": "stderr",
     "output_type": "stream",
     "text": [
      "100%|████████████████████████████████████████████████████████████████████████████████████████████████████████████| 2853/2853 [01:27<00:00, 32.59it/s]\n"
     ]
    }
   ],
   "source": [
    "from br.models.save_embeddings import save_embeddings\n",
    "\n",
    "splits_list = [\"test\"]\n",
    "splits_list = [\"train\",\"val\", \"test\"]\n",
    "meta_key = None\n",
    "eval_scaled_img = [False] * 5\n",
    "\n",
    "gt_mesh_dir = \"/allen/aics/assay-dev/users/Alex/replearn/rep_paper/data/var_blobby_noalign/meshes\"\n",
    "gt_sampled_pts_dir = \"/allen/aics/assay-dev/users/Alex/replearn/rep_paper/data/sampled_pcs/blobby_var_noalign/1_res/0\"\n",
    "gt_scale_factor_dict_path = \"/allen/aics/assay-dev/users/Alex/replearn/rep_paper/data/blobby_var_scale_factor_32res_noalign.npz\"\n",
    "\n",
    "eval_scaled_img_params = [\n",
    "    {\n",
    "        \"eval_scaled_img_model_type\": \"iae\",\n",
    "        \"eval_scaled_img_resolution\": 32,\n",
    "        \"gt_mesh_dir\": gt_mesh_dir,\n",
    "        \"gt_scale_factor_dict_path\": None,\n",
    "        \"gt_sampled_pts_dir\": gt_sampled_pts_dir,\n",
    "        \"mesh_ext\": \"stl\",\n",
    "    },\n",
    "    {\n",
    "        \"eval_scaled_img_model_type\": \"sdf\",\n",
    "        \"eval_scaled_img_resolution\": 32,\n",
    "        \"gt_mesh_dir\": gt_mesh_dir,\n",
    "        \"gt_scale_factor_dict_path\": gt_scale_factor_dict_path,\n",
    "        \"gt_sampled_pts_dir\": None,\n",
    "        \"mesh_ext\": \"stl\",\n",
    "    },\n",
    "    {\n",
    "        \"eval_scaled_img_model_type\": \"seg\",\n",
    "        \"eval_scaled_img_resolution\": 32,\n",
    "        \"gt_mesh_dir\": gt_mesh_dir,\n",
    "        \"gt_scale_factor_dict_path\": gt_scale_factor_dict_path,\n",
    "        \"gt_sampled_pts_dir\": None,\n",
    "        \"mesh_ext\": \"stl\",\n",
    "    },\n",
    "    {\n",
    "        \"eval_scaled_img_model_type\": \"sdf\",\n",
    "        \"eval_scaled_img_resolution\": 32,\n",
    "        \"gt_mesh_dir\": gt_mesh_dir,\n",
    "        \"gt_scale_factor_dict_path\": gt_scale_factor_dict_path,\n",
    "        \"gt_sampled_pts_dir\": None,\n",
    "        \"mesh_ext\": \"stl\",\n",
    "    },\n",
    "    {\n",
    "        \"eval_scaled_img_model_type\": \"seg\",\n",
    "        \"eval_scaled_img_resolution\": 32,\n",
    "        \"gt_mesh_dir\": gt_mesh_dir,\n",
    "        \"gt_scale_factor_dict_path\": gt_scale_factor_dict_path,\n",
    "        \"gt_sampled_pts_dir\": None,\n",
    "        \"mesh_ext\": \"stl\",\n",
    "    },\n",
    "]\n",
    "loss_eval_list = [torch.nn.MSELoss(reduction=\"none\")] * 5\n",
    "sample_points_list = [False] * 5\n",
    "skew_scale = None\n",
    "save_embeddings(\n",
    "    save_path,\n",
    "    data_list,\n",
    "    all_models,\n",
    "    run_names,\n",
    "    debug,\n",
    "    splits_list,\n",
    "    device,\n",
    "    meta_key,\n",
    "    loss_eval_list,\n",
    "    sample_points_list,\n",
    "    skew_scale,\n",
    "    eval_scaled_img,\n",
    "    eval_scaled_img_params,\n",
    ")"
   ]
  },
  {
   "cell_type": "code",
   "execution_count": 14,
   "id": "19e9e9f4-4185-40fa-b0c9-32ae18ab560e",
   "metadata": {},
   "outputs": [
    {
     "data": {
      "text/plain": [
       "['equiv_vn',\n",
       " 'CNN_SO3_pad35_sdf',\n",
       " 'CNN_SO3_pad35_seg',\n",
       " 'CNN_sdf_pad35',\n",
       " 'CNN_seg_pad35']"
      ]
     },
     "execution_count": 14,
     "metadata": {},
     "output_type": "execute_result"
    }
   ],
   "source": [
    "run_names"
   ]
  },
  {
   "cell_type": "code",
   "execution_count": 22,
   "id": "007074b0-d1ee-40d7-9723-33162c8dd046",
   "metadata": {},
   "outputs": [
    {
     "data": {
      "text/plain": [
       "['CNN_SO3_pad35_sdf', 'CNN_SO3_pad35_seg', 'CNN_sdf_pad35', 'CNN_seg_pad35']"
      ]
     },
     "execution_count": 22,
     "metadata": {},
     "output_type": "execute_result"
    }
   ],
   "source": [
    "run_names"
   ]
  },
  {
   "cell_type": "markdown",
   "id": "2927b452-7b3a-49cc-a8a7-cdd6d213dfac",
   "metadata": {
    "scrolled": true
   },
   "source": [
    "# Latent walks"
   ]
  },
  {
   "cell_type": "code",
   "execution_count": 52,
   "id": "4f28accf-950d-495c-8df7-b5dfb59936d2",
   "metadata": {},
   "outputs": [],
   "source": [
    "# Load model and embeddings\n",
    "\n",
    "run_names = [\"equiv_vn\"]\n",
    "DATASET_INFO = get_all_configs_per_dataset(results_path)\n",
    "all_ret, df = get_embeddings(run_names, dataset_name, DATASET_INFO, save_path)"
   ]
  },
  {
   "cell_type": "code",
   "execution_count": 53,
   "id": "58e24687-d019-4696-b86a-e865d7f9e95e",
   "metadata": {},
   "outputs": [
    {
     "data": {
      "text/plain": [
       "NPM1       11814\n",
       "LAMP1      10114\n",
       "FBL         9923\n",
       "ST6GAL1     6175\n",
       "Name: structure_name, dtype: int64"
      ]
     },
     "execution_count": 53,
     "metadata": {},
     "output_type": "execute_result"
    }
   ],
   "source": [
    "all_ret['structure_name'].value_counts()"
   ]
  },
  {
   "cell_type": "code",
   "execution_count": 54,
   "id": "f8a5582e-574f-41e8-9ea4-736b55869ad2",
   "metadata": {},
   "outputs": [
    {
     "data": {
      "text/plain": [
       "['fov_path',\n",
       " 'fov_seg_path',\n",
       " 'mesh_path_noalign',\n",
       " 'meta_plate_path_mask',\n",
       " 'meta_plate_path_segmentation',\n",
       " 'points_sdf_noalign_path',\n",
       " 'processed_sdf_path_noalign_48res_51pad',\n",
       " 'processed_sdf_path_noalign_64res_67pad',\n",
       " 'processed_seg_path_noalign_48res_51pad',\n",
       " 'processed_seg_path_noalign_64res_67pad',\n",
       " 'sdf_path_noalign_32res',\n",
       " 'sdf_path_noalign_48res',\n",
       " 'sdf_path_noalign_64res',\n",
       " 'seg_path_noalign_32res',\n",
       " 'seg_path_noalign_48res',\n",
       " 'seg_path_noalign_64res',\n",
       " 'struct_seg_path']"
      ]
     },
     "execution_count": 54,
     "metadata": {},
     "output_type": "execute_result"
    }
   ],
   "source": [
    "[i for i in all_ret.columns if \"path\" in i]"
   ]
  },
  {
   "cell_type": "code",
   "execution_count": 55,
   "id": "899a8340-29c8-4f35-a947-6385e8f00918",
   "metadata": {},
   "outputs": [
    {
     "name": "stderr",
     "output_type": "stream",
     "text": [
      "100%|██████████████████████████████████████████████████████████████████████████████████████████████████████████████████| 3/3 [00:00<00:00,  5.01it/s]\n",
      "100%|██████████████████████████████████████████████████████████████████████████████████████████████████████████████████| 3/3 [00:00<00:00,  4.95it/s]\n",
      "100%|██████████████████████████████████████████████████████████████████████████████████████████████████████████████████| 3/3 [00:00<00:00,  8.11it/s]\n",
      "100%|██████████████████████████████████████████████████████████████████████████████████████████████████████████████████| 3/3 [00:00<00:00,  7.62it/s]\n",
      "100%|██████████████████████████████████████████████████████████████████████████████████████████████████████████████████| 3/3 [00:00<00:00, 10.78it/s]\n",
      "100%|██████████████████████████████████████████████████████████████████████████████████████████████████████████████████| 3/3 [00:00<00:00,  6.12it/s]\n",
      "100%|██████████████████████████████████████████████████████████████████████████████████████████████████████████████████| 3/3 [00:00<00:00, 11.48it/s]\n",
      "100%|██████████████████████████████████████████████████████████████████████████████████████████████████████████████████| 3/3 [00:00<00:00, 13.81it/s]\n"
     ]
    }
   ],
   "source": [
    "from sklearn.decomposition import PCA\n",
    "from tqdm import tqdm\n",
    "from cyto_dl.image.transforms import RotationMask\n",
    "from skimage.io import imread\n",
    "from br.data.utils import mesh_seg_model_output\n",
    "import pyvista as pv\n",
    "\n",
    "this_save_path = Path(save_path) / Path(\"latent_walks\")\n",
    "this_save_path.mkdir(parents=True, exist_ok=True)\n",
    "\n",
    "\n",
    "for num_pieces in all_ret['structure_name'].unique():\n",
    "    this_sub_m = all_ret.loc[all_ret['structure_name'] == num_pieces].reset_index(drop=True)\n",
    "    all_features = this_sub_m[[i for i in this_sub_m.columns if \"mu\" in i]].values\n",
    "    latent_dim=512\n",
    "    dim_size = latent_dim\n",
    "    x_label = 'pcloud'\n",
    "    pca = PCA(n_components=dim_size)\n",
    "    pca_features = pca.fit_transform(all_features)\n",
    "    pca_std_list = pca_features.std(axis=0)\n",
    "    for rank in [0, 1]:\n",
    "        all_xhat = []\n",
    "        all_closest_real = []\n",
    "        all_closest_img = []\n",
    "        latent_walk_range = [-2, 0, 2]\n",
    "        for value_index, value in enumerate(\n",
    "                tqdm(latent_walk_range, total=len(latent_walk_range))\n",
    "            ):\n",
    "            z_inf = torch.zeros(1, dim_size)\n",
    "            z_inf[:, rank] += value * pca_std_list[rank]\n",
    "            z_inf = pca.inverse_transform(z_inf).numpy()\n",
    "        \n",
    "            dist = (all_features - z_inf) ** 2\n",
    "            dist = np.sum(dist, axis=1)\n",
    "            closest_idx = np.argmin(dist)\n",
    "            closest_real_id = this_sub_m.iloc[closest_idx]['CellId']\n",
    "            mesh = pv.read(all_ret.loc[all_ret['CellId'] == closest_real_id]['mesh_path_noalign'].iloc[0])\n",
    "            mesh.save(this_save_path / Path(f'{num_pieces}_{rank}_{value_index}.ply'))\n",
    "    "
   ]
  },
  {
   "cell_type": "code",
   "execution_count": 70,
   "id": "e763ab33-8099-488e-a6e2-906151fe4891",
   "metadata": {},
   "outputs": [],
   "source": [
    "# num_pieces = 4.0\n",
    "struct = \"LAMP1\"\n",
    "rank = 0\n",
    "bin_ = 2\n",
    "this_mesh_path = this_save_path / Path(f'{struct}_{rank}_{bin_}.ply')\n",
    "this_mesh_path = './' + str(this_mesh_path)\n",
    "\n",
    "mitsuba_save_path = this_save_path / Path('mitsuba')\n",
    "mitsuba_save_path.mkdir(parents=True, exist_ok=True)\n",
    "mitsuba_save_path = './' + str(mitsuba_save_path)\n",
    "name = f\"{struct}_{rank}_{bin_}\"\n",
    "\n",
    "\n",
    "plot(str(this_mesh_path), mitsuba_save_path, 65, 0, None, name)"
   ]
  },
  {
   "cell_type": "markdown",
   "id": "771c73fb-8be2-44ea-95b4-0bdd22a3a6dc",
   "metadata": {},
   "source": [
    "# Archetype"
   ]
  },
  {
   "cell_type": "code",
   "execution_count": 31,
   "id": "1b318bba-3e87-4554-8eba-be788650a579",
   "metadata": {},
   "outputs": [],
   "source": [
    "from br.features.archetype import AA_Fast\n",
    "n_archetypes = 4\n",
    "matrix = all_ret[[i for i in all_ret.columns if \"mu\" in i]].values\n",
    "aa = AA_Fast(n_archetypes, max_iter=1000, tol=1e-6).fit(matrix)\n",
    "\n",
    "import pandas as pd\n",
    "archetypes_df = pd.DataFrame(aa.Z, columns = [f'mu_{i}' for i in range(matrix.shape[1])])"
   ]
  },
  {
   "cell_type": "code",
   "execution_count": 40,
   "id": "6836a9b9-573f-42de-93eb-9c771b86d44d",
   "metadata": {},
   "outputs": [
    {
     "data": {
      "text/html": [
       "<div>\n",
       "<style scoped>\n",
       "    .dataframe tbody tr th:only-of-type {\n",
       "        vertical-align: middle;\n",
       "    }\n",
       "\n",
       "    .dataframe tbody tr th {\n",
       "        vertical-align: top;\n",
       "    }\n",
       "\n",
       "    .dataframe thead th {\n",
       "        text-align: right;\n",
       "    }\n",
       "</style>\n",
       "<table border=\"1\" class=\"dataframe\">\n",
       "  <thead>\n",
       "    <tr style=\"text-align: right;\">\n",
       "      <th></th>\n",
       "      <th>mu_0</th>\n",
       "      <th>mu_1</th>\n",
       "      <th>mu_2</th>\n",
       "      <th>mu_3</th>\n",
       "      <th>mu_4</th>\n",
       "      <th>mu_5</th>\n",
       "      <th>mu_6</th>\n",
       "      <th>mu_7</th>\n",
       "      <th>mu_8</th>\n",
       "      <th>mu_9</th>\n",
       "      <th>...</th>\n",
       "      <th>mu_502</th>\n",
       "      <th>mu_503</th>\n",
       "      <th>mu_504</th>\n",
       "      <th>mu_505</th>\n",
       "      <th>mu_506</th>\n",
       "      <th>mu_507</th>\n",
       "      <th>mu_508</th>\n",
       "      <th>mu_509</th>\n",
       "      <th>mu_510</th>\n",
       "      <th>mu_511</th>\n",
       "    </tr>\n",
       "  </thead>\n",
       "  <tbody>\n",
       "    <tr>\n",
       "      <th>0</th>\n",
       "      <td>0.016720</td>\n",
       "      <td>0.013911</td>\n",
       "      <td>0.015173</td>\n",
       "      <td>0.016448</td>\n",
       "      <td>0.013668</td>\n",
       "      <td>0.013938</td>\n",
       "      <td>0.014895</td>\n",
       "      <td>0.013026</td>\n",
       "      <td>0.019262</td>\n",
       "      <td>0.024216</td>\n",
       "      <td>...</td>\n",
       "      <td>0.016125</td>\n",
       "      <td>0.025148</td>\n",
       "      <td>0.014622</td>\n",
       "      <td>0.017662</td>\n",
       "      <td>0.021135</td>\n",
       "      <td>0.019173</td>\n",
       "      <td>0.015466</td>\n",
       "      <td>0.018578</td>\n",
       "      <td>0.017736</td>\n",
       "      <td>0.026095</td>\n",
       "    </tr>\n",
       "    <tr>\n",
       "      <th>1</th>\n",
       "      <td>0.011478</td>\n",
       "      <td>0.021628</td>\n",
       "      <td>0.008261</td>\n",
       "      <td>0.010213</td>\n",
       "      <td>0.012635</td>\n",
       "      <td>0.011072</td>\n",
       "      <td>0.014946</td>\n",
       "      <td>0.010943</td>\n",
       "      <td>0.014555</td>\n",
       "      <td>0.011230</td>\n",
       "      <td>...</td>\n",
       "      <td>0.009062</td>\n",
       "      <td>0.020621</td>\n",
       "      <td>0.011007</td>\n",
       "      <td>0.012977</td>\n",
       "      <td>0.014252</td>\n",
       "      <td>0.009047</td>\n",
       "      <td>0.010252</td>\n",
       "      <td>0.011973</td>\n",
       "      <td>0.014670</td>\n",
       "      <td>0.013925</td>\n",
       "    </tr>\n",
       "    <tr>\n",
       "      <th>2</th>\n",
       "      <td>0.014800</td>\n",
       "      <td>0.029973</td>\n",
       "      <td>0.018342</td>\n",
       "      <td>0.015434</td>\n",
       "      <td>0.012984</td>\n",
       "      <td>0.021673</td>\n",
       "      <td>0.016685</td>\n",
       "      <td>0.017274</td>\n",
       "      <td>0.014409</td>\n",
       "      <td>0.019791</td>\n",
       "      <td>...</td>\n",
       "      <td>0.023301</td>\n",
       "      <td>0.022890</td>\n",
       "      <td>0.019476</td>\n",
       "      <td>0.015652</td>\n",
       "      <td>0.017187</td>\n",
       "      <td>0.018769</td>\n",
       "      <td>0.016542</td>\n",
       "      <td>0.017992</td>\n",
       "      <td>0.020920</td>\n",
       "      <td>0.018426</td>\n",
       "    </tr>\n",
       "    <tr>\n",
       "      <th>3</th>\n",
       "      <td>0.008071</td>\n",
       "      <td>0.021726</td>\n",
       "      <td>0.016243</td>\n",
       "      <td>0.018224</td>\n",
       "      <td>0.021039</td>\n",
       "      <td>0.020376</td>\n",
       "      <td>0.022450</td>\n",
       "      <td>0.024019</td>\n",
       "      <td>0.013192</td>\n",
       "      <td>0.016768</td>\n",
       "      <td>...</td>\n",
       "      <td>0.012576</td>\n",
       "      <td>0.033081</td>\n",
       "      <td>0.018664</td>\n",
       "      <td>0.015084</td>\n",
       "      <td>0.020398</td>\n",
       "      <td>0.016422</td>\n",
       "      <td>0.015154</td>\n",
       "      <td>0.020113</td>\n",
       "      <td>0.017388</td>\n",
       "      <td>0.017130</td>\n",
       "    </tr>\n",
       "  </tbody>\n",
       "</table>\n",
       "<p>4 rows × 512 columns</p>\n",
       "</div>"
      ],
      "text/plain": [
       "       mu_0      mu_1      mu_2      mu_3      mu_4      mu_5      mu_6  \\\n",
       "0  0.016720  0.013911  0.015173  0.016448  0.013668  0.013938  0.014895   \n",
       "1  0.011478  0.021628  0.008261  0.010213  0.012635  0.011072  0.014946   \n",
       "2  0.014800  0.029973  0.018342  0.015434  0.012984  0.021673  0.016685   \n",
       "3  0.008071  0.021726  0.016243  0.018224  0.021039  0.020376  0.022450   \n",
       "\n",
       "       mu_7      mu_8      mu_9  ...    mu_502    mu_503    mu_504    mu_505  \\\n",
       "0  0.013026  0.019262  0.024216  ...  0.016125  0.025148  0.014622  0.017662   \n",
       "1  0.010943  0.014555  0.011230  ...  0.009062  0.020621  0.011007  0.012977   \n",
       "2  0.017274  0.014409  0.019791  ...  0.023301  0.022890  0.019476  0.015652   \n",
       "3  0.024019  0.013192  0.016768  ...  0.012576  0.033081  0.018664  0.015084   \n",
       "\n",
       "     mu_506    mu_507    mu_508    mu_509    mu_510    mu_511  \n",
       "0  0.021135  0.019173  0.015466  0.018578  0.017736  0.026095  \n",
       "1  0.014252  0.009047  0.010252  0.011973  0.014670  0.013925  \n",
       "2  0.017187  0.018769  0.016542  0.017992  0.020920  0.018426  \n",
       "3  0.020398  0.016422  0.015154  0.020113  0.017388  0.017130  \n",
       "\n",
       "[4 rows x 512 columns]"
      ]
     },
     "execution_count": 40,
     "metadata": {},
     "output_type": "execute_result"
    }
   ],
   "source": [
    "archetypes_df"
   ]
  },
  {
   "cell_type": "code",
   "execution_count": 32,
   "id": "b656c3ef-e0b3-45f5-9e34-1482e707a8b5",
   "metadata": {},
   "outputs": [],
   "source": [
    "this_save_path = Path(save_path) / Path(\"archetypes\")\n",
    "this_save_path.mkdir(parents=True, exist_ok=True)\n",
    "\n",
    "all_features =  matrix\n",
    "for i in range(n_archetypes):\n",
    "    this_mu = archetypes_df.iloc[i].values\n",
    "    dist = (all_features - this_mu) ** 2\n",
    "    dist = np.sum(dist, axis=1)\n",
    "    closest_idx = np.argmin(dist)\n",
    "    closest_real_id = all_ret.iloc[closest_idx]['CellId']\n",
    "    mesh = pv.read(all_ret.loc[all_ret['CellId'] == closest_real_id]['mesh_path_noalign'].iloc[0])\n",
    "    mesh.save(this_save_path / Path(f'{i}.ply'))\n",
    "        "
   ]
  },
  {
   "cell_type": "code",
   "execution_count": 44,
   "id": "ba64b1fc-d06a-441c-b6ae-e73f3f4e04a8",
   "metadata": {},
   "outputs": [
    {
     "data": {
      "text/plain": [
       "PosixPath('test_polymorphic_save_embeddings/archetypes')"
      ]
     },
     "execution_count": 44,
     "metadata": {},
     "output_type": "execute_result"
    }
   ],
   "source": [
    "this_save_path"
   ]
  },
  {
   "cell_type": "code",
   "execution_count": 51,
   "id": "dbf9332c-01fb-41e6-9022-80af44d2abaf",
   "metadata": {},
   "outputs": [],
   "source": [
    "from br.visualization.mitsuba_render_image import plot\n",
    "# num_pieces = 4.0\n",
    "arch = \"3\"\n",
    "this_mesh_path = this_save_path / Path(f'{arch}.ply')\n",
    "this_mesh_path = './' + str(this_mesh_path)\n",
    "\n",
    "mitsuba_save_path = this_save_path / Path('mitsuba')\n",
    "mitsuba_save_path.mkdir(parents=True, exist_ok=True)\n",
    "mitsuba_save_path = './' + str(mitsuba_save_path)\n",
    "name = f\"{arch}\"\n",
    "\n",
    "\n",
    "plot(str(this_mesh_path), mitsuba_save_path, 10, 0, None, name)"
   ]
  },
  {
   "cell_type": "code",
   "execution_count": null,
   "id": "11472060-3cec-4ea1-83bd-e1d7d8a61906",
   "metadata": {},
   "outputs": [],
   "source": []
  }
 ],
 "metadata": {
  "kernelspec": {
   "display_name": "Python 3 (ipykernel)",
   "language": "python",
   "name": "python3"
  },
  "language_info": {
   "codemirror_mode": {
    "name": "ipython",
    "version": 3
   },
   "file_extension": ".py",
   "mimetype": "text/x-python",
   "name": "python",
   "nbconvert_exporter": "python",
   "pygments_lexer": "ipython3",
   "version": "3.10.14"
  }
 },
 "nbformat": 4,
 "nbformat_minor": 5
}
