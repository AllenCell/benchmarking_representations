{
 "cells": [
  {
   "cell_type": "code",
   "execution_count": 1,
   "id": "17d20bd5-43ee-4490-8811-6edbde5f86d1",
   "metadata": {},
   "outputs": [],
   "source": [
    "%load_ext autoreload\n",
    "%autoreload 2\n",
    "import os\n",
    "os.environ[\"CUDA_DEVICE_ORDER\"]=\"PCI_BUS_ID\"   # see issue #152\n",
    "os.environ[\"CUDA_VISIBLE_DEVICES\"]=\"MIG-ffdee303-0dd4-513d-b18c-beba028b49c7\" \n",
    "from hydra.utils import instantiate\n",
    "import yaml\n",
    "import torch\n",
    "import numpy as np\n",
    "import torch\n",
    "import matplotlib.pyplot as plt\n",
    "from torch.utils.data import Dataset, DataLoader\n",
    "from PIL import Image\n",
    "device = \"cuda:0\""
   ]
  },
  {
   "cell_type": "markdown",
   "id": "b8b6a10b-38a9-4fc5-8dd0-03babdccee70",
   "metadata": {},
   "source": [
    "# Load data and models"
   ]
  },
  {
   "cell_type": "code",
   "execution_count": 2,
   "id": "f05f5c60-cae8-41d7-9297-eef048e459b3",
   "metadata": {},
   "outputs": [],
   "source": [
    "os.chdir('/allen/aics/modeling/ritvik/projects/benchmarking_representations/')"
   ]
  },
  {
   "cell_type": "code",
   "execution_count": 3,
   "id": "4e130624-5f63-434f-8f5e-6d65404d5309",
   "metadata": {},
   "outputs": [],
   "source": [
    "from br.data.get_datamodules import get_data\n",
    "from cyto_dl.models.utils.mlflow import load_model_from_checkpoint\n",
    "from br.models.load_models import load_model_from_path\n",
    "from br.models.save_embeddings import get_pc_loss\n",
    "\n",
    "def get_data_and_models(dataset_name, batch_size, results_path, debug=False):\n",
    "    data_list = get_data(dataset_name, batch_size, results_path, debug)\n",
    "    all_models, run_names, model_sizes = load_model_from_path(dataset_name, results_path) # default list of models in load_models.py\n",
    "    return data_list, all_models, run_names, model_sizes"
   ]
  },
  {
   "cell_type": "code",
   "execution_count": 4,
   "id": "ad792311-00e9-45ad-99b3-a3784a6b60e1",
   "metadata": {},
   "outputs": [
    {
     "ename": "KeyError",
     "evalue": "'model_checkpoints'",
     "output_type": "error",
     "traceback": [
      "\u001b[0;31m---------------------------------------------------------------------------\u001b[0m",
      "\u001b[0;31mKeyError\u001b[0m                                  Traceback (most recent call last)",
      "Cell \u001b[0;32mIn[4], line 5\u001b[0m\n\u001b[1;32m      3\u001b[0m debug\u001b[38;5;241m=\u001b[39m\u001b[38;5;28;01mTrue\u001b[39;00m\n\u001b[1;32m      4\u001b[0m results_path \u001b[38;5;241m=\u001b[39m \u001b[38;5;124m'\u001b[39m\u001b[38;5;124m/allen/aics/modeling/ritvik/projects/benchmarking_representations/br/configs/results/\u001b[39m\u001b[38;5;124m'\u001b[39m\n\u001b[0;32m----> 5\u001b[0m data_list, all_models, run_names, model_sizes \u001b[38;5;241m=\u001b[39m \u001b[43mget_data_and_models\u001b[49m\u001b[43m(\u001b[49m\u001b[43mdataset_name\u001b[49m\u001b[43m,\u001b[49m\u001b[43m \u001b[49m\u001b[43mbatch_size\u001b[49m\u001b[43m,\u001b[49m\u001b[43m \u001b[49m\u001b[43mresults_path\u001b[49m\u001b[43m,\u001b[49m\u001b[43m \u001b[49m\u001b[43mdebug\u001b[49m\u001b[43m)\u001b[49m\n",
      "Cell \u001b[0;32mIn[3], line 8\u001b[0m, in \u001b[0;36mget_data_and_models\u001b[0;34m(dataset_name, batch_size, results_path, debug)\u001b[0m\n\u001b[1;32m      6\u001b[0m \u001b[38;5;28;01mdef\u001b[39;00m \u001b[38;5;21mget_data_and_models\u001b[39m(dataset_name, batch_size, results_path, debug\u001b[38;5;241m=\u001b[39m\u001b[38;5;28;01mFalse\u001b[39;00m):\n\u001b[1;32m      7\u001b[0m     data_list \u001b[38;5;241m=\u001b[39m get_data(dataset_name, batch_size, results_path, debug)\n\u001b[0;32m----> 8\u001b[0m     all_models, run_names, model_sizes \u001b[38;5;241m=\u001b[39m \u001b[43mload_model_from_path\u001b[49m\u001b[43m(\u001b[49m\u001b[43mdataset_name\u001b[49m\u001b[43m,\u001b[49m\u001b[43m \u001b[49m\u001b[43mresults_path\u001b[49m\u001b[43m)\u001b[49m \u001b[38;5;66;03m# default list of models in load_models.py\u001b[39;00m\n\u001b[1;32m      9\u001b[0m     \u001b[38;5;28;01mreturn\u001b[39;00m data_list, all_models, run_names, model_sizes\n",
      "File \u001b[0;32m/allen/aics/modeling/ritvik/projects/benchmarking_representations/br/models/load_models.py:14\u001b[0m, in \u001b[0;36mload_model_from_path\u001b[0;34m(dataset, results_path, strict, split)\u001b[0m\n\u001b[1;32m     12\u001b[0m model_sizes \u001b[38;5;241m=\u001b[39m []\n\u001b[1;32m     13\u001b[0m all_models \u001b[38;5;241m=\u001b[39m []\n\u001b[0;32m---> 14\u001b[0m \u001b[38;5;28;01mfor\u001b[39;00m ckpt_path \u001b[38;5;129;01min\u001b[39;00m \u001b[43mmodels\u001b[49m\u001b[43m[\u001b[49m\u001b[38;5;124;43m\"\u001b[39;49m\u001b[38;5;124;43mmodel_checkpoints\u001b[39;49m\u001b[38;5;124;43m\"\u001b[39;49m\u001b[43m]\u001b[49m:\n\u001b[1;32m     15\u001b[0m     config_path \u001b[38;5;241m=\u001b[39m ckpt_path\u001b[38;5;241m.\u001b[39msplit(\u001b[38;5;124m\"\u001b[39m\u001b[38;5;124mckpt\u001b[39m\u001b[38;5;124m\"\u001b[39m)[\u001b[38;5;241m0\u001b[39m] \u001b[38;5;241m+\u001b[39m \u001b[38;5;124m\"\u001b[39m\u001b[38;5;124myaml\u001b[39m\u001b[38;5;124m\"\u001b[39m\n\u001b[1;32m     16\u001b[0m     \u001b[38;5;28;01mwith\u001b[39;00m \u001b[38;5;28mopen\u001b[39m(config_path) \u001b[38;5;28;01mas\u001b[39;00m stream:\n",
      "\u001b[0;31mKeyError\u001b[0m: 'model_checkpoints'"
     ]
    }
   ],
   "source": [
    "dataset_name = 'other_polymorphic'\n",
    "batch_size = 2\n",
    "debug=True\n",
    "results_path = '/allen/aics/modeling/ritvik/projects/benchmarking_representations/br/configs/results/'\n",
    "data_list, all_models, run_names, model_sizes = get_data_and_models(dataset_name, batch_size, results_path, debug)"
   ]
  },
  {
   "cell_type": "code",
   "execution_count": null,
   "id": "53773371-152a-4167-9aa2-2475b3369ebf",
   "metadata": {},
   "outputs": [],
   "source": []
  }
 ],
 "metadata": {
  "kernelspec": {
   "display_name": "Python 3 (ipykernel)",
   "language": "python",
   "name": "python3"
  },
  "language_info": {
   "codemirror_mode": {
    "name": "ipython",
    "version": 3
   },
   "file_extension": ".py",
   "mimetype": "text/x-python",
   "name": "python",
   "nbconvert_exporter": "python",
   "pygments_lexer": "ipython3",
   "version": "3.10.14"
  }
 },
 "nbformat": 4,
 "nbformat_minor": 5
}
