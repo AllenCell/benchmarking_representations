{
 "cells": [
  {
   "cell_type": "code",
   "execution_count": 1,
   "id": "387fbbc4-3f5e-4491-bb6b-71c3811300a0",
   "metadata": {
    "scrolled": true
   },
   "outputs": [],
   "source": [
    "%load_ext autoreload\n",
    "%autoreload 2\n",
    "import os\n",
    "os.environ[\"CUDA_DEVICE_ORDER\"]=\"PCI_BUS_ID\"   # see issue #152\n",
    "os.environ[\"CUDA_VISIBLE_DEVICES\"]=\"MIG-ff70592b-6c77-5bde-832d-88d1e18cad50\" \n",
    "from hydra.utils import instantiate\n",
    "import yaml\n",
    "import torch\n",
    "import numpy as np\n",
    "import torch\n",
    "import matplotlib.pyplot as plt\n",
    "from torch.utils.data import Dataset, DataLoader\n",
    "from PIL import Image\n",
    "device = \"cuda:0\""
   ]
  },
  {
   "cell_type": "markdown",
   "id": "b19c1cd4-02b6-4e6e-abe5-c90de92ebbe6",
   "metadata": {},
   "source": [
    "# Load data and models"
   ]
  },
  {
   "cell_type": "code",
   "execution_count": 2,
   "id": "d4372d26-2176-4e06-b47e-3d9d4ef80554",
   "metadata": {},
   "outputs": [],
   "source": [
    "os.chdir('/allen/aics/modeling/ritvik/projects/benchmarking_representations/')\n",
    "save_path = './test_var_punctate_embeddings/'"
   ]
  },
  {
   "cell_type": "code",
   "execution_count": 3,
   "id": "53e0b793-8341-4789-9a71-ab14c667cf52",
   "metadata": {},
   "outputs": [],
   "source": [
    "from br.data.get_datamodules import get_data\n",
    "from cyto_dl.models.utils.mlflow import load_model_from_checkpoint\n",
    "from br.models.load_models import load_model_from_path\n",
    "from br.models.save_embeddings import get_pc_loss\n",
    "\n",
    "def get_data_and_models(dataset_name, batch_size, results_path, debug=False):\n",
    "    data_list = get_data(dataset_name, batch_size, results_path, debug)\n",
    "    all_models, run_names, model_sizes = load_model_from_path(dataset_name, results_path) # default list of models in load_models.py\n",
    "    return data_list, all_models, run_names, model_sizes"
   ]
  },
  {
   "cell_type": "code",
   "execution_count": 6,
   "id": "a61c9f5e-8628-49c3-838f-ca720b4589b2",
   "metadata": {},
   "outputs": [
    {
     "data": {
      "text/plain": [
       "['classical_image',\n",
       " 'so3_image',\n",
       " '2048_ed_dgcnn',\n",
       " '2048_int_ed_vndgcnn',\n",
       " '2048_int_ed_vndgcnn_structnorm']"
      ]
     },
     "execution_count": 6,
     "metadata": {},
     "output_type": "execute_result"
    }
   ],
   "source": [
    "run_names"
   ]
  },
  {
   "cell_type": "code",
   "execution_count": 10,
   "id": "c71312b5-cc24-4d47-a4be-471dddda0e18",
   "metadata": {},
   "outputs": [],
   "source": [
    "dataset_name = 'other_punctate'\n",
    "batch_size = 2\n",
    "debug=False\n",
    "results_path = '/allen/aics/modeling/ritvik/projects/benchmarking_representations/configs/results/'\n",
    "data_list, all_models, run_names, model_sizes = get_data_and_models(dataset_name, batch_size, results_path, debug)"
   ]
  },
  {
   "cell_type": "code",
   "execution_count": 11,
   "id": "9aaeec86-9be9-4810-8988-9f81bc6921a5",
   "metadata": {},
   "outputs": [
    {
     "data": {
      "text/plain": [
       "<cyto_dl.datamodules.dataframe.dataframe_datamodule.DataframeDatamodule at 0x7fb8d932e4a0>"
      ]
     },
     "execution_count": 11,
     "metadata": {},
     "output_type": "execute_result"
    }
   ],
   "source": [
    "data_list[0]"
   ]
  },
  {
   "cell_type": "markdown",
   "id": "ede0eaca-ef18-4bf3-91f3-587eff53bce1",
   "metadata": {},
   "source": [
    "# compute embeddings and emissions"
   ]
  },
  {
   "cell_type": "code",
   "execution_count": null,
   "id": "33808edb-7c32-486e-8b2c-d930bea1a848",
   "metadata": {},
   "outputs": [
    {
     "name": "stdout",
     "output_type": "stream",
     "text": [
      "Processing train\n"
     ]
    },
    {
     "name": "stderr",
     "output_type": "stream",
     "text": [
      " 49%|███████████████████████████████████████████████████▍                                                      | 12174/25085 [35:00<39:48,  5.41it/s]Exception ignored in: <function _ConnectionBase.__del__ at 0x7fbab610ab00>\n",
      "Traceback (most recent call last):\n",
      "  File \"/home/ritvik.vasan/anaconda3/envs/replearn/lib/python3.10/multiprocessing/connection.py\", line 132, in __del__\n",
      "    self._close()\n",
      "  File \"/home/ritvik.vasan/anaconda3/envs/replearn/lib/python3.10/multiprocessing/connection.py\", line 361, in _close\n",
      "    _close(self._handle)\n",
      "OSError: [Errno 9] Bad file descriptor\n",
      "Traceback (most recent call last):\n",
      "  File \"/home/ritvik.vasan/anaconda3/envs/replearn/lib/python3.10/multiprocessing/queues.py\", line 239, in _feed\n",
      "    reader_close()\n",
      "  File \"/home/ritvik.vasan/anaconda3/envs/replearn/lib/python3.10/multiprocessing/connection.py\", line 177, in close\n",
      "    self._close()\n",
      "  File \"/home/ritvik.vasan/anaconda3/envs/replearn/lib/python3.10/multiprocessing/connection.py\", line 361, in _close\n",
      "    _close(self._handle)\n",
      "OSError: [Errno 9] Bad file descriptor\n",
      "100%|████████████████████████████████████████████████████████████████████████████████████████████████████████| 25085/25085 [1:12:26<00:00,  5.77it/s]\n"
     ]
    },
    {
     "name": "stdout",
     "output_type": "stream",
     "text": [
      "Processing val\n"
     ]
    },
    {
     "name": "stderr",
     "output_type": "stream",
     "text": [
      "100%|████████████████████████████████████████████████████████████████████████████████████████████████████████████| 5376/5376 [15:50<00:00,  5.66it/s]\n"
     ]
    },
    {
     "name": "stdout",
     "output_type": "stream",
     "text": [
      "Processing test\n"
     ]
    },
    {
     "name": "stderr",
     "output_type": "stream",
     "text": [
      "100%|████████████████████████████████████████████████████████████████████████████████████████████████████████████| 5376/5376 [15:47<00:00,  5.68it/s]\n"
     ]
    },
    {
     "name": "stdout",
     "output_type": "stream",
     "text": [
      "Processing train\n"
     ]
    },
    {
     "name": "stderr",
     "output_type": "stream",
     "text": [
      " 48%|█████████████████████████████████████████████████▍                                                    | 12143/25085 [1:03:37<1:07:09,  3.21it/s]"
     ]
    }
   ],
   "source": [
    "from br.models.save_embeddings import save_embeddings\n",
    "\n",
    "splits_list = [\"train\", 'val', \"test\"]\n",
    "meta_key = None\n",
    "eval_scaled_img = [False] * 5\n",
    "eval_scaled_img_params = [{}] * 5\n",
    "loss_eval_list = None\n",
    "sample_points_list = [True, True, False, False, False]\n",
    "skew_scale = 100\n",
    "save_embeddings(\n",
    "    save_path,\n",
    "    data_list,\n",
    "    all_models,\n",
    "    run_names,\n",
    "    debug,\n",
    "    splits_list,\n",
    "    device,\n",
    "    meta_key,\n",
    "    loss_eval_list,\n",
    "    sample_points_list,\n",
    "    skew_scale,\n",
    "    eval_scaled_img,\n",
    "    eval_scaled_img_params,\n",
    ")"
   ]
  },
  {
   "cell_type": "code",
   "execution_count": null,
   "id": "5a5a392c-2a2d-41ce-aacf-b1e1fb3c8156",
   "metadata": {},
   "outputs": [],
   "source": []
  }
 ],
 "metadata": {
  "kernelspec": {
   "display_name": "Python 3 (ipykernel)",
   "language": "python",
   "name": "python3"
  },
  "language_info": {
   "codemirror_mode": {
    "name": "ipython",
    "version": 3
   },
   "file_extension": ".py",
   "mimetype": "text/x-python",
   "name": "python",
   "nbconvert_exporter": "python",
   "pygments_lexer": "ipython3",
   "version": "3.10.14"
  }
 },
 "nbformat": 4,
 "nbformat_minor": 5
}
