{
 "cells": [
  {
   "cell_type": "code",
   "execution_count": 1,
   "id": "387fbbc4-3f5e-4491-bb6b-71c3811300a0",
   "metadata": {
    "scrolled": true
   },
   "outputs": [],
   "source": [
    "%load_ext autoreload\n",
    "%autoreload 2\n",
    "import os\n",
    "\n",
    "os.environ[\"CUDA_DEVICE_ORDER\"] = \"PCI_BUS_ID\"  # see issue #152\n",
    "os.environ[\"CUDA_VISIBLE_DEVICES\"]=\"MIG-ff70592b-6c77-5bde-832d-88d1e18cad50\" \n",
    "import matplotlib.pyplot as plt\n",
    "import numpy as np\n",
    "import torch\n",
    "import yaml\n",
    "from hydra.utils import instantiate\n",
    "from PIL import Image\n",
    "from torch.utils.data import DataLoader, Dataset\n",
    "import pandas as pd\n",
    "from br.models.load_models import get_data_and_models\n",
    "from br.models.save_embeddings import get_pc_loss, save_embeddings, save_emissions, get_pc_loss_chamfer\n",
    "from br.models.compute_features import compute_features\n",
    "from br.models.utils import get_all_configs_per_dataset\n",
    "from br.features.plot import collect_outputs, plot, plot_stratified_pc\n",
    "from br.models.compute_features import get_embeddings\n",
    "from br.models.utils import get_all_configs_per_dataset\n",
    "from br.features.reconstruction import stratified_latent_walk\n",
    "from br.features.archetype import AA_Fast\n",
    "from pathlib import Path\n",
    "import pandas as pd\n",
    "from br.features.utils import normalize_intensities_and_get_colormap, normalize_intensities_and_get_colormap_apply\n",
    "import os\n",
    "\n",
    "\n",
    "device = \"cuda:0\""
   ]
  },
  {
   "cell_type": "markdown",
   "id": "b19c1cd4-02b6-4e6e-abe5-c90de92ebbe6",
   "metadata": {},
   "source": [
    "# Load data and models"
   ]
  },
  {
   "cell_type": "code",
   "execution_count": 2,
   "id": "d4372d26-2176-4e06-b47e-3d9d4ef80554",
   "metadata": {},
   "outputs": [],
   "source": [
    "# Set paths\n",
    "\n",
    "os.chdir('/allen/aics/modeling/ritvik/projects/benchmarking_representations/')\n",
    "save_path = './test_var_punctate_embeddings/'"
   ]
  },
  {
   "cell_type": "code",
   "execution_count": 3,
   "id": "53e0b793-8341-4789-9a71-ab14c667cf52",
   "metadata": {},
   "outputs": [],
   "source": [
    "# Util function\n",
    "def get_data_and_models(dataset_name, batch_size, results_path, debug=False):\n",
    "    data_list = get_data(dataset_name, batch_size, results_path, debug)\n",
    "    all_models, run_names, model_sizes = load_model_from_path(dataset_name, results_path) # default list of models in load_models.py\n",
    "    return data_list, all_models, run_names, model_sizes"
   ]
  },
  {
   "cell_type": "code",
   "execution_count": 5,
   "id": "c71312b5-cc24-4d47-a4be-471dddda0e18",
   "metadata": {},
   "outputs": [],
   "source": [
    "# Get datamodules, models, runs, model sizes\n",
    "\n",
    "dataset_name = 'other_punctate'\n",
    "batch_size = 2\n",
    "debug=False\n",
    "results_path = '/allen/aics/modeling/ritvik/projects/benchmarking_representations/configs/results/'\n",
    "data_list, all_models, run_names, model_sizes = get_data_and_models(dataset_name, batch_size, results_path, debug)"
   ]
  },
  {
   "cell_type": "markdown",
   "id": "ede0eaca-ef18-4bf3-91f3-587eff53bce1",
   "metadata": {},
   "source": [
    "# compute embeddings and emissions"
   ]
  },
  {
   "cell_type": "code",
   "execution_count": 13,
   "id": "33808edb-7c32-486e-8b2c-d930bea1a848",
   "metadata": {
    "scrolled": true
   },
   "outputs": [
    {
     "name": "stdout",
     "output_type": "stream",
     "text": [
      "Processing train\n"
     ]
    },
    {
     "name": "stderr",
     "output_type": "stream",
     "text": [
      " 49%|███████████████████████████████████████████████████▍                                                      | 12174/25085 [35:00<39:48,  5.41it/s]Exception ignored in: <function _ConnectionBase.__del__ at 0x7fbab610ab00>\n",
      "Traceback (most recent call last):\n",
      "  File \"/home/ritvik.vasan/anaconda3/envs/replearn/lib/python3.10/multiprocessing/connection.py\", line 132, in __del__\n",
      "    self._close()\n",
      "  File \"/home/ritvik.vasan/anaconda3/envs/replearn/lib/python3.10/multiprocessing/connection.py\", line 361, in _close\n",
      "    _close(self._handle)\n",
      "OSError: [Errno 9] Bad file descriptor\n",
      "Traceback (most recent call last):\n",
      "  File \"/home/ritvik.vasan/anaconda3/envs/replearn/lib/python3.10/multiprocessing/queues.py\", line 239, in _feed\n",
      "    reader_close()\n",
      "  File \"/home/ritvik.vasan/anaconda3/envs/replearn/lib/python3.10/multiprocessing/connection.py\", line 177, in close\n",
      "    self._close()\n",
      "  File \"/home/ritvik.vasan/anaconda3/envs/replearn/lib/python3.10/multiprocessing/connection.py\", line 361, in _close\n",
      "    _close(self._handle)\n",
      "OSError: [Errno 9] Bad file descriptor\n",
      "100%|████████████████████████████████████████████████████████████████████████████████████████████████████████| 25085/25085 [1:12:26<00:00,  5.77it/s]\n"
     ]
    },
    {
     "name": "stdout",
     "output_type": "stream",
     "text": [
      "Processing val\n"
     ]
    },
    {
     "name": "stderr",
     "output_type": "stream",
     "text": [
      "100%|████████████████████████████████████████████████████████████████████████████████████████████████████████████| 5376/5376 [15:50<00:00,  5.66it/s]\n"
     ]
    },
    {
     "name": "stdout",
     "output_type": "stream",
     "text": [
      "Processing test\n"
     ]
    },
    {
     "name": "stderr",
     "output_type": "stream",
     "text": [
      "100%|████████████████████████████████████████████████████████████████████████████████████████████████████████████| 5376/5376 [15:47<00:00,  5.68it/s]\n"
     ]
    },
    {
     "name": "stdout",
     "output_type": "stream",
     "text": [
      "Processing train\n"
     ]
    },
    {
     "name": "stderr",
     "output_type": "stream",
     "text": [
      "100%|████████████████████████████████████████████████████████████████████████████████████████████████████████| 25085/25085 [2:11:01<00:00,  3.19it/s]\n"
     ]
    },
    {
     "name": "stdout",
     "output_type": "stream",
     "text": [
      "Processing val\n"
     ]
    },
    {
     "name": "stderr",
     "output_type": "stream",
     "text": [
      "100%|████████████████████████████████████████████████████████████████████████████████████████████████████████████| 5376/5376 [28:07<00:00,  3.19it/s]\n"
     ]
    },
    {
     "name": "stdout",
     "output_type": "stream",
     "text": [
      "Processing test\n"
     ]
    },
    {
     "name": "stderr",
     "output_type": "stream",
     "text": [
      "100%|████████████████████████████████████████████████████████████████████████████████████████████████████████████| 5376/5376 [28:08<00:00,  3.18it/s]\n"
     ]
    },
    {
     "name": "stdout",
     "output_type": "stream",
     "text": [
      "Processing train\n"
     ]
    },
    {
     "name": "stderr",
     "output_type": "stream",
     "text": [
      "100%|██████████████████████████████████████████████████████████████████████████████████████████████████████████| 25085/25085 [20:13<00:00, 20.68it/s]\n"
     ]
    },
    {
     "name": "stdout",
     "output_type": "stream",
     "text": [
      "Processing val\n"
     ]
    },
    {
     "name": "stderr",
     "output_type": "stream",
     "text": [
      "100%|████████████████████████████████████████████████████████████████████████████████████████████████████████████| 5376/5376 [04:23<00:00, 20.43it/s]\n"
     ]
    },
    {
     "name": "stdout",
     "output_type": "stream",
     "text": [
      "Processing test\n"
     ]
    },
    {
     "name": "stderr",
     "output_type": "stream",
     "text": [
      "100%|████████████████████████████████████████████████████████████████████████████████████████████████████████████| 5376/5376 [04:22<00:00, 20.47it/s]\n"
     ]
    },
    {
     "name": "stdout",
     "output_type": "stream",
     "text": [
      "Processing train\n"
     ]
    },
    {
     "name": "stderr",
     "output_type": "stream",
     "text": [
      "100%|██████████████████████████████████████████████████████████████████████████████████████████████████████████| 25085/25085 [22:09<00:00, 18.86it/s]\n"
     ]
    },
    {
     "name": "stdout",
     "output_type": "stream",
     "text": [
      "Processing val\n"
     ]
    },
    {
     "name": "stderr",
     "output_type": "stream",
     "text": [
      "100%|████████████████████████████████████████████████████████████████████████████████████████████████████████████| 5376/5376 [04:45<00:00, 18.85it/s]\n"
     ]
    },
    {
     "name": "stdout",
     "output_type": "stream",
     "text": [
      "Processing test\n"
     ]
    },
    {
     "name": "stderr",
     "output_type": "stream",
     "text": [
      "100%|████████████████████████████████████████████████████████████████████████████████████████████████████████████| 5376/5376 [04:46<00:00, 18.79it/s]\n"
     ]
    },
    {
     "name": "stdout",
     "output_type": "stream",
     "text": [
      "Processing train\n"
     ]
    },
    {
     "name": "stderr",
     "output_type": "stream",
     "text": [
      "100%|██████████████████████████████████████████████████████████████████████████████████████████████████████████| 25085/25085 [22:00<00:00, 18.99it/s]\n"
     ]
    },
    {
     "name": "stdout",
     "output_type": "stream",
     "text": [
      "Processing val\n"
     ]
    },
    {
     "name": "stderr",
     "output_type": "stream",
     "text": [
      "100%|████████████████████████████████████████████████████████████████████████████████████████████████████████████| 5376/5376 [04:45<00:00, 18.82it/s]\n"
     ]
    },
    {
     "name": "stdout",
     "output_type": "stream",
     "text": [
      "Processing test\n"
     ]
    },
    {
     "name": "stderr",
     "output_type": "stream",
     "text": [
      "100%|████████████████████████████████████████████████████████████████████████████████████████████████████████████| 5376/5376 [04:49<00:00, 18.59it/s]\n"
     ]
    }
   ],
   "source": [
    "# Compute embeddings and reconstructions for each model\n",
    "\n",
    "splits_list = [\"train\", 'val', \"test\"]\n",
    "meta_key = None\n",
    "eval_scaled_img = [False] * 5\n",
    "eval_scaled_img_params = [{}] * 5\n",
    "loss_eval_list = None\n",
    "sample_points_list = [True, True, False, False, False]\n",
    "skew_scale = 100\n",
    "save_embeddings(\n",
    "    save_path,\n",
    "    data_list,\n",
    "    all_models,\n",
    "    run_names,\n",
    "    debug,\n",
    "    splits_list,\n",
    "    device,\n",
    "    meta_key,\n",
    "    loss_eval_list,\n",
    "    sample_points_list,\n",
    "    skew_scale,\n",
    "    eval_scaled_img,\n",
    "    eval_scaled_img_params,\n",
    ")"
   ]
  },
  {
   "cell_type": "code",
   "execution_count": 15,
   "id": "5a5a392c-2a2d-41ce-aacf-b1e1fb3c8156",
   "metadata": {},
   "outputs": [
    {
     "data": {
      "text/plain": [
       "['classical_image',\n",
       " 'so3_image',\n",
       " '2048_ed_dgcnn',\n",
       " '2048_int_ed_vndgcnn',\n",
       " '2048_int_ed_vndgcnn_structnorm']"
      ]
     },
     "execution_count": 15,
     "metadata": {},
     "output_type": "execute_result"
    }
   ],
   "source": [
    "# Save emission stats for each model \n",
    "\n",
    "max_batches = 2\n",
    "save_emissions(\n",
    "    save_path,\n",
    "    data_list,\n",
    "    all_models,\n",
    "    run_names,\n",
    "    max_batches,\n",
    "    debug,\n",
    "    device,\n",
    "    loss_eval_list,\n",
    "    sample_points_list,\n",
    "    skew_scale,\n",
    "    eval_scaled_img,\n",
    "    eval_scaled_img_params,\n",
    ")"
   ]
  },
  {
   "cell_type": "markdown",
   "id": "955098f2-be5f-4731-8913-80e2e4caf25b",
   "metadata": {},
   "source": [
    "# Compute benchmarking features"
   ]
  },
  {
   "cell_type": "code",
   "execution_count": null,
   "id": "ba7d4798-08bf-4799-95d8-922d20afe003",
   "metadata": {},
   "outputs": [
    {
     "name": "stdout",
     "output_type": "stream",
     "text": [
      "Computing rotation invariance\n"
     ]
    },
    {
     "name": "stderr",
     "output_type": "stream",
     "text": [
      "  1%|▊                                                                                                           | 41/5376 [00:43<1:33:15,  1.05s/it]\n",
      "  1%|▊                                                                                                           | 41/5376 [01:05<2:22:51,  1.61s/it]\n",
      "  1%|▊                                                                                                             | 41/5376 [00:04<09:16,  9.59it/s]\n",
      "  1%|▊                                                                                                             | 41/5376 [00:04<10:20,  8.60it/s]\n",
      "  1%|▊                                                                                                             | 41/5376 [00:04<10:15,  8.66it/s]\n"
     ]
    },
    {
     "name": "stdout",
     "output_type": "stream",
     "text": [
      "Getting reconstruction\n",
      "Computing compactness\n"
     ]
    },
    {
     "name": "stderr",
     "output_type": "stream",
     "text": [
      "100%|██████████████████████████████████████████████████████████████████████████████████████████████████████████████████| 5/5 [00:04<00:00,  1.02it/s]\n",
      "  0%|                                                                                                                          | 0/5 [00:00<?, ?it/s]"
     ]
    },
    {
     "name": "stdout",
     "output_type": "stream",
     "text": [
      "(71673, 256)\n",
      "Outlier column is cell stage\n"
     ]
    },
    {
     "name": "stderr",
     "output_type": "stream",
     "text": [
      "/home/ritvik.vasan/anaconda3/envs/replearn/lib/python3.10/site-packages/sklearn/linear_model/_logistic.py:1256: FutureWarning: 'multi_class' was deprecated in version 1.5 and will be removed in 1.7. Use OneVsRestClassifier(LogisticRegression(..)) instead. Leave it to its default value to avoid this warning.\n",
      "  warnings.warn(\n",
      "/home/ritvik.vasan/anaconda3/envs/replearn/lib/python3.10/site-packages/sklearn/linear_model/_logistic.py:1256: FutureWarning: 'multi_class' was deprecated in version 1.5 and will be removed in 1.7. Use OneVsRestClassifier(LogisticRegression(..)) instead. Leave it to its default value to avoid this warning.\n",
      "  warnings.warn(\n",
      "/home/ritvik.vasan/anaconda3/envs/replearn/lib/python3.10/site-packages/sklearn/linear_model/_logistic.py:1256: FutureWarning: 'multi_class' was deprecated in version 1.5 and will be removed in 1.7. Use OneVsRestClassifier(LogisticRegression(..)) instead. Leave it to its default value to avoid this warning.\n",
      "  warnings.warn(\n",
      "/home/ritvik.vasan/anaconda3/envs/replearn/lib/python3.10/site-packages/sklearn/linear_model/_logistic.py:1256: FutureWarning: 'multi_class' was deprecated in version 1.5 and will be removed in 1.7. Use OneVsRestClassifier(LogisticRegression(..)) instead. Leave it to its default value to avoid this warning.\n",
      "  warnings.warn(\n",
      "/home/ritvik.vasan/anaconda3/envs/replearn/lib/python3.10/site-packages/sklearn/linear_model/_logistic.py:1256: FutureWarning: 'multi_class' was deprecated in version 1.5 and will be removed in 1.7. Use OneVsRestClassifier(LogisticRegression(..)) instead. Leave it to its default value to avoid this warning.\n",
      "  warnings.warn(\n",
      " 20%|██████████████████████                                                                                        | 1/5 [33:37<2:14:29, 2017.44s/it]"
     ]
    },
    {
     "name": "stdout",
     "output_type": "stream",
     "text": [
      "(71673, 256)\n",
      "Outlier column is cell stage\n"
     ]
    },
    {
     "name": "stderr",
     "output_type": "stream",
     "text": [
      "/home/ritvik.vasan/anaconda3/envs/replearn/lib/python3.10/site-packages/sklearn/linear_model/_logistic.py:1256: FutureWarning: 'multi_class' was deprecated in version 1.5 and will be removed in 1.7. Use OneVsRestClassifier(LogisticRegression(..)) instead. Leave it to its default value to avoid this warning.\n",
      "  warnings.warn(\n",
      "/home/ritvik.vasan/anaconda3/envs/replearn/lib/python3.10/site-packages/sklearn/linear_model/_logistic.py:1256: FutureWarning: 'multi_class' was deprecated in version 1.5 and will be removed in 1.7. Use OneVsRestClassifier(LogisticRegression(..)) instead. Leave it to its default value to avoid this warning.\n",
      "  warnings.warn(\n",
      "/home/ritvik.vasan/anaconda3/envs/replearn/lib/python3.10/site-packages/sklearn/linear_model/_logistic.py:1256: FutureWarning: 'multi_class' was deprecated in version 1.5 and will be removed in 1.7. Use OneVsRestClassifier(LogisticRegression(..)) instead. Leave it to its default value to avoid this warning.\n",
      "  warnings.warn(\n",
      "/home/ritvik.vasan/anaconda3/envs/replearn/lib/python3.10/site-packages/sklearn/linear_model/_logistic.py:1256: FutureWarning: 'multi_class' was deprecated in version 1.5 and will be removed in 1.7. Use OneVsRestClassifier(LogisticRegression(..)) instead. Leave it to its default value to avoid this warning.\n",
      "  warnings.warn(\n",
      "/home/ritvik.vasan/anaconda3/envs/replearn/lib/python3.10/site-packages/sklearn/linear_model/_logistic.py:1256: FutureWarning: 'multi_class' was deprecated in version 1.5 and will be removed in 1.7. Use OneVsRestClassifier(LogisticRegression(..)) instead. Leave it to its default value to avoid this warning.\n",
      "  warnings.warn(\n",
      " 40%|████████████████████████████████████████████                                                                  | 2/5 [56:08<1:21:15, 1625.17s/it]"
     ]
    },
    {
     "name": "stdout",
     "output_type": "stream",
     "text": [
      "(71673, 256)\n",
      "Outlier column is cell stage\n"
     ]
    },
    {
     "name": "stderr",
     "output_type": "stream",
     "text": [
      "/home/ritvik.vasan/anaconda3/envs/replearn/lib/python3.10/site-packages/sklearn/linear_model/_logistic.py:1256: FutureWarning: 'multi_class' was deprecated in version 1.5 and will be removed in 1.7. Use OneVsRestClassifier(LogisticRegression(..)) instead. Leave it to its default value to avoid this warning.\n",
      "  warnings.warn(\n",
      "/home/ritvik.vasan/anaconda3/envs/replearn/lib/python3.10/site-packages/sklearn/linear_model/_logistic.py:1256: FutureWarning: 'multi_class' was deprecated in version 1.5 and will be removed in 1.7. Use OneVsRestClassifier(LogisticRegression(..)) instead. Leave it to its default value to avoid this warning.\n",
      "  warnings.warn(\n",
      "/home/ritvik.vasan/anaconda3/envs/replearn/lib/python3.10/site-packages/sklearn/linear_model/_logistic.py:1256: FutureWarning: 'multi_class' was deprecated in version 1.5 and will be removed in 1.7. Use OneVsRestClassifier(LogisticRegression(..)) instead. Leave it to its default value to avoid this warning.\n",
      "  warnings.warn(\n",
      "/home/ritvik.vasan/anaconda3/envs/replearn/lib/python3.10/site-packages/sklearn/linear_model/_logistic.py:1256: FutureWarning: 'multi_class' was deprecated in version 1.5 and will be removed in 1.7. Use OneVsRestClassifier(LogisticRegression(..)) instead. Leave it to its default value to avoid this warning.\n",
      "  warnings.warn(\n",
      "/home/ritvik.vasan/anaconda3/envs/replearn/lib/python3.10/site-packages/sklearn/linear_model/_logistic.py:1256: FutureWarning: 'multi_class' was deprecated in version 1.5 and will be removed in 1.7. Use OneVsRestClassifier(LogisticRegression(..)) instead. Leave it to its default value to avoid this warning.\n",
      "  warnings.warn(\n",
      " 60%|████████████████████████████████████████████████████████████████▊                                           | 3/5 [1:30:32<1:00:51, 1825.90s/it]"
     ]
    },
    {
     "name": "stdout",
     "output_type": "stream",
     "text": [
      "(71673, 256)\n",
      "Outlier column is cell stage\n"
     ]
    },
    {
     "name": "stderr",
     "output_type": "stream",
     "text": [
      "/home/ritvik.vasan/anaconda3/envs/replearn/lib/python3.10/site-packages/sklearn/linear_model/_logistic.py:1256: FutureWarning: 'multi_class' was deprecated in version 1.5 and will be removed in 1.7. Use OneVsRestClassifier(LogisticRegression(..)) instead. Leave it to its default value to avoid this warning.\n",
      "  warnings.warn(\n",
      "/home/ritvik.vasan/anaconda3/envs/replearn/lib/python3.10/site-packages/sklearn/linear_model/_logistic.py:1256: FutureWarning: 'multi_class' was deprecated in version 1.5 and will be removed in 1.7. Use OneVsRestClassifier(LogisticRegression(..)) instead. Leave it to its default value to avoid this warning.\n",
      "  warnings.warn(\n",
      "/home/ritvik.vasan/anaconda3/envs/replearn/lib/python3.10/site-packages/sklearn/linear_model/_logistic.py:1256: FutureWarning: 'multi_class' was deprecated in version 1.5 and will be removed in 1.7. Use OneVsRestClassifier(LogisticRegression(..)) instead. Leave it to its default value to avoid this warning.\n",
      "  warnings.warn(\n",
      "/home/ritvik.vasan/anaconda3/envs/replearn/lib/python3.10/site-packages/sklearn/linear_model/_logistic.py:1256: FutureWarning: 'multi_class' was deprecated in version 1.5 and will be removed in 1.7. Use OneVsRestClassifier(LogisticRegression(..)) instead. Leave it to its default value to avoid this warning.\n",
      "  warnings.warn(\n",
      "/home/ritvik.vasan/anaconda3/envs/replearn/lib/python3.10/site-packages/sklearn/linear_model/_logistic.py:1256: FutureWarning: 'multi_class' was deprecated in version 1.5 and will be removed in 1.7. Use OneVsRestClassifier(LogisticRegression(..)) instead. Leave it to its default value to avoid this warning.\n",
      "  warnings.warn(\n",
      " 80%|████████████████████████████████████████████████████████████████████████████████████████                      | 4/5 [1:59:52<29:59, 1799.58s/it]"
     ]
    },
    {
     "name": "stdout",
     "output_type": "stream",
     "text": [
      "(71673, 256)\n",
      "Outlier column is cell stage\n"
     ]
    },
    {
     "name": "stderr",
     "output_type": "stream",
     "text": [
      "/home/ritvik.vasan/anaconda3/envs/replearn/lib/python3.10/site-packages/sklearn/linear_model/_logistic.py:1256: FutureWarning: 'multi_class' was deprecated in version 1.5 and will be removed in 1.7. Use OneVsRestClassifier(LogisticRegression(..)) instead. Leave it to its default value to avoid this warning.\n",
      "  warnings.warn(\n",
      "/home/ritvik.vasan/anaconda3/envs/replearn/lib/python3.10/site-packages/sklearn/linear_model/_logistic.py:1256: FutureWarning: 'multi_class' was deprecated in version 1.5 and will be removed in 1.7. Use OneVsRestClassifier(LogisticRegression(..)) instead. Leave it to its default value to avoid this warning.\n",
      "  warnings.warn(\n",
      "/home/ritvik.vasan/anaconda3/envs/replearn/lib/python3.10/site-packages/sklearn/linear_model/_logistic.py:1256: FutureWarning: 'multi_class' was deprecated in version 1.5 and will be removed in 1.7. Use OneVsRestClassifier(LogisticRegression(..)) instead. Leave it to its default value to avoid this warning.\n",
      "  warnings.warn(\n",
      "/home/ritvik.vasan/anaconda3/envs/replearn/lib/python3.10/site-packages/sklearn/linear_model/_logistic.py:1256: FutureWarning: 'multi_class' was deprecated in version 1.5 and will be removed in 1.7. Use OneVsRestClassifier(LogisticRegression(..)) instead. Leave it to its default value to avoid this warning.\n",
      "  warnings.warn(\n",
      "/home/ritvik.vasan/anaconda3/envs/replearn/lib/python3.10/site-packages/sklearn/linear_model/_logistic.py:1256: FutureWarning: 'multi_class' was deprecated in version 1.5 and will be removed in 1.7. Use OneVsRestClassifier(LogisticRegression(..)) instead. Leave it to its default value to avoid this warning.\n",
      "  warnings.warn(\n",
      "100%|██████████████████████████████████████████████████████████████████████████████████████████████████████████████| 5/5 [2:25:05<00:00, 1741.06s/it]\n"
     ]
    },
    {
     "name": "stdout",
     "output_type": "stream",
     "text": [
      "Computing classification\n"
     ]
    },
    {
     "name": "stderr",
     "output_type": "stream",
     "text": [
      "100%|█████████████████████████████████████████████████████████████████████████████████████████████████████████████████| 5/5 [54:57<00:00, 659.52s/it]\n",
      "100%|█████████████████████████████████████████████████████████████████████████████████████████████████████████████████| 5/5 [42:41<00:00, 512.38s/it]\n"
     ]
    },
    {
     "name": "stdout",
     "output_type": "stream",
     "text": [
      "Computing evolution\n"
     ]
    },
    {
     "name": "stderr",
     "output_type": "stream",
     "text": [
      "100%|██████████████████████████████████████████████████████████████████████████████████████████████████████████| 5376/5376 [1:41:16<00:00,  1.13s/it]\n",
      " 11%|███████████▎                                                                                               | 570/5376 [13:29<1:50:58,  1.39s/it]"
     ]
    }
   ],
   "source": [
    "# Compute multi-metric benchmarking features\n",
    "\n",
    "keys = ['image', 'image', 'pcloud', 'pcloud', 'pcloud']\n",
    "max_embed_dim = 256\n",
    "DATA_LIST = get_all_configs_per_dataset(results_path)\n",
    "data_config_list = DATA_LIST[dataset_name][\"data_paths\"]\n",
    "\n",
    "evolve_params = {\n",
    "    \"modality_list_evolve\": keys,\n",
    "    \"config_list_evolve\": data_config_list,\n",
    "    \"num_evolve_samples\": 40,\n",
    "    \"compute_evolve_dataloaders\": False,\n",
    "    \"eval_meshed_img\": [False] * 5,\n",
    "    \"skew_scale\": 100,\n",
    "    \"eval_meshed_img_model_type\": [None] * 5,\n",
    "    \"only_embedding\": False,\n",
    "    \"fit_pca\": False,\n",
    "}\n",
    "\n",
    "loss_eval = get_pc_loss_chamfer()\n",
    "loss_eval_list = [loss_eval] * 5\n",
    "use_sample_points_list = [True, True, False, False, False]\n",
    "\n",
    "classification_params = {\"class_labels\": [\"structure_name\", 'cell_stage']}\n",
    "rot_inv_params = {\"squeeze_2d\": False, \"id\": \"cell_id\", 'max_batches': 40}\n",
    "\n",
    "regression_params = {\"df_feat\": None, \"target_cols\": None, \"feature_df_path\": None}\n",
    "\n",
    "compactness_params = {\n",
    "    \"method\": \"mle\",\n",
    "    \"num_PCs\": None,\n",
    "    \"blobby_outlier_max_cc\": None,\n",
    "    \"check_duplicates\": True,\n",
    "}\n",
    "\n",
    "splits_list = [\"train\", \"val\", \"test\"]\n",
    "compute_embeds = False\n",
    "\n",
    "metric_list = [\n",
    "    \"Rotation Invariance Error\",\n",
    "    \"Evolution Energy\",\n",
    "    \"Reconstruction\",\n",
    "    \"Classification\",\n",
    "    \"Compactness\",\n",
    "]\n",
    "\n",
    "\n",
    "compute_features(\n",
    "    dataset=dataset_name,\n",
    "    results_path=results_path,\n",
    "    embeddings_path=save_path,\n",
    "    save_folder=save_path,\n",
    "    data_list=data_list,\n",
    "    all_models=all_models,\n",
    "    run_names=run_names,\n",
    "    use_sample_points_list=use_sample_points_list,\n",
    "    keys=keys,\n",
    "    device=device,\n",
    "    max_embed_dim=max_embed_dim,\n",
    "    splits_list=splits_list,\n",
    "    compute_embeds=compute_embeds,\n",
    "    classification_params=classification_params,\n",
    "    regression_params=regression_params,\n",
    "    metric_list=metric_list,\n",
    "    loss_eval_list=loss_eval_list,\n",
    "    evolve_params=evolve_params,\n",
    "    rot_inv_params=rot_inv_params,\n",
    "    compactness_params=compactness_params,\n",
    ")"
   ]
  },
  {
   "cell_type": "markdown",
   "id": "bba83dc7-aba7-486f-bf62-037efea988ba",
   "metadata": {},
   "source": [
    "# Polar plot viz"
   ]
  },
  {
   "cell_type": "code",
   "execution_count": null,
   "id": "b308ebae-ba3e-486e-8ec6-3d03d38e7a45",
   "metadata": {},
   "outputs": [],
   "source": [
    "# Holistic viz of features\n",
    "model_order = [\"Classical_image\", \"SO3_image\", \"Classical_pointcloud\", \"SO3_pointcloud\"]\n",
    "metric_list = ['reconstruction', 'emissions', 'classification_cell_stage_fine', 'classification_flag_comment',\n",
    "               'compactness', 'evolution_energy', \n",
    "               'model_sizes', 'rotation_invariance_error']\n",
    "norm = 'std'\n",
    "title = 'pcna_comparison'\n",
    "colors_list = None\n",
    "unique_expressivity_metrics = ['Classification_cell_stage_fine', 'Classification_flag_comment']\n",
    "df, df_non_agg = collect_outputs(save_path, norm, model_order, metric_list)\n",
    "plot(save_path, df, model_order, title, colors_list, norm, unique_expressivity_metrics)"
   ]
  },
  {
   "cell_type": "code",
   "execution_count": 7,
   "id": "37c2d96a-0598-42ee-b62d-2f04b7cb421a",
   "metadata": {},
   "outputs": [
    {
     "data": {
      "text/plain": [
       "1"
      ]
     },
     "execution_count": 7,
     "metadata": {},
     "output_type": "execute_result"
    }
   ],
   "source": [
    "1"
   ]
  },
  {
   "cell_type": "code",
   "execution_count": null,
   "id": "93e09e0f-e675-40a2-9ae6-b18cbaafe41d",
   "metadata": {},
   "outputs": [],
   "source": []
  }
 ],
 "metadata": {
  "kernelspec": {
   "display_name": "Python 3 (ipykernel)",
   "language": "python",
   "name": "python3"
  },
  "language_info": {
   "codemirror_mode": {
    "name": "ipython",
    "version": 3
   },
   "file_extension": ".py",
   "mimetype": "text/x-python",
   "name": "python",
   "nbconvert_exporter": "python",
   "pygments_lexer": "ipython3",
   "version": "3.10.14"
  }
 },
 "nbformat": 4,
 "nbformat_minor": 5
}
