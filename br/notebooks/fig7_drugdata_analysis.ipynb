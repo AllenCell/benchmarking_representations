{
 "cells": [
  {
   "cell_type": "code",
   "execution_count": 1,
   "id": "980c3db8-9252-4e3b-970c-926551219ef1",
   "metadata": {},
   "outputs": [],
   "source": [
    "%load_ext autoreload\n",
    "%autoreload 2\n",
    "import os\n",
    "\n",
    "os.environ[\"CUDA_DEVICE_ORDER\"] = \"PCI_BUS_ID\"  # see issue #152\n",
    "os.environ[\"CUDA_VISIBLE_DEVICES\"] = \"MIG-0bb056ed-239d-5614-a667-fd108c1880cf\"\n",
    "import matplotlib.pyplot as plt\n",
    "import numpy as np\n",
    "import pandas as pd\n",
    "import torch\n",
    "import yaml\n",
    "from hydra.utils import instantiate\n",
    "from PIL import Image\n",
    "from torch.utils.data import DataLoader, Dataset\n",
    "\n",
    "from br.models.compute_features import get_embeddings\n",
    "from br.models.load_models import get_data_and_models\n",
    "from br.models.save_embeddings import get_pc_loss, save_embeddings\n",
    "from br.models.utils import get_all_configs_per_dataset\n",
    "\n",
    "device = \"cuda:0\""
   ]
  },
  {
   "cell_type": "markdown",
   "id": "83b5a0c6-586c-457b-955e-f344da74cc35",
   "metadata": {},
   "source": [
    "# Load data and models"
   ]
  },
  {
   "cell_type": "code",
   "execution_count": 2,
   "id": "8d47ccb8-db91-4b8e-b7fb-9c112191eb27",
   "metadata": {},
   "outputs": [],
   "source": [
    "# Set paths\n",
    "os.chdir(\"/allen/aics/modeling/ritvik/projects/benchmarking_representations/\")\n",
    "save_path = \"./test_npm1_perturb/\""
   ]
  },
  {
   "cell_type": "code",
   "execution_count": 3,
   "id": "62dd54d3-6272-4ab5-9853-e1c027f96de2",
   "metadata": {},
   "outputs": [],
   "source": [
    "# Get datamodules, models, runs, model sizes\n",
    "\n",
    "dataset_name = \"npm1_perturb\"\n",
    "batch_size = 2\n",
    "debug = False\n",
    "results_path = \"/allen/aics/modeling/ritvik/projects/benchmarking_representations/configs/results/\"\n",
    "data_list, all_models, run_names, model_sizes = get_data_and_models(\n",
    "    dataset_name, batch_size, results_path, debug\n",
    ")"
   ]
  },
  {
   "cell_type": "markdown",
   "id": "1feb7e95-5d04-4dd1-9141-48bf1a3b0297",
   "metadata": {},
   "source": [
    "# Compute embeddings"
   ]
  },
  {
   "cell_type": "code",
   "execution_count": 7,
   "id": "7e8f82b6-ffad-4cf7-942c-efce7bbea688",
   "metadata": {
    "scrolled": true
   },
   "outputs": [
    {
     "name": "stdout",
     "output_type": "stream",
     "text": [
      "Processing train\n"
     ]
    },
    {
     "name": "stderr",
     "output_type": "stream",
     "text": [
      "100%|██████████████████████████████████████████████████████████████████████████████████████████████████████████████| 359/359 [01:13<00:00,  4.88it/s]\n"
     ]
    },
    {
     "name": "stdout",
     "output_type": "stream",
     "text": [
      "Processing val\n"
     ]
    },
    {
     "name": "stderr",
     "output_type": "stream",
     "text": [
      "100%|████████████████████████████████████████████████████████████████████████████████████████████████████████████████| 77/77 [01:04<00:00,  1.19it/s]\n"
     ]
    },
    {
     "name": "stdout",
     "output_type": "stream",
     "text": [
      "Processing test\n"
     ]
    },
    {
     "name": "stderr",
     "output_type": "stream",
     "text": [
      "100%|████████████████████████████████████████████████████████████████████████████████████████████████████████████████| 77/77 [01:06<00:00,  1.16it/s]\n"
     ]
    }
   ],
   "source": [
    "# Save embeddings for each model\n",
    "\n",
    "splits_list = [\"train\", \"val\", \"test\"]\n",
    "meta_key = None\n",
    "eval_scaled_img = [False] * 5\n",
    "eval_scaled_img_params = [{}] * 5\n",
    "loss_eval_list = [None] * 5\n",
    "sample_points_list = [False] * 5\n",
    "skew_scale = None\n",
    "save_embeddings(\n",
    "    save_path,\n",
    "    data_list,\n",
    "    all_models,\n",
    "    run_names,\n",
    "    debug,\n",
    "    splits_list,\n",
    "    device,\n",
    "    meta_key,\n",
    "    loss_eval_list,\n",
    "    sample_points_list,\n",
    "    skew_scale,\n",
    "    eval_scaled_img,\n",
    "    eval_scaled_img_params,\n",
    ")"
   ]
  },
  {
   "cell_type": "code",
   "execution_count": null,
   "id": "08c4d765-9bc0-4245-b553-c5e21509fa5e",
   "metadata": {},
   "outputs": [],
   "source": []
  },
  {
   "cell_type": "markdown",
   "id": "5c60eeb0-d0b5-4b1f-90bc-3b6cc8a23890",
   "metadata": {},
   "source": [
    "# Get embeddings"
   ]
  },
  {
   "cell_type": "code",
   "execution_count": 80,
   "id": "675b2ac8-5a7f-4059-ba3d-4309c44dc741",
   "metadata": {},
   "outputs": [],
   "source": [
    "# Load model and embeddings\n",
    "DATASET_INFO = get_all_configs_per_dataset(results_path)\n",
    "run_names = None\n",
    "all_ret, orig = get_embeddings(run_names, dataset_name, DATASET_INFO, save_path)\n",
    "all_ret[\"well_position\"] = \"A0\"  # dummy\n",
    "all_ret[\"Assay_Plate_Barcode\"] = \"Plate0\"  # dummy"
   ]
  },
  {
   "cell_type": "code",
   "execution_count": 81,
   "id": "45143b0e-9e74-4cfe-b177-936e6d5d549d",
   "metadata": {},
   "outputs": [
    {
     "data": {
      "text/plain": [
       "array(['Classical_image_SDF', 'Classical_image_seg', 'SO3_image_SDF',\n",
       "       'SO3_image_seg', 'SO3_pointcloud_SDF'], dtype=object)"
      ]
     },
     "execution_count": 81,
     "metadata": {},
     "output_type": "execute_result"
    }
   ],
   "source": [
    "all_ret['model'].unique()"
   ]
  },
  {
   "cell_type": "markdown",
   "id": "819186dd-1c2d-4992-88ea-cb255bbfa526",
   "metadata": {},
   "source": [
    "# mAP and fraction retrieved calculation"
   ]
  },
  {
   "cell_type": "code",
   "execution_count": 82,
   "id": "8eb47d75-ceb1-4bf1-8f91-600e77eedc2c",
   "metadata": {},
   "outputs": [
    {
     "name": "stderr",
     "output_type": "stream",
     "text": [
      "  0%|                                                                                                                          | 0/5 [00:00<?, ?it/s]"
     ]
    },
    {
     "name": "stdout",
     "output_type": "stream",
     "text": [
      "(1025, 522)\n"
     ]
    },
    {
     "data": {
      "application/vnd.jupyter.widget-view+json": {
       "model_id": "",
       "version_major": 2,
       "version_minor": 0
      },
      "text/plain": [
       "  0%|          | 0/1 [00:00<?, ?it/s]"
      ]
     },
     "metadata": {},
     "output_type": "display_data"
    },
    {
     "data": {
      "application/vnd.jupyter.widget-view+json": {
       "model_id": "",
       "version_major": 2,
       "version_minor": 0
      },
      "text/plain": [
       "  0%|          | 0/2 [00:00<?, ?it/s]"
      ]
     },
     "metadata": {},
     "output_type": "display_data"
    },
    {
     "name": "stderr",
     "output_type": "stream",
     "text": [
      " 20%|██████████████████████▊                                                                                           | 1/5 [00:18<01:14, 18.66s/it]"
     ]
    },
    {
     "name": "stdout",
     "output_type": "stream",
     "text": [
      "(1025, 522)\n"
     ]
    },
    {
     "data": {
      "application/vnd.jupyter.widget-view+json": {
       "model_id": "",
       "version_major": 2,
       "version_minor": 0
      },
      "text/plain": [
       "  0%|          | 0/1 [00:00<?, ?it/s]"
      ]
     },
     "metadata": {},
     "output_type": "display_data"
    },
    {
     "data": {
      "application/vnd.jupyter.widget-view+json": {
       "model_id": "",
       "version_major": 2,
       "version_minor": 0
      },
      "text/plain": [
       "  0%|          | 0/2 [00:00<?, ?it/s]"
      ]
     },
     "metadata": {},
     "output_type": "display_data"
    },
    {
     "name": "stderr",
     "output_type": "stream",
     "text": [
      " 40%|█████████████████████████████████████████████▌                                                                    | 2/5 [00:36<00:54, 18.24s/it]"
     ]
    },
    {
     "name": "stdout",
     "output_type": "stream",
     "text": [
      "(1025, 522)\n"
     ]
    },
    {
     "data": {
      "application/vnd.jupyter.widget-view+json": {
       "model_id": "",
       "version_major": 2,
       "version_minor": 0
      },
      "text/plain": [
       "  0%|          | 0/1 [00:00<?, ?it/s]"
      ]
     },
     "metadata": {},
     "output_type": "display_data"
    },
    {
     "data": {
      "application/vnd.jupyter.widget-view+json": {
       "model_id": "",
       "version_major": 2,
       "version_minor": 0
      },
      "text/plain": [
       "  0%|          | 0/2 [00:00<?, ?it/s]"
      ]
     },
     "metadata": {},
     "output_type": "display_data"
    },
    {
     "name": "stderr",
     "output_type": "stream",
     "text": [
      " 60%|████████████████████████████████████████████████████████████████████▍                                             | 3/5 [00:54<00:36, 18.00s/it]"
     ]
    },
    {
     "name": "stdout",
     "output_type": "stream",
     "text": [
      "(1025, 522)\n"
     ]
    },
    {
     "data": {
      "application/vnd.jupyter.widget-view+json": {
       "model_id": "",
       "version_major": 2,
       "version_minor": 0
      },
      "text/plain": [
       "  0%|          | 0/1 [00:00<?, ?it/s]"
      ]
     },
     "metadata": {},
     "output_type": "display_data"
    },
    {
     "data": {
      "application/vnd.jupyter.widget-view+json": {
       "model_id": "",
       "version_major": 2,
       "version_minor": 0
      },
      "text/plain": [
       "  0%|          | 0/2 [00:00<?, ?it/s]"
      ]
     },
     "metadata": {},
     "output_type": "display_data"
    },
    {
     "name": "stderr",
     "output_type": "stream",
     "text": [
      " 80%|███████████████████████████████████████████████████████████████████████████████████████████▏                      | 4/5 [01:11<00:17, 17.71s/it]"
     ]
    },
    {
     "name": "stdout",
     "output_type": "stream",
     "text": [
      "(1025, 522)\n"
     ]
    },
    {
     "data": {
      "application/vnd.jupyter.widget-view+json": {
       "model_id": "",
       "version_major": 2,
       "version_minor": 0
      },
      "text/plain": [
       "  0%|          | 0/1 [00:00<?, ?it/s]"
      ]
     },
     "metadata": {},
     "output_type": "display_data"
    },
    {
     "data": {
      "application/vnd.jupyter.widget-view+json": {
       "model_id": "",
       "version_major": 2,
       "version_minor": 0
      },
      "text/plain": [
       "  0%|          | 0/2 [00:00<?, ?it/s]"
      ]
     },
     "metadata": {},
     "output_type": "display_data"
    },
    {
     "name": "stderr",
     "output_type": "stream",
     "text": [
      "100%|██████████████████████████████████████████████████████████████████████████████████████████████████████████████████| 5/5 [01:29<00:00, 17.80s/it]\n"
     ]
    }
   ],
   "source": [
    "# Compute mAP and fraction retrieved as described in Chandrasekaran 2024\n",
    "import pandas as pd\n",
    "from tqdm import tqdm\n",
    "\n",
    "from br.chandrasekaran_et_al import utils\n",
    "\n",
    "\n",
    "def get_featurecols(df):\n",
    "    \"\"\"returna  list of featuredata columns\"\"\"\n",
    "    return [c for c in df.columns if \"mu\" in c]\n",
    "\n",
    "\n",
    "def get_featuredata(df):\n",
    "    \"\"\"return dataframe of just featuredata columns\"\"\"\n",
    "    return df[get_featurecols(df)]\n",
    "\n",
    "\n",
    "cols = [i for i in all_ret.columns if \"mu\" in i]\n",
    "\n",
    "replicate_feature = \"Metadata_broad_sample\"\n",
    "batch_size = 100000\n",
    "null_size = 100000\n",
    "\n",
    "\n",
    "all_rep = []\n",
    "all_match = []\n",
    "all_fr = []\n",
    "for model in tqdm(all_ret[\"model\"].unique(), total=len(all_ret[\"model\"].unique())):\n",
    "    df_feats = all_ret.loc[all_ret[\"model\"] == model].reset_index(drop=True)\n",
    "    df_feats[\"Metadata_ObjectNumber\"] = df_feats[\"CellId\"]\n",
    "\n",
    "    import pycytominer\n",
    "\n",
    "    all_normalized_df = []\n",
    "    cols = [i for i in df_feats.columns if \"mu\" in i]\n",
    "    for plate in df_feats[\"Assay_Plate_Barcode\"].unique():\n",
    "        test = df_feats.loc[df_feats[\"Assay_Plate_Barcode\"] == plate].reset_index(drop=True)\n",
    "        # test = test.groupby(['condition_coarse']).mean().reset_index()\n",
    "        # test['Assay_Plate_Barcode'] = 'plate0'\n",
    "        # test['well_position'] = 'a0'\n",
    "        normalized_df = pycytominer.normalize(\n",
    "            profiles=test,\n",
    "            features=cols,\n",
    "            meta_features=[\n",
    "                \"Assay_Plate_Barcode\",\n",
    "                \"well_position\",\n",
    "                \"condition_coarse\",\n",
    "                \"condition\",\n",
    "            ],\n",
    "            method=\"standardize\",\n",
    "            mad_robustize_epsilon=0,\n",
    "            samples=\"all\",\n",
    "        )\n",
    "        normalized_df = pycytominer.normalize(\n",
    "            profiles=normalized_df,\n",
    "            features=cols,\n",
    "            meta_features=[\n",
    "                \"Assay_Plate_Barcode\",\n",
    "                \"well_position\",\n",
    "                \"condition_coarse\",\n",
    "                \"condition\",\n",
    "            ],\n",
    "            method=\"standardize\",\n",
    "            samples=\"condition == 'DMSO (control)'\",\n",
    "        )\n",
    "\n",
    "        all_normalized_df.append(normalized_df)\n",
    "    df_final = pd.concat(all_normalized_df, axis=0).reset_index(drop=True)\n",
    "\n",
    "    vals = []\n",
    "    for ind, row in df_final.iterrows():\n",
    "        if row[\"condition\"] == \"DMSO (control)\":\n",
    "            vals.append(\"negcon\")\n",
    "        else:\n",
    "            vals.append(None)\n",
    "\n",
    "    # more dummy cols\n",
    "    df_final[\"Metadata_control_type\"] = vals\n",
    "    df_final[\"Metadata_broad_sample\"] = df_final[\"condition\"]\n",
    "    df_final[\"Cell_type\"] = \"hIPSc\"\n",
    "    df_final[\"Perturbation\"] = \"compound\"\n",
    "    df_final[\"Time\"] = \"1\"\n",
    "    df_final[\"Metadata_target_list\"] = \"none\"\n",
    "    df_final[\"target_list\"] = \"none\"\n",
    "    df_final[\"Metadata_Plate\"] = \"Plate0\"\n",
    "\n",
    "    experiment_df = df_final\n",
    "\n",
    "    replicability_map_df = pd.DataFrame()\n",
    "    replicability_fr_df = pd.DataFrame()\n",
    "    matching_map_df = pd.DataFrame()\n",
    "    matching_fr_df = pd.DataFrame()\n",
    "    gene_compound_matching_map_df = pd.DataFrame()\n",
    "    gene_compound_matching_fr_df = pd.DataFrame()\n",
    "\n",
    "    replicate_feature = \"Metadata_broad_sample\"\n",
    "    for cell in experiment_df.Cell_type.unique():\n",
    "        cell_df = experiment_df.query(\"Cell_type==@cell\")\n",
    "        modality_1_perturbation = \"compound\"\n",
    "        modality_1_experiments_df = cell_df.query(\"Perturbation==@modality_1_perturbation\")\n",
    "        for modality_1_timepoint in modality_1_experiments_df.Time.unique():\n",
    "            modality_1_timepoint_df = modality_1_experiments_df.query(\n",
    "                \"Time==@modality_1_timepoint\"\n",
    "            )\n",
    "            modality_1_df = pd.DataFrame()\n",
    "            for plate in modality_1_timepoint_df.Assay_Plate_Barcode.unique():\n",
    "                data_df = df_final.loc[df_final[\"Assay_Plate_Barcode\"].isin([plate])]\n",
    "                data_df = data_df.drop(\n",
    "                    columns=[\"Metadata_target_list\", \"target_list\"]\n",
    "                ).reset_index(drop=True)\n",
    "                # data_df = data_df.groupby(['pert_iname']).sample(n=10).reset_index(drop=True)\n",
    "                modality_1_df = utils.concat_profiles(modality_1_df, data_df)\n",
    "\n",
    "            # Set Metadata_broad_sample value to \"DMSO\" for DMSO wells\n",
    "            modality_1_df[replicate_feature].fillna(\"DMSO\", inplace=True)\n",
    "            print(modality_1_df.shape)\n",
    "\n",
    "            # Remove empty wells\n",
    "            modality_1_df = utils.remove_empty_wells(modality_1_df)\n",
    "\n",
    "            # Description\n",
    "            description = f\"{modality_1_perturbation}_{cell}_{utils.time_point(modality_1_perturbation, modality_1_timepoint)}\"\n",
    "\n",
    "            modality_1_df[\"Metadata_negcon\"] = np.where(\n",
    "                modality_1_df[\"Metadata_control_type\"] == \"negcon\", 1, 0\n",
    "            )  # Create dummy column\n",
    "\n",
    "            pos_sameby = [\"Metadata_broad_sample\"]\n",
    "            pos_diffby = []\n",
    "            neg_sameby = [\"Metadata_Plate\"]\n",
    "            neg_diffby = [\"Metadata_negcon\"]\n",
    "\n",
    "            metadata_df = utils.get_metadata(modality_1_df)\n",
    "            feature_df = get_featuredata(modality_1_df)\n",
    "            feature_values = feature_df.values\n",
    "\n",
    "            result = utils.run_pipeline(\n",
    "                metadata_df,\n",
    "                feature_values,\n",
    "                pos_sameby,\n",
    "                pos_diffby,\n",
    "                neg_sameby,\n",
    "                neg_diffby,\n",
    "                anti_match=False,\n",
    "                batch_size=batch_size,\n",
    "                null_size=null_size,\n",
    "            )\n",
    "            result = result.query(\"Metadata_negcon==0\").reset_index(drop=True)\n",
    "\n",
    "            qthreshold = 0.001\n",
    "\n",
    "            replicability_map_df, replicability_fr_df = utils.create_replicability_df(\n",
    "                replicability_map_df,\n",
    "                replicability_fr_df,\n",
    "                result,\n",
    "                pos_sameby,\n",
    "                qthreshold,\n",
    "                modality_1_perturbation,\n",
    "                cell,\n",
    "                modality_1_timepoint,\n",
    "            )\n",
    "    replicability_map_df[\"model\"] = model\n",
    "    matching_map_df[\"model\"] = model\n",
    "    replicability_fr_df[\"model\"] = model\n",
    "    all_rep.append(replicability_map_df)\n",
    "    all_match.append(matching_map_df)\n",
    "    all_fr.append(replicability_fr_df)"
   ]
  },
  {
   "cell_type": "code",
   "execution_count": 83,
   "id": "4426f733-3a1b-460f-a19b-5425af0041e7",
   "metadata": {},
   "outputs": [],
   "source": [
    "all_rep = pd.concat(all_rep, axis=0).reset_index(drop=True)\n",
    "all_fr = pd.concat(all_fr, axis=0).reset_index(drop=True)\n",
    "\n",
    "all_fr[\"metric\"] = \"Fraction retrieved\"\n",
    "all_fr[\"value\"] = all_fr[\"fr\"]\n",
    "all_rep[\"metric\"] = \"Mean average precision\"\n",
    "all_rep[\"value\"] = all_rep[\"mean_average_precision\"]\n",
    "metrics = pd.concat([all_fr, all_rep], axis=0).reset_index(drop=True)\n",
    "\n",
    "plot_df = metrics.loc[metrics[\"metric\"] == \"Fraction retrieved\"].reset_index(drop=True)"
   ]
  },
  {
   "cell_type": "code",
   "execution_count": 84,
   "id": "53693e25-0ea6-4f88-ab2f-f564266bc245",
   "metadata": {},
   "outputs": [],
   "source": [
    "rep_dict = {'CNN_sdf_noalign_global': 'Classical_image_SDF', 'CNN_sdf_SO3_global': 'SO3_image_SDF', \n",
    "           'CNN_seg_noalign_global': 'Classical_image_seg', 'CNN_seg_SO3_global': 'SO3_image_seg', \n",
    "           'vn_so3': 'SO3_pointcloud_SDF'}\n",
    "all_rep['model'] = all_rep['model'].replace(rep_dict)"
   ]
  },
  {
   "cell_type": "code",
   "execution_count": 118,
   "id": "a4aaa174-ae41-4a9f-a060-2a016f05e933",
   "metadata": {},
   "outputs": [],
   "source": [
    "ordered_drugs = all_rep.groupby(['Metadata_broad_sample']).mean().sort_values(by='q_value').reset_index()['Metadata_broad_sample']"
   ]
  },
  {
   "cell_type": "code",
   "execution_count": 121,
   "id": "3cd5546d-867d-4a65-a09c-f7240946f42c",
   "metadata": {},
   "outputs": [
    {
     "data": {
      "image/png": "[encoded data removed]",
      "text/plain": [
       "<Figure size 1365.88x500 with 1 Axes>"
      ]
     },
     "metadata": {},
     "output_type": "display_data"
    }
   ],
   "source": [
    "from pathlib import Path\n",
    "\n",
    "import seaborn as sns\n",
    "\n",
    "sns.set_context(\"talk\")\n",
    "sns.set(font_scale=1.7)\n",
    "sns.set_style(\"white\")\n",
    "\n",
    "test = all_rep.sort_values(by=\"q_value\").reset_index(drop=True)\n",
    "test[\"Drugs\"] = test[\"Metadata_broad_sample\"]\n",
    "\n",
    "x_order = (\n",
    "    test.loc[test[\"model\"] == \"SO3_pointcloud_SDF\"]\n",
    "    .sort_values(by=\"q_value\")[\"Metadata_broad_sample\"]\n",
    "    .values\n",
    ")\n",
    "\n",
    "x_order = ordered_drugs\n",
    "\n",
    "g = sns.catplot(\n",
    "    data=test,\n",
    "    x=\"Drugs\",\n",
    "    y=\"q_value\",\n",
    "    hue=\"model\",\n",
    "    kind=\"point\",\n",
    "    order=x_order,\n",
    "    hue_order=[\n",
    "        \"Classical_image_seg\",\n",
    "        \"SO3_image_seg\",\n",
    "        \"Classical_image_SDF\",\n",
    "        \"SO3_image_SDF\",\n",
    "        \"SO3_pointcloud_SDF\",\n",
    "    ],\n",
    "    palette=[\"#A6ACE0\", \"#6277DB\", \"#D9978E\", \"#D8553B\", \"#2ED9FF\"],\n",
    "    aspect=2,\n",
    "    height=5,\n",
    ")\n",
    "g.set_xticklabels(rotation=90)\n",
    "plt.axhline(y=0.05, color=\"black\")\n",
    "this_path = Path(save_path + \"drug_dataset\")\n",
    "Path(this_path).mkdir(parents=True, exist_ok=True)\n",
    "g.savefig(this_path / \"q_values.pdf\", dpi=300, bbox_inches=\"tight\")"
   ]
  },
  {
   "cell_type": "code",
   "execution_count": 129,
   "id": "7ef9adbd-0c64-47ad-baf3-12b9516ae100",
   "metadata": {},
   "outputs": [],
   "source": [
    "src_path = '/allen/aics/modeling/ritvik/forSaurabh/'\n",
    "items = os.listdir(src_path)"
   ]
  },
  {
   "cell_type": "code",
   "execution_count": 130,
   "id": "4a6afe73-38b1-453a-9714-16f45ead78ec",
   "metadata": {},
   "outputs": [],
   "source": [
    "items = [i for i in items if i.split('.')[0].split('_')[-1] == '0']"
   ]
  },
  {
   "cell_type": "code",
   "execution_count": 134,
   "id": "350e2dd8-40d0-47af-952b-c3bc1b59708c",
   "metadata": {},
   "outputs": [],
   "source": [
    "dst_path = '/allen/aics/modeling/ritvik/projects/aws_uploads/morphology_appropriate_representation_learning/cellPACK_single_cell_punctate_structure/reference_nuclear_shapes/'\n",
    "for i in items:\n",
    "    this_src = src_path + i\n",
    "    this_dst = dst_path + i\n",
    "    import shutil\n",
    "    \n",
    "    shutil.copyfile(this_src, this_dst)\n",
    "    \n",
    "    "
   ]
  },
  {
   "cell_type": "code",
   "execution_count": 132,
   "id": "9c43ec5b-445b-451d-a441-0ca1e3ebc71b",
   "metadata": {},
   "outputs": [
    {
     "data": {
      "text/plain": [
       "'/allen/aics/modeling/ritvik/projects/aws_uploads/morphology_appropriate_representation_learning/cellPACK_single_cell_punctate_structure/reference_nuclear_shapes/ff7c03be-543f-43e0-b91b-bea0c562d16e_0.obj'"
      ]
     },
     "execution_count": 132,
     "metadata": {},
     "output_type": "execute_result"
    }
   ],
   "source": [
    "this_dst"
   ]
  },
  {
   "cell_type": "code",
   "execution_count": 135,
   "id": "2712bb8d-aedd-4c3f-8900-e42adb7e2386",
   "metadata": {},
   "outputs": [],
   "source": [
    "df2 = pd.read_csv('/allen/aics/modeling/ritvik/forSaurabh/manifest.csv')"
   ]
  },
  {
   "cell_type": "code",
   "execution_count": 140,
   "id": "544e300e-9bce-48cd-afd8-04480063f0f3",
   "metadata": {},
   "outputs": [],
   "source": [
    "df2['nucobj_path'] = df2['nucobj_path'].apply(lambda x: x.replace('/allen/aics/modeling/ritvik/forSaurabh/', '/allen/aics/modeling/ritvik/projects/aws_uploads/morphology_appropriate_representation_learning/cellPACK_single_cell_punctate_structure/reference_nuclear_shapes/'))"
   ]
  },
  {
   "cell_type": "code",
   "execution_count": 142,
   "id": "5aaa506b-e6f2-4247-b4bb-3a3299c08d85",
   "metadata": {},
   "outputs": [
    {
     "data": {
      "text/plain": [
       "'/allen/aics/modeling/ritvik/projects/aws_uploads/morphology_appropriate_representation_learning/cellPACK_single_cell_punctate_structure/reference_nuclear_shapes/00a2e026-6f81-4bd5-8ab0-c2e12f8c793c_0.obj'"
      ]
     },
     "execution_count": 142,
     "metadata": {},
     "output_type": "execute_result"
    }
   ],
   "source": [
    "df2['nucobj_path'].iloc[0]"
   ]
  },
  {
   "cell_type": "code",
   "execution_count": 150,
   "id": "b6bd6329-baf1-48dd-8ac7-91a71db719b9",
   "metadata": {},
   "outputs": [],
   "source": [
    "df2.to_csv('/allen/aics/modeling/ritvik/projects/aws_uploads/morphology_appropriate_representation_learning/cellPACK_single_cell_punctate_structure/reference_nuclear_shapes/manifest.csv')"
   ]
  },
  {
   "cell_type": "code",
   "execution_count": 149,
   "id": "dcc3b418-454d-448f-98d8-4d9581b8ec68",
   "metadata": {},
   "outputs": [],
   "source": [
    "df2 = df2.loc[df2['angle'] == 0].reset_index(drop=True)"
   ]
  },
  {
   "cell_type": "code",
   "execution_count": 156,
   "id": "8551a147-c94b-41ac-b883-bdd3ebf55b16",
   "metadata": {},
   "outputs": [],
   "source": [
    "test = '/allen/aics/modeling/ritvik/projects/aws_uploads/morphology_appropriate_representation_learning/cellPACK_single_cell_punctate_structure'\n",
    "items = os.listdir(test)"
   ]
  },
  {
   "cell_type": "code",
   "execution_count": 167,
   "id": "56c85dc2-9bc0-47b7-ba1e-32bd3766f248",
   "metadata": {},
   "outputs": [],
   "source": [
    "check = [i for i in items if (i != 'reference_nuclear_shapes') and (i != 'packings')]"
   ]
  },
  {
   "cell_type": "code",
   "execution_count": null,
   "id": "665642b9-3db6-4270-9989-6f090377bdb9",
   "metadata": {},
   "outputs": [],
   "source": [
    "items = os.listdir(test)"
   ]
  },
  {
   "cell_type": "code",
   "execution_count": 165,
   "id": "58906ddc-c7ab-4e1e-b38c-e31801b9e13e",
   "metadata": {},
   "outputs": [
    {
     "data": {
      "text/plain": [
       "32009"
      ]
     },
     "execution_count": 165,
     "metadata": {},
     "output_type": "execute_result"
    }
   ],
   "source": [
    "len(items)"
   ]
  },
  {
   "cell_type": "code",
   "execution_count": 168,
   "id": "b7b34cfd-6a3e-44d6-a6b6-c248f579fda1",
   "metadata": {},
   "outputs": [
    {
     "data": {
      "text/plain": [
       "32007"
      ]
     },
     "execution_count": 168,
     "metadata": {},
     "output_type": "execute_result"
    }
   ],
   "source": [
    "len(check)"
   ]
  },
  {
   "cell_type": "code",
   "execution_count": 172,
   "id": "af9a5d5b-86fa-40ed-b230-faac5cae16bf",
   "metadata": {},
   "outputs": [],
   "source": [
    "src_path = '/allen/aics/modeling/ritvik/projects/aws_uploads/morphology_appropriate_representation_learning/cellPACK_single_cell_punctate_structure/'\n",
    "dst_path = '/allen/aics/modeling/ritvik/projects/aws_uploads/morphology_appropriate_representation_learning/cellPACK_single_cell_punctate_structure/packings/'\n",
    "for i in check:\n",
    "    this_src = src_path + i\n",
    "    this_dst = dst_path + i\n",
    "    import shutil\n",
    "    \n",
    "    shutil.move(this_src, this_dst)"
   ]
  },
  {
   "cell_type": "code",
   "execution_count": 171,
   "id": "5472be49-fac8-4d87-830f-aabd188e70c6",
   "metadata": {},
   "outputs": [
    {
     "data": {
      "text/plain": [
       "'seeds_pcna_analyze_surface_gradient_ff7c03be-543f-43e0-b91b-bea0c562d16e_2.txt'"
      ]
     },
     "execution_count": 171,
     "metadata": {},
     "output_type": "execute_result"
    }
   ],
   "source": [
    "i"
   ]
  },
  {
   "cell_type": "code",
   "execution_count": 173,
   "id": "092b8d8e-c49b-44e1-a649-3b14e14a03d9",
   "metadata": {},
   "outputs": [],
   "source": [
    "df = pd.read_csv('/allen/aics/modeling/ritvik/forSaurabh/all_rules_no_rotation.csv')"
   ]
  },
  {
   "cell_type": "code",
   "execution_count": 175,
   "id": "e0bc130b-8cec-4e20-99ca-ca5427db0535",
   "metadata": {},
   "outputs": [],
   "source": [
    "df['nucobj_path'] = df['nucobj_path'].apply(lambda x: x.replace('/allen/aics/modeling/ritvik/forSaurabh/', '/allen/aics/modeling/ritvik/projects/aws_uploads/morphology_appropriate_representation_learning/cellPACK_single_cell_punctate_structure/reference_nuclear_shapes/'))"
   ]
  },
  {
   "cell_type": "code",
   "execution_count": 178,
   "id": "1554dcbf-f015-4070-9074-dc5aaf24a31d",
   "metadata": {},
   "outputs": [],
   "source": [
    "df.to_csv('/allen/aics/modeling/ritvik/projects/aws_uploads/morphology_appropriate_representation_learning/cellPACK_single_cell_punctate_structure/manifest.csv')"
   ]
  },
  {
   "cell_type": "code",
   "execution_count": 180,
   "id": "271fc31f-ac62-428d-bf97-a0388bbe3a70",
   "metadata": {},
   "outputs": [],
   "source": [
    "df = pd.read_csv(\"/allen/aics/assay-dev/users/Alex/replearn/rep_paper/data/npm1_perturb_classical_manifest.csv\")"
   ]
  },
  {
   "cell_type": "code",
   "execution_count": 191,
   "id": "38196cb1-6355-4851-8e23-74dd65249e52",
   "metadata": {
    "scrolled": true
   },
   "outputs": [],
   "source": [
    "df['crop_seg'] = df['crop_seg'].apply(lambda x: x.replace('/allen/aics/assay-dev/users/Alex/replearn/rep_paper/data/npm1_perturb/',\n",
    "                                        '/allen/aics/modeling/ritvik/projects/aws_uploads/NPM1_single_cell_drug_perturbations/'))"
   ]
  },
  {
   "cell_type": "code",
   "execution_count": 192,
   "id": "32b57576-7b30-4f45-8753-3111e3657f40",
   "metadata": {},
   "outputs": [],
   "source": [
    "df.to_csv('/allen/aics/modeling/ritvik/projects/aws_uploads/NPM1_single_cell_drug_perturbations/manifest.csv')"
   ]
  },
  {
   "cell_type": "code",
   "execution_count": 188,
   "id": "daf9c1fb-b493-4999-80a2-8f2a9538db00",
   "metadata": {},
   "outputs": [
    {
     "data": {
      "text/plain": [
       "'/allen/aics/assay-dev/users/Alex/replearn/rep_paper/data/npm1_perturb_noalign_classic/meshes/13111a4c-9b8d-4d43-beed-69d38df1423b.stl'"
      ]
     },
     "execution_count": 188,
     "metadata": {},
     "output_type": "execute_result"
    }
   ],
   "source": [
    "df['mesh_path_noalign'].iloc[0]"
   ]
  },
  {
   "cell_type": "code",
   "execution_count": 187,
   "id": "42a51159-3980-4f5a-a73f-0551d686fb78",
   "metadata": {},
   "outputs": [
    {
     "data": {
      "text/html": [
       "<div>\n",
       "<style scoped>\n",
       "    .dataframe tbody tr th:only-of-type {\n",
       "        vertical-align: middle;\n",
       "    }\n",
       "\n",
       "    .dataframe tbody tr th {\n",
       "        vertical-align: top;\n",
       "    }\n",
       "\n",
       "    .dataframe thead th {\n",
       "        text-align: right;\n",
       "    }\n",
       "</style>\n",
       "<table border=\"1\" class=\"dataframe\">\n",
       "  <thead>\n",
       "    <tr style=\"text-align: right;\">\n",
       "      <th></th>\n",
       "      <th>Unnamed: 0.11</th>\n",
       "      <th>Unnamed: 0.10</th>\n",
       "      <th>Unnamed: 0.9</th>\n",
       "      <th>Unnamed: 0.8</th>\n",
       "      <th>Unnamed: 0.7</th>\n",
       "      <th>Unnamed: 0.6</th>\n",
       "      <th>Unnamed: 0.5</th>\n",
       "      <th>Unnamed: 0.4</th>\n",
       "      <th>Unnamed: 0.3</th>\n",
       "      <th>Unnamed: 0.2</th>\n",
       "      <th>...</th>\n",
       "      <th>total_surface_area</th>\n",
       "      <th>mean_surface_area</th>\n",
       "      <th>mean_volume</th>\n",
       "      <th>std_surface_area</th>\n",
       "      <th>std_volume</th>\n",
       "      <th>condition_int</th>\n",
       "      <th>condition_coarse</th>\n",
       "      <th>condition_coarse_int</th>\n",
       "      <th>fov_id</th>\n",
       "      <th>plate_id</th>\n",
       "    </tr>\n",
       "  </thead>\n",
       "  <tbody>\n",
       "    <tr>\n",
       "      <th>0</th>\n",
       "      <td>0</td>\n",
       "      <td>0</td>\n",
       "      <td>0</td>\n",
       "      <td>0</td>\n",
       "      <td>0</td>\n",
       "      <td>0</td>\n",
       "      <td>0</td>\n",
       "      <td>0</td>\n",
       "      <td>0</td>\n",
       "      <td>719</td>\n",
       "      <td>...</td>\n",
       "      <td>14550.0</td>\n",
       "      <td>7275.000000</td>\n",
       "      <td>18103.000000</td>\n",
       "      <td>6917.000000</td>\n",
       "      <td>17803.000000</td>\n",
       "      <td>12</td>\n",
       "      <td>Rapamycin</td>\n",
       "      <td>12</td>\n",
       "      <td>3500002930_100X_20190423_2hr-Scene-133-P134-E07</td>\n",
       "      <td>134</td>\n",
       "    </tr>\n",
       "    <tr>\n",
       "      <th>1</th>\n",
       "      <td>1</td>\n",
       "      <td>1</td>\n",
       "      <td>1</td>\n",
       "      <td>1</td>\n",
       "      <td>1</td>\n",
       "      <td>1</td>\n",
       "      <td>1</td>\n",
       "      <td>1</td>\n",
       "      <td>1</td>\n",
       "      <td>906</td>\n",
       "      <td>...</td>\n",
       "      <td>25086.0</td>\n",
       "      <td>25086.000000</td>\n",
       "      <td>86477.000000</td>\n",
       "      <td>0.000000</td>\n",
       "      <td>0.000000</td>\n",
       "      <td>16</td>\n",
       "      <td>Staurosporine</td>\n",
       "      <td>15</td>\n",
       "      <td>3500002930_100X_20190423_2hr-Scene-158-P159-E08</td>\n",
       "      <td>159</td>\n",
       "    </tr>\n",
       "    <tr>\n",
       "      <th>2</th>\n",
       "      <td>2</td>\n",
       "      <td>2</td>\n",
       "      <td>2</td>\n",
       "      <td>2</td>\n",
       "      <td>2</td>\n",
       "      <td>2</td>\n",
       "      <td>2</td>\n",
       "      <td>2</td>\n",
       "      <td>2</td>\n",
       "      <td>802</td>\n",
       "      <td>...</td>\n",
       "      <td>6890.0</td>\n",
       "      <td>3445.000000</td>\n",
       "      <td>7326.000000</td>\n",
       "      <td>2063.000000</td>\n",
       "      <td>5207.000000</td>\n",
       "      <td>13</td>\n",
       "      <td>Roscovitine</td>\n",
       "      <td>13</td>\n",
       "      <td>3500002930_100X_20190423_2hr-Scene-182-P183-E09</td>\n",
       "      <td>183</td>\n",
       "    </tr>\n",
       "    <tr>\n",
       "      <th>3</th>\n",
       "      <td>3</td>\n",
       "      <td>3</td>\n",
       "      <td>3</td>\n",
       "      <td>3</td>\n",
       "      <td>3</td>\n",
       "      <td>3</td>\n",
       "      <td>3</td>\n",
       "      <td>3</td>\n",
       "      <td>3</td>\n",
       "      <td>748</td>\n",
       "      <td>...</td>\n",
       "      <td>8402.0</td>\n",
       "      <td>4201.000000</td>\n",
       "      <td>8108.500000</td>\n",
       "      <td>4169.000000</td>\n",
       "      <td>8099.500000</td>\n",
       "      <td>12</td>\n",
       "      <td>Rapamycin</td>\n",
       "      <td>12</td>\n",
       "      <td>3500002930_100X_20190423_2hr-Scene-135-P136-E07</td>\n",
       "      <td>136</td>\n",
       "    </tr>\n",
       "    <tr>\n",
       "      <th>4</th>\n",
       "      <td>4</td>\n",
       "      <td>4</td>\n",
       "      <td>4</td>\n",
       "      <td>4</td>\n",
       "      <td>4</td>\n",
       "      <td>4</td>\n",
       "      <td>4</td>\n",
       "      <td>4</td>\n",
       "      <td>4</td>\n",
       "      <td>636</td>\n",
       "      <td>...</td>\n",
       "      <td>9836.0</td>\n",
       "      <td>3278.666667</td>\n",
       "      <td>8239.000000</td>\n",
       "      <td>3409.402033</td>\n",
       "      <td>9324.016731</td>\n",
       "      <td>11</td>\n",
       "      <td>Paclitaxel</td>\n",
       "      <td>11</td>\n",
       "      <td>3500002930_100X_20190423_2hr-Scene-013-P13-E02</td>\n",
       "      <td>13</td>\n",
       "    </tr>\n",
       "    <tr>\n",
       "      <th>...</th>\n",
       "      <td>...</td>\n",
       "      <td>...</td>\n",
       "      <td>...</td>\n",
       "      <td>...</td>\n",
       "      <td>...</td>\n",
       "      <td>...</td>\n",
       "      <td>...</td>\n",
       "      <td>...</td>\n",
       "      <td>...</td>\n",
       "      <td>...</td>\n",
       "      <td>...</td>\n",
       "      <td>...</td>\n",
       "      <td>...</td>\n",
       "      <td>...</td>\n",
       "      <td>...</td>\n",
       "      <td>...</td>\n",
       "      <td>...</td>\n",
       "      <td>...</td>\n",
       "      <td>...</td>\n",
       "      <td>...</td>\n",
       "      <td>...</td>\n",
       "    </tr>\n",
       "    <tr>\n",
       "      <th>1020</th>\n",
       "      <td>1020</td>\n",
       "      <td>1020</td>\n",
       "      <td>1020</td>\n",
       "      <td>1020</td>\n",
       "      <td>1020</td>\n",
       "      <td>1020</td>\n",
       "      <td>1020</td>\n",
       "      <td>1020</td>\n",
       "      <td>1020</td>\n",
       "      <td>938</td>\n",
       "      <td>...</td>\n",
       "      <td>8940.0</td>\n",
       "      <td>1277.142857</td>\n",
       "      <td>2864.571429</td>\n",
       "      <td>3009.240788</td>\n",
       "      <td>6972.248169</td>\n",
       "      <td>17</td>\n",
       "      <td>Torin</td>\n",
       "      <td>16</td>\n",
       "      <td>3500002933_100X_20190423_2hr-Scene-034-P34-E03</td>\n",
       "      <td>34</td>\n",
       "    </tr>\n",
       "    <tr>\n",
       "      <th>1021</th>\n",
       "      <td>1021</td>\n",
       "      <td>1021</td>\n",
       "      <td>1021</td>\n",
       "      <td>1021</td>\n",
       "      <td>1021</td>\n",
       "      <td>1021</td>\n",
       "      <td>1021</td>\n",
       "      <td>1021</td>\n",
       "      <td>1021</td>\n",
       "      <td>494</td>\n",
       "      <td>...</td>\n",
       "      <td>10294.0</td>\n",
       "      <td>1286.750000</td>\n",
       "      <td>2902.875000</td>\n",
       "      <td>3281.264229</td>\n",
       "      <td>7634.558999</td>\n",
       "      <td>8</td>\n",
       "      <td>Latrunculin A1</td>\n",
       "      <td>8</td>\n",
       "      <td>3500002933_100X_20190423_2hr-Scene-014-P14-E02</td>\n",
       "      <td>14</td>\n",
       "    </tr>\n",
       "    <tr>\n",
       "      <th>1022</th>\n",
       "      <td>1022</td>\n",
       "      <td>1022</td>\n",
       "      <td>1022</td>\n",
       "      <td>1022</td>\n",
       "      <td>1022</td>\n",
       "      <td>1022</td>\n",
       "      <td>1022</td>\n",
       "      <td>1022</td>\n",
       "      <td>1022</td>\n",
       "      <td>599</td>\n",
       "      <td>...</td>\n",
       "      <td>6492.0</td>\n",
       "      <td>6492.000000</td>\n",
       "      <td>15110.000000</td>\n",
       "      <td>0.000000</td>\n",
       "      <td>0.000000</td>\n",
       "      <td>10</td>\n",
       "      <td>Nocodazole</td>\n",
       "      <td>10</td>\n",
       "      <td>3500002930_100X_20190423_2hr-Scene-063-P63-E04</td>\n",
       "      <td>63</td>\n",
       "    </tr>\n",
       "    <tr>\n",
       "      <th>1023</th>\n",
       "      <td>1023</td>\n",
       "      <td>1023</td>\n",
       "      <td>1023</td>\n",
       "      <td>1023</td>\n",
       "      <td>1023</td>\n",
       "      <td>1023</td>\n",
       "      <td>1023</td>\n",
       "      <td>1023</td>\n",
       "      <td>1023</td>\n",
       "      <td>111</td>\n",
       "      <td>...</td>\n",
       "      <td>8754.0</td>\n",
       "      <td>2188.500000</td>\n",
       "      <td>5298.250000</td>\n",
       "      <td>3646.444947</td>\n",
       "      <td>9101.811835</td>\n",
       "      <td>1</td>\n",
       "      <td>BIX</td>\n",
       "      <td>1</td>\n",
       "      <td>3500002933_100X_20190423_2hr-Scene-078-P78-E05</td>\n",
       "      <td>78</td>\n",
       "    </tr>\n",
       "    <tr>\n",
       "      <th>1024</th>\n",
       "      <td>1024</td>\n",
       "      <td>1024</td>\n",
       "      <td>1024</td>\n",
       "      <td>1024</td>\n",
       "      <td>1024</td>\n",
       "      <td>1024</td>\n",
       "      <td>1024</td>\n",
       "      <td>1024</td>\n",
       "      <td>1024</td>\n",
       "      <td>438</td>\n",
       "      <td>...</td>\n",
       "      <td>6152.0</td>\n",
       "      <td>2050.666667</td>\n",
       "      <td>4096.666667</td>\n",
       "      <td>2867.573345</td>\n",
       "      <td>5784.370339</td>\n",
       "      <td>7</td>\n",
       "      <td>Jasplakinolide</td>\n",
       "      <td>7</td>\n",
       "      <td>3500002930_100X_20190423_2hr-Scene-087-P88-E05</td>\n",
       "      <td>88</td>\n",
       "    </tr>\n",
       "  </tbody>\n",
       "</table>\n",
       "<p>1025 rows × 45 columns</p>\n",
       "</div>"
      ],
      "text/plain": [
       "      Unnamed: 0.11  Unnamed: 0.10  Unnamed: 0.9  Unnamed: 0.8  Unnamed: 0.7  \\\n",
       "0                 0              0             0             0             0   \n",
       "1                 1              1             1             1             1   \n",
       "2                 2              2             2             2             2   \n",
       "3                 3              3             3             3             3   \n",
       "4                 4              4             4             4             4   \n",
       "...             ...            ...           ...           ...           ...   \n",
       "1020           1020           1020          1020          1020          1020   \n",
       "1021           1021           1021          1021          1021          1021   \n",
       "1022           1022           1022          1022          1022          1022   \n",
       "1023           1023           1023          1023          1023          1023   \n",
       "1024           1024           1024          1024          1024          1024   \n",
       "\n",
       "      Unnamed: 0.6  Unnamed: 0.5  Unnamed: 0.4  Unnamed: 0.3  Unnamed: 0.2  \\\n",
       "0                0             0             0             0           719   \n",
       "1                1             1             1             1           906   \n",
       "2                2             2             2             2           802   \n",
       "3                3             3             3             3           748   \n",
       "4                4             4             4             4           636   \n",
       "...            ...           ...           ...           ...           ...   \n",
       "1020          1020          1020          1020          1020           938   \n",
       "1021          1021          1021          1021          1021           494   \n",
       "1022          1022          1022          1022          1022           599   \n",
       "1023          1023          1023          1023          1023           111   \n",
       "1024          1024          1024          1024          1024           438   \n",
       "\n",
       "      ...  total_surface_area  mean_surface_area   mean_volume  \\\n",
       "0     ...             14550.0        7275.000000  18103.000000   \n",
       "1     ...             25086.0       25086.000000  86477.000000   \n",
       "2     ...              6890.0        3445.000000   7326.000000   \n",
       "3     ...              8402.0        4201.000000   8108.500000   \n",
       "4     ...              9836.0        3278.666667   8239.000000   \n",
       "...   ...                 ...                ...           ...   \n",
       "1020  ...              8940.0        1277.142857   2864.571429   \n",
       "1021  ...             10294.0        1286.750000   2902.875000   \n",
       "1022  ...              6492.0        6492.000000  15110.000000   \n",
       "1023  ...              8754.0        2188.500000   5298.250000   \n",
       "1024  ...              6152.0        2050.666667   4096.666667   \n",
       "\n",
       "      std_surface_area    std_volume condition_int condition_coarse  \\\n",
       "0          6917.000000  17803.000000            12        Rapamycin   \n",
       "1             0.000000      0.000000            16    Staurosporine   \n",
       "2          2063.000000   5207.000000            13      Roscovitine   \n",
       "3          4169.000000   8099.500000            12        Rapamycin   \n",
       "4          3409.402033   9324.016731            11       Paclitaxel   \n",
       "...                ...           ...           ...              ...   \n",
       "1020       3009.240788   6972.248169            17            Torin   \n",
       "1021       3281.264229   7634.558999             8   Latrunculin A1   \n",
       "1022          0.000000      0.000000            10       Nocodazole   \n",
       "1023       3646.444947   9101.811835             1              BIX   \n",
       "1024       2867.573345   5784.370339             7   Jasplakinolide   \n",
       "\n",
       "     condition_coarse_int                                           fov_id  \\\n",
       "0                      12  3500002930_100X_20190423_2hr-Scene-133-P134-E07   \n",
       "1                      15  3500002930_100X_20190423_2hr-Scene-158-P159-E08   \n",
       "2                      13  3500002930_100X_20190423_2hr-Scene-182-P183-E09   \n",
       "3                      12  3500002930_100X_20190423_2hr-Scene-135-P136-E07   \n",
       "4                      11   3500002930_100X_20190423_2hr-Scene-013-P13-E02   \n",
       "...                   ...                                              ...   \n",
       "1020                   16   3500002933_100X_20190423_2hr-Scene-034-P34-E03   \n",
       "1021                    8   3500002933_100X_20190423_2hr-Scene-014-P14-E02   \n",
       "1022                   10   3500002930_100X_20190423_2hr-Scene-063-P63-E04   \n",
       "1023                    1   3500002933_100X_20190423_2hr-Scene-078-P78-E05   \n",
       "1024                    7   3500002930_100X_20190423_2hr-Scene-087-P88-E05   \n",
       "\n",
       "     plate_id  \n",
       "0         134  \n",
       "1         159  \n",
       "2         183  \n",
       "3         136  \n",
       "4          13  \n",
       "...       ...  \n",
       "1020       34  \n",
       "1021       14  \n",
       "1022       63  \n",
       "1023       78  \n",
       "1024       88  \n",
       "\n",
       "[1025 rows x 45 columns]"
      ]
     },
     "execution_count": 187,
     "metadata": {},
     "output_type": "execute_result"
    }
   ],
   "source": [
    "df"
   ]
  },
  {
   "cell_type": "code",
   "execution_count": null,
   "id": "962ff804-bd8f-4ff1-ba65-eeea827ee7ae",
   "metadata": {},
   "outputs": [],
   "source": []
  }
 ],
 "metadata": {
  "kernelspec": {
   "display_name": "Python 3 (ipykernel)",
   "language": "python",
   "name": "python3"
  },
  "language_info": {
   "codemirror_mode": {
    "name": "ipython",
    "version": 3
   },
   "file_extension": ".py",
   "mimetype": "text/x-python",
   "name": "python",
   "nbconvert_exporter": "python",
   "pygments_lexer": "ipython3",
   "version": "3.10.14"
  }
 },
 "nbformat": 4,
 "nbformat_minor": 5
}
