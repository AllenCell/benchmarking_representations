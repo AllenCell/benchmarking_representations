{
 "cells": [
  {
   "cell_type": "code",
   "execution_count": null,
   "id": "22c4a2e8-f280-463d-9140-68d0a8f8e63c",
   "metadata": {},
   "outputs": [],
   "source": [
    "%load_ext autoreload\n",
    "%autoreload 2\n",
    "import os\n",
    "\n",
    "os.environ[\"CUDA_DEVICE_ORDER\"] = \"PCI_BUS_ID\"  # see issue #152\n",
    "os.environ[\"CUDA_VISIBLE_DEVICES\"] = \"MIG-864c07c4-8eeb-5b23-8d57-eaeb942a9a0f\"\n",
    "import os\n",
    "from pathlib import Path\n",
    "\n",
    "import matplotlib.pyplot as plt\n",
    "import numpy as np\n",
    "import pandas as pd\n",
    "import torch\n",
    "import yaml\n",
    "from hydra.utils import instantiate\n",
    "from PIL import Image\n",
    "from torch.utils.data import DataLoader, Dataset\n",
    "\n",
    "from br.features.archetype import AA_Fast\n",
    "from br.features.plot import collect_outputs, plot, plot_stratified_pc\n",
    "from br.features.reconstruction import stratified_latent_walk\n",
    "from br.features.utils import (\n",
    "    normalize_intensities_and_get_colormap,\n",
    "    normalize_intensities_and_get_colormap_apply,\n",
    ")\n",
    "from br.models.compute_features import compute_features, get_embeddings\n",
    "from br.models.load_models import get_data_and_models\n",
    "from br.models.save_embeddings import (\n",
    "    get_pc_loss,\n",
    "    get_pc_loss_chamfer,\n",
    "    save_embeddings,\n",
    "    save_emissions,\n",
    ")\n",
    "from br.models.utils import get_all_configs_per_dataset\n",
    "\n",
    "device = \"cuda:0\""
   ]
  },
  {
   "cell_type": "code",
   "execution_count": null,
   "id": "10394787-c363-4803-80ce-2f72ce16df21",
   "metadata": {},
   "outputs": [],
   "source": [
    "os.chdir(\"/allen/aics/modeling/ritvik/projects/benchmarking_representations/\")\n",
    "save_path = \"./test_npm1_save_embeddings/\""
   ]
  },
  {
   "cell_type": "code",
   "execution_count": null,
   "id": "ac2b6072-3314-420b-9746-f67b28fb8539",
   "metadata": {},
   "outputs": [],
   "source": [
    "dataset_name = \"npm1\"\n",
    "batch_size = 2\n",
    "debug = False\n",
    "results_path = \"/allen/aics/modeling/ritvik/projects/benchmarking_representations/configs/results/\"\n",
    "data_list, all_models, run_names, model_sizes = get_data_and_models(\n",
    "    dataset_name, batch_size, results_path, debug\n",
    ")"
   ]
  },
  {
   "cell_type": "markdown",
   "id": "7428170f-624a-4f9c-84b4-0c6162a2759a",
   "metadata": {},
   "source": [
    "# Compute embeddings and emissions"
   ]
  },
  {
   "cell_type": "code",
   "execution_count": null,
   "id": "0ac9560f-d9e6-4e3f-8af3-0651ba8f9056",
   "metadata": {},
   "outputs": [],
   "source": [
    "run_names"
   ]
  },
  {
   "cell_type": "code",
   "execution_count": null,
   "id": "cd896bd3-580c-4e69-a6c5-9c295f53971f",
   "metadata": {},
   "outputs": [],
   "source": []
  },
  {
   "cell_type": "code",
   "execution_count": null,
   "id": "dc65e52e-0dbd-4651-bf92-e29d774ed2a6",
   "metadata": {},
   "outputs": [],
   "source": [
    "from br.models.save_embeddings import save_embeddings\n",
    "\n",
    "splits_list = [\"test\"]\n",
    "meta_key = None\n",
    "eval_scaled_img = [True] * 5\n",
    "\n",
    "gt_mesh_dir = \"/allen/aics/assay-dev/users/Alex/replearn/rep_paper/data/var_blobby_noalign/meshes\"\n",
    "gt_sampled_pts_dir = \"/allen/aics/assay-dev/users/Alex/replearn/rep_paper/data/sampled_pcs/npm1_var_noalign_global/1_res/0\"\n",
    "gt_scale_factor_dict_path = \"/allen/aics/assay-dev/users/Alex/replearn/rep_paper/data/npm1_var_scale_factor_32res_noalign_global.npz\"\n",
    "\n",
    "eval_scaled_img_params = [\n",
    "    {\n",
    "        \"eval_scaled_img_model_type\": \"iae\",\n",
    "        \"eval_scaled_img_resolution\": 32,\n",
    "        \"gt_mesh_dir\": gt_mesh_dir,\n",
    "        \"gt_scale_factor_dict_path\": None,\n",
    "        \"gt_sampled_pts_dir\": gt_sampled_pts_dir,\n",
    "        \"mesh_ext\": \"stl\",\n",
    "    },\n",
    "    {\n",
    "        \"eval_scaled_img_model_type\": \"sdf\",\n",
    "        \"eval_scaled_img_resolution\": 32,\n",
    "        \"gt_mesh_dir\": gt_mesh_dir,\n",
    "        \"gt_scale_factor_dict_path\": gt_scale_factor_dict_path,\n",
    "        \"gt_sampled_pts_dir\": None,\n",
    "        \"mesh_ext\": \"stl\",\n",
    "    },\n",
    "    {\n",
    "        \"eval_scaled_img_model_type\": \"seg\",\n",
    "        \"eval_scaled_img_resolution\": 32,\n",
    "        \"gt_mesh_dir\": gt_mesh_dir,\n",
    "        \"gt_scale_factor_dict_path\": gt_scale_factor_dict_path,\n",
    "        \"gt_sampled_pts_dir\": None,\n",
    "        \"mesh_ext\": \"stl\",\n",
    "    },\n",
    "    {\n",
    "        \"eval_scaled_img_model_type\": \"sdf\",\n",
    "        \"eval_scaled_img_resolution\": 32,\n",
    "        \"gt_mesh_dir\": gt_mesh_dir,\n",
    "        \"gt_scale_factor_dict_path\": gt_scale_factor_dict_path,\n",
    "        \"gt_sampled_pts_dir\": None,\n",
    "        \"mesh_ext\": \"stl\",\n",
    "    },\n",
    "    {\n",
    "        \"eval_scaled_img_model_type\": \"seg\",\n",
    "        \"eval_scaled_img_resolution\": 32,\n",
    "        \"gt_mesh_dir\": gt_mesh_dir,\n",
    "        \"gt_scale_factor_dict_path\": gt_scale_factor_dict_path,\n",
    "        \"gt_sampled_pts_dir\": None,\n",
    "        \"mesh_ext\": \"stl\",\n",
    "    },\n",
    "]\n",
    "loss_eval_list = [torch.nn.MSELoss(reduction=\"none\")] * 5\n",
    "sample_points_list = [False] * 5\n",
    "skew_scale = None\n",
    "save_embeddings(\n",
    "    save_path,\n",
    "    data_list,\n",
    "    all_models,\n",
    "    run_names,\n",
    "    debug,\n",
    "    splits_list,\n",
    "    device,\n",
    "    meta_key,\n",
    "    loss_eval_list,\n",
    "    sample_points_list,\n",
    "    skew_scale,\n",
    "    eval_scaled_img,\n",
    "    eval_scaled_img_params,\n",
    ")"
   ]
  },
  {
   "cell_type": "code",
   "execution_count": null,
   "id": "9ce5710d-eb6f-40c1-b874-59bca029ec2f",
   "metadata": {},
   "outputs": [],
   "source": [
    "this"
   ]
  },
  {
   "cell_type": "code",
   "execution_count": null,
   "id": "0e928040-117f-44e6-b2c8-6bfc6ed3614d",
   "metadata": {},
   "outputs": [],
   "source": []
  }
 ],
 "metadata": {
  "kernelspec": {
   "display_name": "Python 3 (ipykernel)",
   "language": "python",
   "name": "python3"
  },
  "language_info": {
   "codemirror_mode": {
    "name": "ipython",
    "version": 3
   },
   "file_extension": ".py",
   "mimetype": "text/x-python",
   "name": "python",
   "nbconvert_exporter": "python",
   "pygments_lexer": "ipython3",
   "version": "3.10.14"
  }
 },
 "nbformat": 4,
 "nbformat_minor": 5
}
