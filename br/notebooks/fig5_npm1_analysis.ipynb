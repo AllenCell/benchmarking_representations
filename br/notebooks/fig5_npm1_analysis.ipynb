{
 "cells": [
  {
   "cell_type": "code",
   "execution_count": null,
   "id": "22c4a2e8-f280-463d-9140-68d0a8f8e63c",
   "metadata": {},
   "outputs": [],
   "source": [
    "%load_ext autoreload\n",
    "%autoreload 2\n",
    "import os\n",
    "\n",
    "os.environ[\"CUDA_DEVICE_ORDER\"] = \"PCI_BUS_ID\"  # see issue #152\n",
    "os.environ[\"CUDA_VISIBLE_DEVICES\"] = \"MIG-864c07c4-8eeb-5b23-8d57-eaeb942a9a0f\"\n",
    "import os\n",
    "from pathlib import Path\n",
    "\n",
    "import matplotlib.pyplot as plt\n",
    "import numpy as np\n",
    "import pandas as pd\n",
    "import torch\n",
    "import yaml\n",
    "from hydra.utils import instantiate\n",
    "from PIL import Image\n",
    "from torch.utils.data import DataLoader, Dataset\n",
    "\n",
    "from br.features.archetype import AA_Fast\n",
    "from br.features.plot import collect_outputs, plot, plot_stratified_pc\n",
    "from br.features.reconstruction import stratified_latent_walk\n",
    "from br.features.utils import (\n",
    "    normalize_intensities_and_get_colormap,\n",
    "    normalize_intensities_and_get_colormap_apply,\n",
    ")\n",
    "from br.models.compute_features import compute_features, get_embeddings\n",
    "from br.models.load_models import get_data_and_models\n",
    "from br.models.save_embeddings import (\n",
    "    get_pc_loss,\n",
    "    get_pc_loss_chamfer,\n",
    "    save_embeddings,\n",
    "    save_emissions,\n",
    ")\n",
    "from br.models.utils import get_all_configs_per_dataset\n",
    "\n",
    "device = \"cuda:0\""
   ]
  },
  {
   "cell_type": "code",
   "execution_count": null,
   "id": "10394787-c363-4803-80ce-2f72ce16df21",
   "metadata": {},
   "outputs": [],
   "source": [
    "os.chdir(\"/allen/aics/modeling/ritvik/projects/benchmarking_representations/\")\n",
    "save_path = \"./test_npm1_save_embeddings/\""
   ]
  },
  {
   "cell_type": "code",
   "execution_count": null,
   "id": "ac2b6072-3314-420b-9746-f67b28fb8539",
   "metadata": {},
   "outputs": [],
   "source": [
    "dataset_name = \"npm1\"\n",
    "batch_size = 2\n",
    "debug = False\n",
    "results_path = \"/allen/aics/modeling/ritvik/projects/benchmarking_representations/configs/results/\"\n",
    "data_list, all_models, run_names, model_sizes = get_data_and_models(\n",
    "    dataset_name, batch_size, results_path, debug\n",
    ")"
   ]
  },
  {
   "cell_type": "markdown",
   "id": "7428170f-624a-4f9c-84b4-0c6162a2759a",
   "metadata": {},
   "source": [
    "# Compute embeddings and emissions"
   ]
  },
  {
   "cell_type": "code",
   "execution_count": null,
   "id": "dc65e52e-0dbd-4651-bf92-e29d774ed2a6",
   "metadata": {},
   "outputs": [],
   "source": [
    "from br.models.save_embeddings import save_embeddings\n",
    "\n",
    "splits_list = [\"train\",\"val\", \"test\"]\n",
    "meta_key = None\n",
    "eval_scaled_img = [False] * 5\n",
    "\n",
    "gt_mesh_dir = \"/allen/aics/assay-dev/users/Alex/replearn/rep_paper/data/var_blobby_noalign/meshes\"\n",
    "gt_sampled_pts_dir = \"/allen/aics/assay-dev/users/Alex/replearn/rep_paper/data/sampled_pcs/npm1_var_noalign_global/1_res/0\"\n",
    "gt_scale_factor_dict_path = \"/allen/aics/assay-dev/users/Alex/replearn/rep_paper/data/npm1_var_scale_factor_32res_noalign_global.npz\"\n",
    "\n",
    "eval_scaled_img_params = [\n",
    "    {\n",
    "        \"eval_scaled_img_model_type\": \"iae\",\n",
    "        \"eval_scaled_img_resolution\": 32,\n",
    "        \"gt_mesh_dir\": gt_mesh_dir,\n",
    "        \"gt_scale_factor_dict_path\": None,\n",
    "        \"gt_sampled_pts_dir\": gt_sampled_pts_dir,\n",
    "        \"mesh_ext\": \"stl\",\n",
    "    },\n",
    "    {\n",
    "        \"eval_scaled_img_model_type\": \"sdf\",\n",
    "        \"eval_scaled_img_resolution\": 32,\n",
    "        \"gt_mesh_dir\": gt_mesh_dir,\n",
    "        \"gt_scale_factor_dict_path\": gt_scale_factor_dict_path,\n",
    "        \"gt_sampled_pts_dir\": None,\n",
    "        \"mesh_ext\": \"stl\",\n",
    "    },\n",
    "    {\n",
    "        \"eval_scaled_img_model_type\": \"seg\",\n",
    "        \"eval_scaled_img_resolution\": 32,\n",
    "        \"gt_mesh_dir\": gt_mesh_dir,\n",
    "        \"gt_scale_factor_dict_path\": gt_scale_factor_dict_path,\n",
    "        \"gt_sampled_pts_dir\": None,\n",
    "        \"mesh_ext\": \"stl\",\n",
    "    },\n",
    "    {\n",
    "        \"eval_scaled_img_model_type\": \"sdf\",\n",
    "        \"eval_scaled_img_resolution\": 32,\n",
    "        \"gt_mesh_dir\": gt_mesh_dir,\n",
    "        \"gt_scale_factor_dict_path\": gt_scale_factor_dict_path,\n",
    "        \"gt_sampled_pts_dir\": None,\n",
    "        \"mesh_ext\": \"stl\",\n",
    "    },\n",
    "    {\n",
    "        \"eval_scaled_img_model_type\": \"seg\",\n",
    "        \"eval_scaled_img_resolution\": 32,\n",
    "        \"gt_mesh_dir\": gt_mesh_dir,\n",
    "        \"gt_scale_factor_dict_path\": gt_scale_factor_dict_path,\n",
    "        \"gt_sampled_pts_dir\": None,\n",
    "        \"mesh_ext\": \"stl\",\n",
    "    },\n",
    "]\n",
    "loss_eval_list = [torch.nn.MSELoss(reduction=\"none\")] * 5\n",
    "sample_points_list = [False] * 5\n",
    "skew_scale = None\n",
    "save_embeddings(\n",
    "    save_path,\n",
    "    data_list,\n",
    "    all_models,\n",
    "    run_names,\n",
    "    debug,\n",
    "    splits_list,\n",
    "    device,\n",
    "    meta_key,\n",
    "    loss_eval_list,\n",
    "    sample_points_list,\n",
    "    skew_scale,\n",
    "    eval_scaled_img,\n",
    "    eval_scaled_img_params,\n",
    ")"
   ]
  },
  {
   "cell_type": "code",
   "execution_count": null,
   "id": "ce355be9-4fe8-40e3-95ba-8e86714a022e",
   "metadata": {},
   "outputs": [],
   "source": [
    "run_names"
   ]
  },
  {
   "cell_type": "markdown",
   "id": "a377891f-f19c-494a-84f1-5e26c96ecc05",
   "metadata": {},
   "source": [
    "# Latent walks"
   ]
  },
  {
   "cell_type": "code",
   "execution_count": null,
   "id": "0e928040-117f-44e6-b2c8-6bfc6ed3614d",
   "metadata": {
    "scrolled": true
   },
   "outputs": [],
   "source": [
    "# Load model and embeddings\n",
    "\n",
    "run_names = [\"Rotation_invariant_pointcloud_SDF\"]\n",
    "DATASET_INFO = get_all_configs_per_dataset(results_path)\n",
    "all_ret, df = get_embeddings(run_names, dataset_name, DATASET_INFO, save_path)\n",
    "model = all_models[0]"
   ]
  },
  {
   "cell_type": "code",
   "execution_count": null,
   "id": "8c288e6f-0fd8-422b-baa2-c57c8a0178e2",
   "metadata": {
    "scrolled": true
   },
   "outputs": [],
   "source": [
    "from sklearn.decomposition import PCA\n",
    "from tqdm import tqdm\n",
    "from cyto_dl.image.transforms import RotationMask\n",
    "from skimage.io import imread\n",
    "from br.data.utils import mesh_seg_model_output\n",
    "import pyvista as pv\n",
    "from br.visualization.mitsuba_render_image import plot\n",
    "\n",
    "this_save_path = Path(save_path) / Path(\"latent_walks\")\n",
    "this_save_path.mkdir(parents=True, exist_ok=True)\n",
    "\n",
    "\n",
    "for num_pieces in all_ret['STR_connectivity_cc_thresh'].unique():\n",
    "    this_sub_m = all_ret.loc[all_ret['STR_connectivity_cc_thresh'] == num_pieces].reset_index(drop=True)\n",
    "    all_features = this_sub_m[[i for i in this_sub_m.columns if \"mu\" in i]].values\n",
    "    latent_dim=512\n",
    "    dim_size = latent_dim\n",
    "    x_label = 'pcloud'\n",
    "    pca = PCA(n_components=dim_size)\n",
    "    pca_features = pca.fit_transform(all_features)\n",
    "    pca_std_list = pca_features.std(axis=0)\n",
    "    for rank in [0, 1]:\n",
    "        all_xhat = []\n",
    "        all_closest_real = []\n",
    "        all_closest_img = []\n",
    "        latent_walk_range = [-2, 0, 2]\n",
    "        for value_index, value in enumerate(\n",
    "                tqdm(latent_walk_range, total=len(latent_walk_range))\n",
    "            ):\n",
    "            z_inf = torch.zeros(1, dim_size)\n",
    "            z_inf[:, rank] += value * pca_std_list[rank]\n",
    "            z_inf = pca.inverse_transform(z_inf).numpy()\n",
    "        \n",
    "            dist = (all_features - z_inf) ** 2\n",
    "            dist = np.sum(dist, axis=1)\n",
    "            closest_idx = np.argmin(dist)\n",
    "            closest_real_id = this_sub_m.iloc[closest_idx]['CellId']\n",
    "            mesh = pv.read(all_ret.loc[all_ret['CellId'] == closest_real_id]['mesh_path_noalign'].iloc[0])\n",
    "            mesh.save(this_save_path / Path(f'{num_pieces}_{rank}_{value_index}.ply'))\n",
    "\n",
    "            # this_mesh_path = this_save_path / Path(f'{num_pieces}_{rank}_{value_index}.ply')\n",
    "            # this_mesh_path = './' + str(this_mesh_path)\n",
    "            \n",
    "            # mitsuba_save_path = this_save_path / Path('mitsuba')\n",
    "            # mitsuba_save_path.mkdir(parents=True, exist_ok=True)\n",
    "            # mitsuba_save_path = './' + str(mitsuba_save_path)\n",
    "            # name = f\"{num_pieces}_{rank}_{value_index}\"\n",
    "            \n",
    "            # plot(str(this_mesh_path), mitsuba_save_path, 120, None, None, name)\n",
    "    "
   ]
  },
  {
   "cell_type": "code",
   "execution_count": null,
   "id": "6ee74174-5acd-41c3-b420-659297204922",
   "metadata": {},
   "outputs": [],
   "source": [
    "1"
   ]
  },
  {
   "cell_type": "code",
   "execution_count": null,
   "id": "7656abd5-b72e-4513-86db-ea7341540cab",
   "metadata": {},
   "outputs": [],
   "source": [
    "save_path = \"./test_npm1_save_embeddings/\"\n",
    "this_save_path = Path(save_path) / Path(\"latent_walks\")\n",
    "\n",
    "# num_pieces = 4.0\n",
    "num_pieces = \"2.0\"\n",
    "rank = 0\n",
    "bin_ = 0\n",
    "this_mesh_path = this_save_path / Path(f'{num_pieces}_{rank}_{bin_}.ply')\n",
    "this_mesh_path = './' + str(this_mesh_path)\n",
    "\n",
    "save_path = this_save_path / Path('mitsuba')\n",
    "save_path.mkdir(parents=True, exist_ok=True)\n",
    "save_path = './' + str(save_path)\n",
    "name = f\"{num_pieces}_{rank}_{bin_}\"\n",
    "\n",
    "\n",
    "plot(str(this_mesh_path), save_path, 10, 0, None, name)"
   ]
  },
  {
   "cell_type": "code",
   "execution_count": null,
   "id": "a84e092c-317b-48e3-b34c-b1820e6f2dcd",
   "metadata": {},
   "outputs": [],
   "source": [
    "save_path"
   ]
  },
  {
   "cell_type": "code",
   "execution_count": null,
   "id": "fd77dfaf-b665-4a9a-9925-e1400eab4147",
   "metadata": {},
   "outputs": [],
   "source": []
  },
  {
   "cell_type": "markdown",
   "id": "fe57d425-25e7-4476-951a-afbbcf5ff0ca",
   "metadata": {},
   "source": [
    "# Archetype"
   ]
  },
  {
   "cell_type": "code",
   "execution_count": null,
   "id": "b043c7d8-7e82-4371-8653-4a44d94e7907",
   "metadata": {},
   "outputs": [],
   "source": [
    "from br.features.archetype import AA_Fast\n",
    "n_archetypes = 5\n",
    "matrix = all_ret[[i for i in all_ret.columns if \"mu\" in i]].values\n",
    "aa = AA_Fast(n_archetypes, max_iter=1000, tol=1e-6).fit(matrix)\n",
    "\n",
    "import pandas as pd\n",
    "archetypes_df = pd.DataFrame(aa.Z, columns = [f'mu_{i}' for i in range(matrix.shape[1])])"
   ]
  },
  {
   "cell_type": "code",
   "execution_count": null,
   "id": "cb7affce-1f78-4813-b538-1ce47486f432",
   "metadata": {},
   "outputs": [],
   "source": [
    "this_save_path = Path(save_path) / Path(\"archetypes\")\n",
    "this_save_path.mkdir(parents=True, exist_ok=True)\n",
    "\n",
    "all_features =  matrix\n",
    "for i in range(n_archetypes):\n",
    "    this_mu = archetypes_df.iloc[i].values\n",
    "    dist = (all_features - this_mu) ** 2\n",
    "    dist = np.sum(dist, axis=1)\n",
    "    closest_idx = np.argmin(dist)\n",
    "    closest_real_id = all_ret.iloc[closest_idx]['CellId']\n",
    "    print(dist, closest_real_id)\n",
    "    mesh = pv.read(all_ret.loc[all_ret['CellId'] == closest_real_id]['mesh_path_noalign'].iloc[0])\n",
    "    mesh.save(this_save_path / Path(f'{i}.ply'))\n",
    "        "
   ]
  },
  {
   "cell_type": "code",
   "execution_count": null,
   "id": "5d2fd36e-a77a-4b24-b810-913a28660256",
   "metadata": {},
   "outputs": [],
   "source": [
    "save_path"
   ]
  },
  {
   "cell_type": "code",
   "execution_count": null,
   "id": "42294cd1-bf48-4e7d-9304-41a897099b1b",
   "metadata": {},
   "outputs": [],
   "source": [
    "save_path = \"./test_npm1_save_embeddings/\"\n",
    "this_save_path = Path(save_path) / Path(\"archetypes\")\n",
    "\n",
    "arch = \"4\"\n",
    "this_mesh_path = this_save_path / Path(f'{arch}.ply')\n",
    "this_mesh_path = './' + str(this_mesh_path)\n",
    "\n",
    "save_path = this_save_path / Path('mitsuba')\n",
    "save_path.mkdir(parents=True, exist_ok=True)\n",
    "save_path = './' + str(save_path)\n",
    "name = f\"{arch}\"\n",
    "\n",
    "\n",
    "plot(str(this_mesh_path), save_path, 90, 0, None, name)"
   ]
  },
  {
   "cell_type": "markdown",
   "id": "10b04aec-802f-4a3f-841d-f5b8a7a9afc6",
   "metadata": {},
   "source": [
    "# Pseudo time"
   ]
  },
  {
   "cell_type": "code",
   "execution_count": null,
   "id": "a15b8947-fc00-46b1-b13b-191d0660822b",
   "metadata": {},
   "outputs": [],
   "source": [
    "all_ret['volume_of_nucleus_um3'] = all_ret['dna_shape_volume_lcc']*0.108**3"
   ]
  },
  {
   "cell_type": "code",
   "execution_count": null,
   "id": "5acaf553-9edb-493d-af82-4805418ba75e",
   "metadata": {},
   "outputs": [],
   "source": [
    "feat = 'volume_of_nucleus_um3'\n",
    "upper = np.quantile(all_ret[feat], q=0.99)\n",
    "lower = np.quantile(all_ret[feat], q=0.01)\n",
    "\n",
    "this = all_ret.loc[all_ret[feat] < upper]\n",
    "this = this.loc[this[feat] > lower].reset_index(drop=True)"
   ]
  },
  {
   "cell_type": "code",
   "execution_count": null,
   "id": "3fa15fee-896b-4980-a18f-33ad32f8bbfb",
   "metadata": {},
   "outputs": [],
   "source": [
    "this['vol_bins'] = pd.cut(this[feat], bins=5)\n",
    "this['vol_bins_ind'] = pd.factorize(this['vol_bins'])[0]"
   ]
  },
  {
   "cell_type": "code",
   "execution_count": null,
   "id": "ba66e901-7d70-4c9a-b91b-df7f9094931c",
   "metadata": {},
   "outputs": [],
   "source": [
    "this['vol_bins'].value_counts()"
   ]
  },
  {
   "cell_type": "code",
   "execution_count": null,
   "id": "a5946e6f-52ec-4be3-abf1-da95fb90efdf",
   "metadata": {},
   "outputs": [],
   "source": [
    "this_save_path = Path(save_path) / Path(\"pseudo_time\")\n",
    "this_save_path.mkdir(parents=True, exist_ok=True)"
   ]
  },
  {
   "cell_type": "code",
   "execution_count": null,
   "id": "35e59ca0-dbc1-4882-ba39-e92c2157060c",
   "metadata": {},
   "outputs": [],
   "source": [
    "all_features = this[[i for i in this.columns if \"mu\" in i]].values\n",
    "this['vol_bins'] = this['vol_bins'].astype(str)\n",
    "for hh in this['vol_bins'].unique():\n",
    "    this_ret = this.loc[this['vol_bins'] == hh].reset_index(drop=True)\n",
    "    \n",
    "    this_mu = np.expand_dims(this_ret[[i for i in this_ret.columns if \"mu\" in i]].mean(axis=0), axis=0)\n",
    "    dist = (all_features - this_mu) ** 2\n",
    "    # dist = np.sum(dist, axis=1)\n",
    "    k = 2\n",
    "    # print(min(latent_dim, all_features.shape[0]))\n",
    "    inds = np.argpartition(dist.sum(axis=-1), k)[:k] # get 10 closest\n",
    "    closest_samples = this.iloc[inds].reset_index(drop=True)\n",
    "    for ind, row in closest_samples.iterrows():\n",
    "        # closest_real_id = this.iloc[closest_idx]['CellId']\n",
    "        closest_real_id = row['CellId']\n",
    "        print(closest_idx, this_ret['vol_bins'].unique(), all_features.shape, this_ret.shape, this_ret['dna_shape_volume_lcc'].mean(), closest_real_id)\n",
    "        mesh = pv.read(all_ret.loc[all_ret['CellId'] == closest_real_id]['mesh_path_noalign'].iloc[0])\n",
    "        mesh.save(this_save_path / Path(f'{hh}_{ind}_{closest_real_id}.ply'))\n",
    "        "
   ]
  },
  {
   "cell_type": "code",
   "execution_count": null,
   "id": "3faab1b2-a09e-49ae-8a0d-28057cf7e8ba",
   "metadata": {},
   "outputs": [],
   "source": [
    "save_path = \"./test_npm1_save_embeddings/\"\n",
    "this_save_path = Path(save_path) / Path(\"pseudo_time\")\n",
    "\n",
    "pseu = \"(533.383, 676.015]_0_970952\"\n",
    "this_mesh_path = this_save_path / Path(f'{pseu}.ply')\n",
    "this_mesh_path = './' + str(this_mesh_path)\n",
    "\n",
    "save_path = this_save_path / Path('mitsuba')\n",
    "save_path.mkdir(parents=True, exist_ok=True)\n",
    "save_path = './' + str(save_path)\n",
    "name = f\"{pseu}\"\n",
    "\n",
    "\n",
    "plot(str(this_mesh_path), save_path, 90, 90, None, name)"
   ]
  },
  {
   "cell_type": "code",
   "execution_count": null,
   "id": "ca62a559-48a1-4273-ac5f-4e2fcd407e4a",
   "metadata": {},
   "outputs": [],
   "source": []
  }
 ],
 "metadata": {
  "kernelspec": {
   "display_name": "Python 3 (ipykernel)",
   "language": "python",
   "name": "python3"
  },
  "language_info": {
   "codemirror_mode": {
    "name": "ipython",
    "version": 3
   },
   "file_extension": ".py",
   "mimetype": "text/x-python",
   "name": "python",
   "nbconvert_exporter": "python",
   "pygments_lexer": "ipython3",
   "version": "3.10.14"
  }
 },
 "nbformat": 4,
 "nbformat_minor": 5
}
