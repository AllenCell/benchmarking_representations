{
 "cells": [
  {
   "cell_type": "code",
   "execution_count": 1,
   "id": "22c4a2e8-f280-463d-9140-68d0a8f8e63c",
   "metadata": {},
   "outputs": [],
   "source": [
    "%load_ext autoreload\n",
    "%autoreload 2\n",
    "import os\n",
    "\n",
    "os.environ[\"CUDA_DEVICE_ORDER\"] = \"PCI_BUS_ID\"  # see issue #152\n",
    "os.environ[\"CUDA_VISIBLE_DEVICES\"] = \"MIG-864c07c4-8eeb-5b23-8d57-eaeb942a9a0f\"\n",
    "import matplotlib.pyplot as plt\n",
    "import numpy as np\n",
    "import torch\n",
    "import yaml\n",
    "from hydra.utils import instantiate\n",
    "from PIL import Image\n",
    "from sklearn.manifold import TSNE\n",
    "from torch.utils.data import DataLoader, Dataset\n",
    "\n",
    "device = \"cuda:0\""
   ]
  },
  {
   "cell_type": "code",
   "execution_count": 2,
   "id": "10394787-c363-4803-80ce-2f72ce16df21",
   "metadata": {},
   "outputs": [],
   "source": [
    "os.chdir(\"/allen/aics/modeling/ritvik/projects/benchmarking_representations/\")\n",
    "save_path = \"./test_npm1_save_embeddings/\""
   ]
  },
  {
   "cell_type": "code",
   "execution_count": 3,
   "id": "3efaf167-6983-4d1d-9f51-0054830089e6",
   "metadata": {},
   "outputs": [],
   "source": [
    "from cyto_dl.models.utils.mlflow import load_model_from_checkpoint\n",
    "\n",
    "from br.data.get_datamodules import get_data\n",
    "from br.models.load_models import load_model_from_path\n",
    "from br.models.save_embeddings import get_pc_loss\n",
    "\n",
    "\n",
    "def get_data_and_models(dataset_name, batch_size, results_path, debug=False):\n",
    "    data_list = get_data(dataset_name, batch_size, results_path, debug)\n",
    "    all_models, run_names, model_sizes = load_model_from_path(\n",
    "        dataset_name, results_path\n",
    "    )  # default list of models in load_models.py\n",
    "    return data_list, all_models, run_names, model_sizes"
   ]
  },
  {
   "cell_type": "code",
   "execution_count": 17,
   "id": "ac2b6072-3314-420b-9746-f67b28fb8539",
   "metadata": {},
   "outputs": [],
   "source": [
    "dataset_name = \"npm1\"\n",
    "batch_size = 2\n",
    "debug = True\n",
    "results_path = (\n",
    "    \"/allen/aics/modeling/ritvik/projects/benchmarking_representations/configs/results/\"\n",
    ")\n",
    "data_list, all_models, run_names, model_sizes = get_data_and_models(\n",
    "    dataset_name, batch_size, results_path, debug\n",
    ")"
   ]
  },
  {
   "cell_type": "markdown",
   "id": "7428170f-624a-4f9c-84b4-0c6162a2759a",
   "metadata": {},
   "source": [
    "# Compute embeddings and emissions"
   ]
  },
  {
   "cell_type": "code",
   "execution_count": 18,
   "id": "0ac9560f-d9e6-4e3f-8af3-0651ba8f9056",
   "metadata": {},
   "outputs": [
    {
     "data": {
      "text/plain": [
       "5"
      ]
     },
     "execution_count": 18,
     "metadata": {},
     "output_type": "execute_result"
    }
   ],
   "source": [
    "len(eval_scaled_img_params)"
   ]
  },
  {
   "cell_type": "code",
   "execution_count": 21,
   "id": "dc65e52e-0dbd-4651-bf92-e29d774ed2a6",
   "metadata": {},
   "outputs": [
    {
     "name": "stdout",
     "output_type": "stream",
     "text": [
      "Processing train\n"
     ]
    },
    {
     "name": "stderr",
     "output_type": "stream",
     "text": [
      "  0%|                                                                                                                       | 0/4267 [00:00<?, ?it/s]"
     ]
    },
    {
     "name": "stdout",
     "output_type": "stream",
     "text": [
      "(2, 32768)\n"
     ]
    },
    {
     "name": "stderr",
     "output_type": "stream",
     "text": [
      "  0%|                                                                                                             | 1/4267 [00:04<4:50:40,  4.09s/it]"
     ]
    },
    {
     "name": "stdout",
     "output_type": "stream",
     "text": [
      "(2, 32768)\n"
     ]
    },
    {
     "name": "stderr",
     "output_type": "stream",
     "text": [
      "  0%|                                                                                                             | 2/4267 [00:07<4:03:14,  3.42s/it]"
     ]
    },
    {
     "name": "stdout",
     "output_type": "stream",
     "text": [
      "(2, 32768)\n"
     ]
    },
    {
     "name": "stderr",
     "output_type": "stream",
     "text": [
      "  0%|                                                                                                             | 3/4267 [00:10<3:53:52,  3.29s/it]"
     ]
    },
    {
     "name": "stdout",
     "output_type": "stream",
     "text": [
      "(2, 32768)\n"
     ]
    },
    {
     "name": "stderr",
     "output_type": "stream",
     "text": [
      "  0%|                                                                                                             | 4/4267 [00:12<3:49:01,  3.22s/it]\n"
     ]
    },
    {
     "name": "stdout",
     "output_type": "stream",
     "text": [
      "Processing val\n"
     ]
    },
    {
     "name": "stderr",
     "output_type": "stream",
     "text": [
      "  0%|                                                                                                                        | 0/754 [00:00<?, ?it/s]"
     ]
    },
    {
     "name": "stdout",
     "output_type": "stream",
     "text": [
      "(2, 32768)\n"
     ]
    },
    {
     "name": "stderr",
     "output_type": "stream",
     "text": [
      "  0%|▏                                                                                                             | 1/754 [00:05<1:09:20,  5.53s/it]"
     ]
    },
    {
     "name": "stdout",
     "output_type": "stream",
     "text": [
      "(2, 32768)\n"
     ]
    },
    {
     "name": "stderr",
     "output_type": "stream",
     "text": [
      "  0%|▎                                                                                                               | 2/754 [00:08<48:41,  3.89s/it]"
     ]
    },
    {
     "name": "stdout",
     "output_type": "stream",
     "text": [
      "(2, 32768)\n"
     ]
    },
    {
     "name": "stderr",
     "output_type": "stream",
     "text": [
      "  0%|▍                                                                                                               | 3/754 [00:11<42:41,  3.41s/it]"
     ]
    },
    {
     "name": "stdout",
     "output_type": "stream",
     "text": [
      "(2, 32768)\n"
     ]
    },
    {
     "name": "stderr",
     "output_type": "stream",
     "text": [
      "  1%|▌                                                                                                               | 4/754 [00:15<47:26,  3.80s/it]\n"
     ]
    },
    {
     "name": "stdout",
     "output_type": "stream",
     "text": [
      "Processing test\n"
     ]
    },
    {
     "name": "stderr",
     "output_type": "stream",
     "text": [
      "  0%|                                                                                                                        | 0/887 [00:00<?, ?it/s]"
     ]
    },
    {
     "name": "stdout",
     "output_type": "stream",
     "text": [
      "(2, 32768)\n"
     ]
    },
    {
     "name": "stderr",
     "output_type": "stream",
     "text": [
      "  0%|                                                                                                              | 1/887 [00:04<1:12:38,  4.92s/it]"
     ]
    },
    {
     "name": "stdout",
     "output_type": "stream",
     "text": [
      "(2, 32768)\n"
     ]
    },
    {
     "name": "stderr",
     "output_type": "stream",
     "text": [
      "  0%|▎                                                                                                               | 2/887 [00:07<50:57,  3.45s/it]"
     ]
    },
    {
     "name": "stdout",
     "output_type": "stream",
     "text": [
      "(2, 32768)\n"
     ]
    },
    {
     "name": "stderr",
     "output_type": "stream",
     "text": [
      "  0%|▍                                                                                                               | 3/887 [00:09<43:35,  2.96s/it]"
     ]
    },
    {
     "name": "stdout",
     "output_type": "stream",
     "text": [
      "(2, 32768)\n"
     ]
    },
    {
     "name": "stderr",
     "output_type": "stream",
     "text": [
      "  0%|▌                                                                                                               | 4/887 [00:12<47:28,  3.23s/it]\n"
     ]
    },
    {
     "name": "stdout",
     "output_type": "stream",
     "text": [
      "Processing train\n"
     ]
    },
    {
     "name": "stderr",
     "output_type": "stream",
     "text": [
      "  0%|                                                                                                                          | 0/2 [00:00<?, ?it/s]"
     ]
    },
    {
     "name": "stdout",
     "output_type": "stream",
     "text": [
      "(2, 35, 35, 35)\n"
     ]
    },
    {
     "name": "stderr",
     "output_type": "stream",
     "text": [
      " 50%|█████████████████████████████████████████████████████████                                                         | 1/2 [00:02<00:02,  2.71s/it]"
     ]
    },
    {
     "name": "stdout",
     "output_type": "stream",
     "text": [
      "(2, 35, 35, 35)\n"
     ]
    },
    {
     "name": "stderr",
     "output_type": "stream",
     "text": [
      "100%|██████████████████████████████████████████████████████████████████████████████████████████████████████████████████| 2/2 [00:05<00:00,  2.59s/it]\n"
     ]
    },
    {
     "name": "stdout",
     "output_type": "stream",
     "text": [
      "Processing val\n"
     ]
    },
    {
     "name": "stderr",
     "output_type": "stream",
     "text": [
      "  0%|                                                                                                                          | 0/2 [00:00<?, ?it/s]"
     ]
    },
    {
     "name": "stdout",
     "output_type": "stream",
     "text": [
      "(2, 35, 35, 35)\n",
      "Created empty mesh\n"
     ]
    },
    {
     "name": "stderr",
     "output_type": "stream",
     "text": [
      " 50%|█████████████████████████████████████████████████████████                                                         | 1/2 [00:02<00:02,  2.56s/it]"
     ]
    },
    {
     "name": "stdout",
     "output_type": "stream",
     "text": [
      "(2, 35, 35, 35)\n"
     ]
    },
    {
     "name": "stderr",
     "output_type": "stream",
     "text": [
      "100%|██████████████████████████████████████████████████████████████████████████████████████████████████████████████████| 2/2 [00:04<00:00,  2.47s/it]\n"
     ]
    },
    {
     "name": "stdout",
     "output_type": "stream",
     "text": [
      "Processing test\n"
     ]
    },
    {
     "name": "stderr",
     "output_type": "stream",
     "text": [
      "  0%|                                                                                                                          | 0/2 [00:00<?, ?it/s]"
     ]
    },
    {
     "name": "stdout",
     "output_type": "stream",
     "text": [
      "(2, 35, 35, 35)\n",
      "Created empty mesh\n"
     ]
    },
    {
     "name": "stderr",
     "output_type": "stream",
     "text": [
      " 50%|█████████████████████████████████████████████████████████                                                         | 1/2 [00:02<00:02,  2.80s/it]"
     ]
    },
    {
     "name": "stdout",
     "output_type": "stream",
     "text": [
      "(2, 35, 35, 35)\n"
     ]
    },
    {
     "name": "stderr",
     "output_type": "stream",
     "text": [
      "100%|██████████████████████████████████████████████████████████████████████████████████████████████████████████████████| 2/2 [00:05<00:00,  2.84s/it]\n"
     ]
    },
    {
     "name": "stdout",
     "output_type": "stream",
     "text": [
      "Processing train\n"
     ]
    },
    {
     "name": "stderr",
     "output_type": "stream",
     "text": [
      "  0%|                                                                                                                          | 0/2 [00:00<?, ?it/s]"
     ]
    },
    {
     "name": "stdout",
     "output_type": "stream",
     "text": [
      "(2, 35, 35, 35)\n"
     ]
    },
    {
     "name": "stderr",
     "output_type": "stream",
     "text": [
      " 50%|█████████████████████████████████████████████████████████                                                         | 1/2 [00:02<00:02,  2.53s/it]"
     ]
    },
    {
     "name": "stdout",
     "output_type": "stream",
     "text": [
      "(2, 35, 35, 35)\n"
     ]
    },
    {
     "name": "stderr",
     "output_type": "stream",
     "text": [
      "100%|██████████████████████████████████████████████████████████████████████████████████████████████████████████████████| 2/2 [00:04<00:00,  2.35s/it]\n"
     ]
    },
    {
     "name": "stdout",
     "output_type": "stream",
     "text": [
      "Processing val\n"
     ]
    },
    {
     "name": "stderr",
     "output_type": "stream",
     "text": [
      "  0%|                                                                                                                          | 0/2 [00:00<?, ?it/s]"
     ]
    },
    {
     "name": "stdout",
     "output_type": "stream",
     "text": [
      "(2, 35, 35, 35)\n"
     ]
    },
    {
     "name": "stderr",
     "output_type": "stream",
     "text": [
      " 50%|█████████████████████████████████████████████████████████                                                         | 1/2 [00:02<00:02,  2.36s/it]"
     ]
    },
    {
     "name": "stdout",
     "output_type": "stream",
     "text": [
      "(2, 35, 35, 35)\n"
     ]
    },
    {
     "name": "stderr",
     "output_type": "stream",
     "text": [
      "100%|██████████████████████████████████████████████████████████████████████████████████████████████████████████████████| 2/2 [00:04<00:00,  2.35s/it]\n"
     ]
    },
    {
     "name": "stdout",
     "output_type": "stream",
     "text": [
      "Processing test\n"
     ]
    },
    {
     "name": "stderr",
     "output_type": "stream",
     "text": [
      "  0%|                                                                                                                          | 0/2 [00:00<?, ?it/s]"
     ]
    },
    {
     "name": "stdout",
     "output_type": "stream",
     "text": [
      "(2, 35, 35, 35)\n"
     ]
    },
    {
     "name": "stderr",
     "output_type": "stream",
     "text": [
      " 50%|█████████████████████████████████████████████████████████                                                         | 1/2 [00:02<00:02,  2.55s/it]"
     ]
    },
    {
     "name": "stdout",
     "output_type": "stream",
     "text": [
      "(2, 35, 35, 35)\n"
     ]
    },
    {
     "name": "stderr",
     "output_type": "stream",
     "text": [
      "100%|██████████████████████████████████████████████████████████████████████████████████████████████████████████████████| 2/2 [00:05<00:00,  2.62s/it]\n"
     ]
    },
    {
     "name": "stdout",
     "output_type": "stream",
     "text": [
      "Processing train\n"
     ]
    },
    {
     "name": "stderr",
     "output_type": "stream",
     "text": [
      "  0%|                                                                                                                          | 0/2 [00:00<?, ?it/s]"
     ]
    },
    {
     "name": "stdout",
     "output_type": "stream",
     "text": [
      "(2, 35, 35, 35)\n"
     ]
    },
    {
     "name": "stderr",
     "output_type": "stream",
     "text": [
      " 50%|█████████████████████████████████████████████████████████                                                         | 1/2 [00:02<00:02,  2.41s/it]"
     ]
    },
    {
     "name": "stdout",
     "output_type": "stream",
     "text": [
      "(2, 35, 35, 35)\n"
     ]
    },
    {
     "name": "stderr",
     "output_type": "stream",
     "text": [
      "100%|██████████████████████████████████████████████████████████████████████████████████████████████████████████████████| 2/2 [00:04<00:00,  2.32s/it]\n"
     ]
    },
    {
     "name": "stdout",
     "output_type": "stream",
     "text": [
      "Processing val\n"
     ]
    },
    {
     "name": "stderr",
     "output_type": "stream",
     "text": [
      "  0%|                                                                                                                          | 0/2 [00:00<?, ?it/s]"
     ]
    },
    {
     "name": "stdout",
     "output_type": "stream",
     "text": [
      "(2, 35, 35, 35)\n"
     ]
    },
    {
     "name": "stderr",
     "output_type": "stream",
     "text": [
      " 50%|█████████████████████████████████████████████████████████                                                         | 1/2 [00:02<00:02,  2.25s/it]"
     ]
    },
    {
     "name": "stdout",
     "output_type": "stream",
     "text": [
      "(2, 35, 35, 35)\n"
     ]
    },
    {
     "name": "stderr",
     "output_type": "stream",
     "text": [
      "100%|██████████████████████████████████████████████████████████████████████████████████████████████████████████████████| 2/2 [00:04<00:00,  2.22s/it]\n"
     ]
    },
    {
     "name": "stdout",
     "output_type": "stream",
     "text": [
      "Processing test\n"
     ]
    },
    {
     "name": "stderr",
     "output_type": "stream",
     "text": [
      "  0%|                                                                                                                          | 0/2 [00:00<?, ?it/s]"
     ]
    },
    {
     "name": "stdout",
     "output_type": "stream",
     "text": [
      "(2, 35, 35, 35)\n"
     ]
    },
    {
     "name": "stderr",
     "output_type": "stream",
     "text": [
      " 50%|█████████████████████████████████████████████████████████                                                         | 1/2 [00:02<00:02,  2.56s/it]"
     ]
    },
    {
     "name": "stdout",
     "output_type": "stream",
     "text": [
      "(2, 35, 35, 35)\n"
     ]
    },
    {
     "name": "stderr",
     "output_type": "stream",
     "text": [
      "100%|██████████████████████████████████████████████████████████████████████████████████████████████████████████████████| 2/2 [00:05<00:00,  2.63s/it]\n"
     ]
    },
    {
     "name": "stdout",
     "output_type": "stream",
     "text": [
      "Processing train\n"
     ]
    },
    {
     "name": "stderr",
     "output_type": "stream",
     "text": [
      "  0%|                                                                                                                          | 0/2 [00:00<?, ?it/s]"
     ]
    },
    {
     "name": "stdout",
     "output_type": "stream",
     "text": [
      "(2, 35, 35, 35)\n"
     ]
    },
    {
     "name": "stderr",
     "output_type": "stream",
     "text": [
      " 50%|█████████████████████████████████████████████████████████                                                         | 1/2 [00:02<00:02,  2.36s/it]"
     ]
    },
    {
     "name": "stdout",
     "output_type": "stream",
     "text": [
      "(2, 35, 35, 35)\n"
     ]
    },
    {
     "name": "stderr",
     "output_type": "stream",
     "text": [
      "100%|██████████████████████████████████████████████████████████████████████████████████████████████████████████████████| 2/2 [00:04<00:00,  2.29s/it]\n"
     ]
    },
    {
     "name": "stdout",
     "output_type": "stream",
     "text": [
      "Processing val\n"
     ]
    },
    {
     "name": "stderr",
     "output_type": "stream",
     "text": [
      "  0%|                                                                                                                          | 0/2 [00:00<?, ?it/s]"
     ]
    },
    {
     "name": "stdout",
     "output_type": "stream",
     "text": [
      "(2, 35, 35, 35)\n"
     ]
    },
    {
     "name": "stderr",
     "output_type": "stream",
     "text": [
      " 50%|█████████████████████████████████████████████████████████                                                         | 1/2 [00:02<00:02,  2.36s/it]"
     ]
    },
    {
     "name": "stdout",
     "output_type": "stream",
     "text": [
      "(2, 35, 35, 35)\n"
     ]
    },
    {
     "name": "stderr",
     "output_type": "stream",
     "text": [
      "100%|██████████████████████████████████████████████████████████████████████████████████████████████████████████████████| 2/2 [00:04<00:00,  2.26s/it]\n"
     ]
    },
    {
     "name": "stdout",
     "output_type": "stream",
     "text": [
      "Processing test\n"
     ]
    },
    {
     "name": "stderr",
     "output_type": "stream",
     "text": [
      "  0%|                                                                                                                          | 0/2 [00:00<?, ?it/s]"
     ]
    },
    {
     "name": "stdout",
     "output_type": "stream",
     "text": [
      "(2, 35, 35, 35)\n"
     ]
    },
    {
     "name": "stderr",
     "output_type": "stream",
     "text": [
      " 50%|█████████████████████████████████████████████████████████                                                         | 1/2 [00:02<00:02,  2.48s/it]"
     ]
    },
    {
     "name": "stdout",
     "output_type": "stream",
     "text": [
      "(2, 35, 35, 35)\n"
     ]
    },
    {
     "name": "stderr",
     "output_type": "stream",
     "text": [
      "100%|██████████████████████████████████████████████████████████████████████████████████████████████████████████████████| 2/2 [00:05<00:00,  2.62s/it]\n"
     ]
    }
   ],
   "source": [
    "from br.models.save_embeddings import save_embeddings\n",
    "\n",
    "splits_list = [\"train\", 'val', \"test\"]\n",
    "meta_key = None\n",
    "eval_scaled_img = [True] * 5\n",
    "\n",
    "gt_mesh_dir = \"/allen/aics/assay-dev/users/Alex/replearn/rep_paper/data/var_blobby_noalign/meshes\"\n",
    "gt_sampled_pts_dir = \"/allen/aics/assay-dev/users/Alex/replearn/rep_paper/data/sampled_pcs/npm1_var_noalign_global/1_res/0\"\n",
    "gt_scale_factor_dict_path = \"/allen/aics/assay-dev/users/Alex/replearn/rep_paper/data/npm1_var_scale_factor_32res_noalign_global.npz\"\n",
    "\n",
    "eval_scaled_img_params = [\n",
    "                        {\"eval_scaled_img_model_type\":\"iae\",\n",
    "                          \"eval_scaled_img_resolution\":32,\n",
    "                          \"gt_mesh_dir\":gt_mesh_dir,\n",
    "                          \"gt_scale_factor_dict_path\":None,\n",
    "                          \"gt_sampled_pts_dir\":gt_sampled_pts_dir,\n",
    "                          \"mesh_ext\":\"stl\"},\n",
    "                        {\"eval_scaled_img_model_type\":\"sdf\",\n",
    "                          \"eval_scaled_img_resolution\":32,\n",
    "                          \"gt_mesh_dir\":gt_mesh_dir,\n",
    "                          \"gt_scale_factor_dict_path\":gt_scale_factor_dict_path,\n",
    "                          \"gt_sampled_pts_dir\":None,\n",
    "                          \"mesh_ext\":\"stl\"},\n",
    "                        {\"eval_scaled_img_model_type\":\"seg\",\n",
    "                          \"eval_scaled_img_resolution\":32,\n",
    "                          \"gt_mesh_dir\":gt_mesh_dir,\n",
    "                          \"gt_scale_factor_dict_path\":gt_scale_factor_dict_path,\n",
    "                          \"gt_sampled_pts_dir\":None,\n",
    "                          \"mesh_ext\":\"stl\"},\n",
    "                        {\"eval_scaled_img_model_type\":\"sdf\",\n",
    "                          \"eval_scaled_img_resolution\":32,\n",
    "                          \"gt_mesh_dir\":gt_mesh_dir,\n",
    "                          \"gt_scale_factor_dict_path\":gt_scale_factor_dict_path,\n",
    "                          \"gt_sampled_pts_dir\":None,\n",
    "                          \"mesh_ext\":\"stl\"},\n",
    "                        {\"eval_scaled_img_model_type\":\"seg\",\n",
    "                          \"eval_scaled_img_resolution\":32,\n",
    "                          \"gt_mesh_dir\":gt_mesh_dir,\n",
    "                          \"gt_scale_factor_dict_path\":gt_scale_factor_dict_path,\n",
    "                          \"gt_sampled_pts_dir\":None,\n",
    "                          \"mesh_ext\":\"stl\"},]\n",
    "loss_eval_list = [torch.nn.MSELoss(reduction='none')]*5\n",
    "sample_points_list = [False]*5\n",
    "skew_scale = None\n",
    "save_embeddings(\n",
    "    save_path,\n",
    "    data_list,\n",
    "    all_models,\n",
    "    run_names,\n",
    "    debug,\n",
    "    splits_list,\n",
    "    device,\n",
    "    meta_key,\n",
    "    loss_eval_list,\n",
    "    sample_points_list,\n",
    "    skew_scale,\n",
    "    eval_scaled_img,\n",
    "    eval_scaled_img_params,\n",
    ")"
   ]
  },
  {
   "cell_type": "code",
   "execution_count": null,
   "id": "a2c2f79f-eec0-4037-a956-ea809b70fb2a",
   "metadata": {},
   "outputs": [],
   "source": [
    "# dataset_name = 'npm1_test'\n",
    "run_names = [\"equiv_vnn\"]\n",
    "from src.models.compute_features import get_embeddings\n",
    "\n",
    "all_ret, df = get_embeddings(run_names, dataset_name)"
   ]
  },
  {
   "cell_type": "code",
   "execution_count": null,
   "id": "e0f2f4ef-e253-418b-8b48-314038795fe6",
   "metadata": {},
   "outputs": [],
   "source": [
    "import pandas as pd\n",
    "\n",
    "df = pd.read_csv(\"/allen/aics/assay-dev/users/Alex/replearn/rep_paper/data/var_npm1_manifest.csv\")\n",
    "cols_to_use = df.columns.difference(all_ret.columns).tolist() + [\"CellId\"]\n",
    "all_ret = all_ret.merge(df[cols_to_use], on=\"CellId\")\n",
    "mesh_df = pd.read_csv(\n",
    "    \"/allen/aics/assay-dev/users/Alex/replearn/rep_paper/data/var_npm1_manifest.csv\"\n",
    ")"
   ]
  },
  {
   "cell_type": "code",
   "execution_count": null,
   "id": "710ae297-5c42-4769-83a8-dee160889f6b",
   "metadata": {},
   "outputs": [],
   "source": [
    "updated_feat_df = pd.read_csv(\n",
    "    \"/allen/aics/assay-dev/users/Alex/replearn/rep_paper/processing_data/npm1_fullres_features.csv\"\n",
    ")"
   ]
  },
  {
   "cell_type": "code",
   "execution_count": null,
   "id": "f8e630c4-d8ff-4e61-9c10-94ab705854bc",
   "metadata": {},
   "outputs": [],
   "source": [
    "all_vals = []\n",
    "for ind, row in updated_feat_df.iterrows():\n",
    "    if row[\"connectivity_cc\"] >= 5.0:\n",
    "        new_val = \">=5\"\n",
    "    else:\n",
    "        new_val = str(row[\"connectivity_cc\"])\n",
    "    all_vals.append(new_val)"
   ]
  },
  {
   "cell_type": "code",
   "execution_count": null,
   "id": "c3013d12-3f19-4ce4-b920-ddc53fa07303",
   "metadata": {},
   "outputs": [],
   "source": [
    "updated_feat_df[\"new_connectivity_thresh\"] = all_vals"
   ]
  },
  {
   "cell_type": "code",
   "execution_count": null,
   "id": "e967d146-c5af-4a33-992a-6be22fbf8019",
   "metadata": {},
   "outputs": [],
   "source": [
    "updated_feat_df"
   ]
  },
  {
   "cell_type": "code",
   "execution_count": null,
   "id": "ddd3e5b0-76e4-445f-8a6f-1c1f2cacbe4e",
   "metadata": {},
   "outputs": [],
   "source": [
    "all_ret = all_ret.merge(updated_feat_df[[\"CellId\", \"new_connectivity_thresh\"]], on=\"CellId\")"
   ]
  },
  {
   "cell_type": "code",
   "execution_count": null,
   "id": "529fd913-5a43-4c83-a757-3e2be3e68ab7",
   "metadata": {},
   "outputs": [],
   "source": [
    "all_ret[\"new_connectivity_thresh\"].value_counts()"
   ]
  },
  {
   "cell_type": "code",
   "execution_count": null,
   "id": "4c190996-f991-4a57-9a24-bb044c1250bc",
   "metadata": {},
   "outputs": [],
   "source": [
    "from src.features.classification import get_classification_df\n",
    "\n",
    "connect_class = get_classification_df(all_ret, \"new_connectivity_thresh\")"
   ]
  },
  {
   "cell_type": "code",
   "execution_count": null,
   "id": "64b37186-eb3c-4637-a45a-8af8121cfedd",
   "metadata": {},
   "outputs": [],
   "source": [
    "# regress_cols = ['avg_dists', 'std_dists', 'mean_volume',\n",
    "#                                            'std_volume', 'mean_surface_area', 'std_surface_area']\n",
    "cols = [\"avg_dists\"]\n",
    "all_ret = all_ret.drop(columns=cols)"
   ]
  },
  {
   "cell_type": "code",
   "execution_count": null,
   "id": "15fa1f43-c95b-4d3e-aa02-253586145649",
   "metadata": {},
   "outputs": [],
   "source": [
    "all_ret = all_ret.merge(updated_feat_df[[\"CellId\"] + regress_cols], on=\"CellId\")"
   ]
  },
  {
   "cell_type": "code",
   "execution_count": null,
   "id": "24e3fbe0-ac0e-41df-8f9c-68e77aa58214",
   "metadata": {},
   "outputs": [],
   "source": [
    "from src.features.regression import get_regression_df\n",
    "\n",
    "regress = get_regression_df(all_ret, regress_cols, None)"
   ]
  },
  {
   "cell_type": "code",
   "execution_count": null,
   "id": "40cfa1d1-bda6-4cb2-b85b-bd42a82e08b1",
   "metadata": {},
   "outputs": [],
   "source": [
    "regress.groupby([\"target\"]).mean()"
   ]
  },
  {
   "cell_type": "code",
   "execution_count": null,
   "id": "cd72a676-2239-4467-a713-203ecf5a1dd8",
   "metadata": {},
   "outputs": [],
   "source": [
    "# regress.to_csv('./npm1_global/regression.csv')"
   ]
  },
  {
   "cell_type": "code",
   "execution_count": null,
   "id": "4dad28e1-9fa7-4f55-93a8-689fd9920c47",
   "metadata": {},
   "outputs": [],
   "source": [
    "import pyvista as pv\n",
    "from cyto_dl.image.transforms import RotationMask\n",
    "from skimage.io import imread\n",
    "from sklearn.decomposition import PCA\n",
    "from src.data.utils import mesh_seg_model_output\n",
    "from tqdm import tqdm\n",
    "\n",
    "num_pieces = \">=5\"\n",
    "\n",
    "for num_pieces in [\"1.0\", \"2.0\", \"3.0\", \"4.0\", \">=5\"]:\n",
    "    # num_pieces = '4.0'\n",
    "    this_sub_m = all_ret.loc[all_ret[\"new_connectivity_thresh\"] == num_pieces].reset_index(\n",
    "        drop=True\n",
    "    )\n",
    "    all_features = this_sub_m[[i for i in this_sub_m.columns if \"mu\" in i]].values\n",
    "    latent_dim = 512\n",
    "    dim_size = latent_dim\n",
    "    x_label = \"pcloud\"\n",
    "    pca = PCA(n_components=dim_size)\n",
    "    pca_features = pca.fit_transform(all_features)\n",
    "    pca_std_list = pca_features.std(axis=0)\n",
    "    rank = 0\n",
    "    all_xhat = []\n",
    "    all_closest_real = []\n",
    "    all_closest_img = []\n",
    "    latent_walk_range = [-2, 0, 2]\n",
    "    # latent_walk_range = [-2, -1.5, -1, -0.5, 0, 0.5, 1, 1.5, 2]\n",
    "    for value_index, value in enumerate(tqdm(latent_walk_range, total=len(latent_walk_range))):\n",
    "        z_inf = torch.zeros(1, dim_size)\n",
    "        z_inf[:, rank] += value * pca_std_list[rank]\n",
    "        z_inf = pca.inverse_transform(z_inf)\n",
    "\n",
    "        dist = (all_features - z_inf) ** 2\n",
    "        dist = np.sum(dist, axis=1)\n",
    "        closest_idx = np.argmin(dist)\n",
    "        closest_real_id = this_sub_m.iloc[closest_idx][\"CellId\"]\n",
    "        mesh = pv.read(\n",
    "            mesh_df.loc[mesh_df[\"CellId\"] == closest_real_id][\"mesh_path_noalign\"].iloc[0]\n",
    "        )\n",
    "        mesh.save(f\"./npm1_global/closest2/{num_pieces}_{rank}_{value_index}.ply\")"
   ]
  },
  {
   "cell_type": "code",
   "execution_count": null,
   "id": "6fb0d62d-c9ae-4b59-99cb-7c1116d30b11",
   "metadata": {},
   "outputs": [],
   "source": [
    "this_ret = all_ret\n",
    "matrix = this_ret[[i for i in this_ret.columns if \"mu\" in i]].values"
   ]
  },
  {
   "cell_type": "code",
   "execution_count": null,
   "id": "ecc4c065-6c4d-449a-83be-5d8be68fb90b",
   "metadata": {},
   "outputs": [],
   "source": []
  },
  {
   "cell_type": "code",
   "execution_count": null,
   "id": "97b81045-a416-4ed9-b2a6-125de16a48c7",
   "metadata": {},
   "outputs": [],
   "source": [
    "from src.features.archetype import AA_Fast\n",
    "\n",
    "n_archetypes = 5\n",
    "aa = AA_Fast(n_archetypes, max_iter=1000, tol=1e-6).fit(matrix)"
   ]
  },
  {
   "cell_type": "code",
   "execution_count": null,
   "id": "9e103de1-1855-48f7-8d8a-6bf58eedd606",
   "metadata": {},
   "outputs": [],
   "source": [
    "import pandas as pd\n",
    "\n",
    "archetypes_df = pd.DataFrame(aa.Z, columns=[f\"mu_{i}\" for i in range(matrix.shape[1])])"
   ]
  },
  {
   "cell_type": "code",
   "execution_count": null,
   "id": "b0ff7d2d-b4e1-4f04-96b2-ed4122e11ecc",
   "metadata": {},
   "outputs": [],
   "source": [
    "archetypes_df"
   ]
  },
  {
   "cell_type": "code",
   "execution_count": null,
   "id": "9bc64c1b-5d37-4084-b9cc-7168154c71e1",
   "metadata": {},
   "outputs": [],
   "source": [
    "all_features = matrix\n",
    "for i in range(n_archetypes):\n",
    "    this_mu = archetypes_df.iloc[i].values\n",
    "    dist = (all_features - this_mu) ** 2\n",
    "    dist = np.sum(dist, axis=1)\n",
    "    closest_idx = np.argmin(dist)\n",
    "    closest_real_id = this_ret.iloc[closest_idx][\"CellId\"]\n",
    "    print(dist, closest_real_id)\n",
    "    mesh = pv.read(mesh_df.loc[mesh_df[\"CellId\"] == closest_real_id][\"mesh_path_noalign\"].iloc[0])\n",
    "    mesh.save(f\"./npm1_global/archetype2/{i}.ply\")"
   ]
  },
  {
   "cell_type": "code",
   "execution_count": null,
   "id": "2e6be272-2be7-4eea-ad75-2d577ee43cfe",
   "metadata": {},
   "outputs": [],
   "source": []
  },
  {
   "cell_type": "code",
   "execution_count": null,
   "id": "9d3442de-7499-43b9-b4ab-501cb40de257",
   "metadata": {},
   "outputs": [],
   "source": [
    "# all_features =  matrix\n",
    "# for i in range(n_archetypes):\n",
    "#     this_mu = archetypes_df.iloc[i].values\n",
    "#     dist = (all_features - this_mu) ** 2\n",
    "#     dist = np.sum(dist, axis=1)\n",
    "#     closest_idx = np.argmin(dist)\n",
    "#     closest_real_id = this_ret.iloc[closest_idx]['CellId']\n",
    "#     print(dist, closest_real_id)\n",
    "#     mesh = pv.read(mesh_df.loc[mesh_df['CellId'] == closest_real_id]['mesh_path_noalign'].iloc[0])\n",
    "#     mesh.save(f'./npm1_test/closest/archetype/{i}.ply')"
   ]
  },
  {
   "cell_type": "code",
   "execution_count": null,
   "id": "1d701912-2160-4ee9-8568-c695442aaea2",
   "metadata": {},
   "outputs": [],
   "source": [
    "all_ret[\"STR_connectivity_cc_thresh\"]"
   ]
  },
  {
   "cell_type": "code",
   "execution_count": null,
   "id": "8d69b509-4927-4b7a-981a-4a7b62e09cfd",
   "metadata": {},
   "outputs": [],
   "source": [
    "for hh in all_ret[\"new_connectivity_thresh\"].unique():\n",
    "    this_ret = all_ret.loc[all_ret[\"new_connectivity_thresh\"] == hh].reset_index(drop=True)\n",
    "    labels = this_ret[\"structure_name\"].values\n",
    "    # labels = this_ret['cell_stage_fine'].values\n",
    "    matrix = this_ret[[i for i in this_ret.columns if \"mu\" in i]].values\n",
    "    from src.features.archetype import AA_Fast\n",
    "\n",
    "    n_archetypes = 3\n",
    "    aa = AA_Fast(n_archetypes, max_iter=1000, tol=1e-6).fit(matrix)\n",
    "    all_features = matrix\n",
    "    for i in range(n_archetypes):\n",
    "        print(hh, i)\n",
    "        this_mu = archetypes_df.iloc[i].values\n",
    "        dist = (all_features - this_mu) ** 2\n",
    "        dist = np.sum(dist, axis=1)\n",
    "        closest_idx = np.argmin(dist)\n",
    "        closest_real_id = this_ret.iloc[closest_idx][\"CellId\"]\n",
    "        print(dist, closest_real_id)\n",
    "        mesh = pv.read(\n",
    "            mesh_df.loc[mesh_df[\"CellId\"] == closest_real_id][\"mesh_path_noalign\"].iloc[0]\n",
    "        )\n",
    "        mesh.save(f\"./npm1_global/archetype/per_piece/{hh}_{i}_{closest_real_id}.ply\")"
   ]
  },
  {
   "cell_type": "code",
   "execution_count": null,
   "id": "5f379965-c469-44a8-9c6c-ad0134219671",
   "metadata": {},
   "outputs": [],
   "source": [
    "from skimage.io import imread\n",
    "\n",
    "img = imread(all_ret.loc[all_ret[\"CellId\"] == 974872][\"crop_seg_masked\"].iloc[0])"
   ]
  },
  {
   "cell_type": "code",
   "execution_count": null,
   "id": "08d3b79e-2330-416c-a3a7-e633b840153d",
   "metadata": {},
   "outputs": [],
   "source": [
    "all_ret[\"volume_of_nucleus_um3\"] = all_ret[\"NUC_shape_volume_lcc\"] * 0.108**3"
   ]
  },
  {
   "cell_type": "code",
   "execution_count": null,
   "id": "c7ae0461-9d5e-470c-addb-0f466a4b4eea",
   "metadata": {},
   "outputs": [],
   "source": [
    "bins = [(370.839, 577.444], (577.444, 784.05], (163.2, 370.839], (784.05, 990.656],  ]"
   ]
  },
  {
   "cell_type": "code",
   "execution_count": null,
   "id": "ad9a11df-292c-41e7-b148-450dce451bac",
   "metadata": {},
   "outputs": [],
   "source": [
    "all_ret[\"volume_of_nucleus_um3\"].max()"
   ]
  },
  {
   "cell_type": "code",
   "execution_count": null,
   "id": "6c8842dd-e4c9-4693-910d-4969028186c2",
   "metadata": {},
   "outputs": [],
   "source": [
    "all_ret[\"outlier\"].value_counts()"
   ]
  },
  {
   "cell_type": "code",
   "execution_count": null,
   "id": "437d2b75-1195-4099-beb4-8f7a33aa3e13",
   "metadata": {},
   "outputs": [],
   "source": [
    "[i for i in all_ret.columns if \"outlier\" in i]"
   ]
  },
  {
   "cell_type": "code",
   "execution_count": null,
   "id": "f568516c-5880-4b73-be4f-7ed9493e7f84",
   "metadata": {},
   "outputs": [],
   "source": [
    "feat = \"volume_of_nucleus_um3\"\n",
    "upper = np.quantile(all_ret[feat], q=0.975)\n",
    "lower = np.quantile(all_ret[feat], q=0.025)\n",
    "\n",
    "this = all_ret.loc[all_ret[feat] < upper]\n",
    "this = this.loc[this[feat] > lower].reset_index(drop=True)\n",
    "# this = all_ret\n",
    "\n",
    "# this = this.loc[this['CellId'] != 956566].reset_index(drop=True)"
   ]
  },
  {
   "cell_type": "code",
   "execution_count": null,
   "id": "a3c3325f-9366-4e73-b31a-ccafcf70d8f9",
   "metadata": {},
   "outputs": [],
   "source": [
    "this[feat].hist()"
   ]
  },
  {
   "cell_type": "code",
   "execution_count": null,
   "id": "611680fb-4e29-472b-9928-5bb167e40fa0",
   "metadata": {},
   "outputs": [],
   "source": [
    "this[\"vol_bins\"] = pd.cut(this[feat], bins=5)\n",
    "this[\"vol_bins_ind\"] = pd.factorize(this[\"vol_bins\"])[0]\n",
    "\n",
    "# this['vol_bins'] = pd.qcut(this[feat], q=5)\n",
    "# this['vol_bins_ind'] = pd.factorize(this['vol_bins'])[0]"
   ]
  },
  {
   "cell_type": "code",
   "execution_count": null,
   "id": "16ea2d4d-f8ca-418c-a60b-895f8025f49c",
   "metadata": {},
   "outputs": [],
   "source": [
    "this[\"vol_bins\"].value_counts()"
   ]
  },
  {
   "cell_type": "code",
   "execution_count": null,
   "id": "b8cea2b4-7173-4a4e-8b5e-ed0ec582f331",
   "metadata": {},
   "outputs": [],
   "source": [
    "this[\"vol_bins_ind\"].value_counts()"
   ]
  },
  {
   "cell_type": "code",
   "execution_count": null,
   "id": "ced5b373-e867-42b0-93af-672ffec9f080",
   "metadata": {},
   "outputs": [],
   "source": [
    "this[\"vol_bins_ind\"].value_counts()"
   ]
  },
  {
   "cell_type": "code",
   "execution_count": null,
   "id": "1a2a4624-0897-487f-aaf7-8abc340c5f32",
   "metadata": {},
   "outputs": [],
   "source": [
    "this[\"vol_bins\"].astype(str).iloc[0]"
   ]
  },
  {
   "cell_type": "code",
   "execution_count": null,
   "id": "3b0d368c-03a3-4bc9-852a-139979dccc6c",
   "metadata": {},
   "outputs": [],
   "source": []
  },
  {
   "cell_type": "code",
   "execution_count": null,
   "id": "902efbe4-9ebe-4241-a485-0ebf605bb99c",
   "metadata": {},
   "outputs": [],
   "source": [
    "all_features = this[[i for i in this.columns if \"mu\" in i]].values\n",
    "this[\"vol_bins\"] = this[\"vol_bins\"].astype(str)\n",
    "for hh in this[\"vol_bins\"].unique():\n",
    "    this_ret = this.loc[this[\"vol_bins\"] == hh].reset_index(drop=True)\n",
    "\n",
    "    this_mu = np.expand_dims(\n",
    "        this_ret[[i for i in this_ret.columns if \"mu\" in i]].mean(axis=0), axis=0\n",
    "    )\n",
    "    dist = (all_features - this_mu) ** 2\n",
    "    # dist = np.sum(dist, axis=1)\n",
    "    k = 2\n",
    "    # print(min(latent_dim, all_features.shape[0]))\n",
    "    inds = np.argpartition(dist.sum(axis=-1), k)[:k]  # get 10 closest\n",
    "    closest_samples = this.iloc[inds].reset_index(drop=True)\n",
    "    for ind, row in closest_samples.iterrows():\n",
    "        # closest_real_id = this.iloc[closest_idx]['CellId']\n",
    "        closest_real_id = row[\"CellId\"]\n",
    "        print(\n",
    "            closest_idx,\n",
    "            this_ret[\"vol_bins\"].unique(),\n",
    "            all_features.shape,\n",
    "            this_ret.shape,\n",
    "            this_ret[\"NUC_shape_volume_lcc\"].mean(),\n",
    "            closest_real_id,\n",
    "        )\n",
    "        mesh = pv.read(\n",
    "            mesh_df.loc[mesh_df[\"CellId\"] == closest_real_id][\"mesh_path_noalign\"].iloc[0]\n",
    "        )\n",
    "        mesh.save(f\"./npm1_global/vol_bin2/{hh}_{ind}_{closest_real_id}.ply\")"
   ]
  },
  {
   "cell_type": "code",
   "execution_count": null,
   "id": "001d0493-0fce-421e-991a-60b5ba833b5f",
   "metadata": {},
   "outputs": [],
   "source": [
    "dist.shape"
   ]
  },
  {
   "cell_type": "code",
   "execution_count": null,
   "id": "37019b32-5a8f-4ca2-951e-7ebb399a31d0",
   "metadata": {},
   "outputs": [],
   "source": [
    "this_mu.shape"
   ]
  },
  {
   "cell_type": "code",
   "execution_count": null,
   "id": "9ce5710d-eb6f-40c1-b874-59bca029ec2f",
   "metadata": {},
   "outputs": [],
   "source": [
    "this"
   ]
  },
  {
   "cell_type": "code",
   "execution_count": null,
   "id": "0e928040-117f-44e6-b2c8-6bfc6ed3614d",
   "metadata": {},
   "outputs": [],
   "source": []
  }
 ],
 "metadata": {
  "kernelspec": {
   "display_name": "Python 3 (ipykernel)",
   "language": "python",
   "name": "python3"
  },
  "language_info": {
   "codemirror_mode": {
    "name": "ipython",
    "version": 3
   },
   "file_extension": ".py",
   "mimetype": "text/x-python",
   "name": "python",
   "nbconvert_exporter": "python",
   "pygments_lexer": "ipython3",
   "version": "3.10.14"
  }
 },
 "nbformat": 4,
 "nbformat_minor": 5
}
