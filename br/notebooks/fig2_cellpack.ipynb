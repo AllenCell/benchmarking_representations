{
 "cells": [
  {
   "cell_type": "code",
   "execution_count": null,
   "id": "0cee08e3-a83f-4d43-863e-4c7b897fa4b6",
   "metadata": {},
   "outputs": [],
   "source": [
    "%load_ext autoreload\n",
    "%autoreload 2\n",
    "import os\n",
    "\n",
    "os.environ[\"CUDA_DEVICE_ORDER\"] = \"PCI_BUS_ID\"  # see issue #152\n",
    "os.environ[\"CUDA_VISIBLE_DEVICES\"] = \"MIG-ffdee303-0dd4-513d-b18c-beba028b49c7\"\n",
    "import matplotlib.pyplot as plt\n",
    "import numpy as np\n",
    "import torch\n",
    "import yaml\n",
    "from hydra.utils import instantiate\n",
    "from PIL import Image\n",
    "from torch.utils.data import DataLoader, Dataset\n",
    "\n",
    "device = \"cuda:0\""
   ]
  },
  {
   "cell_type": "markdown",
   "id": "167ec165-8536-48a7-8c8f-5833a9f66a87",
   "metadata": {},
   "source": [
    "# Load data and models"
   ]
  },
  {
   "cell_type": "code",
   "execution_count": null,
   "id": "42598204-3b2f-4f35-88d1-f3513b4b8498",
   "metadata": {},
   "outputs": [],
   "source": [
    "os.chdir(\"/allen/aics/modeling/ritvik/projects/benchmarking_representations/\")"
   ]
  },
  {
   "cell_type": "code",
   "execution_count": null,
   "id": "b894e6f7-1d4c-4dbf-ace7-ac9a538f1d2b",
   "metadata": {},
   "outputs": [],
   "source": [
    "from cyto_dl.models.utils.mlflow import load_model_from_checkpoint\n",
    "\n",
    "from br.data.get_datamodules import get_data\n",
    "from br.models.load_models import load_model_from_path\n",
    "from br.models.save_embeddings import get_pc_loss\n",
    "\n",
    "\n",
    "def get_data_and_models(dataset_name, batch_size, results_path, debug=False):\n",
    "    data_list = get_data(dataset_name, batch_size, results_path, debug)\n",
    "    all_models, run_names, model_sizes = load_model_from_path(\n",
    "        dataset_name, results_path\n",
    "    )  # default list of models in load_models.py\n",
    "    return data_list, all_models, run_names, model_sizes"
   ]
  },
  {
   "cell_type": "code",
   "execution_count": null,
   "id": "44cf3c8d-5b5f-4014-82e9-d10637265302",
   "metadata": {},
   "outputs": [],
   "source": [
    "dataset_name = \"cellpack\"\n",
    "batch_size = 2\n",
    "debug = True\n",
    "results_path = (\n",
    "    \"/allen/aics/modeling/ritvik/projects/benchmarking_representations/br/configs/results/\"\n",
    ")\n",
    "data_list, all_models, run_names, model_sizes = get_data_and_models(\n",
    "    dataset_name, batch_size, results_path, debug\n",
    ")"
   ]
  },
  {
   "cell_type": "code",
   "execution_count": null,
   "id": "77d9a221-35d8-4c92-862d-66f6960be214",
   "metadata": {},
   "outputs": [],
   "source": []
  },
  {
   "cell_type": "markdown",
   "id": "63b85b0e-8957-4786-a3c8-d8c617117acf",
   "metadata": {},
   "source": [
    "# Compute embeddings and emissions"
   ]
  },
  {
   "cell_type": "code",
   "execution_count": null,
   "id": "21da78a3-3254-4fba-8118-6039c84c825b",
   "metadata": {},
   "outputs": [],
   "source": [
    "from br.models.save_embeddings import save_embeddings\n",
    "\n",
    "debug = True\n",
    "splits_list = [\"test\"]\n",
    "meta_key = \"rule\"\n",
    "save_path = \"./test_cellpack_save_embeddings/\"\n",
    "eval_scaled_img = [False] * 5\n",
    "eval_scaled_img_params = [{}] * 5\n",
    "loss_eval_list = None\n",
    "sample_points_list = [True, True, False, False, False]\n",
    "skew_scale = 100\n",
    "save_embeddings(\n",
    "    save_path,\n",
    "    data_list,\n",
    "    all_models,\n",
    "    run_names,\n",
    "    debug,\n",
    "    splits_list,\n",
    "    device,\n",
    "    meta_key,\n",
    "    loss_eval_list,\n",
    "    sample_points_list,\n",
    "    skew_scale,\n",
    "    eval_scaled_img,\n",
    "    eval_scaled_img_params,\n",
    ")"
   ]
  },
  {
   "cell_type": "code",
   "execution_count": null,
   "id": "6e31d85d-b33c-4ee0-ac00-2987cd7c5e40",
   "metadata": {},
   "outputs": [],
   "source": [
    "from br.models.save_embeddings import save_emissions\n",
    "\n",
    "max_batches = 2\n",
    "save_emissions(\n",
    "    save_path,\n",
    "    data_list,\n",
    "    all_models,\n",
    "    run_names,\n",
    "    max_batches,\n",
    "    debug,\n",
    "    device,\n",
    "    loss_eval_list,\n",
    "    sample_points_list,\n",
    "    skew_scale,\n",
    "    eval_scaled_img,\n",
    "    eval_scaled_img_params,\n",
    ")"
   ]
  },
  {
   "cell_type": "markdown",
   "id": "85533af6-d04d-424e-9e6a-e35e4470f703",
   "metadata": {},
   "source": [
    "# Compute benchmarking features"
   ]
  },
  {
   "cell_type": "code",
   "execution_count": null,
   "id": "e3afc433-362e-4fe2-810e-799670f7bebb",
   "metadata": {},
   "outputs": [],
   "source": [
    "from br.models.compute_features import compute_features\n",
    "from br.models.save_embeddings import get_pc_loss_chamfer\n",
    "from br.models.utils import get_all_configs_per_dataset\n",
    "\n",
    "keys = [\"pcloud\"] * 5\n",
    "max_embed_dim = 256\n",
    "DATA_LIST = get_all_configs_per_dataset(results_path)\n",
    "data_config_list = DATA_LIST[dataset_name][\"data_paths\"]\n",
    "\n",
    "evolve_params = {\n",
    "    \"modality_list_evolve\": keys,\n",
    "    \"config_list_evolve\": data_config_list,\n",
    "    \"num_evolve_samples\": 40,\n",
    "    \"compute_evolve_dataloaders\": False,\n",
    "    \"eval_meshed_img\": [False] * 5,\n",
    "    \"skew_scale\": 100,\n",
    "    \"eval_meshed_img_model_type\": [None] * 5,\n",
    "    \"only_embedding\": False,\n",
    "    \"fit_pca\": False,\n",
    "}\n",
    "\n",
    "loss_eval = get_pc_loss_chamfer()\n",
    "# loss_eval_list = [torch.nn.MSELoss(reduction='none')]*2 + [loss_eval, loss_eval]\n",
    "loss_eval_list = [loss_eval] * 5\n",
    "use_sample_points_list = [True, True, False, False, False]\n",
    "\n",
    "classification_params = {\"class_label\": \"rule\"}\n",
    "rot_inv_params = {\"squeeze_2d\": False, \"id\": \"cell_id\"}\n",
    "\n",
    "regression_params = {\"df_feat\": None, \"target_cols\": None, \"feature_df_path\": None}\n",
    "\n",
    "compactness_params = {\n",
    "    \"method\": \"mle\",\n",
    "    \"num_PCs\": None,\n",
    "    \"blobby_outlier_max_cc\": None,\n",
    "    \"check_duplicates\": True,\n",
    "}\n",
    "\n",
    "splits_list = [\"train\", \"val\", \"test\"]\n",
    "compute_embeds = False\n",
    "\n",
    "metric_list = [\n",
    "    \"Rotation Invariance Error\",\n",
    "    \"Evolution Energy\",\n",
    "    \"Reconstruction\",\n",
    "    \"Classification\",\n",
    "    \"Compactness\",\n",
    "]\n",
    "\n",
    "\n",
    "compute_features(\n",
    "    dataset=dataset_name,\n",
    "    results_path=results_path,\n",
    "    embeddings_path=save_path,\n",
    "    save_folder=save_path,\n",
    "    data_list=data_list,\n",
    "    all_models=all_models,\n",
    "    run_names=run_names,\n",
    "    use_sample_points_list=use_sample_points_list,\n",
    "    keys=keys,\n",
    "    device=device,\n",
    "    max_embed_dim=max_embed_dim,\n",
    "    splits_list=splits_list,\n",
    "    compute_embeds=compute_embeds,\n",
    "    classification_params=classification_params,\n",
    "    regression_params=regression_params,\n",
    "    metric_list=metric_list,\n",
    "    loss_eval_list=loss_eval_list,\n",
    "    evolve_params=evolve_params,\n",
    "    rot_inv_params=rot_inv_params,\n",
    "    compactness_params=compactness_params,\n",
    ")"
   ]
  },
  {
   "cell_type": "code",
   "execution_count": null,
   "id": "628d547d-6556-48c3-b1fb-cc6488cf11ff",
   "metadata": {},
   "outputs": [],
   "source": []
  }
 ],
 "metadata": {
  "kernelspec": {
   "display_name": "Python 3 (ipykernel)",
   "language": "python",
   "name": "python3"
  },
  "language_info": {
   "codemirror_mode": {
    "name": "ipython",
    "version": 3
   },
   "file_extension": ".py",
   "mimetype": "text/x-python",
   "name": "python",
   "nbconvert_exporter": "python",
   "pygments_lexer": "ipython3",
   "version": "3.10.14"
  }
 },
 "nbformat": 4,
 "nbformat_minor": 5
}
