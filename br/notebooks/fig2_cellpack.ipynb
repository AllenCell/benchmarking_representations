{
 "cells": [
  {
   "cell_type": "code",
   "execution_count": 1,
   "id": "0cee08e3-a83f-4d43-863e-4c7b897fa4b6",
   "metadata": {},
   "outputs": [],
   "source": [
    "%load_ext autoreload\n",
    "%autoreload 2\n",
    "import os\n",
    "\n",
    "os.environ[\"CUDA_DEVICE_ORDER\"] = \"PCI_BUS_ID\"  # see issue #152\n",
    "os.environ[\"CUDA_VISIBLE_DEVICES\"] = \"MIG-ffdee303-0dd4-513d-b18c-beba028b49c7\"\n",
    "import matplotlib.pyplot as plt\n",
    "import numpy as np\n",
    "import torch\n",
    "import yaml\n",
    "from hydra.utils import instantiate\n",
    "from PIL import Image\n",
    "from torch.utils.data import DataLoader, Dataset\n",
    "import pandas as pd\n",
    "\n",
    "device = \"cuda:0\""
   ]
  },
  {
   "cell_type": "markdown",
   "id": "167ec165-8536-48a7-8c8f-5833a9f66a87",
   "metadata": {},
   "source": [
    "# Load data and models"
   ]
  },
  {
   "cell_type": "code",
   "execution_count": 2,
   "id": "42598204-3b2f-4f35-88d1-f3513b4b8498",
   "metadata": {},
   "outputs": [],
   "source": [
    "os.chdir(\"/allen/aics/modeling/ritvik/projects/benchmarking_representations/\")\n",
    "save_path = \"./test_cellpack_save_embeddings/\""
   ]
  },
  {
   "cell_type": "code",
   "execution_count": 3,
   "id": "b894e6f7-1d4c-4dbf-ace7-ac9a538f1d2b",
   "metadata": {},
   "outputs": [],
   "source": [
    "from cyto_dl.models.utils.mlflow import load_model_from_checkpoint\n",
    "\n",
    "from br.data.get_datamodules import get_data\n",
    "from br.models.load_models import load_model_from_path\n",
    "from br.models.save_embeddings import get_pc_loss\n",
    "\n",
    "\n",
    "def get_data_and_models(dataset_name, batch_size, results_path, debug=False):\n",
    "    data_list = get_data(dataset_name, batch_size, results_path, debug)\n",
    "    all_models, run_names, model_sizes = load_model_from_path(\n",
    "        dataset_name, results_path\n",
    "    )  # default list of models in load_models.py\n",
    "    return data_list, all_models, run_names, model_sizes"
   ]
  },
  {
   "cell_type": "code",
   "execution_count": 31,
   "id": "44cf3c8d-5b5f-4014-82e9-d10637265302",
   "metadata": {},
   "outputs": [],
   "source": [
    "dataset_name = \"cellpack\"\n",
    "batch_size = 2\n",
    "debug = True\n",
    "results_path = (\n",
    "    \"/allen/aics/modeling/ritvik/projects/benchmarking_representations/br/configs/results/\"\n",
    ")\n",
    "data_list, all_models, run_names, model_sizes = get_data_and_models(\n",
    "    dataset_name, batch_size, results_path, debug\n",
    ")\n",
    "gg = pd.DataFrame()\n",
    "gg['model'] = run_names\n",
    "gg['model_size'] = model_sizes\n",
    "gg.to_csv(save_path + 'model_sizes.csv')"
   ]
  },
  {
   "cell_type": "markdown",
   "id": "63b85b0e-8957-4786-a3c8-d8c617117acf",
   "metadata": {},
   "source": [
    "# Compute embeddings and emissions"
   ]
  },
  {
   "cell_type": "code",
   "execution_count": 33,
   "id": "21da78a3-3254-4fba-8118-6039c84c825b",
   "metadata": {},
   "outputs": [
    {
     "name": "stdout",
     "output_type": "stream",
     "text": [
      "Processing train\n"
     ]
    },
    {
     "name": "stderr",
     "output_type": "stream",
     "text": [
      "100%|██████████████████████████████████████████████████████████████████████████████████████████████████████████████| 177/177 [00:03<00:00, 55.15it/s]\n",
      "get_packings: 100%|██████████████████████████████████████████████████████████████████████████████████████████████| 1062/1062 [00:45<00:00, 23.55it/s]\n",
      "100%|██████████████████████████████████████████████████████████████████████████████████████████████████████████████| 531/531 [02:03<00:00,  4.30it/s]\n"
     ]
    },
    {
     "name": "stdout",
     "output_type": "stream",
     "text": [
      "Processing val\n"
     ]
    },
    {
     "name": "stderr",
     "output_type": "stream",
     "text": [
      "100%|████████████████████████████████████████████████████████████████████████████████████████████████████████████████| 38/38 [00:02<00:00, 16.35it/s]\n",
      "get_packings: 100%|████████████████████████████████████████████████████████████████████████████████████████████████| 228/228 [00:12<00:00, 18.88it/s]\n",
      "100%|██████████████████████████████████████████████████████████████████████████████████████████████████████████████| 114/114 [00:27<00:00,  4.13it/s]\n"
     ]
    },
    {
     "name": "stdout",
     "output_type": "stream",
     "text": [
      "Processing test\n"
     ]
    },
    {
     "name": "stderr",
     "output_type": "stream",
     "text": [
      "100%|████████████████████████████████████████████████████████████████████████████████████████████████████████████████| 39/39 [00:00<00:00, 52.50it/s]\n",
      "get_packings: 100%|████████████████████████████████████████████████████████████████████████████████████████████████| 234/234 [00:11<00:00, 20.34it/s]\n",
      "100%|██████████████████████████████████████████████████████████████████████████████████████████████████████████████| 117/117 [00:29<00:00,  4.01it/s]\n"
     ]
    },
    {
     "name": "stdout",
     "output_type": "stream",
     "text": [
      "Processing train\n"
     ]
    },
    {
     "name": "stderr",
     "output_type": "stream",
     "text": [
      "100%|██████████████████████████████████████████████████████████████████████████████████████████████████████████████| 177/177 [00:02<00:00, 64.81it/s]\n",
      "get_packings: 100%|██████████████████████████████████████████████████████████████████████████████████████████████| 1062/1062 [00:42<00:00, 25.24it/s]\n",
      "100%|██████████████████████████████████████████████████████████████████████████████████████████████████████████████| 531/531 [04:08<00:00,  2.14it/s]\n"
     ]
    },
    {
     "name": "stdout",
     "output_type": "stream",
     "text": [
      "Processing val\n"
     ]
    },
    {
     "name": "stderr",
     "output_type": "stream",
     "text": [
      "100%|████████████████████████████████████████████████████████████████████████████████████████████████████████████████| 38/38 [00:00<00:00, 68.14it/s]\n",
      "get_packings: 100%|████████████████████████████████████████████████████████████████████████████████████████████████| 228/228 [00:10<00:00, 20.84it/s]\n",
      "100%|██████████████████████████████████████████████████████████████████████████████████████████████████████████████| 114/114 [00:53<00:00,  2.12it/s]\n"
     ]
    },
    {
     "name": "stdout",
     "output_type": "stream",
     "text": [
      "Processing test\n"
     ]
    },
    {
     "name": "stderr",
     "output_type": "stream",
     "text": [
      "100%|████████████████████████████████████████████████████████████████████████████████████████████████████████████████| 39/39 [00:00<00:00, 65.78it/s]\n",
      "get_packings: 100%|████████████████████████████████████████████████████████████████████████████████████████████████| 234/234 [00:11<00:00, 20.05it/s]\n",
      "100%|██████████████████████████████████████████████████████████████████████████████████████████████████████████████| 117/117 [00:56<00:00,  2.08it/s]\n"
     ]
    },
    {
     "name": "stdout",
     "output_type": "stream",
     "text": [
      "Processing train\n"
     ]
    },
    {
     "name": "stderr",
     "output_type": "stream",
     "text": [
      "100%|██████████████████████████████████████████████████████████████████████████████████████████████████████████████| 177/177 [00:02<00:00, 67.14it/s]\n",
      "get_packings: 100%|█████████████████████████████████████████████████████████████████████████████████████████████| 1062/1062 [00:04<00:00, 264.23it/s]\n",
      "100%|██████████████████████████████████████████████████████████████████████████████████████████████████████████████| 531/531 [00:28<00:00, 18.79it/s]\n"
     ]
    },
    {
     "name": "stdout",
     "output_type": "stream",
     "text": [
      "Processing val\n"
     ]
    },
    {
     "name": "stderr",
     "output_type": "stream",
     "text": [
      "100%|████████████████████████████████████████████████████████████████████████████████████████████████████████████████| 38/38 [00:00<00:00, 69.05it/s]\n",
      "get_packings: 100%|███████████████████████████████████████████████████████████████████████████████████████████████| 228/228 [00:00<00:00, 316.93it/s]\n",
      "100%|██████████████████████████████████████████████████████████████████████████████████████████████████████████████| 114/114 [00:06<00:00, 18.98it/s]\n"
     ]
    },
    {
     "name": "stdout",
     "output_type": "stream",
     "text": [
      "Processing test\n"
     ]
    },
    {
     "name": "stderr",
     "output_type": "stream",
     "text": [
      "100%|████████████████████████████████████████████████████████████████████████████████████████████████████████████████| 39/39 [00:00<00:00, 62.48it/s]\n",
      "get_packings: 100%|███████████████████████████████████████████████████████████████████████████████████████████████| 234/234 [00:00<00:00, 352.58it/s]\n",
      "100%|██████████████████████████████████████████████████████████████████████████████████████████████████████████████| 117/117 [00:06<00:00, 19.38it/s]\n"
     ]
    },
    {
     "name": "stdout",
     "output_type": "stream",
     "text": [
      "Processing train\n"
     ]
    },
    {
     "name": "stderr",
     "output_type": "stream",
     "text": [
      "100%|██████████████████████████████████████████████████████████████████████████████████████████████████████████████| 177/177 [00:02<00:00, 63.46it/s]\n",
      "get_packings: 100%|█████████████████████████████████████████████████████████████████████████████████████████████| 1062/1062 [00:04<00:00, 264.11it/s]\n",
      "100%|██████████████████████████████████████████████████████████████████████████████████████████████████████████████| 531/531 [00:31<00:00, 16.74it/s]\n"
     ]
    },
    {
     "name": "stdout",
     "output_type": "stream",
     "text": [
      "Processing val\n"
     ]
    },
    {
     "name": "stderr",
     "output_type": "stream",
     "text": [
      "100%|████████████████████████████████████████████████████████████████████████████████████████████████████████████████| 38/38 [00:00<00:00, 65.56it/s]\n",
      "get_packings: 100%|███████████████████████████████████████████████████████████████████████████████████████████████| 228/228 [00:00<00:00, 312.88it/s]\n",
      "100%|██████████████████████████████████████████████████████████████████████████████████████████████████████████████| 114/114 [00:06<00:00, 17.03it/s]\n"
     ]
    },
    {
     "name": "stdout",
     "output_type": "stream",
     "text": [
      "Processing test\n"
     ]
    },
    {
     "name": "stderr",
     "output_type": "stream",
     "text": [
      "100%|████████████████████████████████████████████████████████████████████████████████████████████████████████████████| 39/39 [00:00<00:00, 67.65it/s]\n",
      "get_packings: 100%|███████████████████████████████████████████████████████████████████████████████████████████████| 234/234 [00:00<00:00, 333.84it/s]\n",
      "100%|██████████████████████████████████████████████████████████████████████████████████████████████████████████████| 117/117 [00:06<00:00, 17.05it/s]\n"
     ]
    },
    {
     "name": "stdout",
     "output_type": "stream",
     "text": [
      "Processing train\n"
     ]
    },
    {
     "name": "stderr",
     "output_type": "stream",
     "text": [
      "100%|██████████████████████████████████████████████████████████████████████████████████████████████████████████████| 177/177 [00:02<00:00, 65.01it/s]\n",
      "get_packings: 100%|█████████████████████████████████████████████████████████████████████████████████████████████| 1062/1062 [00:04<00:00, 256.90it/s]\n",
      "100%|██████████████████████████████████████████████████████████████████████████████████████████████████████████████| 531/531 [00:30<00:00, 17.14it/s]\n"
     ]
    },
    {
     "name": "stdout",
     "output_type": "stream",
     "text": [
      "Processing val\n"
     ]
    },
    {
     "name": "stderr",
     "output_type": "stream",
     "text": [
      "100%|████████████████████████████████████████████████████████████████████████████████████████████████████████████████| 38/38 [00:00<00:00, 65.80it/s]\n",
      "get_packings: 100%|███████████████████████████████████████████████████████████████████████████████████████████████| 228/228 [00:01<00:00, 151.43it/s]\n",
      "100%|██████████████████████████████████████████████████████████████████████████████████████████████████████████████| 114/114 [00:06<00:00, 17.02it/s]\n"
     ]
    },
    {
     "name": "stdout",
     "output_type": "stream",
     "text": [
      "Processing test\n"
     ]
    },
    {
     "name": "stderr",
     "output_type": "stream",
     "text": [
      "100%|████████████████████████████████████████████████████████████████████████████████████████████████████████████████| 39/39 [00:00<00:00, 61.56it/s]\n",
      "get_packings: 100%|███████████████████████████████████████████████████████████████████████████████████████████████| 234/234 [00:00<00:00, 280.47it/s]\n",
      "100%|██████████████████████████████████████████████████████████████████████████████████████████████████████████████| 117/117 [00:06<00:00, 17.12it/s]\n"
     ]
    }
   ],
   "source": [
    "from br.models.save_embeddings import save_embeddings\n",
    "\n",
    "debug = False\n",
    "splits_list = [\"train\", 'val', \"test\"]\n",
    "meta_key = \"rule\"\n",
    "eval_scaled_img = [False] * 5\n",
    "eval_scaled_img_params = [{}] * 5\n",
    "loss_eval_list = None\n",
    "sample_points_list = [True, True, False, False, False]\n",
    "skew_scale = 100\n",
    "save_embeddings(\n",
    "    save_path,\n",
    "    data_list,\n",
    "    all_models,\n",
    "    run_names,\n",
    "    debug,\n",
    "    splits_list,\n",
    "    device,\n",
    "    meta_key,\n",
    "    loss_eval_list,\n",
    "    sample_points_list,\n",
    "    skew_scale,\n",
    "    eval_scaled_img,\n",
    "    eval_scaled_img_params,\n",
    ")"
   ]
  },
  {
   "cell_type": "code",
   "execution_count": 36,
   "id": "d83d317b-dc8f-48bd-8614-9734ce4025b0",
   "metadata": {},
   "outputs": [
    {
     "data": {
      "text/plain": [
       "1"
      ]
     },
     "execution_count": 36,
     "metadata": {},
     "output_type": "execute_result"
    }
   ],
   "source": [
    "1"
   ]
  },
  {
   "cell_type": "code",
   "execution_count": 34,
   "id": "6e31d85d-b33c-4ee0-ac00-2987cd7c5e40",
   "metadata": {},
   "outputs": [
    {
     "name": "stderr",
     "output_type": "stream",
     "text": [
      "100%|████████████████████████████████████████████████████████████████████████████████████████████████████████████████| 39/39 [00:00<00:00, 65.82it/s]\n",
      "get_packings: 100%|████████████████████████████████████████████████████████████████████████████████████████████████| 234/234 [00:10<00:00, 22.08it/s]\n",
      "  2%|█▉                                                                                                              | 2/117 [00:04<04:04,  2.13s/it]\n",
      "100%|███████████████████████████████████████████████████████████████████████████████████████████████████████████████| 39/39 [00:00<00:00, 106.86it/s]\n",
      "get_packings: 100%|████████████████████████████████████████████████████████████████████████████████████████████████| 234/234 [00:10<00:00, 22.27it/s]\n",
      "  2%|█▉                                                                                                              | 2/117 [00:03<03:27,  1.81s/it]\n",
      "100%|███████████████████████████████████████████████████████████████████████████████████████████████████████████████| 39/39 [00:00<00:00, 107.56it/s]\n",
      "get_packings: 100%|███████████████████████████████████████████████████████████████████████████████████████████████| 234/234 [00:00<00:00, 348.55it/s]\n",
      "  2%|█▉                                                                                                              | 2/117 [00:03<03:38,  1.90s/it]\n",
      "100%|███████████████████████████████████████████████████████████████████████████████████████████████████████████████| 39/39 [00:00<00:00, 106.91it/s]\n",
      "get_packings: 100%|███████████████████████████████████████████████████████████████████████████████████████████████| 234/234 [00:01<00:00, 194.09it/s]\n",
      "  2%|█▉                                                                                                              | 2/117 [00:02<02:40,  1.40s/it]\n",
      "100%|███████████████████████████████████████████████████████████████████████████████████████████████████████████████| 39/39 [00:00<00:00, 106.31it/s]\n",
      "get_packings: 100%|███████████████████████████████████████████████████████████████████████████████████████████████| 234/234 [00:01<00:00, 137.05it/s]\n",
      "  2%|█▉                                                                                                              | 2/117 [00:02<02:40,  1.40s/it]\n"
     ]
    }
   ],
   "source": [
    "from br.models.save_embeddings import save_emissions\n",
    "\n",
    "max_batches = 2\n",
    "save_emissions(\n",
    "    save_path,\n",
    "    data_list,\n",
    "    all_models,\n",
    "    run_names,\n",
    "    max_batches,\n",
    "    debug,\n",
    "    device,\n",
    "    loss_eval_list,\n",
    "    sample_points_list,\n",
    "    skew_scale,\n",
    "    eval_scaled_img,\n",
    "    eval_scaled_img_params,\n",
    ")"
   ]
  },
  {
   "cell_type": "markdown",
   "id": "85533af6-d04d-424e-9e6a-e35e4470f703",
   "metadata": {},
   "source": [
    "# Compute benchmarking features"
   ]
  },
  {
   "cell_type": "code",
   "execution_count": 35,
   "id": "e3afc433-362e-4fe2-810e-799670f7bebb",
   "metadata": {
    "scrolled": true
   },
   "outputs": [
    {
     "name": "stdout",
     "output_type": "stream",
     "text": [
      "Computing rotation invariance\n"
     ]
    },
    {
     "name": "stderr",
     "output_type": "stream",
     "text": [
      "100%|███████████████████████████████████████████████████████████████████████████████████████████████████████████████| 39/39 [00:00<00:00, 106.89it/s]\n",
      "get_packings: 100%|████████████████████████████████████████████████████████████████████████████████████████████████| 234/234 [00:11<00:00, 20.94it/s]\n",
      "100%|██████████████████████████████████████████████████████████████████████████████████████████████████████████████| 117/117 [02:02<00:00,  1.04s/it]\n",
      "100%|████████████████████████████████████████████████████████████████████████████████████████████████████████████████| 39/39 [00:00<00:00, 61.81it/s]\n",
      "get_packings: 100%|████████████████████████████████████████████████████████████████████████████████████████████████| 234/234 [00:12<00:00, 18.70it/s]\n",
      "100%|██████████████████████████████████████████████████████████████████████████████████████████████████████████████| 117/117 [03:55<00:00,  2.02s/it]\n",
      "100%|████████████████████████████████████████████████████████████████████████████████████████████████████████████████| 39/39 [00:00<00:00, 60.88it/s]\n",
      "get_packings: 100%|███████████████████████████████████████████████████████████████████████████████████████████████| 234/234 [00:00<00:00, 314.02it/s]\n",
      "100%|██████████████████████████████████████████████████████████████████████████████████████████████████████████████| 117/117 [00:07<00:00, 14.66it/s]\n",
      "100%|███████████████████████████████████████████████████████████████████████████████████████████████████████████████| 39/39 [00:00<00:00, 104.30it/s]\n",
      "get_packings: 100%|███████████████████████████████████████████████████████████████████████████████████████████████| 234/234 [00:01<00:00, 163.67it/s]\n",
      "100%|██████████████████████████████████████████████████████████████████████████████████████████████████████████████| 117/117 [00:10<00:00, 11.33it/s]\n",
      "100%|███████████████████████████████████████████████████████████████████████████████████████████████████████████████| 39/39 [00:00<00:00, 105.54it/s]\n",
      "get_packings: 100%|███████████████████████████████████████████████████████████████████████████████████████████████| 234/234 [00:00<00:00, 274.66it/s]\n",
      "100%|██████████████████████████████████████████████████████████████████████████████████████████████████████████████| 117/117 [00:09<00:00, 11.73it/s]\n"
     ]
    },
    {
     "name": "stdout",
     "output_type": "stream",
     "text": [
      "Getting reconstruction\n",
      "Computing compactness\n"
     ]
    },
    {
     "name": "stderr",
     "output_type": "stream",
     "text": [
      "100%|██████████████████████████████████████████████████████████████████████████████████████████████████████████████████| 5/5 [00:00<00:00, 19.25it/s]\n",
      "  0%|                                                                                                                          | 0/5 [00:00<?, ?it/s]"
     ]
    },
    {
     "name": "stdout",
     "output_type": "stream",
     "text": [
      "(1524, 256)\n"
     ]
    },
    {
     "name": "stderr",
     "output_type": "stream",
     "text": [
      " 20%|██████████████████████▊                                                                                           | 1/5 [00:00<00:02,  1.53it/s]"
     ]
    },
    {
     "name": "stdout",
     "output_type": "stream",
     "text": [
      "Outlier column is outlier\n",
      "(1524, 256)\n"
     ]
    },
    {
     "name": "stderr",
     "output_type": "stream",
     "text": [
      " 40%|█████████████████████████████████████████████▌                                                                    | 2/5 [00:01<00:01,  1.73it/s]"
     ]
    },
    {
     "name": "stdout",
     "output_type": "stream",
     "text": [
      "Outlier column is outlier\n",
      "(1524, 256)\n"
     ]
    },
    {
     "name": "stderr",
     "output_type": "stream",
     "text": [
      " 60%|████████████████████████████████████████████████████████████████████▍                                             | 3/5 [00:01<00:01,  1.67it/s]"
     ]
    },
    {
     "name": "stdout",
     "output_type": "stream",
     "text": [
      "Outlier column is outlier\n",
      "(1524, 256)\n"
     ]
    },
    {
     "name": "stderr",
     "output_type": "stream",
     "text": [
      " 80%|███████████████████████████████████████████████████████████████████████████████████████████▏                      | 4/5 [00:02<00:00,  1.69it/s]"
     ]
    },
    {
     "name": "stdout",
     "output_type": "stream",
     "text": [
      "Outlier column is outlier\n",
      "(1524, 256)\n"
     ]
    },
    {
     "name": "stderr",
     "output_type": "stream",
     "text": [
      "100%|██████████████████████████████████████████████████████████████████████████████████████████████████████████████████| 5/5 [00:03<00:00,  1.66it/s]\n"
     ]
    },
    {
     "name": "stdout",
     "output_type": "stream",
     "text": [
      "Outlier column is outlier\n",
      "Computing classification\n"
     ]
    },
    {
     "name": "stderr",
     "output_type": "stream",
     "text": [
      "100%|██████████████████████████████████████████████████████████████████████████████████████████████████████████████████| 5/5 [00:12<00:00,  2.45s/it]\n"
     ]
    },
    {
     "name": "stdout",
     "output_type": "stream",
     "text": [
      "Computing evolution\n"
     ]
    },
    {
     "name": "stderr",
     "output_type": "stream",
     "text": [
      "100%|███████████████████████████████████████████████████████████████████████████████████████████████████████████████| 39/39 [00:00<00:00, 110.64it/s]\n",
      "get_packings: 100%|████████████████████████████████████████████████████████████████████████████████████████████████| 234/234 [00:10<00:00, 22.47it/s]\n",
      "100%|██████████████████████████████████████████████████████████████████████████████████████████████████████████████| 117/117 [02:08<00:00,  1.10s/it]\n",
      "100%|████████████████████████████████████████████████████████████████████████████████████████████████████████████████| 39/39 [00:00<00:00, 46.78it/s]\n",
      "get_packings: 100%|████████████████████████████████████████████████████████████████████████████████████████████████| 234/234 [00:11<00:00, 19.68it/s]\n",
      "100%|██████████████████████████████████████████████████████████████████████████████████████████████████████████████| 117/117 [03:13<00:00,  1.65s/it]\n",
      "100%|████████████████████████████████████████████████████████████████████████████████████████████████████████████████| 39/39 [00:00<00:00, 57.33it/s]\n",
      "get_packings: 100%|███████████████████████████████████████████████████████████████████████████████████████████████| 234/234 [00:01<00:00, 149.53it/s]\n",
      "100%|██████████████████████████████████████████████████████████████████████████████████████████████████████████████| 117/117 [00:07<00:00, 15.76it/s]\n",
      "100%|███████████████████████████████████████████████████████████████████████████████████████████████████████████████| 39/39 [00:00<00:00, 108.51it/s]\n",
      "get_packings: 100%|███████████████████████████████████████████████████████████████████████████████████████████████| 234/234 [00:01<00:00, 138.83it/s]\n",
      "100%|██████████████████████████████████████████████████████████████████████████████████████████████████████████████| 117/117 [00:09<00:00, 12.70it/s]\n",
      "100%|███████████████████████████████████████████████████████████████████████████████████████████████████████████████| 39/39 [00:00<00:00, 107.00it/s]\n",
      "get_packings: 100%|███████████████████████████████████████████████████████████████████████████████████████████████| 234/234 [00:01<00:00, 145.45it/s]\n",
      "100%|██████████████████████████████████████████████████████████████████████████████████████████████████████████████| 117/117 [00:08<00:00, 13.04it/s]\n"
     ]
    }
   ],
   "source": [
    "from br.models.compute_features import compute_features\n",
    "from br.models.save_embeddings import get_pc_loss_chamfer\n",
    "from br.models.utils import get_all_configs_per_dataset\n",
    "\n",
    "keys = [\"pcloud\"] * 5\n",
    "max_embed_dim = 256\n",
    "DATA_LIST = get_all_configs_per_dataset(results_path)\n",
    "data_config_list = DATA_LIST[dataset_name][\"data_paths\"]\n",
    "\n",
    "evolve_params = {\n",
    "    \"modality_list_evolve\": keys,\n",
    "    \"config_list_evolve\": data_config_list,\n",
    "    \"num_evolve_samples\": 40,\n",
    "    \"compute_evolve_dataloaders\": False,\n",
    "    \"eval_meshed_img\": [False] * 5,\n",
    "    \"skew_scale\": 100,\n",
    "    \"eval_meshed_img_model_type\": [None] * 5,\n",
    "    \"only_embedding\": False,\n",
    "    \"fit_pca\": False,\n",
    "}\n",
    "\n",
    "loss_eval = get_pc_loss_chamfer()\n",
    "# loss_eval_list = [torch.nn.MSELoss(reduction='none')]*2 + [loss_eval, loss_eval]\n",
    "loss_eval_list = [loss_eval] * 5\n",
    "use_sample_points_list = [True, True, False, False, False]\n",
    "\n",
    "classification_params = {\"class_labels\": [\"rule\"]}\n",
    "rot_inv_params = {\"squeeze_2d\": False, \"id\": \"cell_id\"}\n",
    "\n",
    "regression_params = {\"df_feat\": None, \"target_cols\": None, \"feature_df_path\": None}\n",
    "\n",
    "compactness_params = {\n",
    "    \"method\": \"mle\",\n",
    "    \"num_PCs\": None,\n",
    "    \"blobby_outlier_max_cc\": None,\n",
    "    \"check_duplicates\": True,\n",
    "}\n",
    "\n",
    "splits_list = [\"train\", \"val\", \"test\"]\n",
    "compute_embeds = False\n",
    "\n",
    "metric_list = [\n",
    "    \"Rotation Invariance Error\",\n",
    "    \"Evolution Energy\",\n",
    "    \"Reconstruction\",\n",
    "    \"Classification\",\n",
    "    \"Compactness\",\n",
    "]\n",
    "\n",
    "\n",
    "compute_features(\n",
    "    dataset=dataset_name,\n",
    "    results_path=results_path,\n",
    "    embeddings_path=save_path,\n",
    "    save_folder=save_path,\n",
    "    data_list=data_list,\n",
    "    all_models=all_models,\n",
    "    run_names=run_names,\n",
    "    use_sample_points_list=use_sample_points_list,\n",
    "    keys=keys,\n",
    "    device=device,\n",
    "    max_embed_dim=max_embed_dim,\n",
    "    splits_list=splits_list,\n",
    "    compute_embeds=compute_embeds,\n",
    "    classification_params=classification_params,\n",
    "    regression_params=regression_params,\n",
    "    metric_list=metric_list,\n",
    "    loss_eval_list=loss_eval_list,\n",
    "    evolve_params=evolve_params,\n",
    "    rot_inv_params=rot_inv_params,\n",
    "    compactness_params=compactness_params,\n",
    ")"
   ]
  },
  {
   "cell_type": "markdown",
   "id": "c2a1c6ce-0a8e-40b2-a798-4688321ac9c0",
   "metadata": {},
   "source": [
    "# Polar plot viz"
   ]
  },
  {
   "cell_type": "code",
   "execution_count": 37,
   "id": "628d547d-6556-48c3-b1fb-cc6488cf11ff",
   "metadata": {},
   "outputs": [
    {
     "name": "stdout",
     "output_type": "stream",
     "text": [
      "reconstruction\n",
      "emissions\n",
      "classification_rule\n",
      "compactness\n",
      "evolution_energy\n",
      "model_sizes\n",
      "rotation_invariance_error\n"
     ]
    }
   ],
   "source": [
    "from br.features.plot import collect_outputs\n",
    "from br.features.plot import plot\n",
    "\n",
    "model_order = [\"Classical_image\", \"SO3_image\", \"Classical_pointcloud\", \"SO3_pointcloud\"]\n",
    "metric_list = ['reconstruction', 'emissions', 'classification_rule', \n",
    "               'compactness', 'evolution_energy', \n",
    "               'model_sizes', 'rotation_invariance_error']\n",
    "norm = 'std'\n",
    "title = 'cellpack_comparison'\n",
    "colors_list = None\n",
    "unique_expressivity_metrics = ['Classification_rule']\n",
    "df, df_non_agg = collect_outputs(save_path, norm, model_order, metric_list)\n",
    "plot(save_path, df, model_order, title, colors_list, norm, unique_expressivity_metrics)"
   ]
  },
  {
   "cell_type": "markdown",
   "id": "da73f075-509b-4e21-a9d4-f62bd0512a6a",
   "metadata": {},
   "source": [
    "# Latent walks"
   ]
  },
  {
   "cell_type": "code",
   "execution_count": 26,
   "id": "ea974272-d0c3-4bef-af00-ea8f1ce72c9e",
   "metadata": {},
   "outputs": [],
   "source": [
    "from br.models.compute_features import get_embeddings\n",
    "from br.models.utils import get_all_configs_per_dataset\n",
    "run_names = ['SO3_pointcloud_jitter']\n",
    "DATASET_INFO = get_all_configs_per_dataset(results_path)\n",
    "all_ret, df = get_embeddings(run_names, dataset_name, DATASET_INFO, save_path)"
   ]
  },
  {
   "cell_type": "code",
   "execution_count": 27,
   "id": "4a461248-db2a-4e9e-9d44-0c963330afc6",
   "metadata": {},
   "outputs": [
    {
     "data": {
      "text/html": [
       "<div>\n",
       "<style scoped>\n",
       "    .dataframe tbody tr th:only-of-type {\n",
       "        vertical-align: middle;\n",
       "    }\n",
       "\n",
       "    .dataframe tbody tr th {\n",
       "        vertical-align: top;\n",
       "    }\n",
       "\n",
       "    .dataframe thead th {\n",
       "        text-align: right;\n",
       "    }\n",
       "</style>\n",
       "<table border=\"1\" class=\"dataframe\">\n",
       "  <thead>\n",
       "    <tr style=\"text-align: right;\">\n",
       "      <th></th>\n",
       "      <th>Unnamed: 0</th>\n",
       "      <th>CellId</th>\n",
       "      <th>mu_0</th>\n",
       "      <th>mu_1</th>\n",
       "      <th>mu_2</th>\n",
       "      <th>mu_3</th>\n",
       "      <th>mu_4</th>\n",
       "      <th>mu_5</th>\n",
       "      <th>mu_6</th>\n",
       "      <th>mu_7</th>\n",
       "      <th>...</th>\n",
       "      <th>shcoeffs_L9M5C_lcc</th>\n",
       "      <th>shcoeffs_L9M5S_lcc</th>\n",
       "      <th>shcoeffs_L9M6C_lcc</th>\n",
       "      <th>shcoeffs_L9M6S_lcc</th>\n",
       "      <th>shcoeffs_L9M7C_lcc</th>\n",
       "      <th>shcoeffs_L9M7S_lcc</th>\n",
       "      <th>shcoeffs_L9M8C_lcc</th>\n",
       "      <th>shcoeffs_L9M8S_lcc</th>\n",
       "      <th>shcoeffs_L9M9C_lcc</th>\n",
       "      <th>shcoeffs_L9M9S_lcc</th>\n",
       "    </tr>\n",
       "  </thead>\n",
       "  <tbody>\n",
       "    <tr>\n",
       "      <th>0</th>\n",
       "      <td>0</td>\n",
       "      <td>9c1ff213-4e9e-4b73-a942-3baf9d37a50f_0</td>\n",
       "      <td>0.063755</td>\n",
       "      <td>0.139987</td>\n",
       "      <td>0.617743</td>\n",
       "      <td>0.033245</td>\n",
       "      <td>0.081398</td>\n",
       "      <td>0.083860</td>\n",
       "      <td>0.026474</td>\n",
       "      <td>0.016656</td>\n",
       "      <td>...</td>\n",
       "      <td>0.06163</td>\n",
       "      <td>0.019391</td>\n",
       "      <td>-0.103761</td>\n",
       "      <td>0.066481</td>\n",
       "      <td>-0.027658</td>\n",
       "      <td>0.023938</td>\n",
       "      <td>0.033112</td>\n",
       "      <td>-0.015316</td>\n",
       "      <td>0.061876</td>\n",
       "      <td>0.074256</td>\n",
       "    </tr>\n",
       "    <tr>\n",
       "      <th>1</th>\n",
       "      <td>1</td>\n",
       "      <td>9c1ff213-4e9e-4b73-a942-3baf9d37a50f_0</td>\n",
       "      <td>0.066745</td>\n",
       "      <td>0.140154</td>\n",
       "      <td>0.618154</td>\n",
       "      <td>0.033134</td>\n",
       "      <td>0.094268</td>\n",
       "      <td>0.083241</td>\n",
       "      <td>0.025570</td>\n",
       "      <td>0.016725</td>\n",
       "      <td>...</td>\n",
       "      <td>0.06163</td>\n",
       "      <td>0.019391</td>\n",
       "      <td>-0.103761</td>\n",
       "      <td>0.066481</td>\n",
       "      <td>-0.027658</td>\n",
       "      <td>0.023938</td>\n",
       "      <td>0.033112</td>\n",
       "      <td>-0.015316</td>\n",
       "      <td>0.061876</td>\n",
       "      <td>0.074256</td>\n",
       "    </tr>\n",
       "    <tr>\n",
       "      <th>2</th>\n",
       "      <td>2</td>\n",
       "      <td>9c1ff213-4e9e-4b73-a942-3baf9d37a50f_0</td>\n",
       "      <td>0.068114</td>\n",
       "      <td>0.140243</td>\n",
       "      <td>0.618402</td>\n",
       "      <td>0.033210</td>\n",
       "      <td>0.091530</td>\n",
       "      <td>0.084005</td>\n",
       "      <td>0.024861</td>\n",
       "      <td>0.016814</td>\n",
       "      <td>...</td>\n",
       "      <td>0.06163</td>\n",
       "      <td>0.019391</td>\n",
       "      <td>-0.103761</td>\n",
       "      <td>0.066481</td>\n",
       "      <td>-0.027658</td>\n",
       "      <td>0.023938</td>\n",
       "      <td>0.033112</td>\n",
       "      <td>-0.015316</td>\n",
       "      <td>0.061876</td>\n",
       "      <td>0.074256</td>\n",
       "    </tr>\n",
       "    <tr>\n",
       "      <th>3</th>\n",
       "      <td>3</td>\n",
       "      <td>9c1ff213-4e9e-4b73-a942-3baf9d37a50f_0</td>\n",
       "      <td>0.066769</td>\n",
       "      <td>0.138308</td>\n",
       "      <td>0.617939</td>\n",
       "      <td>0.033198</td>\n",
       "      <td>0.085800</td>\n",
       "      <td>0.083618</td>\n",
       "      <td>0.025079</td>\n",
       "      <td>0.016598</td>\n",
       "      <td>...</td>\n",
       "      <td>0.06163</td>\n",
       "      <td>0.019391</td>\n",
       "      <td>-0.103761</td>\n",
       "      <td>0.066481</td>\n",
       "      <td>-0.027658</td>\n",
       "      <td>0.023938</td>\n",
       "      <td>0.033112</td>\n",
       "      <td>-0.015316</td>\n",
       "      <td>0.061876</td>\n",
       "      <td>0.074256</td>\n",
       "    </tr>\n",
       "    <tr>\n",
       "      <th>4</th>\n",
       "      <td>4</td>\n",
       "      <td>9c1ff213-4e9e-4b73-a942-3baf9d37a50f_0</td>\n",
       "      <td>0.065599</td>\n",
       "      <td>0.139665</td>\n",
       "      <td>0.617569</td>\n",
       "      <td>0.033296</td>\n",
       "      <td>0.090452</td>\n",
       "      <td>0.083318</td>\n",
       "      <td>0.025512</td>\n",
       "      <td>0.016669</td>\n",
       "      <td>...</td>\n",
       "      <td>0.06163</td>\n",
       "      <td>0.019391</td>\n",
       "      <td>-0.103761</td>\n",
       "      <td>0.066481</td>\n",
       "      <td>-0.027658</td>\n",
       "      <td>0.023938</td>\n",
       "      <td>0.033112</td>\n",
       "      <td>-0.015316</td>\n",
       "      <td>0.061876</td>\n",
       "      <td>0.074256</td>\n",
       "    </tr>\n",
       "    <tr>\n",
       "      <th>5</th>\n",
       "      <td>5</td>\n",
       "      <td>9c1ff213-4e9e-4b73-a942-3baf9d37a50f_0</td>\n",
       "      <td>0.066779</td>\n",
       "      <td>0.143080</td>\n",
       "      <td>0.617680</td>\n",
       "      <td>0.033203</td>\n",
       "      <td>0.096191</td>\n",
       "      <td>0.083517</td>\n",
       "      <td>0.026552</td>\n",
       "      <td>0.016820</td>\n",
       "      <td>...</td>\n",
       "      <td>0.06163</td>\n",
       "      <td>0.019391</td>\n",
       "      <td>-0.103761</td>\n",
       "      <td>0.066481</td>\n",
       "      <td>-0.027658</td>\n",
       "      <td>0.023938</td>\n",
       "      <td>0.033112</td>\n",
       "      <td>-0.015316</td>\n",
       "      <td>0.061876</td>\n",
       "      <td>0.074256</td>\n",
       "    </tr>\n",
       "    <tr>\n",
       "      <th>6</th>\n",
       "      <td>6</td>\n",
       "      <td>9c1ff213-4e9e-4b73-a942-3baf9d37a50f_0</td>\n",
       "      <td>0.067627</td>\n",
       "      <td>0.139652</td>\n",
       "      <td>0.617389</td>\n",
       "      <td>0.033489</td>\n",
       "      <td>0.091568</td>\n",
       "      <td>0.084269</td>\n",
       "      <td>0.027490</td>\n",
       "      <td>0.016777</td>\n",
       "      <td>...</td>\n",
       "      <td>0.06163</td>\n",
       "      <td>0.019391</td>\n",
       "      <td>-0.103761</td>\n",
       "      <td>0.066481</td>\n",
       "      <td>-0.027658</td>\n",
       "      <td>0.023938</td>\n",
       "      <td>0.033112</td>\n",
       "      <td>-0.015316</td>\n",
       "      <td>0.061876</td>\n",
       "      <td>0.074256</td>\n",
       "    </tr>\n",
       "    <tr>\n",
       "      <th>7</th>\n",
       "      <td>7</td>\n",
       "      <td>9c1ff213-4e9e-4b73-a942-3baf9d37a50f_0</td>\n",
       "      <td>0.069063</td>\n",
       "      <td>0.139853</td>\n",
       "      <td>0.619011</td>\n",
       "      <td>0.033278</td>\n",
       "      <td>0.092649</td>\n",
       "      <td>0.083910</td>\n",
       "      <td>0.025870</td>\n",
       "      <td>0.016706</td>\n",
       "      <td>...</td>\n",
       "      <td>0.06163</td>\n",
       "      <td>0.019391</td>\n",
       "      <td>-0.103761</td>\n",
       "      <td>0.066481</td>\n",
       "      <td>-0.027658</td>\n",
       "      <td>0.023938</td>\n",
       "      <td>0.033112</td>\n",
       "      <td>-0.015316</td>\n",
       "      <td>0.061876</td>\n",
       "      <td>0.074256</td>\n",
       "    </tr>\n",
       "  </tbody>\n",
       "</table>\n",
       "<p>8 rows × 572 columns</p>\n",
       "</div>"
      ],
      "text/plain": [
       "   Unnamed: 0                                  CellId      mu_0      mu_1  \\\n",
       "0           0  9c1ff213-4e9e-4b73-a942-3baf9d37a50f_0  0.063755  0.139987   \n",
       "1           1  9c1ff213-4e9e-4b73-a942-3baf9d37a50f_0  0.066745  0.140154   \n",
       "2           2  9c1ff213-4e9e-4b73-a942-3baf9d37a50f_0  0.068114  0.140243   \n",
       "3           3  9c1ff213-4e9e-4b73-a942-3baf9d37a50f_0  0.066769  0.138308   \n",
       "4           4  9c1ff213-4e9e-4b73-a942-3baf9d37a50f_0  0.065599  0.139665   \n",
       "5           5  9c1ff213-4e9e-4b73-a942-3baf9d37a50f_0  0.066779  0.143080   \n",
       "6           6  9c1ff213-4e9e-4b73-a942-3baf9d37a50f_0  0.067627  0.139652   \n",
       "7           7  9c1ff213-4e9e-4b73-a942-3baf9d37a50f_0  0.069063  0.139853   \n",
       "\n",
       "       mu_2      mu_3      mu_4      mu_5      mu_6      mu_7  ...  \\\n",
       "0  0.617743  0.033245  0.081398  0.083860  0.026474  0.016656  ...   \n",
       "1  0.618154  0.033134  0.094268  0.083241  0.025570  0.016725  ...   \n",
       "2  0.618402  0.033210  0.091530  0.084005  0.024861  0.016814  ...   \n",
       "3  0.617939  0.033198  0.085800  0.083618  0.025079  0.016598  ...   \n",
       "4  0.617569  0.033296  0.090452  0.083318  0.025512  0.016669  ...   \n",
       "5  0.617680  0.033203  0.096191  0.083517  0.026552  0.016820  ...   \n",
       "6  0.617389  0.033489  0.091568  0.084269  0.027490  0.016777  ...   \n",
       "7  0.619011  0.033278  0.092649  0.083910  0.025870  0.016706  ...   \n",
       "\n",
       "   shcoeffs_L9M5C_lcc  shcoeffs_L9M5S_lcc  shcoeffs_L9M6C_lcc  \\\n",
       "0             0.06163            0.019391           -0.103761   \n",
       "1             0.06163            0.019391           -0.103761   \n",
       "2             0.06163            0.019391           -0.103761   \n",
       "3             0.06163            0.019391           -0.103761   \n",
       "4             0.06163            0.019391           -0.103761   \n",
       "5             0.06163            0.019391           -0.103761   \n",
       "6             0.06163            0.019391           -0.103761   \n",
       "7             0.06163            0.019391           -0.103761   \n",
       "\n",
       "   shcoeffs_L9M6S_lcc  shcoeffs_L9M7C_lcc  shcoeffs_L9M7S_lcc  \\\n",
       "0            0.066481           -0.027658            0.023938   \n",
       "1            0.066481           -0.027658            0.023938   \n",
       "2            0.066481           -0.027658            0.023938   \n",
       "3            0.066481           -0.027658            0.023938   \n",
       "4            0.066481           -0.027658            0.023938   \n",
       "5            0.066481           -0.027658            0.023938   \n",
       "6            0.066481           -0.027658            0.023938   \n",
       "7            0.066481           -0.027658            0.023938   \n",
       "\n",
       "   shcoeffs_L9M8C_lcc  shcoeffs_L9M8S_lcc  shcoeffs_L9M9C_lcc  \\\n",
       "0            0.033112           -0.015316            0.061876   \n",
       "1            0.033112           -0.015316            0.061876   \n",
       "2            0.033112           -0.015316            0.061876   \n",
       "3            0.033112           -0.015316            0.061876   \n",
       "4            0.033112           -0.015316            0.061876   \n",
       "5            0.033112           -0.015316            0.061876   \n",
       "6            0.033112           -0.015316            0.061876   \n",
       "7            0.033112           -0.015316            0.061876   \n",
       "\n",
       "   shcoeffs_L9M9S_lcc  \n",
       "0            0.074256  \n",
       "1            0.074256  \n",
       "2            0.074256  \n",
       "3            0.074256  \n",
       "4            0.074256  \n",
       "5            0.074256  \n",
       "6            0.074256  \n",
       "7            0.074256  \n",
       "\n",
       "[8 rows x 572 columns]"
      ]
     },
     "execution_count": 27,
     "metadata": {},
     "output_type": "execute_result"
    }
   ],
   "source": [
    "all_ret"
   ]
  },
  {
   "cell_type": "code",
   "execution_count": null,
   "id": "c1ac785d-0b57-4337-8af2-01b57df36b12",
   "metadata": {},
   "outputs": [],
   "source": []
  }
 ],
 "metadata": {
  "kernelspec": {
   "display_name": "Python 3 (ipykernel)",
   "language": "python",
   "name": "python3"
  },
  "language_info": {
   "codemirror_mode": {
    "name": "ipython",
    "version": 3
   },
   "file_extension": ".py",
   "mimetype": "text/x-python",
   "name": "python",
   "nbconvert_exporter": "python",
   "pygments_lexer": "ipython3",
   "version": "3.10.14"
  }
 },
 "nbformat": 4,
 "nbformat_minor": 5
}
