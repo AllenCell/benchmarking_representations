{
 "cells": [
  {
   "cell_type": "code",
   "execution_count": null,
   "id": "1f0404d5-49ff-4700-993f-c692d6248a58",
   "metadata": {},
   "outputs": [],
   "source": [
    "%load_ext autoreload\n",
    "%autoreload 2\n",
    "import os\n",
    "\n",
    "os.environ[\"CUDA_DEVICE_ORDER\"] = \"PCI_BUS_ID\"  # see issue #152\n",
    "os.environ[\"CUDA_VISIBLE_DEVICES\"] = \"MIG-e23853d6-1ca4-59e9-ac9a-1887267908f3\"\n",
    "import matplotlib.pyplot as plt\n",
    "import numpy as np\n",
    "import torch\n",
    "import yaml\n",
    "from hydra.utils import instantiate\n",
    "from PIL import Image\n",
    "from sklearn.manifold import TSNE\n",
    "from torch.utils.data import DataLoader, Dataset\n",
    "\n",
    "from br.features.rotation_invariance import rotation_image_batch_z, rotation_pc_batch_z\n",
    "from br.models.load_models import load_model_from_path\n",
    "\n",
    "device = \"cuda:0\""
   ]
  },
  {
   "cell_type": "code",
   "execution_count": null,
   "id": "5a6562cb-d3b6-46ef-98c1-e50a96c2c370",
   "metadata": {},
   "outputs": [],
   "source": [
    "# Set paths\n",
    "os.chdir(\"/allen/aics/modeling/ritvik/projects/benchmarking_representations/\")\n",
    "save_path = \"./test_cellpack_recons/\"\n",
    "results_path = \"./configs/results/\""
   ]
  },
  {
   "cell_type": "code",
   "execution_count": null,
   "id": "eb9a887b-f408-4fc9-b01a-2a556a80571c",
   "metadata": {},
   "outputs": [],
   "source": [
    "# Load data yaml and test batch\n",
    "cellpack_data = \"./configs/data/cellpack/pc.yaml\"\n",
    "with open(cellpack_data) as stream:\n",
    "    cellpack_data = yaml.safe_load(stream)\n",
    "data = instantiate(cellpack_data)\n",
    "batch = next(iter(data.test_dataloader()))"
   ]
  },
  {
   "cell_type": "markdown",
   "id": "5a94fcd7-44c7-4b17-a7e1-fba0f498bc95",
   "metadata": {},
   "source": [
    "# Save examples of raw data"
   ]
  },
  {
   "cell_type": "code",
   "execution_count": null,
   "id": "91e97c87-cd4e-4bf4-807b-d2b040783f1e",
   "metadata": {},
   "outputs": [],
   "source": [
    "from pathlib import Path\n",
    "\n",
    "this_save_path = Path(save_path) / Path(\"panel_a\")\n",
    "this_save_path.mkdir(parents=True, exist_ok=True)\n",
    "\n",
    "all_arr = []\n",
    "for i in range(6):\n",
    "    np_arr = batch[\"pcloud\"][i].numpy()\n",
    "    new_array = np.zeros(np_arr.shape)\n",
    "    z = np_arr[:, 0]\n",
    "    # inds = np.where(z > 0.1)[0]\n",
    "    new_array[:, 0] = np_arr[:, 2]\n",
    "    new_array[:, 1] = z\n",
    "    new_array[:, 2] = np_arr[:, 1]\n",
    "    new_array = new_array[inds]\n",
    "    all_arr.append(new_array)\n",
    "    np.save(this_save_path / Path(f\"{i}.npy\"), new_array)"
   ]
  },
  {
   "cell_type": "markdown",
   "id": "ed9cbe31-6e56-42fc-8bfa-277a8a3908b1",
   "metadata": {},
   "source": [
    "# Visualize reconstructions and rotation invariance "
   ]
  },
  {
   "cell_type": "code",
   "execution_count": null,
   "id": "0b0f770c-0c2d-491e-aa2c-2b1d20652763",
   "metadata": {},
   "outputs": [],
   "source": [
    "# utility function for plotting\n",
    "def plot_pc(this_p, axes, max_size, color=\"gray\", x_ind=2, y_ind=1):\n",
    "    axes.scatter(this_p[:, x_ind], this_p[:, y_ind], c=color, s=1)\n",
    "    axes.spines[\"top\"].set_visible(False)\n",
    "    axes.spines[\"right\"].set_visible(False)\n",
    "    axes.spines[\"bottom\"].set_visible(False)\n",
    "    axes.spines[\"left\"].set_visible(False)\n",
    "    axes.set_aspect(\"equal\", adjustable=\"box\")\n",
    "    axes.set_ylim([-max_size, max_size])\n",
    "    axes.set_xlim([-max_size, max_size])\n",
    "    axes.set_yticks([])\n",
    "    axes.set_xticks([])"
   ]
  },
  {
   "cell_type": "code",
   "execution_count": null,
   "id": "b2c9ebef-92e7-408a-be52-0e4e2ccbfa63",
   "metadata": {},
   "outputs": [],
   "source": [
    "models, names, sizes = load_model_from_path(\"cellpack\", results_path)"
   ]
  },
  {
   "cell_type": "code",
   "execution_count": null,
   "id": "1a636dfc-3e3f-47d1-9692-dba55342e73d",
   "metadata": {},
   "outputs": [],
   "source": [
    "names"
   ]
  },
  {
   "cell_type": "code",
   "execution_count": null,
   "id": "e6aac001-643a-4d2e-8835-bcae40204783",
   "metadata": {},
   "outputs": [],
   "source": [
    "model = models[-3]\n",
    "this_name = names[-3]"
   ]
  },
  {
   "cell_type": "code",
   "execution_count": null,
   "id": "ab4359fb-8bd2-415f-9093-9a9196358efc",
   "metadata": {},
   "outputs": [],
   "source": [
    "for key in batch.keys():\n",
    "    if key not in [\n",
    "        \"split\",\n",
    "        \"bf_meta_dict\",\n",
    "        \"egfp_meta_dict\",\n",
    "        \"filenames\",\n",
    "        \"image_meta_dict\",\n",
    "        \"cell_id\",\n",
    "    ]:\n",
    "        if not isinstance(batch[key], list):\n",
    "            batch[key] = batch[key].to(device)"
   ]
  },
  {
   "cell_type": "code",
   "execution_count": null,
   "id": "181fec61-fea8-47b7-b8e6-26fa22b399eb",
   "metadata": {},
   "outputs": [],
   "source": [
    "this_save_path = Path(save_path) / Path(f\"Recons_{this_name}\")\n",
    "this_save_path.mkdir(parents=True, exist_ok=True)\n",
    "\n",
    "this_key = \"pcloud\"\n",
    "\n",
    "max_z = {0: 20, 1: 20, 2: 20, 3: 1, 4: 20, 5: 20}\n",
    "max_size = 10\n",
    "\n",
    "all_thetas = [\n",
    "    0,\n",
    "    1 * 90,\n",
    "    2 * 90,\n",
    "    3 * 90,\n",
    "]\n",
    "\n",
    "\n",
    "all_xhat = []\n",
    "all_canon = []\n",
    "all_input = []\n",
    "with torch.no_grad():\n",
    "    for jl, theta in enumerate(all_thetas):\n",
    "        this_input_rot = rotation_pc_batch_z(\n",
    "            batch,\n",
    "            theta,\n",
    "        )\n",
    "        batch_input = {this_key: torch.tensor(this_input_rot).to(device).float()}\n",
    "        z, z_params = model.get_embeddings(batch_input, inference=True)\n",
    "        xhat = model.decode_embeddings(z_params, batch_input, decode=True, return_canonical=True)\n",
    "        all_input.append(this_input_rot)\n",
    "        if theta == 0:\n",
    "            for ind in range(6):\n",
    "                this_p = this_input_rot[ind]\n",
    "                this_max_z = max_z[ind]\n",
    "                this_p = this_p[np.where(this_p[:, 0] < this_max_z)[0]]\n",
    "                this_p = this_p[np.where(this_p[:, 0] > -this_max_z)[0]]\n",
    "                fig, ax = plt.subplots(1, 1, figsize=(5, 5))\n",
    "                plot_pc(this_p, ax, max_size, \"black\")\n",
    "                fig.savefig(this_save_path / f\"input_{ind}.png\")\n",
    "\n",
    "        if \"canonical\" in xhat.keys():\n",
    "            this_canon = xhat[\"canonical\"].detach().cpu().numpy()\n",
    "            all_canon.append(this_canon)\n",
    "            if theta == 0:\n",
    "                for ind in range(6):\n",
    "                    this_p = this_canon[ind]\n",
    "                    this_max_z = max_z[ind]\n",
    "                    this_p = this_p[np.where(this_p[:, 1] < this_max_z)[0]]\n",
    "                    this_p = this_p[np.where(this_p[:, 1] > -this_max_z)[0]]\n",
    "                    fig, ax = plt.subplots(1, 1, figsize=(5, 5))\n",
    "                    plot_pc(this_p, ax, max_size, \"black\", x_ind=2, y_ind=1)\n",
    "                    fig.savefig(this_save_path / f\"canon_{ind}.png\")\n",
    "        this_recon = xhat[this_key].detach().cpu().numpy()\n",
    "        all_xhat.append(this_recon)\n",
    "        if theta == 0:\n",
    "            for ind in range(6):\n",
    "                this_p = this_recon[ind]\n",
    "                this_max_z = max_z[ind]\n",
    "                this_p = this_p[np.where(this_p[:, 0] < this_max_z)[0]]\n",
    "                this_p = this_p[np.where(this_p[:, 0] > -this_max_z)[0]]\n",
    "                fig, ax = plt.subplots(1, 1, figsize=(5, 5))\n",
    "                plot_pc(this_p, ax, max_size, \"black\")\n",
    "                fig.savefig(this_save_path / f\"recon_{ind}.png\")"
   ]
  },
  {
   "cell_type": "code",
   "execution_count": null,
   "id": "a4ac9950-9a17-4234-a62a-0edc5fcf2034",
   "metadata": {},
   "outputs": [],
   "source": [
    "all_input[0][0].max(axis=0)"
   ]
  },
  {
   "cell_type": "code",
   "execution_count": null,
   "id": "0bf8e776-bab0-4827-babe-1b5e866482f5",
   "metadata": {},
   "outputs": [],
   "source": [
    "i = 0  # rot ind\n",
    "ind = 0  # rule\n",
    "max_z = 1\n",
    "max_size = 10\n",
    "\n",
    "# this_p = all_input[i][ind].detach().cpu().numpy()\n",
    "this_p = all_xhat[i][ind]\n",
    "this_p = this_p[np.where(this_p[:, 0] < max_z)[0]]\n",
    "this_p = this_p[np.where(this_p[:, 0] > -max_z)[0]]\n",
    "print(this_p.max(axis=0))\n",
    "fig, ax = plt.subplots(1, 1, figsize=(5, 5))\n",
    "plot_pc(this_p, ax, max_size, \"black\")"
   ]
  },
  {
   "cell_type": "code",
   "execution_count": null,
   "id": "d0099d68-31aa-4fed-83ee-0328e903ec87",
   "metadata": {},
   "outputs": [],
   "source": [
    "fig, axes = plt.subplots(1, 4, figsize=(10, 5))\n",
    "\n",
    "\n",
    "ind = 0\n",
    "max_z = 200\n",
    "max_size = 10\n",
    "for i in range(4):\n",
    "    this_p = all_input[i][ind].detach().cpu().numpy()\n",
    "    this_p = this_p[np.where(this_p[:, 1] < max_z)[0]]\n",
    "    this_p = this_p[np.where(this_p[:, 1] > -max_z)[0]]\n",
    "    print(this_p.shape)\n",
    "    plot_pc(this_p, axes[i], max_size)\n",
    "\n",
    "# fig.savefig('./cellpack_rot_test/7abfecf1-44db-468a-b799-4959a23cfb0d_pc_rot_input.png', dpi=300, bbox_inches='tight')\n",
    "\n",
    "fig, axes = plt.subplots(1, 4, figsize=(10, 5))\n",
    "for i in range(4):\n",
    "    this_p = all_canon[i][ind]\n",
    "    this_p = this_p[np.where(this_p[:, 1] < max_z)[0]]\n",
    "    this_p = this_p[np.where(this_p[:, 1] > -max_z)[0]]\n",
    "    plot_pc(this_p, axes[i], max_size)\n",
    "\n",
    "# fig.savefig('./cellpack_rot_test/7abfecf1-44db-468a-b799-4959a23cfb0d_pc_rot_canon.png', dpi=300, bbox_inches='tight')\n",
    "fig, axes = plt.subplots(1, 4, figsize=(10, 5))\n",
    "for i in range(4):\n",
    "    this_p = all_xhat[i][ind]\n",
    "    this_p = this_p[np.where(this_p[:, 1] < max_z)[0]]\n",
    "    this_p = this_p[np.where(this_p[:, 1] > -max_z)[0]]\n",
    "    plot_pc(this_p, axes[i], max_size)\n",
    "\n",
    "# fig.savefig('./cellpack_rot_test/7abfecf1-44db-468a-b799-4959a23cfb0d_pc_rot_recon_classical.png', dpi=300, bbox_inches='tight')"
   ]
  },
  {
   "cell_type": "code",
   "execution_count": null,
   "id": "f22fa598-5f46-4654-8df0-bb4dd888d5f4",
   "metadata": {},
   "outputs": [],
   "source": []
  },
  {
   "cell_type": "code",
   "execution_count": null,
   "id": "9cf4dae1-3b26-41ae-9284-afab824bdfb9",
   "metadata": {},
   "outputs": [],
   "source": []
  },
  {
   "cell_type": "code",
   "execution_count": null,
   "id": "98c9ceed-cdf5-47e7-8e2d-4da1ae06a617",
   "metadata": {},
   "outputs": [],
   "source": []
  },
  {
   "cell_type": "code",
   "execution_count": null,
   "id": "15c81de7-c116-4070-88c0-3bc3aaa8e383",
   "metadata": {},
   "outputs": [],
   "source": []
  },
  {
   "cell_type": "code",
   "execution_count": null,
   "id": "4cb85790-6f68-4ebf-9c66-0d95d40f182c",
   "metadata": {},
   "outputs": [],
   "source": []
  },
  {
   "cell_type": "code",
   "execution_count": null,
   "id": "a853643c-71bc-45bd-9513-e1ead83282af",
   "metadata": {},
   "outputs": [],
   "source": [
    "import pandas as pd\n",
    "\n",
    "gg = pd.read_csv(\"/allen/aics/modeling/ritvik/forSaurabh/manifest.csv\")"
   ]
  },
  {
   "cell_type": "code",
   "execution_count": null,
   "id": "d494b69c-307e-49a5-b074-1df88e009413",
   "metadata": {},
   "outputs": [],
   "source": [
    "path = gg.loc[gg[\"CellId\"] == \"9c1ff213-4e9e-4b73-a942-3baf9d37a50f\"][\"nucobj_path\"].iloc[0]"
   ]
  },
  {
   "cell_type": "code",
   "execution_count": null,
   "id": "5120ec07-727d-49b0-b54e-c5142a4cd8f5",
   "metadata": {},
   "outputs": [],
   "source": [
    "this_save_path"
   ]
  },
  {
   "cell_type": "code",
   "execution_count": null,
   "id": "7f91bc8a-3983-4bbd-aadf-c7349a1bc6ec",
   "metadata": {},
   "outputs": [],
   "source": [
    "%load_ext autoreload\n",
    "%autoreload 2\n",
    "\n",
    "mi.set_variant(\"scalar_rgb\")\n",
    "import os\n",
    "\n",
    "import matplotlib.pyplot as plt\n",
    "import mitsuba as mi\n",
    "import numpy as np\n",
    "import trimesh\n",
    "from mitsuba import ScalarTransform4f as T\n",
    "from trimesh.transformations import rotation_matrix\n",
    "\n",
    "\n",
    "def plot(this_mesh_path, angle, angle2=None, angle3=None, name=None):\n",
    "    myMesh = trimesh.load(this_mesh_path)\n",
    "\n",
    "    # Scale the mesh to approximately one unit based on the height\n",
    "    sf = 1.0\n",
    "    myMesh.apply_scale(sf / myMesh.extents.max())\n",
    "\n",
    "    # for 3_1\n",
    "    myMesh = myMesh.apply_transform(rotation_matrix(np.deg2rad(angle), [0, 0, -1]))\n",
    "    if angle2:\n",
    "        myMesh = myMesh.apply_transform(rotation_matrix(np.deg2rad(angle2), [0, 1, 0]))\n",
    "\n",
    "    if angle3:\n",
    "        myMesh = myMesh.apply_transform(rotation_matrix(np.deg2rad(angle3), [1, 0, 0]))\n",
    "    # myMesh = myMesh.apply_transform(rotation_matrix(np.deg2rad(0), [1,0,0]))\n",
    "\n",
    "    # Translate the mesh so that it's centroid is at the origin and rests on the ground plane\n",
    "    myMesh.apply_translation(\n",
    "        [\n",
    "            -myMesh.bounds[0, 0] - myMesh.extents[0] / 2.0,\n",
    "            -myMesh.bounds[0, 1] - myMesh.extents[1] / 2.0,\n",
    "            -myMesh.bounds[0, 2],\n",
    "        ]\n",
    "    )\n",
    "\n",
    "    # Fix the mesh normals for the mesh\n",
    "    myMesh.fix_normals()\n",
    "\n",
    "    # Write the mesh to an external file (Wavefront .obj)\n",
    "    with open(\"mesh.obj\", \"w\") as f:\n",
    "        f.write(trimesh.exchange.export.export_obj(myMesh, include_normals=True))\n",
    "\n",
    "    # Create a sensor that is used for rendering the scene\n",
    "    def load_sensor(r, phi, theta):\n",
    "        # Apply two rotations to convert from spherical coordinates to world 3D coordinates.\n",
    "        origin = T.rotate([0, 0, 1], phi).rotate([0, 1, 0], theta) @ mi.ScalarPoint3f([0, 0, r])\n",
    "\n",
    "        return mi.load_dict(\n",
    "            {\n",
    "                \"type\": \"perspective\",\n",
    "                \"fov\": 15.0,\n",
    "                \"to_world\": T.look_at(\n",
    "                    origin=origin, target=[0, 0, myMesh.extents[2] / 2], up=[0, 0, 1]\n",
    "                ),\n",
    "                \"sampler\": {\"type\": \"independent\", \"sample_count\": 16},\n",
    "                \"film\": {\n",
    "                    \"type\": \"hdrfilm\",\n",
    "                    \"width\": 1024,\n",
    "                    \"height\": 768,\n",
    "                    \"rfilter\": {\n",
    "                        \"type\": \"tent\",\n",
    "                    },\n",
    "                    \"pixel_format\": \"rgb\",\n",
    "                },\n",
    "            }\n",
    "        )\n",
    "\n",
    "    # Scene parameters\n",
    "    relativeLightHeight = 8\n",
    "\n",
    "    # A scene dictionary contains the description of the rendering scene.\n",
    "    scene2 = mi.load_dict(\n",
    "        {\n",
    "            \"type\": \"scene\",\n",
    "            # The keys below correspond to object IDs and can be chosen arbitrarily\n",
    "            \"integrator\": {\"type\": \"path\"},\n",
    "            \"mesh\": {\n",
    "                \"type\": \"obj\",\n",
    "                \"filename\": \"mesh.obj\",\n",
    "                \"face_normals\": True,  # This prevents smoothing of sharp-corners by discarding surface-normals. Useful for engineering CAD.\n",
    "                \"bsdf\": {\n",
    "                    # 'type': 'diffuse',\n",
    "                    # 'reflectance': {\n",
    "                    #     'type': 'rgb',\n",
    "                    #     'value': [0.1, 0.27, 0.86]\n",
    "                    # }\n",
    "                    # 'type': 'plastic',\n",
    "                    # 'diffuse_reflectance': {\n",
    "                    #     'type': 'rgb',\n",
    "                    #     'value': [0.1, 0.27, 0.36]\n",
    "                    # },\n",
    "                    # 'int_ior': 1.9\n",
    "                    # 'type': 'roughplastic'\n",
    "                    \"type\": \"pplastic\",\n",
    "                    \"diffuse_reflectance\": {\"type\": \"rgb\", \"value\": [0.05, 0.03, 0.1]},\n",
    "                    \"alpha\": 0.02,\n",
    "                },\n",
    "            },\n",
    "            # A general emitter is used for illuminating the entire scene (renders the background white)\n",
    "            \"light\": {\"type\": \"constant\", \"radiance\": 1.0},\n",
    "            \"areaLight\": {\n",
    "                \"type\": \"rectangle\",\n",
    "                # The height of the light can be adjusted below\n",
    "                \"to_world\": T.translate([0, 0.0, myMesh.bounds[1, 2] + relativeLightHeight])\n",
    "                .scale(1.0)\n",
    "                .rotate([1, 0, 0], 5.0),\n",
    "                \"flip_normals\": True,\n",
    "                \"emitter\": {\n",
    "                    \"type\": \"area\",\n",
    "                    \"radiance\": {\n",
    "                        \"type\": \"spectrum\",\n",
    "                        \"value\": 30.0,\n",
    "                    },\n",
    "                },\n",
    "            },\n",
    "            \"floor\": {\n",
    "                \"type\": \"disk\",\n",
    "                \"to_world\": T.scale(3).translate([0.0, 0.0, 0.0]),\n",
    "                \"material\": {\n",
    "                    \"type\": \"diffuse\",\n",
    "                    \"reflectance\": {\"type\": \"rgb\", \"value\": 0.75},\n",
    "                },\n",
    "            },\n",
    "        }\n",
    "    )\n",
    "\n",
    "    sensor_count = 1\n",
    "\n",
    "    radius = 4\n",
    "    phis = [130.0]\n",
    "    theta = 60.0\n",
    "\n",
    "    sensors = [load_sensor(radius, phi, theta) for phi in phis]\n",
    "\n",
    "    \"\"\"\n",
    "    Render the Scene\n",
    "    The render samples are specified in spp\n",
    "    \"\"\"\n",
    "    image = mi.render(scene2, sensor=sensors[0], spp=256)\n",
    "\n",
    "    # Write the output\n",
    "\n",
    "    save_path = this_save_path\n",
    "    mi.util.write_bitmap(str(save_path) + f\"{name}.png\", image)\n",
    "    # mi.util.write_bitmap(save_path + \".exr\", image)\n",
    "\n",
    "    # Display the output in an Image\n",
    "    plt.imshow(image ** (1.0 / 2.2))\n",
    "    plt.axis(\"off\")"
   ]
  },
  {
   "cell_type": "code",
   "execution_count": null,
   "id": "6ece02c4-3736-42f0-a7e2-6b22d79148a3",
   "metadata": {},
   "outputs": [],
   "source": [
    "path"
   ]
  },
  {
   "cell_type": "code",
   "execution_count": null,
   "id": "0d723074-5583-42a4-a0f6-da8f9242db23",
   "metadata": {},
   "outputs": [],
   "source": [
    "plot(path, 0, 90, 0, \"nuc\")"
   ]
  },
  {
   "cell_type": "code",
   "execution_count": null,
   "id": "f8e4427d-b444-4ff6-9f52-769f1a67f985",
   "metadata": {},
   "outputs": [],
   "source": []
  },
  {
   "cell_type": "code",
   "execution_count": null,
   "id": "568b4ed2-dc37-4a84-8c31-5010cdba56ce",
   "metadata": {},
   "outputs": [],
   "source": [
    "aa = np.load(\n",
    "    \"/allen/aics/modeling/ritvik/projects/benchmarking_representations/viz_pcna_pointclouds/midS-lateS_c6b66235-554c-4fd3-b0a2-a1e5468afb64.npy\"\n",
    ")"
   ]
  },
  {
   "cell_type": "code",
   "execution_count": null,
   "id": "a617fa5f-c771-4647-a0fa-50f6b423bd55",
   "metadata": {},
   "outputs": [],
   "source": [
    "aa.max(axis=0)"
   ]
  },
  {
   "cell_type": "code",
   "execution_count": null,
   "id": "037c5bae-26cf-4155-874a-87f396af097d",
   "metadata": {},
   "outputs": [],
   "source": [
    "bb = np.load(\n",
    "    \"/allen/aics/modeling/ritvik/projects/benchmarking_representations/notebooks_old/variance_all_punctate/pcna/latent_walks/viz/midS-lateS_0_1.npy\"\n",
    ")"
   ]
  },
  {
   "cell_type": "code",
   "execution_count": null,
   "id": "62c5f71f-da3f-4068-9f7a-ecde178b29dc",
   "metadata": {},
   "outputs": [],
   "source": [
    "bb.max(axis=0)"
   ]
  },
  {
   "cell_type": "code",
   "execution_count": null,
   "id": "52ff4691-41b5-4d24-8206-8f523f13555d",
   "metadata": {},
   "outputs": [],
   "source": [
    "aa = np.load(\n",
    "    \"/allen/aics/modeling/ritvik/projects/benchmarking_representations/viz_variance_pointclouds2/NUP153_692417.npy\"\n",
    ")"
   ]
  },
  {
   "cell_type": "code",
   "execution_count": null,
   "id": "09eff7ff-beaa-4d88-b5ba-4082eb53d541",
   "metadata": {},
   "outputs": [],
   "source": [
    "aa.max(axis=0)"
   ]
  },
  {
   "cell_type": "code",
   "execution_count": null,
   "id": "cafed763-05c6-4634-988b-aa67a47a6091",
   "metadata": {},
   "outputs": [],
   "source": [
    "bb = np.load(\n",
    "    \"/allen/aics/modeling/ritvik/projects/benchmarking_representations/test_var_punctate_embeddings/latent_walks/structure_name_NUP153_0_0.npy\"\n",
    ")"
   ]
  },
  {
   "cell_type": "code",
   "execution_count": null,
   "id": "9504b891-3c49-4185-b426-b96908f61cdf",
   "metadata": {},
   "outputs": [],
   "source": [
    "bb.max(axis=0)"
   ]
  },
  {
   "cell_type": "code",
   "execution_count": null,
   "id": "c46aa811-c3ab-471f-bd1a-b010604d5b5c",
   "metadata": {},
   "outputs": [],
   "source": []
  }
 ],
 "metadata": {
  "kernelspec": {
   "display_name": "Python 3 (ipykernel)",
   "language": "python",
   "name": "python3"
  },
  "language_info": {
   "codemirror_mode": {
    "name": "ipython",
    "version": 3
   },
   "file_extension": ".py",
   "mimetype": "text/x-python",
   "name": "python",
   "nbconvert_exporter": "python",
   "pygments_lexer": "ipython3",
   "version": "3.10.14"
  }
 },
 "nbformat": 4,
 "nbformat_minor": 5
}
